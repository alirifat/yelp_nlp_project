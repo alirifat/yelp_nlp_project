{
  "nbformat": 4,
  "nbformat_minor": 0,
  "metadata": {
    "colab": {
      "name": "yelp_text_processing.ipynb",
      "provenance": [],
      "collapsed_sections": [],
      "machine_shape": "hm"
    },
    "kernelspec": {
      "name": "python3",
      "display_name": "Python 3"
    }
  },
  "cells": [
    {
      "cell_type": "code",
      "metadata": {
        "id": "Lc5SGZN5IZKX",
        "colab": {
          "base_uri": "https://localhost:8080/"
        },
        "outputId": "faee7b59-8377-46de-c572-4063758f3a5d"
      },
      "source": [
        "from google.colab import drive\n",
        "drive.mount('/content/drive')"
      ],
      "execution_count": 1,
      "outputs": [
        {
          "output_type": "stream",
          "text": [
            "Mounted at /content/drive\n"
          ],
          "name": "stdout"
        }
      ]
    },
    {
      "cell_type": "code",
      "metadata": {
        "id": "dFq1-Z1YLXNG"
      },
      "source": [
        "import json\n",
        "import pandas as pd\n",
        "import numpy as np"
      ],
      "execution_count": 1,
      "outputs": []
    },
    {
      "cell_type": "code",
      "metadata": {
        "colab": {
          "base_uri": "https://localhost:8080/"
        },
        "id": "YCDXxUiU-20n",
        "outputId": "c2a2d0e8-ceb6-4799-b772-3aec6ce2831d"
      },
      "source": [
        "import pandas as pd\n",
        "import numpy as np\n",
        "import nltk\n",
        "from nltk.corpus import stopwords\n",
        "from string import punctuation, whitespace\n",
        "nltk.download('punkt')\n",
        "nltk.download('stopwords')"
      ],
      "execution_count": 6,
      "outputs": [
        {
          "output_type": "stream",
          "text": [
            "[nltk_data] Downloading package punkt to /root/nltk_data...\n",
            "[nltk_data]   Package punkt is already up-to-date!\n",
            "[nltk_data] Downloading package stopwords to /root/nltk_data...\n",
            "[nltk_data]   Package stopwords is already up-to-date!\n"
          ],
          "name": "stdout"
        },
        {
          "output_type": "execute_result",
          "data": {
            "text/plain": [
              "True"
            ]
          },
          "metadata": {
            "tags": []
          },
          "execution_count": 6
        }
      ]
    },
    {
      "cell_type": "code",
      "metadata": {
        "id": "5jnqxpG-OsOS"
      },
      "source": [
        "df_reviews = pd.read_csv('final_reviews.csv')"
      ],
      "execution_count": 3,
      "outputs": []
    },
    {
      "cell_type": "code",
      "metadata": {
        "colab": {
          "base_uri": "https://localhost:8080/",
          "height": 206
        },
        "id": "GNsbFepM_QAY",
        "outputId": "de06735e-5a33-4af4-a1df-f022d8a8eada"
      },
      "source": [
        "df = df_reviews.loc[:, ['review_id', 'review', 'review_stars', 'review_useful']]\n",
        "df.head()"
      ],
      "execution_count": 4,
      "outputs": [
        {
          "output_type": "execute_result",
          "data": {
            "text/html": [
              "<div>\n",
              "<style scoped>\n",
              "    .dataframe tbody tr th:only-of-type {\n",
              "        vertical-align: middle;\n",
              "    }\n",
              "\n",
              "    .dataframe tbody tr th {\n",
              "        vertical-align: top;\n",
              "    }\n",
              "\n",
              "    .dataframe thead th {\n",
              "        text-align: right;\n",
              "    }\n",
              "</style>\n",
              "<table border=\"1\" class=\"dataframe\">\n",
              "  <thead>\n",
              "    <tr style=\"text-align: right;\">\n",
              "      <th></th>\n",
              "      <th>review_id</th>\n",
              "      <th>review</th>\n",
              "      <th>review_stars</th>\n",
              "      <th>review_useful</th>\n",
              "    </tr>\n",
              "  </thead>\n",
              "  <tbody>\n",
              "    <tr>\n",
              "      <th>0</th>\n",
              "      <td>xQY8N_XvtGbearJ5X4QryQ</td>\n",
              "      <td>As someone who has worked with many museums, I...</td>\n",
              "      <td>2.0</td>\n",
              "      <td>5</td>\n",
              "    </tr>\n",
              "    <tr>\n",
              "      <th>1</th>\n",
              "      <td>t7xOZF5UKXjSpVcXLOSAgw</td>\n",
              "      <td>I have been there. I believe more than once. \\...</td>\n",
              "      <td>2.0</td>\n",
              "      <td>2</td>\n",
              "    </tr>\n",
              "    <tr>\n",
              "      <th>2</th>\n",
              "      <td>MimB5Xh85rG7phUMPrShag</td>\n",
              "      <td>I haven't been to Las Vegas in about 15 years....</td>\n",
              "      <td>3.0</td>\n",
              "      <td>5</td>\n",
              "    </tr>\n",
              "    <tr>\n",
              "      <th>3</th>\n",
              "      <td>sLkT7J06L4TK4PiRUFax2g</td>\n",
              "      <td>One of the few places in town you can view wor...</td>\n",
              "      <td>2.0</td>\n",
              "      <td>0</td>\n",
              "    </tr>\n",
              "    <tr>\n",
              "      <th>4</th>\n",
              "      <td>cnV5xtm6WuyaLfot9uWbDg</td>\n",
              "      <td>This is a hard one to review. I was excited to...</td>\n",
              "      <td>3.0</td>\n",
              "      <td>3</td>\n",
              "    </tr>\n",
              "  </tbody>\n",
              "</table>\n",
              "</div>"
            ],
            "text/plain": [
              "                review_id  ... review_useful\n",
              "0  xQY8N_XvtGbearJ5X4QryQ  ...             5\n",
              "1  t7xOZF5UKXjSpVcXLOSAgw  ...             2\n",
              "2  MimB5Xh85rG7phUMPrShag  ...             5\n",
              "3  sLkT7J06L4TK4PiRUFax2g  ...             0\n",
              "4  cnV5xtm6WuyaLfot9uWbDg  ...             3\n",
              "\n",
              "[5 rows x 4 columns]"
            ]
          },
          "metadata": {
            "tags": []
          },
          "execution_count": 4
        }
      ]
    },
    {
      "cell_type": "code",
      "metadata": {
        "id": "iEVxKZ2A_cW3"
      },
      "source": [
        "stop_words = stopwords.words('english')\n",
        "df['lenght_sent'] = df.review.apply(lambda x: len(nltk.sent_tokenize(x)))\n",
        "df['word_tokens'] = df.review.apply(nltk.word_tokenize)\n",
        "df['lenght_word'] = df.word_tokens.apply(lambda x: len(x))\n",
        "df['set_word'] = df.word_tokens.apply(lambda x: len(set([w.lower() for w in x])))\n",
        "df['length_punct'] = df.review.apply(lambda x: len([p for p in nltk.wordpunct_tokenize(x) if p in punctuation]))\n",
        "df['length_stopwords'] = df.word_tokens.apply(lambda x: len([w for w in x if w in stop_words]))\n",
        "df['length_upper'] = df.word_tokens.apply(lambda x: len([w for w in x if w.isupper()]))\n",
        "df['length_title'] = df.word_tokens.apply(lambda x: len([w for w in x if w.istitle()]))\n",
        "df['length_char'] = df.review.apply(lambda x: len([char for char in x if char not in punctuation + whitespace]))\n",
        "df['average_length_words'] = df.word_tokens.apply(lambda x: np.mean([len(w) for w in x]))"
      ],
      "execution_count": 7,
      "outputs": []
    },
    {
      "cell_type": "code",
      "metadata": {
        "colab": {
          "base_uri": "https://localhost:8080/"
        },
        "id": "LHzlM_VNU0-Z",
        "outputId": "dd1207c7-7bb2-4dda-dc21-8e4ddf85edb7"
      },
      "source": [
        "df.review_useful.value_counts()"
      ],
      "execution_count": 21,
      "outputs": [
        {
          "output_type": "execute_result",
          "data": {
            "text/plain": [
              "0      235075\n",
              "1      105947\n",
              "2       53321\n",
              "3       29391\n",
              "4       17651\n",
              "        ...  \n",
              "109         1\n",
              "101         1\n",
              "107         1\n",
              "106         1\n",
              "758         1\n",
              "Name: review_useful, Length: 136, dtype: int64"
            ]
          },
          "metadata": {
            "tags": []
          },
          "execution_count": 21
        }
      ]
    },
    {
      "cell_type": "code",
      "metadata": {
        "id": "qL7xhAjeRCXq"
      },
      "source": [
        "X = df.loc[:, ['lenght_word', 'set_word', 'length_punct', 'length_stopwords', 'length_upper', 'length_title', 'length_char', 'average_length_words', 'lenght_sent']].values\n",
        "y = np.where(df.review_useful > 2, 1, 0)"
      ],
      "execution_count": 15,
      "outputs": []
    },
    {
      "cell_type": "code",
      "metadata": {
        "id": "aM1FNhqTUDfl"
      },
      "source": [
        "from sklearn.naive_bayes import MultinomialNB\n",
        "from sklearn.metrics import accuracy_score\n",
        "from sklearn.model_selection import train_test_split"
      ],
      "execution_count": 18,
      "outputs": []
    },
    {
      "cell_type": "code",
      "metadata": {
        "id": "-IwjeMRPUNNY"
      },
      "source": [
        "X_train, X_test, y_train, y_test = train_test_split(\n",
        "    X, y, test_size=0.3, random_state=42)"
      ],
      "execution_count": 19,
      "outputs": []
    },
    {
      "cell_type": "code",
      "metadata": {
        "colab": {
          "base_uri": "https://localhost:8080/"
        },
        "id": "CJ7eKCPMUVUZ",
        "outputId": "b80d705f-3e1a-47ce-c59e-b9a93494d804"
      },
      "source": [
        "clf = MultinomialNB()  # generates classifier object\n",
        "clf.fit(X_train, y_train)  # fits the training data\n",
        "\n",
        "# training accuracy score of training data - expected to be higher than test accuracy score\n",
        "print('Score for training data:', clf.score(X_train, y_train))\n",
        "print('Score for test data:', clf.score(X_test, y_test))  # test accuracy score"
      ],
      "execution_count": 20,
      "outputs": [
        {
          "output_type": "stream",
          "text": [
            "Score for training data: 0.7755067219721707\n",
            "Score for test data: 0.7761746233311597\n"
          ],
          "name": "stdout"
        }
      ]
    }
  ]
}