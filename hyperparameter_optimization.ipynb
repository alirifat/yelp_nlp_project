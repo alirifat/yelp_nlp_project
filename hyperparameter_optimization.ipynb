{
 "cells": [
  {
   "cell_type": "markdown",
   "metadata": {},
   "source": [
    "# Hyperparameter Optimization"
   ]
  },
  {
   "cell_type": "markdown",
   "metadata": {},
   "source": [
    "Prepared by [Ali Rifat Kaya](https://www.linkedin.com/in/alirifatkaya/)"
   ]
  },
  {
   "cell_type": "markdown",
   "metadata": {},
   "source": [
    "# Table of Contents\n",
    "\n",
    "1. [Import Libraries & Data](#Import-Libraries-&-Data)\n",
    "2. [Logistic Regression](#Logistic-Regression)\n",
    "3. [Decision Tree Classifier](#Decision-Tree-Classifier)\n",
    "4. [Random Forest Classifier](#Random-Forest-Classifier)\n",
    "5. [Extra Trees Classifier](#Extra-Trees-Classifier)\n",
    "6. [XGBoost Classifier](#XGBoost-Classifier)\n",
    "7. [KNN Classifier](#KNN-Classifier)\n",
    "8. [Conclusion](#Conclusion)"
   ]
  },
  {
   "cell_type": "markdown",
   "metadata": {
    "ExecuteTime": {
     "end_time": "2020-12-18T17:38:36.979608Z",
     "start_time": "2020-12-18T17:38:36.964695Z"
    }
   },
   "source": [
    "# Import Libraries & Data"
   ]
  },
  {
   "cell_type": "code",
   "execution_count": 1,
   "metadata": {
    "ExecuteTime": {
     "end_time": "2020-12-18T20:21:30.798604Z",
     "start_time": "2020-12-18T20:21:29.411683Z"
    }
   },
   "outputs": [],
   "source": [
    "import matplotlib.pyplot as plt\n",
    "import pandas as pd\n",
    "import numpy as np\n",
    "import pickle\n",
    "\n",
    "from sklearn.model_selection import GridSearchCV\n",
    "from sklearn.model_selection import StratifiedKFold\n",
    "from sklearn.model_selection import train_test_split\n",
    "from sklearn.preprocessing import scale\n",
    "\n",
    "from sklearn.linear_model import LogisticRegression\n",
    "from sklearn.tree import DecisionTreeClassifier\n",
    "from sklearn.ensemble import ExtraTreesClassifier\n",
    "from sklearn.ensemble import RandomForestClassifier\n",
    "from sklearn.neighbors import KNeighborsClassifier\n",
    "from xgboost import XGBClassifier\n",
    "\n",
    "from sklearn.metrics import make_scorer\n",
    "from sklearn.metrics import precision_recall_curve\n",
    "from sklearn.metrics import auc"
   ]
  },
  {
   "cell_type": "code",
   "execution_count": 2,
   "metadata": {
    "ExecuteTime": {
     "end_time": "2020-12-18T20:21:30.813609Z",
     "start_time": "2020-12-18T20:21:30.798604Z"
    }
   },
   "outputs": [],
   "source": [
    "cv = StratifiedKFold(n_splits=5, shuffle=True, random_state=1)"
   ]
  },
  {
   "cell_type": "markdown",
   "metadata": {},
   "source": [
    "## Data"
   ]
  },
  {
   "cell_type": "code",
   "execution_count": 3,
   "metadata": {
    "ExecuteTime": {
     "end_time": "2020-12-18T20:21:32.412588Z",
     "start_time": "2020-12-18T20:21:30.814554Z"
    },
    "scrolled": false
   },
   "outputs": [
    {
     "data": {
      "text/html": [
       "<div>\n",
       "<style scoped>\n",
       "    .dataframe tbody tr th:only-of-type {\n",
       "        vertical-align: middle;\n",
       "    }\n",
       "\n",
       "    .dataframe tbody tr th {\n",
       "        vertical-align: top;\n",
       "    }\n",
       "\n",
       "    .dataframe thead th {\n",
       "        text-align: right;\n",
       "    }\n",
       "</style>\n",
       "<table border=\"1\" class=\"dataframe\">\n",
       "  <thead>\n",
       "    <tr style=\"text-align: right;\">\n",
       "      <th></th>\n",
       "      <th>review_clean</th>\n",
       "      <th>review_stars</th>\n",
       "      <th>set_word</th>\n",
       "      <th>number_of_photos</th>\n",
       "      <th>number_of_price</th>\n",
       "      <th>number_of_time</th>\n",
       "      <th>number_of_emots</th>\n",
       "      <th>average_useful_vote</th>\n",
       "      <th>review_age_days</th>\n",
       "      <th>review_useful</th>\n",
       "    </tr>\n",
       "  </thead>\n",
       "  <tbody>\n",
       "    <tr>\n",
       "      <th>0</th>\n",
       "      <td>river yelp place...</td>\n",
       "      <td>5.0</td>\n",
       "      <td>159</td>\n",
       "      <td>0</td>\n",
       "      <td>0</td>\n",
       "      <td>0</td>\n",
       "      <td>0</td>\n",
       "      <td>2.375</td>\n",
       "      <td>2157</td>\n",
       "      <td>6</td>\n",
       "    </tr>\n",
       "    <tr>\n",
       "      <th>1</th>\n",
       "      <td>give restaur sta...</td>\n",
       "      <td>3.0</td>\n",
       "      <td>133</td>\n",
       "      <td>0</td>\n",
       "      <td>0</td>\n",
       "      <td>1</td>\n",
       "      <td>5</td>\n",
       "      <td>0.000</td>\n",
       "      <td>2331</td>\n",
       "      <td>0</td>\n",
       "    </tr>\n",
       "    <tr>\n",
       "      <th>2</th>\n",
       "      <td>boy love veggi r...</td>\n",
       "      <td>4.0</td>\n",
       "      <td>103</td>\n",
       "      <td>0</td>\n",
       "      <td>0</td>\n",
       "      <td>0</td>\n",
       "      <td>2</td>\n",
       "      <td>0.000</td>\n",
       "      <td>1245</td>\n",
       "      <td>0</td>\n",
       "    </tr>\n",
       "    <tr>\n",
       "      <th>3</th>\n",
       "      <td>vegan meal famil...</td>\n",
       "      <td>5.0</td>\n",
       "      <td>33</td>\n",
       "      <td>0</td>\n",
       "      <td>0</td>\n",
       "      <td>0</td>\n",
       "      <td>0</td>\n",
       "      <td>0.000</td>\n",
       "      <td>1417</td>\n",
       "      <td>0</td>\n",
       "    </tr>\n",
       "    <tr>\n",
       "      <th>4</th>\n",
       "      <td>visit veggi hous...</td>\n",
       "      <td>5.0</td>\n",
       "      <td>72</td>\n",
       "      <td>0</td>\n",
       "      <td>0</td>\n",
       "      <td>0</td>\n",
       "      <td>1</td>\n",
       "      <td>0.000</td>\n",
       "      <td>1853</td>\n",
       "      <td>0</td>\n",
       "    </tr>\n",
       "  </tbody>\n",
       "</table>\n",
       "</div>"
      ],
      "text/plain": [
       "          review_clean  review_stars  set_word  number_of_photos  \\\n",
       "0  river yelp place...           5.0       159                 0   \n",
       "1  give restaur sta...           3.0       133                 0   \n",
       "2  boy love veggi r...           4.0       103                 0   \n",
       "3  vegan meal famil...           5.0        33                 0   \n",
       "4  visit veggi hous...           5.0        72                 0   \n",
       "\n",
       "   number_of_price  number_of_time  number_of_emots  average_useful_vote  \\\n",
       "0                0               0                0                2.375   \n",
       "1                0               1                5                0.000   \n",
       "2                0               0                2                0.000   \n",
       "3                0               0                0                0.000   \n",
       "4                0               0                1                0.000   \n",
       "\n",
       "   review_age_days  review_useful  \n",
       "0             2157              6  \n",
       "1             2331              0  \n",
       "2             1245              0  \n",
       "3             1417              0  \n",
       "4             1853              0  "
      ]
     },
     "metadata": {},
     "output_type": "display_data"
    }
   ],
   "source": [
    "df = pd.read_csv('yelp_review_processed.csv')\n",
    "with pd.option_context('display.max_colwidth', 20):\n",
    "    display(df.head())"
   ]
  },
  {
   "cell_type": "code",
   "execution_count": 4,
   "metadata": {
    "ExecuteTime": {
     "end_time": "2020-12-18T20:21:32.459031Z",
     "start_time": "2020-12-18T20:21:32.412588Z"
    }
   },
   "outputs": [],
   "source": [
    "# only use text and extracted qualitative features\n",
    "X = df.drop('review_useful', axis=1)\n",
    "# all reviews which have 5 or greater helpful votes are labeled as helpful\n",
    "# all other reviews are in the not helpful category\n",
    "y = np.where(df.review_useful > 4, 1, 0)"
   ]
  },
  {
   "cell_type": "code",
   "execution_count": 5,
   "metadata": {
    "ExecuteTime": {
     "end_time": "2020-12-18T20:21:32.628937Z",
     "start_time": "2020-12-18T20:21:32.460037Z"
    }
   },
   "outputs": [
    {
     "name": "stdout",
     "output_type": "stream",
     "text": [
      "\n",
      "        Number of helpful reviews in the training data: 29,433\n",
      "        Number of helpful reviews in the test data: 7,513\n",
      "        \n",
      "        Distribution of the positive class in the training data: 5.02%\n",
      "        Distribution of the positive class in the test data: 5.13%\n",
      "        \n",
      "        The class distributions are pretty close both in the training and the\n",
      "        test data which will ensure the stability of the algorithms.\n",
      "      \n"
     ]
    }
   ],
   "source": [
    "# split into train and test set\n",
    "X_train, X_test, y_train, y_test = train_test_split(\n",
    "                                        X, y, test_size=0.2, random_state=1)\n",
    "print(\"\"\"\n",
    "        Number of helpful reviews in the training data: {:,}\n",
    "        Number of helpful reviews in the test data: {:,}\n",
    "        \n",
    "        Distribution of the positive class in the training data: {:.2f}%\n",
    "        Distribution of the positive class in the test data: {:.2f}%\n",
    "        \n",
    "        The class distributions are pretty close both in the training and the\n",
    "        test data which will ensure the stability of the algorithms.\n",
    "      \"\"\"\n",
    "      .format(y_train.sum(), y_test.sum(),\n",
    "              (y_train[y_train == 1].size / y_train.size) * 100, \n",
    "              (y_test[y_test == 1].size / y_test.size) * 100))"
   ]
  },
  {
   "cell_type": "code",
   "execution_count": 6,
   "metadata": {
    "ExecuteTime": {
     "end_time": "2020-12-18T20:21:32.775693Z",
     "start_time": "2020-12-18T20:21:32.628937Z"
    }
   },
   "outputs": [],
   "source": [
    "X_train = X_train.drop('review_clean', axis=1).values\n",
    "X_test = X_test.drop('review_clean', axis=1).values\n",
    "X_train_scaled = scale(X_train)"
   ]
  },
  {
   "cell_type": "markdown",
   "metadata": {},
   "source": [
    "# Logistic Regression"
   ]
  },
  {
   "cell_type": "code",
   "execution_count": 7,
   "metadata": {
    "ExecuteTime": {
     "end_time": "2020-12-18T20:22:38.660266Z",
     "start_time": "2020-12-18T20:21:32.775693Z"
    }
   },
   "outputs": [
    {
     "name": "stdout",
     "output_type": "stream",
     "text": [
      "Best   : 0.976 using {'C': 100, 'class_weight': 'balanced', 'solver': 'lbfgs'}\n",
      "Default: 0.975 using {'C': 1.0, 'class_weight': None, 'solver': 'lbfgs'}\n",
      "---------------------------------------------------------------------------------\n",
      "0.976 (0.000) with: {'C': 100, 'class_weight': 'balanced', 'solver': 'newton-cg'}\n",
      "0.976 (0.000) with: {'C': 100, 'class_weight': 'balanced', 'solver': 'lbfgs'}\n",
      "0.976 (0.000) with: {'C': 100, 'class_weight': 'balanced', 'solver': 'sag'}\n",
      "0.976 (0.000) with: {'C': 100, 'class_weight': 'balanced', 'solver': 'saga'}\n",
      "0.975 (0.001) with: {'C': 100, 'class_weight': None, 'solver': 'newton-cg'}\n",
      "0.975 (0.001) with: {'C': 100, 'class_weight': None, 'solver': 'lbfgs'}\n",
      "0.975 (0.001) with: {'C': 100, 'class_weight': None, 'solver': 'sag'}\n",
      "0.975 (0.001) with: {'C': 100, 'class_weight': None, 'solver': 'saga'}\n",
      "0.976 (0.000) with: {'C': 10, 'class_weight': 'balanced', 'solver': 'newton-cg'}\n",
      "0.976 (0.000) with: {'C': 10, 'class_weight': 'balanced', 'solver': 'lbfgs'}\n",
      "0.976 (0.000) with: {'C': 10, 'class_weight': 'balanced', 'solver': 'sag'}\n",
      "0.976 (0.000) with: {'C': 10, 'class_weight': 'balanced', 'solver': 'saga'}\n",
      "0.975 (0.001) with: {'C': 10, 'class_weight': None, 'solver': 'newton-cg'}\n",
      "0.975 (0.001) with: {'C': 10, 'class_weight': None, 'solver': 'lbfgs'}\n",
      "0.975 (0.001) with: {'C': 10, 'class_weight': None, 'solver': 'sag'}\n",
      "0.975 (0.001) with: {'C': 10, 'class_weight': None, 'solver': 'saga'}\n",
      "0.976 (0.000) with: {'C': 1.0, 'class_weight': 'balanced', 'solver': 'newton-cg'}\n",
      "0.976 (0.000) with: {'C': 1.0, 'class_weight': 'balanced', 'solver': 'lbfgs'}\n",
      "0.976 (0.000) with: {'C': 1.0, 'class_weight': 'balanced', 'solver': 'sag'}\n",
      "0.976 (0.000) with: {'C': 1.0, 'class_weight': 'balanced', 'solver': 'saga'}\n",
      "0.975 (0.001) with: {'C': 1.0, 'class_weight': None, 'solver': 'newton-cg'}\n",
      "0.975 (0.001) with: {'C': 1.0, 'class_weight': None, 'solver': 'sag'}\n",
      "0.975 (0.001) with: {'C': 1.0, 'class_weight': None, 'solver': 'saga'}\n",
      "0.976 (0.000) with: {'C': 0.1, 'class_weight': 'balanced', 'solver': 'newton-cg'}\n",
      "0.976 (0.000) with: {'C': 0.1, 'class_weight': 'balanced', 'solver': 'lbfgs'}\n",
      "0.976 (0.000) with: {'C': 0.1, 'class_weight': 'balanced', 'solver': 'sag'}\n",
      "0.976 (0.000) with: {'C': 0.1, 'class_weight': 'balanced', 'solver': 'saga'}\n",
      "0.975 (0.001) with: {'C': 0.1, 'class_weight': None, 'solver': 'newton-cg'}\n",
      "0.975 (0.001) with: {'C': 0.1, 'class_weight': None, 'solver': 'lbfgs'}\n",
      "0.975 (0.001) with: {'C': 0.1, 'class_weight': None, 'solver': 'sag'}\n",
      "0.975 (0.001) with: {'C': 0.1, 'class_weight': None, 'solver': 'saga'}\n",
      "0.976 (0.000) with: {'C': 0.01, 'class_weight': 'balanced', 'solver': 'newton-cg'}\n",
      "0.976 (0.000) with: {'C': 0.01, 'class_weight': 'balanced', 'solver': 'lbfgs'}\n",
      "0.976 (0.000) with: {'C': 0.01, 'class_weight': 'balanced', 'solver': 'sag'}\n",
      "0.976 (0.000) with: {'C': 0.01, 'class_weight': 'balanced', 'solver': 'saga'}\n",
      "0.975 (0.001) with: {'C': 0.01, 'class_weight': None, 'solver': 'newton-cg'}\n",
      "0.975 (0.001) with: {'C': 0.01, 'class_weight': None, 'solver': 'lbfgs'}\n",
      "0.975 (0.001) with: {'C': 0.01, 'class_weight': None, 'solver': 'sag'}\n",
      "0.975 (0.001) with: {'C': 0.01, 'class_weight': None, 'solver': 'saga'}\n"
     ]
    }
   ],
   "source": [
    "lr = LogisticRegression()\n",
    "# define hyperparameter space\n",
    "solvers = ['newton-cg', 'lbfgs', 'sag', 'saga']\n",
    "c_values = [100, 10, 1.0, 0.1, 0.01]\n",
    "class_weight = ['balanced', None]\n",
    "# define grid search\n",
    "grid = dict(solver=solvers, C=c_values, class_weight=class_weight)\n",
    "grid_search = GridSearchCV(\n",
    "    estimator=lr, param_grid=grid, n_jobs=-1, cv=cv, scoring='roc_auc', error_score=0)\n",
    "grid_result = grid_search.fit(X_train_scaled, y_train)\n",
    "# summarize results\n",
    "print('{:7}: '.format('Best'), end='')\n",
    "print(\"%.3f using %s\" %\n",
    "      (grid_result.best_score_, grid_result.best_params_))\n",
    "means = grid_result.cv_results_['mean_test_score']\n",
    "stds = grid_result.cv_results_['std_test_score']\n",
    "params = grid_result.cv_results_['params']\n",
    "rest_scores = []\n",
    "for mean, stdev, param in zip(means, stds, params):\n",
    "    if param == {'C': 1.0, 'class_weight': None, 'solver': 'lbfgs'}:\n",
    "        print('Default: %.3f using %s' % (mean, param))\n",
    "    else:\n",
    "        rest_scores.append('%.3f (%.3f) with: %s' % (mean, stdev, param))\n",
    "print('-'*81)\n",
    "_ = [print(score) for score in rest_scores]"
   ]
  },
  {
   "cell_type": "markdown",
   "metadata": {},
   "source": [
    "# Decision Tree Classifier"
   ]
  },
  {
   "cell_type": "code",
   "execution_count": 8,
   "metadata": {
    "ExecuteTime": {
     "end_time": "2020-12-18T20:22:46.046971Z",
     "start_time": "2020-12-18T20:22:38.660266Z"
    }
   },
   "outputs": [
    {
     "name": "stdout",
     "output_type": "stream",
     "text": [
      "Best   : 0.788 using {'class_weight': None, 'max_features': None}\n",
      "Default: 0.788 using {'class_weight': None, 'max_features': None}\n",
      "---------------------------------------------------------------------------------\n",
      "0.764 (0.005) with: {'class_weight': 'balanced', 'max_features': 'sqrt'}\n",
      "0.770 (0.005) with: {'class_weight': 'balanced', 'max_features': 'log2'}\n",
      "0.776 (0.002) with: {'class_weight': 'balanced', 'max_features': None}\n",
      "0.779 (0.005) with: {'class_weight': None, 'max_features': 'sqrt'}\n",
      "0.781 (0.003) with: {'class_weight': None, 'max_features': 'log2'}\n"
     ]
    }
   ],
   "source": [
    "dt = DecisionTreeClassifier()\n",
    "# define hyperparameter space\n",
    "max_features = ['sqrt', 'log2', None]\n",
    "class_weight = ['balanced', None]\n",
    "# define grid search\n",
    "grid = dict(max_features=max_features,\n",
    "            class_weight=class_weight)\n",
    "grid_search = GridSearchCV(estimator=dt,\n",
    "                           param_grid=grid,\n",
    "                           n_jobs=-1,\n",
    "                           cv=cv,\n",
    "                           scoring='roc_auc')\n",
    "grid_result = grid_search.fit(X_train, y_train)\n",
    "# summarize results\n",
    "print('{:7}: '.format('Best'), end='')\n",
    "print(\"%.3f using %s\" %\n",
    "      (grid_result.best_score_, grid_result.best_params_))\n",
    "means = grid_result.cv_results_['mean_test_score']\n",
    "stds = grid_result.cv_results_['std_test_score']\n",
    "params = grid_result.cv_results_['params']\n",
    "rest_scores = []\n",
    "for mean, stdev, param in zip(means, stds, params):\n",
    "    if param == {'class_weight': None, 'max_features': None}:\n",
    "        print('Default: %.3f using %s' % (mean, param))\n",
    "    else:\n",
    "        rest_scores.append('%.3f (%.3f) with: %s' % (mean, stdev, param))\n",
    "print('-' * 81)\n",
    "_ = [print(score) for score in rest_scores]"
   ]
  },
  {
   "cell_type": "markdown",
   "metadata": {},
   "source": [
    "# Random Forest Classifier"
   ]
  },
  {
   "cell_type": "code",
   "execution_count": 9,
   "metadata": {
    "ExecuteTime": {
     "end_time": "2020-12-18T21:20:31.025787Z",
     "start_time": "2020-12-18T20:22:46.048016Z"
    }
   },
   "outputs": [
    {
     "name": "stdout",
     "output_type": "stream",
     "text": [
      "Best   : 0.976 using {'class_weight': None, 'max_features': 'log2', 'n_estimators': 1000}\n",
      "Default: 0.969 using {'class_weight': None, 'max_features': 'sqrt', 'n_estimators': 100}\n",
      "---------------------------------------------------------------------------------\n",
      "0.932 (0.001) with: {'class_weight': 'balanced', 'max_features': 'sqrt', 'n_estimators': 10}\n",
      "0.969 (0.001) with: {'class_weight': 'balanced', 'max_features': 'sqrt', 'n_estimators': 100}\n",
      "0.975 (0.001) with: {'class_weight': 'balanced', 'max_features': 'sqrt', 'n_estimators': 1000}\n",
      "0.932 (0.002) with: {'class_weight': 'balanced', 'max_features': 'log2', 'n_estimators': 10}\n",
      "0.969 (0.001) with: {'class_weight': 'balanced', 'max_features': 'log2', 'n_estimators': 100}\n",
      "0.975 (0.001) with: {'class_weight': 'balanced', 'max_features': 'log2', 'n_estimators': 1000}\n",
      "0.927 (0.004) with: {'class_weight': 'balanced', 'max_features': None, 'n_estimators': 10}\n",
      "0.966 (0.002) with: {'class_weight': 'balanced', 'max_features': None, 'n_estimators': 100}\n",
      "0.973 (0.001) with: {'class_weight': 'balanced', 'max_features': None, 'n_estimators': 1000}\n",
      "0.933 (0.001) with: {'class_weight': None, 'max_features': 'sqrt', 'n_estimators': 10}\n",
      "0.975 (0.001) with: {'class_weight': None, 'max_features': 'sqrt', 'n_estimators': 1000}\n",
      "0.935 (0.002) with: {'class_weight': None, 'max_features': 'log2', 'n_estimators': 10}\n",
      "0.970 (0.001) with: {'class_weight': None, 'max_features': 'log2', 'n_estimators': 100}\n",
      "0.976 (0.001) with: {'class_weight': None, 'max_features': 'log2', 'n_estimators': 1000}\n",
      "0.936 (0.001) with: {'class_weight': None, 'max_features': None, 'n_estimators': 10}\n",
      "0.967 (0.001) with: {'class_weight': None, 'max_features': None, 'n_estimators': 100}\n",
      "0.974 (0.001) with: {'class_weight': None, 'max_features': None, 'n_estimators': 1000}\n"
     ]
    }
   ],
   "source": [
    "rf = RandomForestClassifier()\n",
    "# define hyperparameter space\n",
    "n_estimators = [10, 100, 1000]\n",
    "max_features = ['sqrt', 'log2', None]\n",
    "class_weight = ['balanced', None]\n",
    "# define grid search\n",
    "grid = dict(n_estimators=n_estimators,\n",
    "            max_features=max_features,\n",
    "            class_weight=class_weight)\n",
    "grid_search = GridSearchCV(estimator=rf,\n",
    "                           param_grid=grid,\n",
    "                           n_jobs=-1,\n",
    "                           cv=cv,\n",
    "                           scoring='roc_auc')\n",
    "grid_result = grid_search.fit(X_train, y_train)\n",
    "# summarize results\n",
    "print('{:7}: '.format('Best'), end='')\n",
    "print(\"%.3f using %s\" %\n",
    "      (grid_result.best_score_, grid_result.best_params_))\n",
    "means = grid_result.cv_results_['mean_test_score']\n",
    "stds = grid_result.cv_results_['std_test_score']\n",
    "params = grid_result.cv_results_['params']\n",
    "rest_scores = []\n",
    "for mean, stdev, param in zip(means, stds, params):\n",
    "    if param == {'class_weight': None, 'max_features': 'sqrt', 'n_estimators': 100}:\n",
    "        print('Default: %.3f using %s' % (mean, param))\n",
    "    else:\n",
    "        rest_scores.append('%.3f (%.3f) with: %s' % (mean, stdev, param))\n",
    "print('-' * 81)\n",
    "_ = [print(score) for score in rest_scores]"
   ]
  },
  {
   "cell_type": "markdown",
   "metadata": {},
   "source": [
    "# Extra Trees Classifier"
   ]
  },
  {
   "cell_type": "code",
   "execution_count": 10,
   "metadata": {
    "ExecuteTime": {
     "end_time": "2020-12-18T22:23:14.753972Z",
     "start_time": "2020-12-18T21:20:31.026755Z"
    }
   },
   "outputs": [
    {
     "name": "stdout",
     "output_type": "stream",
     "text": [
      "Best   : 0.973 using {'class_weight': None, 'max_features': 'log2', 'n_estimators': 1000}\n",
      "Default: 0.966 using {'class_weight': None, 'max_features': 'sqrt', 'n_estimators': 100}\n",
      "---------------------------------------------------------------------------------\n",
      "0.926 (0.001) with: {'class_weight': 'balanced', 'max_features': 'sqrt', 'n_estimators': 10}\n",
      "0.965 (0.001) with: {'class_weight': 'balanced', 'max_features': 'sqrt', 'n_estimators': 100}\n",
      "0.971 (0.001) with: {'class_weight': 'balanced', 'max_features': 'sqrt', 'n_estimators': 1000}\n",
      "0.927 (0.001) with: {'class_weight': 'balanced', 'max_features': 'log2', 'n_estimators': 10}\n",
      "0.966 (0.001) with: {'class_weight': 'balanced', 'max_features': 'log2', 'n_estimators': 100}\n",
      "0.972 (0.001) with: {'class_weight': 'balanced', 'max_features': 'log2', 'n_estimators': 1000}\n",
      "0.926 (0.003) with: {'class_weight': 'balanced', 'max_features': None, 'n_estimators': 10}\n",
      "0.963 (0.001) with: {'class_weight': 'balanced', 'max_features': None, 'n_estimators': 100}\n",
      "0.971 (0.001) with: {'class_weight': 'balanced', 'max_features': None, 'n_estimators': 1000}\n",
      "0.929 (0.002) with: {'class_weight': None, 'max_features': 'sqrt', 'n_estimators': 10}\n",
      "0.972 (0.001) with: {'class_weight': None, 'max_features': 'sqrt', 'n_estimators': 1000}\n",
      "0.930 (0.002) with: {'class_weight': None, 'max_features': 'log2', 'n_estimators': 10}\n",
      "0.966 (0.001) with: {'class_weight': None, 'max_features': 'log2', 'n_estimators': 100}\n",
      "0.973 (0.001) with: {'class_weight': None, 'max_features': 'log2', 'n_estimators': 1000}\n",
      "0.931 (0.002) with: {'class_weight': None, 'max_features': None, 'n_estimators': 10}\n",
      "0.963 (0.002) with: {'class_weight': None, 'max_features': None, 'n_estimators': 100}\n",
      "0.971 (0.001) with: {'class_weight': None, 'max_features': None, 'n_estimators': 1000}\n"
     ]
    }
   ],
   "source": [
    "et = ExtraTreesClassifier()\n",
    "# use the hyperparameter space for RandomForestClassifier\n",
    "grid_search = GridSearchCV(estimator=et,\n",
    "                           param_grid=grid,\n",
    "                           n_jobs=-1,\n",
    "                           cv=cv,\n",
    "                           scoring='roc_auc')\n",
    "grid_result = grid_search.fit(X_train, y_train)\n",
    "# summarize results\n",
    "print('{:7}: '.format('Best'), end='')\n",
    "print(\"%.3f using %s\" %\n",
    "      (grid_result.best_score_, grid_result.best_params_))\n",
    "means = grid_result.cv_results_['mean_test_score']\n",
    "stds = grid_result.cv_results_['std_test_score']\n",
    "params = grid_result.cv_results_['params']\n",
    "rest_scores = []\n",
    "for mean, stdev, param in zip(means, stds, params):\n",
    "    if param == {'class_weight': None, 'max_features': 'sqrt', 'n_estimators': 100}:\n",
    "        print('Default: %.3f using %s' % (mean, param))\n",
    "    else:\n",
    "        rest_scores.append('%.3f (%.3f) with: %s' % (mean, stdev, param))\n",
    "print('-' * 81)\n",
    "_ = [print(score) for score in rest_scores]"
   ]
  },
  {
   "cell_type": "markdown",
   "metadata": {},
   "source": [
    "# XGBoost Classifier"
   ]
  },
  {
   "cell_type": "code",
   "execution_count": 11,
   "metadata": {
    "ExecuteTime": {
     "end_time": "2020-12-18T22:31:22.267136Z",
     "start_time": "2020-12-18T22:23:14.753972Z"
    }
   },
   "outputs": [
    {
     "name": "stdout",
     "output_type": "stream",
     "text": [
      "Best   : 0.981 using {'colsample_bytree': 0.8, 'eta': 0.1}\n",
      "Default: 0.980 using {'colsample_bytree': 1.0, 'eta': 0.3}\n",
      "---------------------------------------------------------------------------------\n",
      "0.960 (0.001) with: {'colsample_bytree': 0.2, 'eta': 0.001}\n",
      "0.961 (0.001) with: {'colsample_bytree': 0.2, 'eta': 0.01}\n",
      "0.973 (0.001) with: {'colsample_bytree': 0.2, 'eta': 0.1}\n",
      "0.980 (0.001) with: {'colsample_bytree': 0.2, 'eta': 0.3}\n",
      "0.980 (0.000) with: {'colsample_bytree': 0.2, 'eta': 0.5}\n",
      "0.979 (0.000) with: {'colsample_bytree': 0.2, 'eta': 1}\n",
      "0.968 (0.001) with: {'colsample_bytree': 0.4, 'eta': 0.001}\n",
      "0.970 (0.001) with: {'colsample_bytree': 0.4, 'eta': 0.01}\n",
      "0.980 (0.001) with: {'colsample_bytree': 0.4, 'eta': 0.1}\n",
      "0.980 (0.000) with: {'colsample_bytree': 0.4, 'eta': 0.3}\n",
      "0.980 (0.000) with: {'colsample_bytree': 0.4, 'eta': 0.5}\n",
      "0.978 (0.000) with: {'colsample_bytree': 0.4, 'eta': 1}\n",
      "0.970 (0.001) with: {'colsample_bytree': 0.6, 'eta': 0.001}\n",
      "0.972 (0.001) with: {'colsample_bytree': 0.6, 'eta': 0.01}\n",
      "0.980 (0.001) with: {'colsample_bytree': 0.6, 'eta': 0.1}\n",
      "0.980 (0.000) with: {'colsample_bytree': 0.6, 'eta': 0.3}\n",
      "0.980 (0.000) with: {'colsample_bytree': 0.6, 'eta': 0.5}\n",
      "0.971 (0.011) with: {'colsample_bytree': 0.6, 'eta': 1}\n",
      "0.976 (0.001) with: {'colsample_bytree': 0.8, 'eta': 0.001}\n",
      "0.977 (0.001) with: {'colsample_bytree': 0.8, 'eta': 0.01}\n",
      "0.981 (0.000) with: {'colsample_bytree': 0.8, 'eta': 0.1}\n",
      "0.981 (0.000) with: {'colsample_bytree': 0.8, 'eta': 0.3}\n",
      "0.980 (0.000) with: {'colsample_bytree': 0.8, 'eta': 0.5}\n",
      "0.977 (0.001) with: {'colsample_bytree': 0.8, 'eta': 1}\n",
      "0.976 (0.001) with: {'colsample_bytree': 1.0, 'eta': 0.001}\n",
      "0.979 (0.000) with: {'colsample_bytree': 1.0, 'eta': 0.01}\n",
      "0.981 (0.000) with: {'colsample_bytree': 1.0, 'eta': 0.1}\n",
      "0.980 (0.000) with: {'colsample_bytree': 1.0, 'eta': 0.5}\n",
      "0.977 (0.000) with: {'colsample_bytree': 1.0, 'eta': 1}\n"
     ]
    }
   ],
   "source": [
    "xgb = XGBClassifier()\n",
    "# define hyperparameter space\n",
    "eta = [0.001, 0.01, 0.1, 0.3, 0.5, 1]\n",
    "colsample_bytree = [0.2, 0.4, 0.6, 0.8, 1.0]\n",
    "# define grid search\n",
    "grid = dict(eta=eta,\n",
    "            colsample_bytree=colsample_bytree)\n",
    "grid_search = GridSearchCV(estimator=xgb,\n",
    "                           param_grid=grid,\n",
    "                           n_jobs=-1,\n",
    "                           cv=cv,\n",
    "                           scoring='roc_auc')\n",
    "grid_result = grid_search.fit(X_train, y_train)\n",
    "# summarize results\n",
    "print('{:7}: '.format('Best'), end='')\n",
    "print(\"%.3f using %s\" %\n",
    "      (grid_result.best_score_, grid_result.best_params_))\n",
    "means = grid_result.cv_results_['mean_test_score']\n",
    "stds = grid_result.cv_results_['std_test_score']\n",
    "params = grid_result.cv_results_['params']\n",
    "rest_scores = []\n",
    "for mean, stdev, param in zip(means, stds, params):\n",
    "    if param == {'colsample_bytree': 1.0, 'eta': 0.3}:\n",
    "        print('Default: %.3f using %s' % (mean, param))\n",
    "    else:\n",
    "        rest_scores.append('%.3f (%.3f) with: %s' % (mean, stdev, param))\n",
    "print('-' * 81)\n",
    "_ = [print(score) for score in rest_scores]"
   ]
  },
  {
   "cell_type": "markdown",
   "metadata": {},
   "source": [
    "# KNN Classifier"
   ]
  },
  {
   "cell_type": "code",
   "execution_count": 12,
   "metadata": {
    "ExecuteTime": {
     "end_time": "2020-12-19T01:35:41.039372Z",
     "start_time": "2020-12-18T22:31:22.267136Z"
    }
   },
   "outputs": [
    {
     "name": "stdout",
     "output_type": "stream",
     "text": [
      "0.950 using {'n_neighbors': 20}\n",
      "0.765 using {'n_neighbors': 1}\n",
      "0.833 using {'n_neighbors': 2}\n",
      "0.865 using {'n_neighbors': 3}\n",
      "0.884 using {'n_neighbors': 4}\n",
      "0.897 using {'n_neighbors': 5}\n",
      "0.915 using {'n_neighbors': 7}\n",
      "0.930 using {'n_neighbors': 10}\n",
      "0.943 using {'n_neighbors': 15}\n"
     ]
    }
   ],
   "source": [
    "from sklearn.neighbors import KNeighborsClassifier\n",
    "knn = KNeighborsClassifier()\n",
    "# define hyperparameter space\n",
    "n_neighbors = [1, 2, 3, 4, 5, 7, 10, 15, 20]\n",
    "# define grid search\n",
    "grid = dict(n_neighbors=n_neighbors)\n",
    "grid_search = GridSearchCV(estimator=knn,\n",
    "                           param_grid=grid,\n",
    "                           n_jobs=-1,\n",
    "                           cv=cv,\n",
    "                           scoring='roc_auc')\n",
    "grid_result = grid_search.fit(X_train_scaled, y_train)\n",
    "# summarize results\n",
    "print(\"%.3f using %s\" %\n",
    "      (grid_result.best_score_, grid_result.best_params_))\n",
    "means = grid_result.cv_results_['mean_test_score']\n",
    "params = grid_result.cv_results_['params']\n",
    "for mean, param in zip(means, params):\n",
    "    if param != grid_result.best_params_:\n",
    "        print('%.3f using %s' % (mean, param))"
   ]
  }
 ],
 "metadata": {
  "hide_input": false,
  "kernelspec": {
   "display_name": "Python 3",
   "language": "python",
   "name": "python3"
  },
  "language_info": {
   "codemirror_mode": {
    "name": "ipython",
    "version": 3
   },
   "file_extension": ".py",
   "mimetype": "text/x-python",
   "name": "python",
   "nbconvert_exporter": "python",
   "pygments_lexer": "ipython3",
   "version": "3.8.3"
  },
  "toc": {
   "base_numbering": 1,
   "nav_menu": {},
   "number_sections": true,
   "sideBar": true,
   "skip_h1_title": false,
   "title_cell": "Table of Contents",
   "title_sidebar": "Contents",
   "toc_cell": false,
   "toc_position": {
    "height": "calc(100% - 180px)",
    "left": "10px",
    "top": "150px",
    "width": "352px"
   },
   "toc_section_display": true,
   "toc_window_display": true
  },
  "varInspector": {
   "cols": {
    "lenName": 16,
    "lenType": 16,
    "lenVar": 40
   },
   "kernels_config": {
    "python": {
     "delete_cmd_postfix": "",
     "delete_cmd_prefix": "del ",
     "library": "var_list.py",
     "varRefreshCmd": "print(var_dic_list())"
    },
    "r": {
     "delete_cmd_postfix": ") ",
     "delete_cmd_prefix": "rm(",
     "library": "var_list.r",
     "varRefreshCmd": "cat(var_dic_list()) "
    }
   },
   "types_to_exclude": [
    "module",
    "function",
    "builtin_function_or_method",
    "instance",
    "_Feature"
   ],
   "window_display": false
  }
 },
 "nbformat": 4,
 "nbformat_minor": 4
}
