{
  "nbformat": 4,
  "nbformat_minor": 0,
  "metadata": {
    "colab": {
      "name": "check_yelp_data.ipynb",
      "provenance": [],
      "collapsed_sections": [],
      "toc_visible": true,
      "machine_shape": "hm"
    },
    "kernelspec": {
      "name": "python3",
      "display_name": "Python 3"
    }
  },
  "cells": [
    {
      "cell_type": "markdown",
      "metadata": {
        "id": "wCWfJg2MZFah"
      },
      "source": [
        "# Predict Helpfulness of Customer Reviews - Yelp Data v14.0"
      ]
    },
    {
      "cell_type": "markdown",
      "metadata": {
        "id": "_AjouPpVZEb1"
      },
      "source": [
        "![yelp.png](data:image/png;base64,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)"
      ]
    },
    {
      "cell_type": "markdown",
      "metadata": {
        "id": "HN8lMWNxaZtv"
      },
      "source": [
        "# Table Of Contents\n",
        "\n",
        "__Part I__\n",
        "1. [Customer Reviews and eWOM](#Customer-Reviews-and-eWOM)\n",
        "2. [Why to Predict Helpfulness?](#Why-Helpfulness-matters?)\n",
        "\n",
        "__Part II__\n",
        "4. [Introduction to Yelp Data](#Introduction-to-Yelp-Data)\n",
        "5. [Read & Process Data](#Read-&-Process-Data)\n",
        "  \n",
        "    5.1. [Reviews Data](#Reviews-Data)\n",
        "  \n",
        "    5.2. [Business Data](#Business-Data)\n",
        "\n",
        "    5.2.1. [Cleaning the Business Data](#Cleaning-the-Business-Data)\n",
        "\n",
        "    5.2.2. [Examples of Business Attributes](#Examples-of-Business-Attributes)\n",
        "\n",
        "    5.2.3. [Exploring Business Attributes](#Exploring-Business-Attributes)\n",
        "\n",
        "    5.3. [Read Users Data](#Read-User-Data)\n",
        "\n",
        "\n",
        "__Part III__\n",
        "6. [Exploratory Data Analysis](#Exploratory-Data-Analysis)\n",
        "\n",
        "    6.1. [Distribution of Useful, Funny, and Cool Reviews](#Distribution-of-Useful,-Funny,-and-Cool-Reviews)\n",
        "\n",
        "    6.2. [Distribution of Reviews by Year and Month](#Distribution-of-Reviews-by-Year-and-Month)\n",
        "\n",
        "    6.3. [Top 10 Users with the Most Reviews](#Top-10-Users-with-the-Most-Reviews)\n",
        "\n",
        "    6.4. [Top 10 Businesses with the Most Reviews](#Top-10-Businesses-with-the-Most-Reviews)\n",
        "\n",
        "    6.5. [Distribution of Star Ratings](#Distribution-of-Star-Ratings)\n",
        "\n",
        "    6.6. [Distribution of Useful Reviews](#Distribution-of-Useful-Reviews)\n",
        "\n",
        "    6.7. [Example of Most Useful, Funniest and Coolest Reviews](#Example-of-Most-Useful,-Funnies,-and-Coolest-Reviews)\n",
        "\n",
        "7. [Linguistic Features](#Linguistic-Features)\n",
        "\n",
        "__Part IV__\n",
        "8. Analysis\n",
        "\n",
        "__Conclusion__\n",
        "Results"
      ]
    },
    {
      "cell_type": "markdown",
      "metadata": {
        "id": "a7xoZVSA0soQ"
      },
      "source": [
        "# Customer Reviews and eWOM"
      ]
    },
    {
      "cell_type": "markdown",
      "metadata": {
        "id": "IFamxTi90uKQ"
      },
      "source": [
        "  Online customer reviews can be defined as comments or opinions on a specific product which are posted on company or a third-party website by the peers ([Mudambi and Schuff, 2010](https://www.jstor.org/stable/20721420?seq=1)). Moreover, they can be seen as an outcome of a customer’s experience with a product, as well as, an input for a potential customer’s buying process. For this reason, customer reviews should not be considered as a narrow two-way relationship between the customer and the brand but they may result a greater effect on the business performance by affecting potential customers.\n",
        "\n",
        "  The consumer buying process consists of the following steps: problem recognition, information search, evaluation of alternatives, purchase decision and postpurchase behavior ([Kotler and Keller, 2016](https://www.pearson.com/us/higher-education/product/Kotler-Marketing-Management-15th-Edition/9780133856460.html?tab=overview)). Consumers may not go through each step anytime they purchase a product. However, depending on the importance of the purchase, prior experience etc., they will go through several steps in the process including information search and postpurchase behavior. Accordingly, customer reviews will be one of the main sources of collecting information for the potential buyers and an important medium for the customers who would like to share their experiences with the product and purchasing process.\n",
        "\n",
        "  On the other hand, in the information search process, customers would like to access word-of-mouth (WOM) in order to mitigate uncertainty and perceived risk ([Xie etc., 2014](https://www.sciencedirect.com/science/article/abs/pii/S027843191400125X)). In the traditional way, WOM is done by contacting friends, peers, people who have experience with the product etc. However, as e-commerce being prevalent, online customer reviews can be considered as a part of WOM and can be defined as eWOM (electronic word-of-mouth ([Bronner and Hoog, 2010](https://journals.sagepub.com/doi/abs/10.1177/0047287509355324)). \n"
      ]
    },
    {
      "cell_type": "markdown",
      "metadata": {
        "id": "iJ_qK07Fawul"
      },
      "source": [
        "# Why to Predict Helpfulness?\n"
      ]
    },
    {
      "cell_type": "markdown",
      "metadata": {
        "id": "pOLstdcq3QVQ"
      },
      "source": [
        "As discussed in the above section, customer reviews are one of the main source of information for potential buyers on the internet. However, a company have to do more than just presenting the customer reviews to the potential buyers. As the number of customer reviews grows, the amount of resources that potential buyers have to allocate in order to complete the purchasing process also grows. Moreover, low-quality reviews can change the mind of potential buyer and can cause a loss of business relationships. For this reason, it is essential for a business to select and present helpful reviews in order to build and sustain profitable relationships with customers ([Park, 2018](https://www.mdpi.com/2071-1050/10/6/1735)).\n",
        "\n",
        "For example, [Amazon](https://www.amazon.com), orders the customer reviews based on their helpfulness and ask each reader to vote if the review was helpful. It is possible to determine the helpfulness of customer reviews manually by other customers. However, this kind of an approach comes with its own caveats. Firstly, potential buyers and/or consumers mostly will not be able to spend the required amount of time to read all customer reviews and vote them. Secondly, most of reviews will not be voted (as we will see in the [Yelp](https://www.yelp.com/dataset) dataset, .. % have less than 5 votes). Last but not least, the amount of time that is spent for a review to be recognized as helpful can vary greatly and can cause loss of potential business relationships.\n",
        "\n",
        "As a result, predicting helpfulness of customer reviews gives business the control over the customer reviews by promoting the most possible helpful review as the review enters the pool of reviews. It is also convenient for the potential buyers since it reduces the search for material information about the product significantly. Finally, it increases the efficiency of the dataset by going through each customer reviews instead of focusing a narrow number of reviews."
      ]
    },
    {
      "cell_type": "markdown",
      "metadata": {
        "id": "FUK1aChGUJZ-"
      },
      "source": [
        "# Introduction to YELP data"
      ]
    },
    {
      "cell_type": "markdown",
      "metadata": {
        "id": "vLMiQdiKUdxa"
      },
      "source": [
        "[Yelp](https://www.yelp.com/dataset) dataset consists of six `json` files `business.json`, `review.json`, `user.json`, `checkin.json`, `tip.json` and `photo.json`. \n",
        "\n",
        "* `business.json` has information about the business such as name, location, attributes, business hours etc.\n",
        "\n",
        "* `review.json` has information about each review in the dataset such as who published the reviews, star rating, review corpus, useful votes etc.\n",
        "\n",
        "* `user.json` has information about each user in the dataset such as name, number of reviews, friends, average star rating etc.\n",
        "\n",
        "* `checkin.json` has information about business checkins such as business id and date.\n",
        "\n",
        "* `tip.json` (tips are shorter version of reviews and conveys quick suggestions to businesses) has information such as tip corpus, compliment count, date etc.\n",
        "\n",
        "* `photo.json` includes photo data such as photo id, photo label etc.\n",
        "\n",
        "The detailed information and full list of features for each file in the dataset can be reached from the [documentation](https://www.yelp.com/dataset).\n",
        "\n",
        "In this research, we are mainly insterested in `review.json`, `user.json` and `business.json`. However, there may be use of other files in the dataset.\n",
        "\n",
        "\n"
      ]
    },
    {
      "cell_type": "markdown",
      "metadata": {
        "id": "wJD657n5XKJR"
      },
      "source": [
        "# Read & Process Data"
      ]
    },
    {
      "cell_type": "code",
      "metadata": {
        "id": "wzsGbnQAoHrJ",
        "outputId": "f7b923ce-9eba-466c-ebc6-193607e13024",
        "colab": {
          "base_uri": "https://localhost:8080/"
        }
      },
      "source": [
        "from google.colab import drive\n",
        "drive.mount('/content/drive')\n",
        "import pandas as pd\n",
        "import numpy as np\n",
        "import json"
      ],
      "execution_count": 2,
      "outputs": [
        {
          "output_type": "stream",
          "text": [
            "Drive already mounted at /content/drive; to attempt to forcibly remount, call drive.mount(\"/content/drive\", force_remount=True).\n"
          ],
          "name": "stdout"
        }
      ]
    },
    {
      "cell_type": "markdown",
      "metadata": {
        "id": "r0ae6-ctZ3SH"
      },
      "source": [
        "## Reviews Data"
      ]
    },
    {
      "cell_type": "markdown",
      "metadata": {
        "id": "rEwr6aN0Z9oB"
      },
      "source": [
        "* While reading the `yelp_academic_dataset_review.json` file, I could have used `pd.read_json()` or `json.loads()` in order to load the data. However, both approaches result `MemoryError` due to the limited `RAM (Random Access Memory)` capacity. In order to overcome this issue, I read `json` file with `.readlines()` method and write the attributes into a dictionary. Later on, I transformed the dictionary into a dataframe using `pd.DataFrame()`."
      ]
    },
    {
      "cell_type": "code",
      "metadata": {
        "id": "MjR5VYPlO9as"
      },
      "source": [
        "# attributes of review.json file\n",
        "# can be reached at https://www.yelp.com/dataset/documentation/main\n",
        "columns = ['review_id', 'user_id', 'business_id', 'stars',\n",
        "           'useful', 'funny', 'cool', 'text', 'date']\n",
        "df_reviews = {}\n",
        "for column in columns:\n",
        "    df_reviews.setdefault(column, [])\n",
        "with open('/content/drive/My Drive/yelp/yelp_academic_dataset_review.json') as fin:\n",
        "    for line in fin.readlines():\n",
        "        data = json.loads(line)\n",
        "        for k, v in data.items():\n",
        "            df_reviews[k].append(v)"
      ],
      "execution_count": 3,
      "outputs": []
    },
    {
      "cell_type": "markdown",
      "metadata": {
        "id": "BwQ8IZpjikd5"
      },
      "source": [
        "The features in `reviews.json` file\n",
        "\n",
        "* `review_id`: (`str`) unique id of the review\n",
        "\n",
        "* `user_id`: (`str`) unique id of the user\n",
        "\n",
        "* `business_id`: (`str`) unique id of the business\n",
        "\n",
        "* `stars`: (`int`) star rating\n",
        "\n",
        "* `date`: (`str`) date formatted `YYYY-MM-DD`\n",
        "\n",
        "* `text`: (`str`) the review itself\n",
        "\n",
        "* `useful`: (`int`) number of useful votes received\n",
        "\n",
        "* `funny`: (`int`) number of funny votes received\n",
        "\n",
        "* `cool`: (`int`) number of cool votes received"
      ]
    },
    {
      "cell_type": "code",
      "metadata": {
        "id": "TDNxRHpRU-UL",
        "outputId": "3b06eb79-fc73-4137-b647-82d09b3c2b9e",
        "colab": {
          "base_uri": "https://localhost:8080/",
          "height": 206
        }
      },
      "source": [
        "df_reviews = pd.DataFrame(df_reviews)\n",
        "df_reviews.head()"
      ],
      "execution_count": 4,
      "outputs": [
        {
          "output_type": "execute_result",
          "data": {
            "text/html": [
              "<div>\n",
              "<style scoped>\n",
              "    .dataframe tbody tr th:only-of-type {\n",
              "        vertical-align: middle;\n",
              "    }\n",
              "\n",
              "    .dataframe tbody tr th {\n",
              "        vertical-align: top;\n",
              "    }\n",
              "\n",
              "    .dataframe thead th {\n",
              "        text-align: right;\n",
              "    }\n",
              "</style>\n",
              "<table border=\"1\" class=\"dataframe\">\n",
              "  <thead>\n",
              "    <tr style=\"text-align: right;\">\n",
              "      <th></th>\n",
              "      <th>review_id</th>\n",
              "      <th>user_id</th>\n",
              "      <th>business_id</th>\n",
              "      <th>stars</th>\n",
              "      <th>useful</th>\n",
              "      <th>funny</th>\n",
              "      <th>cool</th>\n",
              "      <th>text</th>\n",
              "      <th>date</th>\n",
              "    </tr>\n",
              "  </thead>\n",
              "  <tbody>\n",
              "    <tr>\n",
              "      <th>0</th>\n",
              "      <td>xQY8N_XvtGbearJ5X4QryQ</td>\n",
              "      <td>OwjRMXRC0KyPrIlcjaXeFQ</td>\n",
              "      <td>-MhfebM0QIsKt87iDN-FNw</td>\n",
              "      <td>2.0</td>\n",
              "      <td>5</td>\n",
              "      <td>0</td>\n",
              "      <td>0</td>\n",
              "      <td>As someone who has worked with many museums, I...</td>\n",
              "      <td>2015-04-15 05:21:16</td>\n",
              "    </tr>\n",
              "    <tr>\n",
              "      <th>1</th>\n",
              "      <td>UmFMZ8PyXZTY2QcwzsfQYA</td>\n",
              "      <td>nIJD_7ZXHq-FX8byPMOkMQ</td>\n",
              "      <td>lbrU8StCq3yDfr-QMnGrmQ</td>\n",
              "      <td>1.0</td>\n",
              "      <td>1</td>\n",
              "      <td>1</td>\n",
              "      <td>0</td>\n",
              "      <td>I am actually horrified this place is still in...</td>\n",
              "      <td>2013-12-07 03:16:52</td>\n",
              "    </tr>\n",
              "    <tr>\n",
              "      <th>2</th>\n",
              "      <td>LG2ZaYiOgpr2DK_90pYjNw</td>\n",
              "      <td>V34qejxNsCbcgD8C0HVk-Q</td>\n",
              "      <td>HQl28KMwrEKHqhFrrDqVNQ</td>\n",
              "      <td>5.0</td>\n",
              "      <td>1</td>\n",
              "      <td>0</td>\n",
              "      <td>0</td>\n",
              "      <td>I love Deagan's. I do. I really do. The atmosp...</td>\n",
              "      <td>2015-12-05 03:18:11</td>\n",
              "    </tr>\n",
              "    <tr>\n",
              "      <th>3</th>\n",
              "      <td>i6g_oA9Yf9Y31qt0wibXpw</td>\n",
              "      <td>ofKDkJKXSKZXu5xJNGiiBQ</td>\n",
              "      <td>5JxlZaqCnk1MnbgRirs40Q</td>\n",
              "      <td>1.0</td>\n",
              "      <td>0</td>\n",
              "      <td>0</td>\n",
              "      <td>0</td>\n",
              "      <td>Dismal, lukewarm, defrosted-tasting \"TexMex\" g...</td>\n",
              "      <td>2011-05-27 05:30:52</td>\n",
              "    </tr>\n",
              "    <tr>\n",
              "      <th>4</th>\n",
              "      <td>6TdNDKywdbjoTkizeMce8A</td>\n",
              "      <td>UgMW8bLE0QMJDCkQ1Ax5Mg</td>\n",
              "      <td>IS4cv902ykd8wj1TR0N3-A</td>\n",
              "      <td>4.0</td>\n",
              "      <td>0</td>\n",
              "      <td>0</td>\n",
              "      <td>0</td>\n",
              "      <td>Oh happy day, finally have a Canes near my cas...</td>\n",
              "      <td>2017-01-14 21:56:57</td>\n",
              "    </tr>\n",
              "  </tbody>\n",
              "</table>\n",
              "</div>"
            ],
            "text/plain": [
              "                review_id  ...                 date\n",
              "0  xQY8N_XvtGbearJ5X4QryQ  ...  2015-04-15 05:21:16\n",
              "1  UmFMZ8PyXZTY2QcwzsfQYA  ...  2013-12-07 03:16:52\n",
              "2  LG2ZaYiOgpr2DK_90pYjNw  ...  2015-12-05 03:18:11\n",
              "3  i6g_oA9Yf9Y31qt0wibXpw  ...  2011-05-27 05:30:52\n",
              "4  6TdNDKywdbjoTkizeMce8A  ...  2017-01-14 21:56:57\n",
              "\n",
              "[5 rows x 9 columns]"
            ]
          },
          "metadata": {
            "tags": []
          },
          "execution_count": 4
        }
      ]
    },
    {
      "cell_type": "code",
      "metadata": {
        "id": "8DQSgrkFMmqI",
        "outputId": "89f02299-d738-4a34-aa4e-ca2028cbbad3",
        "colab": {
          "base_uri": "https://localhost:8080/",
          "height": 328
        }
      },
      "source": [
        "df_reviews['is_useful'] = np.where(df_reviews.useful != 0, 1, 0)\n",
        "df_reviews['is_funny'] = np.where(df_reviews.funny != 0, 1, 0)\n",
        "df_reviews['is_cool'] = np.where(df_reviews.cool != 0, 1, 0)\n",
        "df_reviews.date = pd.to_datetime(df_reviews.date)\n",
        "df_reviews['years'] = [date.year for date in df_reviews.date]\n",
        "df_reviews['months'] = [date.month for date in df_reviews.date]\n",
        "df_reviews.head()"
      ],
      "execution_count": 5,
      "outputs": [
        {
          "output_type": "execute_result",
          "data": {
            "text/html": [
              "<div>\n",
              "<style scoped>\n",
              "    .dataframe tbody tr th:only-of-type {\n",
              "        vertical-align: middle;\n",
              "    }\n",
              "\n",
              "    .dataframe tbody tr th {\n",
              "        vertical-align: top;\n",
              "    }\n",
              "\n",
              "    .dataframe thead th {\n",
              "        text-align: right;\n",
              "    }\n",
              "</style>\n",
              "<table border=\"1\" class=\"dataframe\">\n",
              "  <thead>\n",
              "    <tr style=\"text-align: right;\">\n",
              "      <th></th>\n",
              "      <th>review_id</th>\n",
              "      <th>user_id</th>\n",
              "      <th>business_id</th>\n",
              "      <th>stars</th>\n",
              "      <th>useful</th>\n",
              "      <th>funny</th>\n",
              "      <th>cool</th>\n",
              "      <th>text</th>\n",
              "      <th>date</th>\n",
              "      <th>is_useful</th>\n",
              "      <th>is_funny</th>\n",
              "      <th>is_cool</th>\n",
              "      <th>years</th>\n",
              "      <th>months</th>\n",
              "    </tr>\n",
              "  </thead>\n",
              "  <tbody>\n",
              "    <tr>\n",
              "      <th>0</th>\n",
              "      <td>xQY8N_XvtGbearJ5X4QryQ</td>\n",
              "      <td>OwjRMXRC0KyPrIlcjaXeFQ</td>\n",
              "      <td>-MhfebM0QIsKt87iDN-FNw</td>\n",
              "      <td>2.0</td>\n",
              "      <td>5</td>\n",
              "      <td>0</td>\n",
              "      <td>0</td>\n",
              "      <td>As someone who has worked with many museums, I...</td>\n",
              "      <td>2015-04-15 05:21:16</td>\n",
              "      <td>1</td>\n",
              "      <td>0</td>\n",
              "      <td>0</td>\n",
              "      <td>2015</td>\n",
              "      <td>4</td>\n",
              "    </tr>\n",
              "    <tr>\n",
              "      <th>1</th>\n",
              "      <td>UmFMZ8PyXZTY2QcwzsfQYA</td>\n",
              "      <td>nIJD_7ZXHq-FX8byPMOkMQ</td>\n",
              "      <td>lbrU8StCq3yDfr-QMnGrmQ</td>\n",
              "      <td>1.0</td>\n",
              "      <td>1</td>\n",
              "      <td>1</td>\n",
              "      <td>0</td>\n",
              "      <td>I am actually horrified this place is still in...</td>\n",
              "      <td>2013-12-07 03:16:52</td>\n",
              "      <td>1</td>\n",
              "      <td>1</td>\n",
              "      <td>0</td>\n",
              "      <td>2013</td>\n",
              "      <td>12</td>\n",
              "    </tr>\n",
              "    <tr>\n",
              "      <th>2</th>\n",
              "      <td>LG2ZaYiOgpr2DK_90pYjNw</td>\n",
              "      <td>V34qejxNsCbcgD8C0HVk-Q</td>\n",
              "      <td>HQl28KMwrEKHqhFrrDqVNQ</td>\n",
              "      <td>5.0</td>\n",
              "      <td>1</td>\n",
              "      <td>0</td>\n",
              "      <td>0</td>\n",
              "      <td>I love Deagan's. I do. I really do. The atmosp...</td>\n",
              "      <td>2015-12-05 03:18:11</td>\n",
              "      <td>1</td>\n",
              "      <td>0</td>\n",
              "      <td>0</td>\n",
              "      <td>2015</td>\n",
              "      <td>12</td>\n",
              "    </tr>\n",
              "    <tr>\n",
              "      <th>3</th>\n",
              "      <td>i6g_oA9Yf9Y31qt0wibXpw</td>\n",
              "      <td>ofKDkJKXSKZXu5xJNGiiBQ</td>\n",
              "      <td>5JxlZaqCnk1MnbgRirs40Q</td>\n",
              "      <td>1.0</td>\n",
              "      <td>0</td>\n",
              "      <td>0</td>\n",
              "      <td>0</td>\n",
              "      <td>Dismal, lukewarm, defrosted-tasting \"TexMex\" g...</td>\n",
              "      <td>2011-05-27 05:30:52</td>\n",
              "      <td>0</td>\n",
              "      <td>0</td>\n",
              "      <td>0</td>\n",
              "      <td>2011</td>\n",
              "      <td>5</td>\n",
              "    </tr>\n",
              "    <tr>\n",
              "      <th>4</th>\n",
              "      <td>6TdNDKywdbjoTkizeMce8A</td>\n",
              "      <td>UgMW8bLE0QMJDCkQ1Ax5Mg</td>\n",
              "      <td>IS4cv902ykd8wj1TR0N3-A</td>\n",
              "      <td>4.0</td>\n",
              "      <td>0</td>\n",
              "      <td>0</td>\n",
              "      <td>0</td>\n",
              "      <td>Oh happy day, finally have a Canes near my cas...</td>\n",
              "      <td>2017-01-14 21:56:57</td>\n",
              "      <td>0</td>\n",
              "      <td>0</td>\n",
              "      <td>0</td>\n",
              "      <td>2017</td>\n",
              "      <td>1</td>\n",
              "    </tr>\n",
              "  </tbody>\n",
              "</table>\n",
              "</div>"
            ],
            "text/plain": [
              "                review_id                 user_id  ... years  months\n",
              "0  xQY8N_XvtGbearJ5X4QryQ  OwjRMXRC0KyPrIlcjaXeFQ  ...  2015       4\n",
              "1  UmFMZ8PyXZTY2QcwzsfQYA  nIJD_7ZXHq-FX8byPMOkMQ  ...  2013      12\n",
              "2  LG2ZaYiOgpr2DK_90pYjNw  V34qejxNsCbcgD8C0HVk-Q  ...  2015      12\n",
              "3  i6g_oA9Yf9Y31qt0wibXpw  ofKDkJKXSKZXu5xJNGiiBQ  ...  2011       5\n",
              "4  6TdNDKywdbjoTkizeMce8A  UgMW8bLE0QMJDCkQ1Ax5Mg  ...  2017       1\n",
              "\n",
              "[5 rows x 14 columns]"
            ]
          },
          "metadata": {
            "tags": []
          },
          "execution_count": 5
        }
      ]
    },
    {
      "cell_type": "code",
      "metadata": {
        "id": "_ASh0jq3bqZg",
        "outputId": "36ecc4e9-5f59-42f7-fc98-3889c154e86f",
        "colab": {
          "base_uri": "https://localhost:8080/"
        }
      },
      "source": [
        "# check the size of `df_reviews` in the system\n",
        "import sys\n",
        "print('The size of df_reviews is ', end='')\n",
        "print('{:.2f}'.format(sys.getsizeof(df_reviews) / 1073741824) + \" GB\")"
      ],
      "execution_count": 6,
      "outputs": [
        {
          "output_type": "stream",
          "text": [
            "The size of df_reviews is 7.23 GB\n"
          ],
          "name": "stdout"
        }
      ]
    },
    {
      "cell_type": "markdown",
      "metadata": {
        "id": "Ewm-YIVaAlyU"
      },
      "source": [
        "## Read Business Data\n"
      ]
    },
    {
      "cell_type": "markdown",
      "metadata": {
        "id": "rzqdL8FijnXw"
      },
      "source": [
        "The features in `business.json` file\n",
        "\n",
        "* `business_id`: (`str`) unique id of the business\n",
        "\n",
        "* `name`: (`str)` the business' name\n",
        "\n",
        "* `address`: (`str`) the full address of the business\n",
        "\n",
        "* `city`: (`str`) the city where the business is located\n",
        "\n",
        "* `state`: (`str`) the state where the business is located\n",
        "\n",
        "* `postal code`: (`str`) the postal code of the business\n",
        "\n",
        "* `latitude`: (`float`) latitude\n",
        "\n",
        "* `longitude`: (`float`) longitude\n",
        "\n",
        "* `stars`: (`float`) average star rating, rounded to half-stars\n",
        "\n",
        "* `review_count`: (`str`) total number of reviews given to the business\n",
        "\n",
        "* `is_open`: (`int`) (binary) indicates whether the business is still open\n",
        "\n",
        "* `attributes`: (`json`) attributes of the business\n",
        "\n",
        "* `categories`: (`list`) description of the business\n",
        "\n",
        "* `hours`: (`json`) the working hours of the business"
      ]
    },
    {
      "cell_type": "code",
      "metadata": {
        "id": "Z84az1yQAr3j",
        "outputId": "9657067b-3dd0-49db-a8d2-1cd79df53465",
        "colab": {
          "base_uri": "https://localhost:8080/",
          "height": 449
        }
      },
      "source": [
        "df_business = pd.read_json('/content/drive/My Drive/yelp/yelp_academic_dataset_business.json',\n",
        "                           lines=True)\n",
        "df_business.head()"
      ],
      "execution_count": 7,
      "outputs": [
        {
          "output_type": "execute_result",
          "data": {
            "text/html": [
              "<div>\n",
              "<style scoped>\n",
              "    .dataframe tbody tr th:only-of-type {\n",
              "        vertical-align: middle;\n",
              "    }\n",
              "\n",
              "    .dataframe tbody tr th {\n",
              "        vertical-align: top;\n",
              "    }\n",
              "\n",
              "    .dataframe thead th {\n",
              "        text-align: right;\n",
              "    }\n",
              "</style>\n",
              "<table border=\"1\" class=\"dataframe\">\n",
              "  <thead>\n",
              "    <tr style=\"text-align: right;\">\n",
              "      <th></th>\n",
              "      <th>business_id</th>\n",
              "      <th>name</th>\n",
              "      <th>address</th>\n",
              "      <th>city</th>\n",
              "      <th>state</th>\n",
              "      <th>postal_code</th>\n",
              "      <th>latitude</th>\n",
              "      <th>longitude</th>\n",
              "      <th>stars</th>\n",
              "      <th>review_count</th>\n",
              "      <th>is_open</th>\n",
              "      <th>attributes</th>\n",
              "      <th>categories</th>\n",
              "      <th>hours</th>\n",
              "    </tr>\n",
              "  </thead>\n",
              "  <tbody>\n",
              "    <tr>\n",
              "      <th>0</th>\n",
              "      <td>f9NumwFMBDn751xgFiRbNA</td>\n",
              "      <td>The Range At Lake Norman</td>\n",
              "      <td>10913 Bailey Rd</td>\n",
              "      <td>Cornelius</td>\n",
              "      <td>NC</td>\n",
              "      <td>28031</td>\n",
              "      <td>35.462724</td>\n",
              "      <td>-80.852612</td>\n",
              "      <td>3.5</td>\n",
              "      <td>36</td>\n",
              "      <td>1</td>\n",
              "      <td>{'BusinessAcceptsCreditCards': 'True', 'BikePa...</td>\n",
              "      <td>Active Life, Gun/Rifle Ranges, Guns &amp; Ammo, Sh...</td>\n",
              "      <td>{'Monday': '10:0-18:0', 'Tuesday': '11:0-20:0'...</td>\n",
              "    </tr>\n",
              "    <tr>\n",
              "      <th>1</th>\n",
              "      <td>Yzvjg0SayhoZgCljUJRF9Q</td>\n",
              "      <td>Carlos Santo, NMD</td>\n",
              "      <td>8880 E Via Linda, Ste 107</td>\n",
              "      <td>Scottsdale</td>\n",
              "      <td>AZ</td>\n",
              "      <td>85258</td>\n",
              "      <td>33.569404</td>\n",
              "      <td>-111.890264</td>\n",
              "      <td>5.0</td>\n",
              "      <td>4</td>\n",
              "      <td>1</td>\n",
              "      <td>{'GoodForKids': 'True', 'ByAppointmentOnly': '...</td>\n",
              "      <td>Health &amp; Medical, Fitness &amp; Instruction, Yoga,...</td>\n",
              "      <td>None</td>\n",
              "    </tr>\n",
              "    <tr>\n",
              "      <th>2</th>\n",
              "      <td>XNoUzKckATkOD1hP6vghZg</td>\n",
              "      <td>Felinus</td>\n",
              "      <td>3554 Rue Notre-Dame O</td>\n",
              "      <td>Montreal</td>\n",
              "      <td>QC</td>\n",
              "      <td>H4C 1P4</td>\n",
              "      <td>45.479984</td>\n",
              "      <td>-73.580070</td>\n",
              "      <td>5.0</td>\n",
              "      <td>5</td>\n",
              "      <td>1</td>\n",
              "      <td>None</td>\n",
              "      <td>Pets, Pet Services, Pet Groomers</td>\n",
              "      <td>None</td>\n",
              "    </tr>\n",
              "    <tr>\n",
              "      <th>3</th>\n",
              "      <td>6OAZjbxqM5ol29BuHsil3w</td>\n",
              "      <td>Nevada House of Hose</td>\n",
              "      <td>1015 Sharp Cir</td>\n",
              "      <td>North Las Vegas</td>\n",
              "      <td>NV</td>\n",
              "      <td>89030</td>\n",
              "      <td>36.219728</td>\n",
              "      <td>-115.127725</td>\n",
              "      <td>2.5</td>\n",
              "      <td>3</td>\n",
              "      <td>0</td>\n",
              "      <td>{'BusinessAcceptsCreditCards': 'True', 'ByAppo...</td>\n",
              "      <td>Hardware Stores, Home Services, Building Suppl...</td>\n",
              "      <td>{'Monday': '7:0-16:0', 'Tuesday': '7:0-16:0', ...</td>\n",
              "    </tr>\n",
              "    <tr>\n",
              "      <th>4</th>\n",
              "      <td>51M2Kk903DFYI6gnB5I6SQ</td>\n",
              "      <td>USE MY GUY SERVICES LLC</td>\n",
              "      <td>4827 E Downing Cir</td>\n",
              "      <td>Mesa</td>\n",
              "      <td>AZ</td>\n",
              "      <td>85205</td>\n",
              "      <td>33.428065</td>\n",
              "      <td>-111.726648</td>\n",
              "      <td>4.5</td>\n",
              "      <td>26</td>\n",
              "      <td>1</td>\n",
              "      <td>{'BusinessAcceptsCreditCards': 'True', 'ByAppo...</td>\n",
              "      <td>Home Services, Plumbing, Electricians, Handyma...</td>\n",
              "      <td>{'Monday': '0:0-0:0', 'Tuesday': '9:0-16:0', '...</td>\n",
              "    </tr>\n",
              "  </tbody>\n",
              "</table>\n",
              "</div>"
            ],
            "text/plain": [
              "              business_id  ...                                              hours\n",
              "0  f9NumwFMBDn751xgFiRbNA  ...  {'Monday': '10:0-18:0', 'Tuesday': '11:0-20:0'...\n",
              "1  Yzvjg0SayhoZgCljUJRF9Q  ...                                               None\n",
              "2  XNoUzKckATkOD1hP6vghZg  ...                                               None\n",
              "3  6OAZjbxqM5ol29BuHsil3w  ...  {'Monday': '7:0-16:0', 'Tuesday': '7:0-16:0', ...\n",
              "4  51M2Kk903DFYI6gnB5I6SQ  ...  {'Monday': '0:0-0:0', 'Tuesday': '9:0-16:0', '...\n",
              "\n",
              "[5 rows x 14 columns]"
            ]
          },
          "metadata": {
            "tags": []
          },
          "execution_count": 7
        }
      ]
    },
    {
      "cell_type": "code",
      "metadata": {
        "id": "hhbrXLCCg-sm",
        "outputId": "2e6ab2fa-dd48-4b14-c3f5-7f4520847b42",
        "colab": {
          "base_uri": "https://localhost:8080/"
        }
      },
      "source": [
        "# check the size of `df_business` in the system\n",
        "print('The size of df_business is ', end='')\n",
        "print('{:.2f}'.format(sys.getsizeof(df_business) / 1073741824) + \" GB\")"
      ],
      "execution_count": 8,
      "outputs": [
        {
          "output_type": "stream",
          "text": [
            "The size of df_business is 0.23 GB\n"
          ],
          "name": "stdout"
        }
      ]
    },
    {
      "cell_type": "markdown",
      "metadata": {
        "id": "Zl1CdZK4mVqG"
      },
      "source": [
        "### Cleaning the Business Data"
      ]
    },
    {
      "cell_type": "code",
      "metadata": {
        "id": "Q3bUXbfog-qC"
      },
      "source": [
        "def clean_json(text): # cleans a JSON object if it has structural problems\n",
        "    if not isinstance(text, str):\n",
        "        text = str(text)\n",
        "    text = text.replace('True', '\"True\"')\n",
        "    text = text.replace('False', '\"False\"')\n",
        "    text = text.replace(\"'\", '\"')\n",
        "    text = text.replace('None', '\"False\"')\n",
        "    text = text.replace('\"DriveThr', '\"DriveThr\"')\n",
        "    text = text.replace('\"\"', '\"')\n",
        "    text = text.replace('u\"', '')\n",
        "    text = text.replace('\"{', '{').replace('}\"', '}')\n",
        "    return text\n",
        "\n",
        "def get_degree(d): # if a JSON object then gives the degree of nestedness\n",
        "    if isinstance(d, dict):\n",
        "        i = 1\n",
        "        for k, v in d.items():\n",
        "            if isinstance(v, dict):\n",
        "                i += 1\n",
        "                get_degree(v)\n",
        "        return i\n",
        "    return 0\n",
        "\n",
        "def print_key_value(text, indent=0):\n",
        "    \"\"\"Prints key and value pair of a JSON object. If a nested JSON object, then\n",
        "    nested values are indented\"\"\"\n",
        "    if not isinstance(text, dict):\n",
        "        try:\n",
        "            text = json.loads(text)\n",
        "        except:\n",
        "            return\n",
        "    for k, v in text.items():\n",
        "        if isinstance(v, dict):\n",
        "            print('\\t' * indent + str(k) + ':')\n",
        "            iterate = indent + 1\n",
        "            print_key_value(v, iterate)\n",
        "        else:\n",
        "            print('\\t' * indent + str(k) + ' --> ' + str(v))\n",
        "\n",
        "def make_json(text): # transforms a string object into a JSON object\n",
        "    return json.loads(text)\n",
        "\n",
        "def extract_attributes(text: str, container: dict) -> dict:\n",
        "    \"\"\"Extract each business attribute from attributes feature\"\"\"\n",
        "    if not isinstance(text, dict):\n",
        "        try:\n",
        "            text = json.loads(text)\n",
        "        except:\n",
        "            return\n",
        "    for k, v in text.items():\n",
        "        container[k] = container.get(k, 0) + 1\n",
        "        if isinstance(v, dict):\n",
        "            d = {str(k) + '.' + str(kk) : vv for kk, vv in v.items()}\n",
        "            extract_attributes(d, container)"
      ],
      "execution_count": 9,
      "outputs": []
    },
    {
      "cell_type": "code",
      "metadata": {
        "id": "rjjZMrzQg-ey"
      },
      "source": [
        "# some attributes have structural problems that does not let to read them as\n",
        "# json objects.\n",
        "# clean the attributes and converts them into json objects\n",
        "df_business.attributes = df_business.attributes.astype(str).apply(clean_json)\n",
        "df_business.attributes = df_business.attributes.apply(make_json)"
      ],
      "execution_count": 10,
      "outputs": []
    },
    {
      "cell_type": "markdown",
      "metadata": {
        "id": "lHTeUH7Ym9zW"
      },
      "source": [
        "### Examples of Business Attributes"
      ]
    },
    {
      "cell_type": "code",
      "metadata": {
        "id": "7p95Fjayg-b-"
      },
      "source": [
        "# find the degree of nestedness of each json object in the business attributes\n",
        "nested_degree = [get_degree(d) for d in df_business.attributes.values]"
      ],
      "execution_count": 11,
      "outputs": []
    },
    {
      "cell_type": "code",
      "metadata": {
        "id": "nV4E9kXRg-aL",
        "outputId": "12b848dd-1d9b-4631-8010-6ed402f0bda6",
        "colab": {
          "base_uri": "https://localhost:8080/"
        }
      },
      "source": [
        "# one of the shortest json - only the json object itself\n",
        "print_key_value(list(df_business.attributes.values)[\n",
        "                                 nested_degree.index(1)])"
      ],
      "execution_count": 12,
      "outputs": [
        {
          "output_type": "stream",
          "text": [
            "GoodForKids --> True\n",
            "ByAppointmentOnly --> True\n"
          ],
          "name": "stdout"
        }
      ]
    },
    {
      "cell_type": "code",
      "metadata": {
        "id": "-RyUtnfmg-XD",
        "outputId": "07e8b5df-43cb-4aaf-d43d-f3d26f185eac",
        "colab": {
          "base_uri": "https://localhost:8080/"
        }
      },
      "source": [
        "# one of the longest json - json object and its childs\n",
        "print_key_value(list(df_business.attributes.values)[\n",
        "                                 nested_degree.index(max(nested_degree))])"
      ],
      "execution_count": 13,
      "outputs": [
        {
          "output_type": "stream",
          "text": [
            "BusinessParking:\n",
            "\tgarage --> False\n",
            "\tstreet --> False\n",
            "\tvalidated --> False\n",
            "\tlot --> True\n",
            "\tvalet --> False\n",
            "Music:\n",
            "\tdj --> False\n",
            "GoodForDancing --> False\n",
            "HasTV --> True\n",
            "RestaurantsTakeOut --> True\n",
            "Smoking --> no\n",
            "WheelchairAccessible --> True\n",
            "Alcohol --> beer_and_wine\n",
            "GoodForKids --> True\n",
            "ByAppointmentOnly --> False\n",
            "CoatCheck --> False\n",
            "OutdoorSeating --> False\n",
            "BestNights:\n",
            "\tmonday --> False\n",
            "\ttuesday --> False\n",
            "\tfriday --> True\n",
            "\twednesday --> False\n",
            "\tthursday --> False\n",
            "\tsunday --> False\n",
            "\tsaturday --> False\n",
            "DogsAllowed --> False\n",
            "DietaryRestrictions:\n",
            "\tdairy-free --> False\n",
            "\tgluten-free --> False\n",
            "\tvegan --> True\n",
            "\tkosher --> False\n",
            "\thalal --> False\n",
            "\tsoy-free --> False\n",
            "\tvegetarian --> False\n",
            "BusinessAcceptsCreditCards --> True\n",
            "BikeParking --> True\n",
            "RestaurantsTableService --> True\n",
            "RestaurantsReservations --> True\n",
            "WiFi --> free\n",
            "RestaurantsPriceRange2 --> 2\n",
            "HappyHour --> False\n",
            "NoiseLevel --> average\n",
            "RestaurantsAttire --> casual\n",
            "RestaurantsGoodForGroups --> True\n",
            "Ambience:\n",
            "\ttouristy --> False\n",
            "\thipster --> False\n",
            "\tromantic --> False\n",
            "\tdivey --> False\n",
            "\tintimate --> False\n",
            "\ttrendy --> False\n",
            "\tupscale --> False\n",
            "\tclassy --> True\n",
            "\tcasual --> True\n",
            "Caters --> True\n",
            "GoodForMeal:\n",
            "\tdessert --> False\n",
            "\tlatenight --> False\n",
            "\tlunch --> True\n",
            "\tdinner --> True\n",
            "\tbrunch --> False\n",
            "\tbreakfast --> False\n",
            "RestaurantsDelivery --> True\n"
          ],
          "name": "stdout"
        }
      ]
    },
    {
      "cell_type": "markdown",
      "metadata": {
        "id": "ngLEbRDgHaRy"
      },
      "source": [
        "### Exploring Business Attributes"
      ]
    },
    {
      "cell_type": "code",
      "metadata": {
        "id": "R5jl6EJCg-Uz"
      },
      "source": [
        "d_attributes = {}\n",
        "for val in df_business.attributes.values:\n",
        "  extract_attributes(val, d_attributes)"
      ],
      "execution_count": 14,
      "outputs": []
    },
    {
      "cell_type": "code",
      "metadata": {
        "id": "3Q4-zALzH33u",
        "outputId": "70666855-6c74-41b9-9d96-a5957c2056a9",
        "colab": {
          "base_uri": "https://localhost:8080/",
          "height": 128
        }
      },
      "source": [
        "# full list of attributes\n",
        "', '.join(list(d_attributes.keys()))"
      ],
      "execution_count": 15,
      "outputs": [
        {
          "output_type": "execute_result",
          "data": {
            "application/vnd.google.colaboratory.intrinsic+json": {
              "type": "string"
            },
            "text/plain": [
              "'BusinessAcceptsCreditCards, BikeParking, GoodForKids, BusinessParking, BusinessParking.garage, BusinessParking.street, BusinessParking.validated, BusinessParking.lot, BusinessParking.valet, ByAppointmentOnly, RestaurantsPriceRange2, DogsAllowed, WiFi, RestaurantsAttire, RestaurantsTakeOut, NoiseLevel, RestaurantsReservations, RestaurantsGoodForGroups, HasTV, Alcohol, RestaurantsDelivery, OutdoorSeating, Caters, WheelchairAccessible, AcceptsInsurance, RestaurantsTableService, Ambience, Ambience.touristy, Ambience.hipster, Ambience.romantic, Ambience.intimate, Ambience.trendy, Ambience.upscale, Ambience.classy, Ambience.casual, GoodForMeal, GoodForMeal.dessert, GoodForMeal.latenight, GoodForMeal.lunch, GoodForMeal.dinner, GoodForMeal.brunch, GoodForMeal.breakfast, HappyHour, Ambience.divey, BusinessAcceptsBitcoin, BYOB, Corkage, GoodForDancing, CoatCheck, BestNights, BestNights.monday, BestNights.tuesday, BestNights.friday, BestNights.wednesday, BestNights.thursday, BestNights.sunday, BestNights.saturday, Music, Music.dj, Music.background_music, Music.no_music, Music.jukebox, Music.live, Music.video, Music.karaoke, Smoking, DietaryRestrictions, DietaryRestrictions.dairy-free, DietaryRestrictions.gluten-free, DietaryRestrictions.vegan, DietaryRestrictions.kosher, DietaryRestrictions.halal, DietaryRestrictions.soy-free, DietaryRestrictions.vegetarian, DriveThr, HairSpecializesIn, HairSpecializesIn.straightperms, HairSpecializesIn.coloring, HairSpecializesIn.extensions, HairSpecializesIn.africanamerican, HairSpecializesIn.curly, HairSpecializesIn.kids, HairSpecializesIn.perms, HairSpecializesIn.asian, BYOBCorkage, AgesAllowed, RestaurantsCounterService, Open24Hours'"
            ]
          },
          "metadata": {
            "tags": []
          },
          "execution_count": 15
        }
      ]
    },
    {
      "cell_type": "code",
      "metadata": {
        "id": "DclBwAvBg-Ss",
        "outputId": "5e53576e-b5ee-4029-f35d-90c3f5ae6593",
        "colab": {
          "base_uri": "https://localhost:8080/",
          "height": 1000
        }
      },
      "source": [
        "t = [(k, v) for k, v in d_attributes.items()]\n",
        "df_attr_counts = pd.DataFrame({'attribute' : [k for k, v in t],\n",
        "                               '#_of_business' : [v for k, v in t],\n",
        "                               '%_missing': 1 - (np.array(\n",
        "                                   [v for k, v in t]) / df_business.shape[0])})\n",
        "df_attr_counts.sort_values('%_missing', ascending=True, inplace=True)\n",
        "df_attr_counts.reset_index(drop=True, inplace=True)\n",
        "with pd.option_context('display.max_rows', 100):\n",
        "    display(df_attr_counts)"
      ],
      "execution_count": 16,
      "outputs": [
        {
          "output_type": "display_data",
          "data": {
            "text/html": [
              "<div>\n",
              "<style scoped>\n",
              "    .dataframe tbody tr th:only-of-type {\n",
              "        vertical-align: middle;\n",
              "    }\n",
              "\n",
              "    .dataframe tbody tr th {\n",
              "        vertical-align: top;\n",
              "    }\n",
              "\n",
              "    .dataframe thead th {\n",
              "        text-align: right;\n",
              "    }\n",
              "</style>\n",
              "<table border=\"1\" class=\"dataframe\">\n",
              "  <thead>\n",
              "    <tr style=\"text-align: right;\">\n",
              "      <th></th>\n",
              "      <th>attribute</th>\n",
              "      <th>#_of_business</th>\n",
              "      <th>%_missing</th>\n",
              "    </tr>\n",
              "  </thead>\n",
              "  <tbody>\n",
              "    <tr>\n",
              "      <th>0</th>\n",
              "      <td>BusinessAcceptsCreditCards</td>\n",
              "      <td>122237</td>\n",
              "      <td>0.416232</td>\n",
              "    </tr>\n",
              "    <tr>\n",
              "      <th>1</th>\n",
              "      <td>BusinessParking</td>\n",
              "      <td>115215</td>\n",
              "      <td>0.449767</td>\n",
              "    </tr>\n",
              "    <tr>\n",
              "      <th>2</th>\n",
              "      <td>BusinessParking.garage</td>\n",
              "      <td>112215</td>\n",
              "      <td>0.464094</td>\n",
              "    </tr>\n",
              "    <tr>\n",
              "      <th>3</th>\n",
              "      <td>BusinessParking.valet</td>\n",
              "      <td>112203</td>\n",
              "      <td>0.464151</td>\n",
              "    </tr>\n",
              "    <tr>\n",
              "      <th>4</th>\n",
              "      <td>BusinessParking.lot</td>\n",
              "      <td>112198</td>\n",
              "      <td>0.464175</td>\n",
              "    </tr>\n",
              "    <tr>\n",
              "      <th>5</th>\n",
              "      <td>BusinessParking.street</td>\n",
              "      <td>112198</td>\n",
              "      <td>0.464175</td>\n",
              "    </tr>\n",
              "    <tr>\n",
              "      <th>6</th>\n",
              "      <td>BusinessParking.validated</td>\n",
              "      <td>112196</td>\n",
              "      <td>0.464185</td>\n",
              "    </tr>\n",
              "    <tr>\n",
              "      <th>7</th>\n",
              "      <td>RestaurantsPriceRange2</td>\n",
              "      <td>111288</td>\n",
              "      <td>0.468521</td>\n",
              "    </tr>\n",
              "    <tr>\n",
              "      <th>8</th>\n",
              "      <td>BikeParking</td>\n",
              "      <td>89765</td>\n",
              "      <td>0.571308</td>\n",
              "    </tr>\n",
              "    <tr>\n",
              "      <th>9</th>\n",
              "      <td>GoodForKids</td>\n",
              "      <td>68535</td>\n",
              "      <td>0.672697</td>\n",
              "    </tr>\n",
              "    <tr>\n",
              "      <th>10</th>\n",
              "      <td>RestaurantsTakeOut</td>\n",
              "      <td>66301</td>\n",
              "      <td>0.683366</td>\n",
              "    </tr>\n",
              "    <tr>\n",
              "      <th>11</th>\n",
              "      <td>WiFi</td>\n",
              "      <td>65331</td>\n",
              "      <td>0.687998</td>\n",
              "    </tr>\n",
              "    <tr>\n",
              "      <th>12</th>\n",
              "      <td>ByAppointmentOnly</td>\n",
              "      <td>60799</td>\n",
              "      <td>0.709642</td>\n",
              "    </tr>\n",
              "    <tr>\n",
              "      <th>13</th>\n",
              "      <td>OutdoorSeating</td>\n",
              "      <td>58441</td>\n",
              "      <td>0.720903</td>\n",
              "    </tr>\n",
              "    <tr>\n",
              "      <th>14</th>\n",
              "      <td>RestaurantsDelivery</td>\n",
              "      <td>56679</td>\n",
              "      <td>0.729318</td>\n",
              "    </tr>\n",
              "    <tr>\n",
              "      <th>15</th>\n",
              "      <td>RestaurantsGoodForGroups</td>\n",
              "      <td>56162</td>\n",
              "      <td>0.731787</td>\n",
              "    </tr>\n",
              "    <tr>\n",
              "      <th>16</th>\n",
              "      <td>RestaurantsReservations</td>\n",
              "      <td>55361</td>\n",
              "      <td>0.735612</td>\n",
              "    </tr>\n",
              "    <tr>\n",
              "      <th>17</th>\n",
              "      <td>Ambience</td>\n",
              "      <td>53806</td>\n",
              "      <td>0.743038</td>\n",
              "    </tr>\n",
              "    <tr>\n",
              "      <th>18</th>\n",
              "      <td>HasTV</td>\n",
              "      <td>53388</td>\n",
              "      <td>0.745034</td>\n",
              "    </tr>\n",
              "    <tr>\n",
              "      <th>19</th>\n",
              "      <td>Ambience.touristy</td>\n",
              "      <td>53006</td>\n",
              "      <td>0.746859</td>\n",
              "    </tr>\n",
              "    <tr>\n",
              "      <th>20</th>\n",
              "      <td>Ambience.trendy</td>\n",
              "      <td>53006</td>\n",
              "      <td>0.746859</td>\n",
              "    </tr>\n",
              "    <tr>\n",
              "      <th>21</th>\n",
              "      <td>Ambience.classy</td>\n",
              "      <td>53006</td>\n",
              "      <td>0.746859</td>\n",
              "    </tr>\n",
              "    <tr>\n",
              "      <th>22</th>\n",
              "      <td>Ambience.intimate</td>\n",
              "      <td>53006</td>\n",
              "      <td>0.746859</td>\n",
              "    </tr>\n",
              "    <tr>\n",
              "      <th>23</th>\n",
              "      <td>Ambience.romantic</td>\n",
              "      <td>53006</td>\n",
              "      <td>0.746859</td>\n",
              "    </tr>\n",
              "    <tr>\n",
              "      <th>24</th>\n",
              "      <td>Ambience.casual</td>\n",
              "      <td>53006</td>\n",
              "      <td>0.746859</td>\n",
              "    </tr>\n",
              "    <tr>\n",
              "      <th>25</th>\n",
              "      <td>Ambience.upscale</td>\n",
              "      <td>52822</td>\n",
              "      <td>0.747738</td>\n",
              "    </tr>\n",
              "    <tr>\n",
              "      <th>26</th>\n",
              "      <td>Ambience.hipster</td>\n",
              "      <td>52397</td>\n",
              "      <td>0.749767</td>\n",
              "    </tr>\n",
              "    <tr>\n",
              "      <th>27</th>\n",
              "      <td>Alcohol</td>\n",
              "      <td>50838</td>\n",
              "      <td>0.757213</td>\n",
              "    </tr>\n",
              "    <tr>\n",
              "      <th>28</th>\n",
              "      <td>RestaurantsAttire</td>\n",
              "      <td>49567</td>\n",
              "      <td>0.763282</td>\n",
              "    </tr>\n",
              "    <tr>\n",
              "      <th>29</th>\n",
              "      <td>NoiseLevel</td>\n",
              "      <td>46559</td>\n",
              "      <td>0.777648</td>\n",
              "    </tr>\n",
              "    <tr>\n",
              "      <th>30</th>\n",
              "      <td>Caters</td>\n",
              "      <td>43969</td>\n",
              "      <td>0.790017</td>\n",
              "    </tr>\n",
              "    <tr>\n",
              "      <th>31</th>\n",
              "      <td>Ambience.divey</td>\n",
              "      <td>41403</td>\n",
              "      <td>0.802271</td>\n",
              "    </tr>\n",
              "    <tr>\n",
              "      <th>32</th>\n",
              "      <td>GoodForMeal</td>\n",
              "      <td>35182</td>\n",
              "      <td>0.831981</td>\n",
              "    </tr>\n",
              "    <tr>\n",
              "      <th>33</th>\n",
              "      <td>GoodForMeal.brunch</td>\n",
              "      <td>34706</td>\n",
              "      <td>0.834254</td>\n",
              "    </tr>\n",
              "    <tr>\n",
              "      <th>34</th>\n",
              "      <td>GoodForMeal.breakfast</td>\n",
              "      <td>34704</td>\n",
              "      <td>0.834264</td>\n",
              "    </tr>\n",
              "    <tr>\n",
              "      <th>35</th>\n",
              "      <td>GoodForMeal.dessert</td>\n",
              "      <td>34704</td>\n",
              "      <td>0.834264</td>\n",
              "    </tr>\n",
              "    <tr>\n",
              "      <th>36</th>\n",
              "      <td>GoodForMeal.latenight</td>\n",
              "      <td>34704</td>\n",
              "      <td>0.834264</td>\n",
              "    </tr>\n",
              "    <tr>\n",
              "      <th>37</th>\n",
              "      <td>GoodForMeal.lunch</td>\n",
              "      <td>34704</td>\n",
              "      <td>0.834264</td>\n",
              "    </tr>\n",
              "    <tr>\n",
              "      <th>38</th>\n",
              "      <td>GoodForMeal.dinner</td>\n",
              "      <td>34704</td>\n",
              "      <td>0.834264</td>\n",
              "    </tr>\n",
              "    <tr>\n",
              "      <th>39</th>\n",
              "      <td>WheelchairAccessible</td>\n",
              "      <td>28635</td>\n",
              "      <td>0.863248</td>\n",
              "    </tr>\n",
              "    <tr>\n",
              "      <th>40</th>\n",
              "      <td>RestaurantsTableService</td>\n",
              "      <td>20785</td>\n",
              "      <td>0.900737</td>\n",
              "    </tr>\n",
              "    <tr>\n",
              "      <th>41</th>\n",
              "      <td>DogsAllowed</td>\n",
              "      <td>17539</td>\n",
              "      <td>0.916239</td>\n",
              "    </tr>\n",
              "    <tr>\n",
              "      <th>42</th>\n",
              "      <td>BusinessAcceptsBitcoin</td>\n",
              "      <td>16532</td>\n",
              "      <td>0.921048</td>\n",
              "    </tr>\n",
              "    <tr>\n",
              "      <th>43</th>\n",
              "      <td>HappyHour</td>\n",
              "      <td>15324</td>\n",
              "      <td>0.926817</td>\n",
              "    </tr>\n",
              "    <tr>\n",
              "      <th>44</th>\n",
              "      <td>AcceptsInsurance</td>\n",
              "      <td>8660</td>\n",
              "      <td>0.958642</td>\n",
              "    </tr>\n",
              "    <tr>\n",
              "      <th>45</th>\n",
              "      <td>Music</td>\n",
              "      <td>7912</td>\n",
              "      <td>0.962215</td>\n",
              "    </tr>\n",
              "    <tr>\n",
              "      <th>46</th>\n",
              "      <td>Music.dj</td>\n",
              "      <td>7687</td>\n",
              "      <td>0.963289</td>\n",
              "    </tr>\n",
              "    <tr>\n",
              "      <th>47</th>\n",
              "      <td>Music.live</td>\n",
              "      <td>7275</td>\n",
              "      <td>0.965257</td>\n",
              "    </tr>\n",
              "    <tr>\n",
              "      <th>48</th>\n",
              "      <td>Music.jukebox</td>\n",
              "      <td>7265</td>\n",
              "      <td>0.965304</td>\n",
              "    </tr>\n",
              "    <tr>\n",
              "      <th>49</th>\n",
              "      <td>Music.video</td>\n",
              "      <td>7247</td>\n",
              "      <td>0.965390</td>\n",
              "    </tr>\n",
              "    <tr>\n",
              "      <th>50</th>\n",
              "      <td>Music.karaoke</td>\n",
              "      <td>7246</td>\n",
              "      <td>0.965395</td>\n",
              "    </tr>\n",
              "    <tr>\n",
              "      <th>51</th>\n",
              "      <td>Music.background_music</td>\n",
              "      <td>7243</td>\n",
              "      <td>0.965410</td>\n",
              "    </tr>\n",
              "    <tr>\n",
              "      <th>52</th>\n",
              "      <td>Music.no_music</td>\n",
              "      <td>6898</td>\n",
              "      <td>0.967057</td>\n",
              "    </tr>\n",
              "    <tr>\n",
              "      <th>53</th>\n",
              "      <td>BestNights</td>\n",
              "      <td>5483</td>\n",
              "      <td>0.973815</td>\n",
              "    </tr>\n",
              "    <tr>\n",
              "      <th>54</th>\n",
              "      <td>BestNights.friday</td>\n",
              "      <td>5463</td>\n",
              "      <td>0.973910</td>\n",
              "    </tr>\n",
              "    <tr>\n",
              "      <th>55</th>\n",
              "      <td>BestNights.wednesday</td>\n",
              "      <td>5463</td>\n",
              "      <td>0.973910</td>\n",
              "    </tr>\n",
              "    <tr>\n",
              "      <th>56</th>\n",
              "      <td>BestNights.thursday</td>\n",
              "      <td>5463</td>\n",
              "      <td>0.973910</td>\n",
              "    </tr>\n",
              "    <tr>\n",
              "      <th>57</th>\n",
              "      <td>BestNights.sunday</td>\n",
              "      <td>5463</td>\n",
              "      <td>0.973910</td>\n",
              "    </tr>\n",
              "    <tr>\n",
              "      <th>58</th>\n",
              "      <td>BestNights.saturday</td>\n",
              "      <td>5463</td>\n",
              "      <td>0.973910</td>\n",
              "    </tr>\n",
              "    <tr>\n",
              "      <th>59</th>\n",
              "      <td>BestNights.monday</td>\n",
              "      <td>5463</td>\n",
              "      <td>0.973910</td>\n",
              "    </tr>\n",
              "    <tr>\n",
              "      <th>60</th>\n",
              "      <td>BestNights.tuesday</td>\n",
              "      <td>5463</td>\n",
              "      <td>0.973910</td>\n",
              "    </tr>\n",
              "    <tr>\n",
              "      <th>61</th>\n",
              "      <td>GoodForDancing</td>\n",
              "      <td>5186</td>\n",
              "      <td>0.975233</td>\n",
              "    </tr>\n",
              "    <tr>\n",
              "      <th>62</th>\n",
              "      <td>CoatCheck</td>\n",
              "      <td>4909</td>\n",
              "      <td>0.976556</td>\n",
              "    </tr>\n",
              "    <tr>\n",
              "      <th>63</th>\n",
              "      <td>DriveThr</td>\n",
              "      <td>4282</td>\n",
              "      <td>0.979550</td>\n",
              "    </tr>\n",
              "    <tr>\n",
              "      <th>64</th>\n",
              "      <td>Smoking</td>\n",
              "      <td>4270</td>\n",
              "      <td>0.979608</td>\n",
              "    </tr>\n",
              "    <tr>\n",
              "      <th>65</th>\n",
              "      <td>BYOBCorkage</td>\n",
              "      <td>1425</td>\n",
              "      <td>0.993195</td>\n",
              "    </tr>\n",
              "    <tr>\n",
              "      <th>66</th>\n",
              "      <td>HairSpecializesIn</td>\n",
              "      <td>1260</td>\n",
              "      <td>0.993983</td>\n",
              "    </tr>\n",
              "    <tr>\n",
              "      <th>67</th>\n",
              "      <td>HairSpecializesIn.coloring</td>\n",
              "      <td>1224</td>\n",
              "      <td>0.994155</td>\n",
              "    </tr>\n",
              "    <tr>\n",
              "      <th>68</th>\n",
              "      <td>HairSpecializesIn.perms</td>\n",
              "      <td>1224</td>\n",
              "      <td>0.994155</td>\n",
              "    </tr>\n",
              "    <tr>\n",
              "      <th>69</th>\n",
              "      <td>HairSpecializesIn.kids</td>\n",
              "      <td>1224</td>\n",
              "      <td>0.994155</td>\n",
              "    </tr>\n",
              "    <tr>\n",
              "      <th>70</th>\n",
              "      <td>HairSpecializesIn.curly</td>\n",
              "      <td>1224</td>\n",
              "      <td>0.994155</td>\n",
              "    </tr>\n",
              "    <tr>\n",
              "      <th>71</th>\n",
              "      <td>HairSpecializesIn.extensions</td>\n",
              "      <td>1224</td>\n",
              "      <td>0.994155</td>\n",
              "    </tr>\n",
              "    <tr>\n",
              "      <th>72</th>\n",
              "      <td>Corkage</td>\n",
              "      <td>1090</td>\n",
              "      <td>0.994794</td>\n",
              "    </tr>\n",
              "    <tr>\n",
              "      <th>73</th>\n",
              "      <td>HairSpecializesIn.asian</td>\n",
              "      <td>1027</td>\n",
              "      <td>0.995095</td>\n",
              "    </tr>\n",
              "    <tr>\n",
              "      <th>74</th>\n",
              "      <td>HairSpecializesIn.africanamerican</td>\n",
              "      <td>1027</td>\n",
              "      <td>0.995095</td>\n",
              "    </tr>\n",
              "    <tr>\n",
              "      <th>75</th>\n",
              "      <td>HairSpecializesIn.straightperms</td>\n",
              "      <td>1027</td>\n",
              "      <td>0.995095</td>\n",
              "    </tr>\n",
              "    <tr>\n",
              "      <th>76</th>\n",
              "      <td>BYOB</td>\n",
              "      <td>740</td>\n",
              "      <td>0.996466</td>\n",
              "    </tr>\n",
              "    <tr>\n",
              "      <th>77</th>\n",
              "      <td>AgesAllowed</td>\n",
              "      <td>136</td>\n",
              "      <td>0.999351</td>\n",
              "    </tr>\n",
              "    <tr>\n",
              "      <th>78</th>\n",
              "      <td>DietaryRestrictions</td>\n",
              "      <td>61</td>\n",
              "      <td>0.999709</td>\n",
              "    </tr>\n",
              "    <tr>\n",
              "      <th>79</th>\n",
              "      <td>DietaryRestrictions.vegan</td>\n",
              "      <td>54</td>\n",
              "      <td>0.999742</td>\n",
              "    </tr>\n",
              "    <tr>\n",
              "      <th>80</th>\n",
              "      <td>DietaryRestrictions.soy-free</td>\n",
              "      <td>54</td>\n",
              "      <td>0.999742</td>\n",
              "    </tr>\n",
              "    <tr>\n",
              "      <th>81</th>\n",
              "      <td>DietaryRestrictions.halal</td>\n",
              "      <td>54</td>\n",
              "      <td>0.999742</td>\n",
              "    </tr>\n",
              "    <tr>\n",
              "      <th>82</th>\n",
              "      <td>DietaryRestrictions.kosher</td>\n",
              "      <td>54</td>\n",
              "      <td>0.999742</td>\n",
              "    </tr>\n",
              "    <tr>\n",
              "      <th>83</th>\n",
              "      <td>DietaryRestrictions.gluten-free</td>\n",
              "      <td>54</td>\n",
              "      <td>0.999742</td>\n",
              "    </tr>\n",
              "    <tr>\n",
              "      <th>84</th>\n",
              "      <td>DietaryRestrictions.dairy-free</td>\n",
              "      <td>54</td>\n",
              "      <td>0.999742</td>\n",
              "    </tr>\n",
              "    <tr>\n",
              "      <th>85</th>\n",
              "      <td>DietaryRestrictions.vegetarian</td>\n",
              "      <td>54</td>\n",
              "      <td>0.999742</td>\n",
              "    </tr>\n",
              "    <tr>\n",
              "      <th>86</th>\n",
              "      <td>Open24Hours</td>\n",
              "      <td>14</td>\n",
              "      <td>0.999933</td>\n",
              "    </tr>\n",
              "    <tr>\n",
              "      <th>87</th>\n",
              "      <td>RestaurantsCounterService</td>\n",
              "      <td>13</td>\n",
              "      <td>0.999938</td>\n",
              "    </tr>\n",
              "  </tbody>\n",
              "</table>\n",
              "</div>"
            ],
            "text/plain": [
              "                            attribute  #_of_business  %_missing\n",
              "0          BusinessAcceptsCreditCards         122237   0.416232\n",
              "1                     BusinessParking         115215   0.449767\n",
              "2              BusinessParking.garage         112215   0.464094\n",
              "3               BusinessParking.valet         112203   0.464151\n",
              "4                 BusinessParking.lot         112198   0.464175\n",
              "5              BusinessParking.street         112198   0.464175\n",
              "6           BusinessParking.validated         112196   0.464185\n",
              "7              RestaurantsPriceRange2         111288   0.468521\n",
              "8                         BikeParking          89765   0.571308\n",
              "9                         GoodForKids          68535   0.672697\n",
              "10                 RestaurantsTakeOut          66301   0.683366\n",
              "11                               WiFi          65331   0.687998\n",
              "12                  ByAppointmentOnly          60799   0.709642\n",
              "13                     OutdoorSeating          58441   0.720903\n",
              "14                RestaurantsDelivery          56679   0.729318\n",
              "15           RestaurantsGoodForGroups          56162   0.731787\n",
              "16            RestaurantsReservations          55361   0.735612\n",
              "17                           Ambience          53806   0.743038\n",
              "18                              HasTV          53388   0.745034\n",
              "19                  Ambience.touristy          53006   0.746859\n",
              "20                    Ambience.trendy          53006   0.746859\n",
              "21                    Ambience.classy          53006   0.746859\n",
              "22                  Ambience.intimate          53006   0.746859\n",
              "23                  Ambience.romantic          53006   0.746859\n",
              "24                    Ambience.casual          53006   0.746859\n",
              "25                   Ambience.upscale          52822   0.747738\n",
              "26                   Ambience.hipster          52397   0.749767\n",
              "27                            Alcohol          50838   0.757213\n",
              "28                  RestaurantsAttire          49567   0.763282\n",
              "29                         NoiseLevel          46559   0.777648\n",
              "30                             Caters          43969   0.790017\n",
              "31                     Ambience.divey          41403   0.802271\n",
              "32                        GoodForMeal          35182   0.831981\n",
              "33                 GoodForMeal.brunch          34706   0.834254\n",
              "34              GoodForMeal.breakfast          34704   0.834264\n",
              "35                GoodForMeal.dessert          34704   0.834264\n",
              "36              GoodForMeal.latenight          34704   0.834264\n",
              "37                  GoodForMeal.lunch          34704   0.834264\n",
              "38                 GoodForMeal.dinner          34704   0.834264\n",
              "39               WheelchairAccessible          28635   0.863248\n",
              "40            RestaurantsTableService          20785   0.900737\n",
              "41                        DogsAllowed          17539   0.916239\n",
              "42             BusinessAcceptsBitcoin          16532   0.921048\n",
              "43                          HappyHour          15324   0.926817\n",
              "44                   AcceptsInsurance           8660   0.958642\n",
              "45                              Music           7912   0.962215\n",
              "46                           Music.dj           7687   0.963289\n",
              "47                         Music.live           7275   0.965257\n",
              "48                      Music.jukebox           7265   0.965304\n",
              "49                        Music.video           7247   0.965390\n",
              "50                      Music.karaoke           7246   0.965395\n",
              "51             Music.background_music           7243   0.965410\n",
              "52                     Music.no_music           6898   0.967057\n",
              "53                         BestNights           5483   0.973815\n",
              "54                  BestNights.friday           5463   0.973910\n",
              "55               BestNights.wednesday           5463   0.973910\n",
              "56                BestNights.thursday           5463   0.973910\n",
              "57                  BestNights.sunday           5463   0.973910\n",
              "58                BestNights.saturday           5463   0.973910\n",
              "59                  BestNights.monday           5463   0.973910\n",
              "60                 BestNights.tuesday           5463   0.973910\n",
              "61                     GoodForDancing           5186   0.975233\n",
              "62                          CoatCheck           4909   0.976556\n",
              "63                           DriveThr           4282   0.979550\n",
              "64                            Smoking           4270   0.979608\n",
              "65                        BYOBCorkage           1425   0.993195\n",
              "66                  HairSpecializesIn           1260   0.993983\n",
              "67         HairSpecializesIn.coloring           1224   0.994155\n",
              "68            HairSpecializesIn.perms           1224   0.994155\n",
              "69             HairSpecializesIn.kids           1224   0.994155\n",
              "70            HairSpecializesIn.curly           1224   0.994155\n",
              "71       HairSpecializesIn.extensions           1224   0.994155\n",
              "72                            Corkage           1090   0.994794\n",
              "73            HairSpecializesIn.asian           1027   0.995095\n",
              "74  HairSpecializesIn.africanamerican           1027   0.995095\n",
              "75    HairSpecializesIn.straightperms           1027   0.995095\n",
              "76                               BYOB            740   0.996466\n",
              "77                        AgesAllowed            136   0.999351\n",
              "78                DietaryRestrictions             61   0.999709\n",
              "79          DietaryRestrictions.vegan             54   0.999742\n",
              "80       DietaryRestrictions.soy-free             54   0.999742\n",
              "81          DietaryRestrictions.halal             54   0.999742\n",
              "82         DietaryRestrictions.kosher             54   0.999742\n",
              "83    DietaryRestrictions.gluten-free             54   0.999742\n",
              "84     DietaryRestrictions.dairy-free             54   0.999742\n",
              "85     DietaryRestrictions.vegetarian             54   0.999742\n",
              "86                        Open24Hours             14   0.999933\n",
              "87          RestaurantsCounterService             13   0.999938"
            ]
          },
          "metadata": {
            "tags": []
          }
        }
      ]
    },
    {
      "cell_type": "markdown",
      "metadata": {
        "id": "koRRwwJTciLU"
      },
      "source": [
        "## Read User Data"
      ]
    },
    {
      "cell_type": "code",
      "metadata": {
        "id": "h67Q9QcDcgmC"
      },
      "source": [
        "# attributes of user.json file\n",
        "# can be reached at https://www.yelp.com/dataset/documentation/main\n",
        "columns = [\"user_id\", \"name\", \"review_count\", \"yelping_since\", \"friends\",\n",
        "           \"useful\", \"funny\", \"cool\", \"fans\", \"elite\", \"average_stars\",\n",
        "           \"compliment_hot\", \"compliment_more\", \"compliment_profile\",\n",
        "           \"compliment_cute\", \"compliment_list\", \"compliment_note\", \n",
        "           \"compliment_plain\", \"compliment_cool\", \"compliment_funny\",\n",
        "           \"compliment_writer\", \"compliment_photos\"]\n",
        "df_users = {}\n",
        "for column in columns:\n",
        "    df_users.setdefault(column, [])\n",
        "with open('/content/drive/My Drive/yelp/yelp_academic_dataset_user.json') as fin:\n",
        "    for line in fin.readlines():\n",
        "      data = json.loads(line)\n",
        "      for k, v in data.items():\n",
        "        df_users[k].append(v)"
      ],
      "execution_count": 17,
      "outputs": []
    },
    {
      "cell_type": "markdown",
      "metadata": {
        "id": "tLkDlindJRMy"
      },
      "source": [
        "The features in `user.json` file\n",
        "\n",
        "* `user_id`: (`str`) unique id of the user\n",
        "\n",
        "* `name`: (`str`) user's first name\n",
        "\n",
        "* `review_count`: (`int`) total number of reviews of the user\n",
        "\n",
        "* `yelping_since`: (`str`) when the user joined Yelp, formatted `YYYY-MM-DD`\n",
        "\n",
        "* `friends`: (`list`) list of user's friends as `user_id`s\n",
        "\n",
        "* `useful`: (`int`) number of `useful` votes sent by the user\n",
        "\n",
        "* `funny`: (`int`) number of `funny` votes sent by the user\n",
        "\n",
        "* `cool`: (`int`) number of `cool` votes sent by the user\n",
        "\n",
        "* `fans`: (`int`) number of fans the user has\n",
        "\n",
        "* `elite`: (`list`) list of the years the user was elite\n",
        "\n",
        "* `average_stars`: (`float`) average star rating of all reviews of the user\n",
        "\n",
        "* `compliment_hot`: (`int`) number of hot compliments recieved by the user\n",
        "\n",
        "* `compliment_more`: (`int`) number of more compliments received by the user\n",
        "\n",
        "* `compliment_profile`: (`int`) number of profile compliments received by the user\n",
        "\n",
        "* `compliment_cute`: (`int`) number of cute compliments received by the user\n",
        "\n",
        "* `compliment_list`: (`int`) number of list compliments received by the user\n",
        "\n",
        "* `compliment_note`: (`int`) number of note compliments received by the user\n",
        "\n",
        "* `compliment_plain`: (`int`) number of plain compliments received by the user\n",
        "\n",
        "* `compliment_cool`: (`int`) number of cool compliments received by the user\n",
        "\n",
        "* `compliment_funny`: (`int`) number of funny compliments received by the user\n",
        "\n",
        "* `compliment_writer`: (`int`) number of writer compliments received by the user\n",
        "\n",
        "* `compliment_photos`: (`int`) number of photo compliments received by the user"
      ]
    },
    {
      "cell_type": "code",
      "metadata": {
        "id": "Kn5OZZPnksiQ",
        "outputId": "d6bf0956-9f08-4e0b-d102-7802bc406010",
        "colab": {
          "base_uri": "https://localhost:8080/",
          "height": 313
        }
      },
      "source": [
        "df_users = pd.DataFrame(df_users)\n",
        "df_users.head()"
      ],
      "execution_count": 18,
      "outputs": [
        {
          "output_type": "execute_result",
          "data": {
            "text/html": [
              "<div>\n",
              "<style scoped>\n",
              "    .dataframe tbody tr th:only-of-type {\n",
              "        vertical-align: middle;\n",
              "    }\n",
              "\n",
              "    .dataframe tbody tr th {\n",
              "        vertical-align: top;\n",
              "    }\n",
              "\n",
              "    .dataframe thead th {\n",
              "        text-align: right;\n",
              "    }\n",
              "</style>\n",
              "<table border=\"1\" class=\"dataframe\">\n",
              "  <thead>\n",
              "    <tr style=\"text-align: right;\">\n",
              "      <th></th>\n",
              "      <th>user_id</th>\n",
              "      <th>name</th>\n",
              "      <th>review_count</th>\n",
              "      <th>yelping_since</th>\n",
              "      <th>friends</th>\n",
              "      <th>useful</th>\n",
              "      <th>funny</th>\n",
              "      <th>cool</th>\n",
              "      <th>fans</th>\n",
              "      <th>elite</th>\n",
              "      <th>average_stars</th>\n",
              "      <th>compliment_hot</th>\n",
              "      <th>compliment_more</th>\n",
              "      <th>compliment_profile</th>\n",
              "      <th>compliment_cute</th>\n",
              "      <th>compliment_list</th>\n",
              "      <th>compliment_note</th>\n",
              "      <th>compliment_plain</th>\n",
              "      <th>compliment_cool</th>\n",
              "      <th>compliment_funny</th>\n",
              "      <th>compliment_writer</th>\n",
              "      <th>compliment_photos</th>\n",
              "    </tr>\n",
              "  </thead>\n",
              "  <tbody>\n",
              "    <tr>\n",
              "      <th>0</th>\n",
              "      <td>ntlvfPzc8eglqvk92iDIAw</td>\n",
              "      <td>Rafael</td>\n",
              "      <td>553</td>\n",
              "      <td>2007-07-06 03:27:11</td>\n",
              "      <td>oeMvJh94PiGQnx_6GlndPQ, wm1z1PaJKvHgSDRKfwhfDg...</td>\n",
              "      <td>628</td>\n",
              "      <td>225</td>\n",
              "      <td>227</td>\n",
              "      <td>14</td>\n",
              "      <td></td>\n",
              "      <td>3.57</td>\n",
              "      <td>3</td>\n",
              "      <td>2</td>\n",
              "      <td>1</td>\n",
              "      <td>0</td>\n",
              "      <td>1</td>\n",
              "      <td>11</td>\n",
              "      <td>15</td>\n",
              "      <td>22</td>\n",
              "      <td>22</td>\n",
              "      <td>10</td>\n",
              "      <td>0</td>\n",
              "    </tr>\n",
              "    <tr>\n",
              "      <th>1</th>\n",
              "      <td>FOBRPlBHa3WPHFB5qYDlVg</td>\n",
              "      <td>Michelle</td>\n",
              "      <td>564</td>\n",
              "      <td>2008-04-28 01:29:25</td>\n",
              "      <td>ly7EnE8leJmyqyePVYFlug, pRlR63iDytsnnniPb3AOug...</td>\n",
              "      <td>790</td>\n",
              "      <td>316</td>\n",
              "      <td>400</td>\n",
              "      <td>27</td>\n",
              "      <td>2008,2009,2010,2011,2012,2013</td>\n",
              "      <td>3.84</td>\n",
              "      <td>36</td>\n",
              "      <td>4</td>\n",
              "      <td>5</td>\n",
              "      <td>2</td>\n",
              "      <td>1</td>\n",
              "      <td>33</td>\n",
              "      <td>37</td>\n",
              "      <td>63</td>\n",
              "      <td>63</td>\n",
              "      <td>21</td>\n",
              "      <td>5</td>\n",
              "    </tr>\n",
              "    <tr>\n",
              "      <th>2</th>\n",
              "      <td>zZUnPeh2hEp0WydbAZEOOg</td>\n",
              "      <td>Martin</td>\n",
              "      <td>60</td>\n",
              "      <td>2008-08-28 23:40:05</td>\n",
              "      <td>Uwlk0txjQBPw_JhHsQnyeg, Ybxr1tSCkv3lYA0I1qmnPQ...</td>\n",
              "      <td>151</td>\n",
              "      <td>125</td>\n",
              "      <td>103</td>\n",
              "      <td>5</td>\n",
              "      <td>2010</td>\n",
              "      <td>3.44</td>\n",
              "      <td>9</td>\n",
              "      <td>6</td>\n",
              "      <td>0</td>\n",
              "      <td>1</td>\n",
              "      <td>0</td>\n",
              "      <td>3</td>\n",
              "      <td>7</td>\n",
              "      <td>17</td>\n",
              "      <td>17</td>\n",
              "      <td>4</td>\n",
              "      <td>1</td>\n",
              "    </tr>\n",
              "    <tr>\n",
              "      <th>3</th>\n",
              "      <td>QaELAmRcDc5TfJEylaaP8g</td>\n",
              "      <td>John</td>\n",
              "      <td>206</td>\n",
              "      <td>2008-09-20 00:08:14</td>\n",
              "      <td>iog3Nyg1i4jeumiTVG_BSA, M92xWY2Vr9w0xoH8bPplfQ...</td>\n",
              "      <td>233</td>\n",
              "      <td>160</td>\n",
              "      <td>84</td>\n",
              "      <td>6</td>\n",
              "      <td>2009</td>\n",
              "      <td>3.08</td>\n",
              "      <td>2</td>\n",
              "      <td>1</td>\n",
              "      <td>0</td>\n",
              "      <td>0</td>\n",
              "      <td>0</td>\n",
              "      <td>7</td>\n",
              "      <td>14</td>\n",
              "      <td>7</td>\n",
              "      <td>7</td>\n",
              "      <td>2</td>\n",
              "      <td>0</td>\n",
              "    </tr>\n",
              "    <tr>\n",
              "      <th>4</th>\n",
              "      <td>xvu8G900tezTzbbfqmTKvA</td>\n",
              "      <td>Anne</td>\n",
              "      <td>485</td>\n",
              "      <td>2008-08-09 00:30:27</td>\n",
              "      <td>3W3ZMSthojCUirKEqAwGNw, eTIbuu23j9tOgmIa9POyLQ...</td>\n",
              "      <td>1265</td>\n",
              "      <td>400</td>\n",
              "      <td>512</td>\n",
              "      <td>78</td>\n",
              "      <td>2009,2010,2011,2012,2014,2015,2016,2017,2018</td>\n",
              "      <td>4.37</td>\n",
              "      <td>8</td>\n",
              "      <td>9</td>\n",
              "      <td>2</td>\n",
              "      <td>1</td>\n",
              "      <td>1</td>\n",
              "      <td>22</td>\n",
              "      <td>28</td>\n",
              "      <td>31</td>\n",
              "      <td>31</td>\n",
              "      <td>19</td>\n",
              "      <td>31</td>\n",
              "    </tr>\n",
              "  </tbody>\n",
              "</table>\n",
              "</div>"
            ],
            "text/plain": [
              "                  user_id      name  ...  compliment_writer compliment_photos\n",
              "0  ntlvfPzc8eglqvk92iDIAw    Rafael  ...                 10                 0\n",
              "1  FOBRPlBHa3WPHFB5qYDlVg  Michelle  ...                 21                 5\n",
              "2  zZUnPeh2hEp0WydbAZEOOg    Martin  ...                  4                 1\n",
              "3  QaELAmRcDc5TfJEylaaP8g      John  ...                  2                 0\n",
              "4  xvu8G900tezTzbbfqmTKvA      Anne  ...                 19                31\n",
              "\n",
              "[5 rows x 22 columns]"
            ]
          },
          "metadata": {
            "tags": []
          },
          "execution_count": 18
        }
      ]
    },
    {
      "cell_type": "code",
      "metadata": {
        "id": "Tz9mjfWiIxiL",
        "outputId": "70be947b-16df-41fe-df7a-0fdb39a1f090",
        "colab": {
          "base_uri": "https://localhost:8080/"
        }
      },
      "source": [
        "# check the size of `df_reviews` in the system\n",
        "print('The size of df_users is ', end='')\n",
        "print('{:.2f}'.format(sys.getsizeof(df_users) / 1073741824) + \" GB\")"
      ],
      "execution_count": 19,
      "outputs": [
        {
          "output_type": "stream",
          "text": [
            "The size of df_users is 3.14 GB\n"
          ],
          "name": "stdout"
        }
      ]
    },
    {
      "cell_type": "markdown",
      "metadata": {
        "id": "nambArWMVTOB"
      },
      "source": [
        "# Exploratory Data Analysis"
      ]
    },
    {
      "cell_type": "code",
      "metadata": {
        "id": "7VrbsZiqBktm",
        "outputId": "611de7cd-e49f-44ac-90dc-b032f55a82bb",
        "colab": {
          "base_uri": "https://localhost:8080/",
          "height": 300
        }
      },
      "source": [
        "round(df_reviews.describe(), 2)"
      ],
      "execution_count": 20,
      "outputs": [
        {
          "output_type": "execute_result",
          "data": {
            "text/html": [
              "<div>\n",
              "<style scoped>\n",
              "    .dataframe tbody tr th:only-of-type {\n",
              "        vertical-align: middle;\n",
              "    }\n",
              "\n",
              "    .dataframe tbody tr th {\n",
              "        vertical-align: top;\n",
              "    }\n",
              "\n",
              "    .dataframe thead th {\n",
              "        text-align: right;\n",
              "    }\n",
              "</style>\n",
              "<table border=\"1\" class=\"dataframe\">\n",
              "  <thead>\n",
              "    <tr style=\"text-align: right;\">\n",
              "      <th></th>\n",
              "      <th>stars</th>\n",
              "      <th>useful</th>\n",
              "      <th>funny</th>\n",
              "      <th>cool</th>\n",
              "      <th>is_useful</th>\n",
              "      <th>is_funny</th>\n",
              "      <th>is_cool</th>\n",
              "      <th>years</th>\n",
              "      <th>months</th>\n",
              "    </tr>\n",
              "  </thead>\n",
              "  <tbody>\n",
              "    <tr>\n",
              "      <th>count</th>\n",
              "      <td>8021122.00</td>\n",
              "      <td>8021122.00</td>\n",
              "      <td>8021122.00</td>\n",
              "      <td>8021122.00</td>\n",
              "      <td>8021122.00</td>\n",
              "      <td>8021122.0</td>\n",
              "      <td>8021122.00</td>\n",
              "      <td>8021122.00</td>\n",
              "      <td>8021122.00</td>\n",
              "    </tr>\n",
              "    <tr>\n",
              "      <th>mean</th>\n",
              "      <td>3.70</td>\n",
              "      <td>1.32</td>\n",
              "      <td>0.46</td>\n",
              "      <td>0.57</td>\n",
              "      <td>0.46</td>\n",
              "      <td>0.2</td>\n",
              "      <td>0.24</td>\n",
              "      <td>2015.77</td>\n",
              "      <td>6.49</td>\n",
              "    </tr>\n",
              "    <tr>\n",
              "      <th>std</th>\n",
              "      <td>1.49</td>\n",
              "      <td>3.55</td>\n",
              "      <td>2.19</td>\n",
              "      <td>2.48</td>\n",
              "      <td>0.50</td>\n",
              "      <td>0.4</td>\n",
              "      <td>0.43</td>\n",
              "      <td>2.65</td>\n",
              "      <td>3.35</td>\n",
              "    </tr>\n",
              "    <tr>\n",
              "      <th>min</th>\n",
              "      <td>1.00</td>\n",
              "      <td>-1.00</td>\n",
              "      <td>0.00</td>\n",
              "      <td>-1.00</td>\n",
              "      <td>0.00</td>\n",
              "      <td>0.0</td>\n",
              "      <td>0.00</td>\n",
              "      <td>2004.00</td>\n",
              "      <td>1.00</td>\n",
              "    </tr>\n",
              "    <tr>\n",
              "      <th>25%</th>\n",
              "      <td>3.00</td>\n",
              "      <td>0.00</td>\n",
              "      <td>0.00</td>\n",
              "      <td>0.00</td>\n",
              "      <td>0.00</td>\n",
              "      <td>0.0</td>\n",
              "      <td>0.00</td>\n",
              "      <td>2014.00</td>\n",
              "      <td>4.00</td>\n",
              "    </tr>\n",
              "    <tr>\n",
              "      <th>50%</th>\n",
              "      <td>4.00</td>\n",
              "      <td>0.00</td>\n",
              "      <td>0.00</td>\n",
              "      <td>0.00</td>\n",
              "      <td>0.00</td>\n",
              "      <td>0.0</td>\n",
              "      <td>0.00</td>\n",
              "      <td>2016.00</td>\n",
              "      <td>7.00</td>\n",
              "    </tr>\n",
              "    <tr>\n",
              "      <th>75%</th>\n",
              "      <td>5.00</td>\n",
              "      <td>1.00</td>\n",
              "      <td>0.00</td>\n",
              "      <td>0.00</td>\n",
              "      <td>1.00</td>\n",
              "      <td>0.0</td>\n",
              "      <td>0.00</td>\n",
              "      <td>2018.00</td>\n",
              "      <td>9.00</td>\n",
              "    </tr>\n",
              "    <tr>\n",
              "      <th>max</th>\n",
              "      <td>5.00</td>\n",
              "      <td>1122.00</td>\n",
              "      <td>976.00</td>\n",
              "      <td>502.00</td>\n",
              "      <td>1.00</td>\n",
              "      <td>1.0</td>\n",
              "      <td>1.00</td>\n",
              "      <td>2019.00</td>\n",
              "      <td>12.00</td>\n",
              "    </tr>\n",
              "  </tbody>\n",
              "</table>\n",
              "</div>"
            ],
            "text/plain": [
              "            stars      useful       funny  ...     is_cool       years      months\n",
              "count  8021122.00  8021122.00  8021122.00  ...  8021122.00  8021122.00  8021122.00\n",
              "mean         3.70        1.32        0.46  ...        0.24     2015.77        6.49\n",
              "std          1.49        3.55        2.19  ...        0.43        2.65        3.35\n",
              "min          1.00       -1.00        0.00  ...        0.00     2004.00        1.00\n",
              "25%          3.00        0.00        0.00  ...        0.00     2014.00        4.00\n",
              "50%          4.00        0.00        0.00  ...        0.00     2016.00        7.00\n",
              "75%          5.00        1.00        0.00  ...        0.00     2018.00        9.00\n",
              "max          5.00     1122.00      976.00  ...        1.00     2019.00       12.00\n",
              "\n",
              "[8 rows x 9 columns]"
            ]
          },
          "metadata": {
            "tags": []
          },
          "execution_count": 20
        }
      ]
    },
    {
      "cell_type": "code",
      "metadata": {
        "id": "G9fHq0etQv5p",
        "outputId": "fbe853c3-6c64-43ce-a358-5ecf08b1d5bb",
        "colab": {
          "base_uri": "https://localhost:8080/",
          "height": 98
        }
      },
      "source": [
        "# check the -1 values in useful and cool features\n",
        "df_reviews[df_reviews.useful == -1]"
      ],
      "execution_count": 21,
      "outputs": [
        {
          "output_type": "execute_result",
          "data": {
            "text/html": [
              "<div>\n",
              "<style scoped>\n",
              "    .dataframe tbody tr th:only-of-type {\n",
              "        vertical-align: middle;\n",
              "    }\n",
              "\n",
              "    .dataframe tbody tr th {\n",
              "        vertical-align: top;\n",
              "    }\n",
              "\n",
              "    .dataframe thead th {\n",
              "        text-align: right;\n",
              "    }\n",
              "</style>\n",
              "<table border=\"1\" class=\"dataframe\">\n",
              "  <thead>\n",
              "    <tr style=\"text-align: right;\">\n",
              "      <th></th>\n",
              "      <th>review_id</th>\n",
              "      <th>user_id</th>\n",
              "      <th>business_id</th>\n",
              "      <th>stars</th>\n",
              "      <th>useful</th>\n",
              "      <th>funny</th>\n",
              "      <th>cool</th>\n",
              "      <th>text</th>\n",
              "      <th>date</th>\n",
              "      <th>is_useful</th>\n",
              "      <th>is_funny</th>\n",
              "      <th>is_cool</th>\n",
              "      <th>years</th>\n",
              "      <th>months</th>\n",
              "    </tr>\n",
              "  </thead>\n",
              "  <tbody>\n",
              "    <tr>\n",
              "      <th>6543215</th>\n",
              "      <td>hx5oI9l2xXwZMqyoiMXbeg</td>\n",
              "      <td>S7oukZE-NH_33uuWuR47LQ</td>\n",
              "      <td>ohEnmKpF7i2_ujme1p_vUQ</td>\n",
              "      <td>5.0</td>\n",
              "      <td>-1</td>\n",
              "      <td>0</td>\n",
              "      <td>-1</td>\n",
              "      <td>Cornish Pasty saved our Mothers Day! After hav...</td>\n",
              "      <td>2017-05-15 04:12:55</td>\n",
              "      <td>1</td>\n",
              "      <td>0</td>\n",
              "      <td>1</td>\n",
              "      <td>2017</td>\n",
              "      <td>5</td>\n",
              "    </tr>\n",
              "  </tbody>\n",
              "</table>\n",
              "</div>"
            ],
            "text/plain": [
              "                      review_id                 user_id  ... years  months\n",
              "6543215  hx5oI9l2xXwZMqyoiMXbeg  S7oukZE-NH_33uuWuR47LQ  ...  2017       5\n",
              "\n",
              "[1 rows x 14 columns]"
            ]
          },
          "metadata": {
            "tags": []
          },
          "execution_count": 21
        }
      ]
    },
    {
      "cell_type": "code",
      "metadata": {
        "id": "FlR8vdPbCCn2"
      },
      "source": [
        "# there are a few points needs correction (data points -1 scores)\n",
        "df_reviews.useful.replace(to_replace=[-1], value=[0], inplace=True)\n",
        "df_reviews.cool.replace(to_replace=[-1], value=[0], inplace=True)"
      ],
      "execution_count": 22,
      "outputs": []
    },
    {
      "cell_type": "markdown",
      "metadata": {
        "id": "ErRDCbdDX8vk"
      },
      "source": [
        "## Distribution of Useful, Funny, and Cool Reviews"
      ]
    },
    {
      "cell_type": "code",
      "metadata": {
        "id": "UKLrr6UZVhGL",
        "outputId": "e7437750-29cb-4cff-ec20-b796d2132c35",
        "colab": {
          "base_uri": "https://localhost:8080/",
          "height": 112
        }
      },
      "source": [
        "temp = pd.concat([df_reviews.groupby('is_useful').size().to_frame(name='#_of_useful'),\n",
        "                  df_reviews.groupby('is_funny').size().to_frame(name='#_of_funny'),\n",
        "                  df_reviews.groupby('is_cool').size().to_frame(name='#_of_cool')],\n",
        "                 axis=1)\n",
        "temp['%_useful'] = temp['#_of_useful'].apply(lambda x: x / df_reviews.shape[0])\n",
        "temp['%_funny'] = temp['#_of_funny'].apply(lambda x: x / df_reviews.shape[0])\n",
        "temp['%_cool'] = temp['#_of_cool'].apply(lambda x: x / df_reviews.shape[0])\n",
        "temp.index = ['not', 'is']\n",
        "temp = temp[['#_of_useful', '%_useful', '#_of_funny', '%_funny', '#_of_cool', '%_cool']]\n",
        "display(temp)"
      ],
      "execution_count": 60,
      "outputs": [
        {
          "output_type": "display_data",
          "data": {
            "text/html": [
              "<div>\n",
              "<style scoped>\n",
              "    .dataframe tbody tr th:only-of-type {\n",
              "        vertical-align: middle;\n",
              "    }\n",
              "\n",
              "    .dataframe tbody tr th {\n",
              "        vertical-align: top;\n",
              "    }\n",
              "\n",
              "    .dataframe thead th {\n",
              "        text-align: right;\n",
              "    }\n",
              "</style>\n",
              "<table border=\"1\" class=\"dataframe\">\n",
              "  <thead>\n",
              "    <tr style=\"text-align: right;\">\n",
              "      <th></th>\n",
              "      <th>#_of_useful</th>\n",
              "      <th>%_useful</th>\n",
              "      <th>#_of_funny</th>\n",
              "      <th>%_funny</th>\n",
              "      <th>#_of_cool</th>\n",
              "      <th>%_cool</th>\n",
              "    </tr>\n",
              "  </thead>\n",
              "  <tbody>\n",
              "    <tr>\n",
              "      <th>not</th>\n",
              "      <td>4337407</td>\n",
              "      <td>0.540748</td>\n",
              "      <td>6419321</td>\n",
              "      <td>0.800302</td>\n",
              "      <td>6056599</td>\n",
              "      <td>0.755081</td>\n",
              "    </tr>\n",
              "    <tr>\n",
              "      <th>is</th>\n",
              "      <td>3683715</td>\n",
              "      <td>0.459252</td>\n",
              "      <td>1601801</td>\n",
              "      <td>0.199698</td>\n",
              "      <td>1964523</td>\n",
              "      <td>0.244919</td>\n",
              "    </tr>\n",
              "  </tbody>\n",
              "</table>\n",
              "</div>"
            ],
            "text/plain": [
              "     #_of_useful  %_useful  #_of_funny   %_funny  #_of_cool    %_cool\n",
              "not      4337407  0.540748     6419321  0.800302    6056599  0.755081\n",
              "is       3683715  0.459252     1601801  0.199698    1964523  0.244919"
            ]
          },
          "metadata": {
            "tags": []
          }
        }
      ]
    },
    {
      "cell_type": "markdown",
      "metadata": {
        "id": "tqYvBUqgYV8V"
      },
      "source": [
        "## Distribution of Reviews by Year and Month\n"
      ]
    },
    {
      "cell_type": "code",
      "metadata": {
        "id": "jpR3wAxC34K8"
      },
      "source": [
        "# get frequency of each year and month\n",
        "from collections import Counter\n",
        "year_counts = Counter(df_reviews.years)\n",
        "years = sorted([year for year in year_counts])\n",
        "year_counts = [year_counts[year] for year in years]\n",
        "month_counts = Counter(df_reviews.months)\n",
        "months = sorted([month for month in month_counts])\n",
        "month_counts = [month_counts[month] for month in months]"
      ],
      "execution_count": 63,
      "outputs": []
    },
    {
      "cell_type": "code",
      "metadata": {
        "id": "y_PHJtus34JH",
        "outputId": "2609eb24-520d-44c7-a1c3-d5abf3950ca4",
        "colab": {
          "base_uri": "https://localhost:8080/",
          "height": 524
        }
      },
      "source": [
        "import matplotlib.pyplot as plt\n",
        "fig, axes = plt.subplots(1, 2, figsize=(20,8))\n",
        "axes = axes.flatten()\n",
        "axes[0].bar(years, year_counts)\n",
        "axes[0].set_xlabel('Years', labelpad=10)\n",
        "axes[0].set_xticks(range(2004, 2020))\n",
        "axes[0].set_xticklabels([i for i in range(2004,2020)])\n",
        "axes[0].set_ylabel('Frequency', labelpad=10)\n",
        "axes[0].set_title('Reviews by Years', size=14, pad=10)\n",
        "axes[1].bar(months, month_counts)\n",
        "axes[1].set_xlabel('Months', labelpad=10)\n",
        "axes[1].set_xticks(range(1, 13))\n",
        "axes[1].set_xticklabels([i for i in range(1, 13)])\n",
        "axes[1].set_title('Reviews by Months', size=14, pad=10)\n",
        "plt.show()"
      ],
      "execution_count": 65,
      "outputs": [
        {
          "output_type": "display_data",
          "data": {
            "image/png": "[encoded data removed]",
            "text/plain": [
              "<Figure size 1440x576 with 2 Axes>"
            ]
          },
          "metadata": {
            "tags": [],
            "needs_background": "light"
          }
        }
      ]
    },
    {
      "cell_type": "markdown",
      "metadata": {
        "id": "nRnmz65xcjw3"
      },
      "source": [
        "## Top 10 Users with the Most Reviews"
      ]
    },
    {
      "cell_type": "code",
      "metadata": {
        "id": "MB0GtnI6Rksr"
      },
      "source": [
        "df_number_of_reviews = df_reviews.groupby('user_id').count().text.rename(\n",
        "                          'number_of_reviews').to_frame()\n",
        "df_number_of_reviews.sort_values(by='number_of_reviews', ascending=False,\n",
        "                                 inplace=True)"
      ],
      "execution_count": 66,
      "outputs": []
    },
    {
      "cell_type": "code",
      "metadata": {
        "id": "wkTDjjjlUBvX",
        "outputId": "926c0956-9965-4d20-a637-9f1f9ce03a66",
        "colab": {
          "base_uri": "https://localhost:8080/"
        }
      },
      "source": [
        "print('There are {:,}'.format(df_number_of_reviews.shape[0]), end='')\n",
        "print(' users with an average reviews of {:.2f}'.format(\n",
        "                                df_number_of_reviews.number_of_reviews.mean()))"
      ],
      "execution_count": 68,
      "outputs": [
        {
          "output_type": "stream",
          "text": [
            "There are 1,968,703 users with an average reviews of 4.07\n"
          ],
          "name": "stdout"
        }
      ]
    },
    {
      "cell_type": "code",
      "metadata": {
        "id": "VCTIba-zUvwT",
        "outputId": "51d45710-8d14-4e73-dcd9-acac35bb4670",
        "colab": {
          "base_uri": "https://localhost:8080/",
          "height": 381
        }
      },
      "source": [
        "print('Ten users with the most reviews')\n",
        "df_top_10_users = df_number_of_reviews.head(10)\n",
        "df_top_10_users = df_top_10_users.merge(df_users, on='user_id', how='left')\n",
        "df_top_10_users.index = [i for i in range(1, 11)]\n",
        "display(df_top_10_users[['name', 'yelping_since', 'elite', 'average_stars', 'fans',\n",
        "                         'number_of_reviews', 'compliment_funny', 'compliment_cool',\n",
        "                         ]])"
      ],
      "execution_count": 76,
      "outputs": [
        {
          "output_type": "stream",
          "text": [
            "Ten users with the most reviews\n"
          ],
          "name": "stdout"
        },
        {
          "output_type": "display_data",
          "data": {
            "text/html": [
              "<div>\n",
              "<style scoped>\n",
              "    .dataframe tbody tr th:only-of-type {\n",
              "        vertical-align: middle;\n",
              "    }\n",
              "\n",
              "    .dataframe tbody tr th {\n",
              "        vertical-align: top;\n",
              "    }\n",
              "\n",
              "    .dataframe thead th {\n",
              "        text-align: right;\n",
              "    }\n",
              "</style>\n",
              "<table border=\"1\" class=\"dataframe\">\n",
              "  <thead>\n",
              "    <tr style=\"text-align: right;\">\n",
              "      <th></th>\n",
              "      <th>name</th>\n",
              "      <th>yelping_since</th>\n",
              "      <th>elite</th>\n",
              "      <th>average_stars</th>\n",
              "      <th>fans</th>\n",
              "      <th>number_of_reviews</th>\n",
              "      <th>compliment_funny</th>\n",
              "      <th>compliment_cool</th>\n",
              "    </tr>\n",
              "  </thead>\n",
              "  <tbody>\n",
              "    <tr>\n",
              "      <th>1</th>\n",
              "      <td>Jennifer</td>\n",
              "      <td>2009-11-09 20:44:45</td>\n",
              "      <td>2009,2010,2011,2012,2013,2014,2015,2016,2017,2018</td>\n",
              "      <td>3.33</td>\n",
              "      <td>789</td>\n",
              "      <td>4331</td>\n",
              "      <td>1653</td>\n",
              "      <td>1653</td>\n",
              "    </tr>\n",
              "    <tr>\n",
              "      <th>2</th>\n",
              "      <td>Stefany</td>\n",
              "      <td>2011-06-29 14:40:01</td>\n",
              "      <td>2012,2013,2014,2015,2016,2017,2018</td>\n",
              "      <td>3.39</td>\n",
              "      <td>785</td>\n",
              "      <td>2555</td>\n",
              "      <td>1844</td>\n",
              "      <td>1844</td>\n",
              "    </tr>\n",
              "    <tr>\n",
              "      <th>3</th>\n",
              "      <td>Brad</td>\n",
              "      <td>2009-11-10 00:10:36</td>\n",
              "      <td></td>\n",
              "      <td>3.11</td>\n",
              "      <td>77</td>\n",
              "      <td>2039</td>\n",
              "      <td>87</td>\n",
              "      <td>87</td>\n",
              "    </tr>\n",
              "    <tr>\n",
              "      <th>4</th>\n",
              "      <td>Norm</td>\n",
              "      <td>2008-12-12 02:30:13</td>\n",
              "      <td>2010,2011,2012,2013,2014,2015,2016,2017,2018</td>\n",
              "      <td>3.75</td>\n",
              "      <td>319</td>\n",
              "      <td>1972</td>\n",
              "      <td>1779</td>\n",
              "      <td>1779</td>\n",
              "    </tr>\n",
              "    <tr>\n",
              "      <th>5</th>\n",
              "      <td>Karen</td>\n",
              "      <td>2006-01-28 01:56:23</td>\n",
              "      <td>2013,2014,2015,2016,2017,2018</td>\n",
              "      <td>3.88</td>\n",
              "      <td>479</td>\n",
              "      <td>1817</td>\n",
              "      <td>4060</td>\n",
              "      <td>4060</td>\n",
              "    </tr>\n",
              "    <tr>\n",
              "      <th>6</th>\n",
              "      <td>Michael</td>\n",
              "      <td>2008-01-31 02:55:30</td>\n",
              "      <td>2008,2010,2011,2012,2013,2014,2015</td>\n",
              "      <td>3.90</td>\n",
              "      <td>1090</td>\n",
              "      <td>1762</td>\n",
              "      <td>825</td>\n",
              "      <td>825</td>\n",
              "    </tr>\n",
              "    <tr>\n",
              "      <th>7</th>\n",
              "      <td>Bruce</td>\n",
              "      <td>2009-03-08 21:47:44</td>\n",
              "      <td>2010,2011,2012,2013,2014,2015,2016,2017,2018</td>\n",
              "      <td>3.64</td>\n",
              "      <td>659</td>\n",
              "      <td>1602</td>\n",
              "      <td>3605</td>\n",
              "      <td>3605</td>\n",
              "    </tr>\n",
              "    <tr>\n",
              "      <th>8</th>\n",
              "      <td>J</td>\n",
              "      <td>2007-03-19 18:15:32</td>\n",
              "      <td>2010</td>\n",
              "      <td>3.61</td>\n",
              "      <td>308</td>\n",
              "      <td>1499</td>\n",
              "      <td>2088</td>\n",
              "      <td>2088</td>\n",
              "    </tr>\n",
              "    <tr>\n",
              "      <th>9</th>\n",
              "      <td>Jennifer</td>\n",
              "      <td>2010-12-27 20:51:33</td>\n",
              "      <td>2012,2013,2014,2015,2016,2017,2018</td>\n",
              "      <td>3.61</td>\n",
              "      <td>98</td>\n",
              "      <td>1424</td>\n",
              "      <td>182</td>\n",
              "      <td>182</td>\n",
              "    </tr>\n",
              "    <tr>\n",
              "      <th>10</th>\n",
              "      <td>Chris</td>\n",
              "      <td>2009-06-16 02:39:09</td>\n",
              "      <td>2009,2010,2011,2012,2013,2014,2015,2016,2017,2018</td>\n",
              "      <td>3.43</td>\n",
              "      <td>101</td>\n",
              "      <td>1263</td>\n",
              "      <td>259</td>\n",
              "      <td>259</td>\n",
              "    </tr>\n",
              "  </tbody>\n",
              "</table>\n",
              "</div>"
            ],
            "text/plain": [
              "        name        yelping_since  ... compliment_funny  compliment_cool\n",
              "1   Jennifer  2009-11-09 20:44:45  ...             1653             1653\n",
              "2    Stefany  2011-06-29 14:40:01  ...             1844             1844\n",
              "3       Brad  2009-11-10 00:10:36  ...               87               87\n",
              "4       Norm  2008-12-12 02:30:13  ...             1779             1779\n",
              "5      Karen  2006-01-28 01:56:23  ...             4060             4060\n",
              "6    Michael  2008-01-31 02:55:30  ...              825              825\n",
              "7      Bruce  2009-03-08 21:47:44  ...             3605             3605\n",
              "8          J  2007-03-19 18:15:32  ...             2088             2088\n",
              "9   Jennifer  2010-12-27 20:51:33  ...              182              182\n",
              "10     Chris  2009-06-16 02:39:09  ...              259              259\n",
              "\n",
              "[10 rows x 8 columns]"
            ]
          },
          "metadata": {
            "tags": []
          }
        }
      ]
    },
    {
      "cell_type": "markdown",
      "metadata": {
        "id": "fLeLWKe-cue3"
      },
      "source": [
        "## Top 10 Businesses with the Most Reviews"
      ]
    },
    {
      "cell_type": "code",
      "metadata": {
        "id": "qW9FgRu3VIvJ"
      },
      "source": [
        "df_number_of_business = df_reviews.groupby('business_id').count().text.rename(\n",
        "                          'number_of_reviews').to_frame().sort_values(\n",
        "                              'number_of_reviews', ascending=False)"
      ],
      "execution_count": 72,
      "outputs": []
    },
    {
      "cell_type": "code",
      "metadata": {
        "id": "wvmM4CinVj2p",
        "outputId": "222416b0-d094-45df-a5a0-e4923c9553ac",
        "colab": {
          "base_uri": "https://localhost:8080/"
        }
      },
      "source": [
        "print('There are {:,} '.format(df_number_of_business.shape[0]), end='')\n",
        "print('business with average reviews of {:.2f}'.format(\n",
        "                            df_number_of_business.number_of_reviews.mean()))"
      ],
      "execution_count": 73,
      "outputs": [
        {
          "output_type": "stream",
          "text": [
            "There are 209,393 business with average reviews of 38.31\n"
          ],
          "name": "stdout"
        }
      ]
    },
    {
      "cell_type": "code",
      "metadata": {
        "id": "-xywQmvvWDBl",
        "outputId": "5c51f040-e3df-452d-f589-7752b2d63a8e",
        "colab": {
          "base_uri": "https://localhost:8080/",
          "height": 381
        }
      },
      "source": [
        "# add geograhical and other information from df_business_master\n",
        "print('Ten businesses with the most reviews')\n",
        "df_top_10_business = df_number_of_business.head(10)\n",
        "df_top_10_business = df_top_10_business.merge(df_business,\n",
        "                                              on='business_id',\n",
        "                                              how='left')\n",
        "df_top_10_business.index = [i for i in range(1, 11)]\n",
        "display(df_top_10_business[['name', 'city',\n",
        "                           'categories', 'number_of_reviews']])"
      ],
      "execution_count": 77,
      "outputs": [
        {
          "output_type": "stream",
          "text": [
            "Ten businesses with the most reviews\n"
          ],
          "name": "stdout"
        },
        {
          "output_type": "display_data",
          "data": {
            "text/html": [
              "<div>\n",
              "<style scoped>\n",
              "    .dataframe tbody tr th:only-of-type {\n",
              "        vertical-align: middle;\n",
              "    }\n",
              "\n",
              "    .dataframe tbody tr th {\n",
              "        vertical-align: top;\n",
              "    }\n",
              "\n",
              "    .dataframe thead th {\n",
              "        text-align: right;\n",
              "    }\n",
              "</style>\n",
              "<table border=\"1\" class=\"dataframe\">\n",
              "  <thead>\n",
              "    <tr style=\"text-align: right;\">\n",
              "      <th></th>\n",
              "      <th>name</th>\n",
              "      <th>city</th>\n",
              "      <th>categories</th>\n",
              "      <th>number_of_reviews</th>\n",
              "    </tr>\n",
              "  </thead>\n",
              "  <tbody>\n",
              "    <tr>\n",
              "      <th>1</th>\n",
              "      <td>Bacchanal Buffet</td>\n",
              "      <td>Las Vegas</td>\n",
              "      <td>Sandwiches, Breakfast &amp; Brunch, Food, Restaura...</td>\n",
              "      <td>10417</td>\n",
              "    </tr>\n",
              "    <tr>\n",
              "      <th>2</th>\n",
              "      <td>Mon Ami Gabi</td>\n",
              "      <td>Las Vegas</td>\n",
              "      <td>Restaurants, French, Steakhouses, Food, Breakf...</td>\n",
              "      <td>9536</td>\n",
              "    </tr>\n",
              "    <tr>\n",
              "      <th>3</th>\n",
              "      <td>Wicked Spoon</td>\n",
              "      <td>Las Vegas</td>\n",
              "      <td>Buffets, Breakfast &amp; Brunch, Restaurants</td>\n",
              "      <td>7594</td>\n",
              "    </tr>\n",
              "    <tr>\n",
              "      <th>4</th>\n",
              "      <td>Hash House A Go Go</td>\n",
              "      <td>Las Vegas</td>\n",
              "      <td>Breakfast &amp; Brunch, Restaurants, Food, America...</td>\n",
              "      <td>6859</td>\n",
              "    </tr>\n",
              "    <tr>\n",
              "      <th>5</th>\n",
              "      <td>Gordon Ramsay BurGR</td>\n",
              "      <td>Las Vegas</td>\n",
              "      <td>Burgers, Restaurants, American (Traditional)</td>\n",
              "      <td>5586</td>\n",
              "    </tr>\n",
              "    <tr>\n",
              "      <th>6</th>\n",
              "      <td>Earl of Sandwich</td>\n",
              "      <td>Las Vegas</td>\n",
              "      <td>Restaurants, Food Delivery Services, Salad, Wr...</td>\n",
              "      <td>5370</td>\n",
              "    </tr>\n",
              "    <tr>\n",
              "      <th>7</th>\n",
              "      <td>Yardbird Southern Table &amp; Bar</td>\n",
              "      <td>Las Vegas</td>\n",
              "      <td>Restaurants, American (New), Southern, Nightli...</td>\n",
              "      <td>4979</td>\n",
              "    </tr>\n",
              "    <tr>\n",
              "      <th>8</th>\n",
              "      <td>The Cosmopolitan of Las Vegas</td>\n",
              "      <td>Las Vegas</td>\n",
              "      <td>Arts &amp; Entertainment, Casinos, Hotels &amp; Travel...</td>\n",
              "      <td>4973</td>\n",
              "    </tr>\n",
              "    <tr>\n",
              "      <th>9</th>\n",
              "      <td>The Buffet At Wynn</td>\n",
              "      <td>Las Vegas</td>\n",
              "      <td>Food, Buffets, Event Planning &amp; Services, Rest...</td>\n",
              "      <td>4953</td>\n",
              "    </tr>\n",
              "    <tr>\n",
              "      <th>10</th>\n",
              "      <td>Secret Pizza</td>\n",
              "      <td>Las Vegas</td>\n",
              "      <td>Pizza, Restaurants</td>\n",
              "      <td>4882</td>\n",
              "    </tr>\n",
              "  </tbody>\n",
              "</table>\n",
              "</div>"
            ],
            "text/plain": [
              "                             name  ... number_of_reviews\n",
              "1                Bacchanal Buffet  ...             10417\n",
              "2                    Mon Ami Gabi  ...              9536\n",
              "3                    Wicked Spoon  ...              7594\n",
              "4              Hash House A Go Go  ...              6859\n",
              "5             Gordon Ramsay BurGR  ...              5586\n",
              "6                Earl of Sandwich  ...              5370\n",
              "7   Yardbird Southern Table & Bar  ...              4979\n",
              "8   The Cosmopolitan of Las Vegas  ...              4973\n",
              "9              The Buffet At Wynn  ...              4953\n",
              "10                   Secret Pizza  ...              4882\n",
              "\n",
              "[10 rows x 4 columns]"
            ]
          },
          "metadata": {
            "tags": []
          }
        }
      ]
    },
    {
      "cell_type": "markdown",
      "metadata": {
        "id": "zx9NTsbfdi5u"
      },
      "source": [
        "## Distribution of Star Ratings"
      ]
    },
    {
      "cell_type": "code",
      "metadata": {
        "id": "6M6vAp9oXNu3",
        "outputId": "c71fe443-e2ab-413e-bdf3-928d61f01160",
        "colab": {
          "base_uri": "https://localhost:8080/",
          "height": 524
        }
      },
      "source": [
        "star_counts = Counter(df_reviews.stars)\n",
        "fig, ax = plt.subplots(figsize=(12,8))\n",
        "ax.bar(sorted(list(star_counts.keys())), \n",
        "       [star_counts[k] for k in sorted(list(star_counts.keys()))])\n",
        "ax.set_xlabel('Stars', labelpad=10)\n",
        "ax.set_xticks(range(1, 6))\n",
        "ax.set_xticklabels([i for i in range(1,6)])\n",
        "ax.set_ylabel('Frequency', labelpad=10)\n",
        "ax.set_title('Stars', size=14, pad=10)\n",
        "plt.show()"
      ],
      "execution_count": null,
      "outputs": [
        {
          "output_type": "display_data",
          "data": {
            "image/png": "[encoded data removed]",
            "text/plain": [
              "<Figure size 864x576 with 1 Axes>"
            ]
          },
          "metadata": {
            "tags": [],
            "needs_background": "light"
          }
        }
      ]
    },
    {
      "cell_type": "markdown",
      "metadata": {
        "id": "VIkxM0cIdrUv"
      },
      "source": [
        "## Distribution of Useful Reviews"
      ]
    },
    {
      "cell_type": "code",
      "metadata": {
        "id": "34PcinXCf3GD",
        "outputId": "856b7941-7899-4c5e-a6a3-944d62807cf0",
        "colab": {
          "base_uri": "https://localhost:8080/",
          "height": 276
        }
      },
      "source": [
        "df_reviews.useful.hist()\n",
        "plt.show()"
      ],
      "execution_count": 102,
      "outputs": [
        {
          "output_type": "display_data",
          "data": {
            "image/png": "[encoded data removed]",
            "text/plain": [
              "<Figure size 432x288 with 1 Axes>"
            ]
          },
          "metadata": {
            "tags": [],
            "needs_background": "light"
          }
        }
      ]
    },
    {
      "cell_type": "markdown",
      "metadata": {
        "id": "zpko3Ha5gJ5K"
      },
      "source": [
        "* In the above histogram, we see that reviews with useful counts less than 100 almost accounts for the whole dataset.\n",
        "* This is an expected outcome since most customers do not vote for useful reviews and only a small portion of all reviews can have the highest number of votes.\n",
        "* In order to overcome the issue, extremely positively-skewed distribution, we will first determine the standard deviation of the useful reviews, then take all useful reviews above 1 standard deviation of 0.\n",
        "* Secondly, we will use bins to convert the feature into a categorical feature.\n"
      ]
    },
    {
      "cell_type": "code",
      "metadata": {
        "id": "q7MfN0p6hmmQ",
        "outputId": "fa19e190-5c6f-4d26-d10b-e342ecd7445f",
        "colab": {
          "base_uri": "https://localhost:8080/"
        }
      },
      "source": [
        "std_useful = df_reviews.useful.values.std()\n",
        "print('Standard deviation of useful reviews is {}'.format(std_useful))"
      ],
      "execution_count": 103,
      "outputs": [
        {
          "output_type": "stream",
          "text": [
            "Standard deviation of useful reviews is 3.5508303694259835\n"
          ],
          "name": "stdout"
        }
      ]
    },
    {
      "cell_type": "markdown",
      "metadata": {
        "id": "HHaymIk4dzLD"
      },
      "source": [
        "## Example of Most Useful, Funniest and Coolest Reviews"
      ]
    },
    {
      "cell_type": "code",
      "metadata": {
        "id": "7uI4TpjEXIJJ",
        "outputId": "d73f67fc-1aab-4a71-b3a2-d3217b0eb8dc",
        "colab": {
          "base_uri": "https://localhost:8080/"
        }
      },
      "source": [
        "most_useful = df_reviews.loc[df_reviews.useful == df_reviews.useful.max(),\n",
        "                             'text'].values[0]\n",
        "print('The most useful review is:')\n",
        "print('='*79, end='\\n\\n')\n",
        "print(most_useful)"
      ],
      "execution_count": null,
      "outputs": [
        {
          "output_type": "stream",
          "text": [
            "The most useful review is:\n",
            "===============================================================================\n",
            "\n",
            "In retrospect, I should have known better than to step foot into Amy's Baking Company (a.k.a. ABC Bistro).  \n",
            "\n",
            "-8 pm on a Saturday night, three tables are occupied\n",
            "-a sign on the door indicates they're looking for an experienced line cook, a dishwasher, waitresses, you name it\n",
            "-Pita Jungle, just a stone's throw away, is packed to the gills\n",
            "\n",
            "These are all bad signs.  They go ignored, however, because I'd eaten one thing all day, and I had drove here to try their pizza.  Never, ever again.\n",
            "\n",
            "The waitress brings me out a water and a menu to my table for one  on the patio, which I had all to myself.  Browsing the apps, I was pleasantly surprised to see several things priced $3, which seemed like a bargain, given the high price of everything else.  $3 tapanade sounded like a good deal, but I was informed that it didn't come with anything - it was $3 extra for bread.  Since I was solo, I decided to skip it and instead pay $14 for their 12\" margherita pizza.  \n",
            "\n",
            "About three minutes later, the waitress drops off my pizza.  \"Your pizza\", she says, leaves a plate and off she goes.  I sat for a moment, confused as to how things happened so quickly.  I try to grab a slice of the pizza, but it was so blazing hot that I wasn't even going to attempt to handle it.  I waited for a few minutes to let it cool off, only to discover that not only had it cooled enough to handle, but was actually well-cooled and most likely reheated.  After a closer inspection of the pie in front of me, it was evident that it had been reheated, as there were smaller tomatoes that had spent their time in the oven, and larger tomatoes that had barely been kissed by the heat of the oven.\n",
            "\n",
            "I took a bite, and was immediately underwhelmed.  The crust had very little character, was slightly sweet but had that store-bought quality to it.  The pesto tasted okay, but the tomatoes were completely tasteless and overall, it just fell flat.  It's margherita - the ingredients need to shine to make such a simple pizza.  These ingredients were sub-par.  After two small pieces, I decided I was wasting my calories and just gave up on it.\n",
            "\n",
            "So I sat outside, not eating, and sat.  And sat.  Where the hell was the waitress?  I glanced inside a few times, hoping to catch her eye, but she must have been occupied elsewhere.  \n",
            "\n",
            "The owner comes out.  \"How'd you like your pizza?\"  Instead of immediately responding, I asked how it had come out so quickly.  In short, he told me another table had ordered it, decided they didn't want it, and it sat in the kitchen for two minutes, who in turn decided to send it out to me since I didn't order anything else.  \n",
            "\n",
            "Me: \"Well, it didn't really taste fresh\".\n",
            "Him: \"No, no, our pizzas are the best.  Ask our customers.  You're the first person since we've opened to ever not like our pizzas\".  \n",
            "\n",
            "He got very defensive about the pizza, but I hadn't really launched a harsh criticism on the pizza, just said I didn't really enjoy it.  So I sat some more, with an empty drink, and realized they wanted me gone.  The owner wouldn't make eye contact with me.  The server never came back out asking if I wanted something else.  And they still hadn't refilled my drink.\n",
            "\n",
            "So I sat on a patio, alone, and decided to have a smoke.  The waitress comes out...\n",
            "\n",
            "Her: \"Sir, there's a no smoking sign over there, I was told to tell you to not to smoke here.\"  \n",
            "Me: \"Is this the last f*** you in this experience?\"\n",
            "Her: \"Yes, I think so\".\n",
            "\n",
            "She walks away.  I walk inside, pay the bill, and leave.  No apologies, no discounts on the bill, nothing.  $18 for weak iced tea and shitty pizza.\n",
            "\n",
            "This is arrogance in its worst form.  I can forgive bad food, but I cannot forgive misplaced arrogance and the blatant dismissal of a customer, whether you agree with them or not.  \n",
            "\n",
            "Perhaps the sign on the door should also say, \"Wanted: New owner\".  \n",
            "\n",
            "I cannot, for the life of me, recommend this restaurant to anyone.\n",
            "\n",
            "---\n",
            "UPDATE:\n",
            "Since Yelp's 5000 character limit will not let me post the full response by the owner (Amy B.), here is a link to the comments:\n",
            "http://blogs.phoenixnewtimes.com/bella/2010/08/ouch_todays_hard_lesson_on_yel.php\n"
          ],
          "name": "stdout"
        }
      ]
    },
    {
      "cell_type": "code",
      "metadata": {
        "id": "K1Se4sNMYy6T",
        "outputId": "8f72e323-b954-4fc8-c35f-6384cf9844ae",
        "colab": {
          "base_uri": "https://localhost:8080/"
        }
      },
      "source": [
        "funniest = df_reviews.loc[df_reviews.funny == df_reviews.funny.max(),\n",
        "                             'text'].values[0]\n",
        "print('The funniest review is:')\n",
        "print('='*79, end='\\n\\n')\n",
        "print(funniest)"
      ],
      "execution_count": null,
      "outputs": [
        {
          "output_type": "stream",
          "text": [
            "The funniest review is:\n",
            "===============================================================================\n",
            "\n",
            "I refuse to judge a place before I try it and you should too!\n",
            "\n",
            "Like many of you, I watched the season finale of Kitchen Nightmares.  Working in a family business myself and knowing it is never easy, I wondered if owners Amy and Samy could possibly be like they were portrayed on the show or if there was some fancy editing done on the show.  Knowing that reality TV is usually far from reality, off we went last Saturday night for dinner at Amy's Baking Company.\n",
            "\n",
            "I called the Monday before our planned dinner and made reservations for four.  I spoke with Samy and he kindly took my reservation even though he told me we didn't need to make one.  Plans changed and by Saturday night our group had grown to seven but I was reluctant to call and advise them of the change.  I was a little nervous....would they be mad?  Would Samy yell at me?  Silly questions, I know but legitimate ones after watching the show.   He really is a nice guy and I was silly to think otherwise.  My husband and I walked in to the restaurant and informed Samy we had a group or seven total coming and he was more than accommodating.   He set us up for seven and we were seated.   \n",
            "\n",
            "Samy asked if we wanted appetizers so we ordered the herbed flat bread, The bread was soft, flavorful and perfectly seasoned.  Samy had advised us because our party was so big that the food might take a little longer because Amy was preparing everything fresh.  I can tell you that the food service was fast.  We had our appetizers in under 10 minutes.\n",
            "\n",
            "We next ordered our entrees.  Our food came to us in about 15 minutes or so.  Amy made every item we ordered herself and let me tell you, she can cook!   \n",
            "\n",
            "I ordered the Chicken Parmesan with Penne Pasta.  The chicken breast was large and nicely breaded.  The marinara was perfect, not too tangy and not too sweet.  Underneath the layer of cheese were nice large basil leaves.  This really added nicely to the flavor.  The penne was fabulous as well, buttered and spiced nicely.\n",
            " \n",
            "My husband ordered Fettuccine Alfredo with Chicken and boy was it good.  Very creamy and delicious and a nice sized portion, enough to eat some and take home.  I'm having the leftovers for lunch today and can't wait!  Amy was nice enough to advise us on how to reheat it so that it was just as tasty as when it was freshly made.\n",
            "\n",
            "My favorite items that were ordered at our table were Amy's pizzas.  My sister ordered the Garlic Chicken Mushroom pizza and our friends ordered the Sausage and Pepperoni pizza, half of it made spicy.  Both pizzas had a wonderful crust which was thin with a perfect mix of crispness on the outside and softness in the center.  These were perfectly cooked.  The spicy sausage and pepperoni pizza was so good that I can't wait to go back.  The initial bite wasn't that spicy, but then it hits you and tingles your lips and tongue.  The spice was unlike anything I've had on pizza and it was so incredible.  The Garlic Chicken Mushroom was wonderful too, perfectly balanced flavors and very fresh.  The cheese and herbs on the pizza made for a nice bite.  Amy really knows how to cook a tasty pizza.  She checked in with us to see how we liked everything.  Our tables was thrilled with the food.\n",
            "\n",
            "Last but not least, we ordered dessert.  I had the best key lime pie of my life and my husband has a chocolate truffle cake, topped with mousse and covered in chocolate.  That cake was so rich and wonderful.  Her desserts are divine.\n",
            "\n",
            "At the end of our meal, Amy and Samy were gracious enough to take pictures with our entire table.  They really are a lovely couple.  They are very nice people with a passion for their restaurant.  It was a pleasure to meet them in real life and not just make assumptions on who they were based on what we saw on TV.\n",
            "\n",
            "We had such a wonderful visit to Amy's Baking Company that I find it hard to believe much of anything I saw on Kitchen Nightmares.  For this reason, I say you shouldn't judge the place until you try it.    \n",
            "\n",
            "I give them five stars.  This place is as good as it gets in my opinion and my husband and I will be back for date night.  The ambiance is great here, perfect for a romantic dinner.  \n",
            "\n",
            "Please try Amy's Baking Company for yourself.    There doesn't seem to be  a lot of \"reality\" in reality television.\n"
          ],
          "name": "stdout"
        }
      ]
    },
    {
      "cell_type": "code",
      "metadata": {
        "id": "jRQLRKYiZaK6",
        "outputId": "93cb1195-b2b7-493f-9119-cdada4197fae",
        "colab": {
          "base_uri": "https://localhost:8080/"
        }
      },
      "source": [
        "coolest = df_reviews.loc[df_reviews.cool == df_reviews.cool.max(),\n",
        "                             'text'].values[0]\n",
        "print('The coolest review is:')\n",
        "print('='*79, end='\\n\\n')\n",
        "print(coolest)"
      ],
      "execution_count": null,
      "outputs": [
        {
          "output_type": "stream",
          "text": [
            "The coolest review is:\n",
            "===============================================================================\n",
            "\n",
            "In retrospect, I should have known better than to step foot into Amy's Baking Company (a.k.a. ABC Bistro).  \n",
            "\n",
            "-8 pm on a Saturday night, three tables are occupied\n",
            "-a sign on the door indicates they're looking for an experienced line cook, a dishwasher, waitresses, you name it\n",
            "-Pita Jungle, just a stone's throw away, is packed to the gills\n",
            "\n",
            "These are all bad signs.  They go ignored, however, because I'd eaten one thing all day, and I had drove here to try their pizza.  Never, ever again.\n",
            "\n",
            "The waitress brings me out a water and a menu to my table for one  on the patio, which I had all to myself.  Browsing the apps, I was pleasantly surprised to see several things priced $3, which seemed like a bargain, given the high price of everything else.  $3 tapanade sounded like a good deal, but I was informed that it didn't come with anything - it was $3 extra for bread.  Since I was solo, I decided to skip it and instead pay $14 for their 12\" margherita pizza.  \n",
            "\n",
            "About three minutes later, the waitress drops off my pizza.  \"Your pizza\", she says, leaves a plate and off she goes.  I sat for a moment, confused as to how things happened so quickly.  I try to grab a slice of the pizza, but it was so blazing hot that I wasn't even going to attempt to handle it.  I waited for a few minutes to let it cool off, only to discover that not only had it cooled enough to handle, but was actually well-cooled and most likely reheated.  After a closer inspection of the pie in front of me, it was evident that it had been reheated, as there were smaller tomatoes that had spent their time in the oven, and larger tomatoes that had barely been kissed by the heat of the oven.\n",
            "\n",
            "I took a bite, and was immediately underwhelmed.  The crust had very little character, was slightly sweet but had that store-bought quality to it.  The pesto tasted okay, but the tomatoes were completely tasteless and overall, it just fell flat.  It's margherita - the ingredients need to shine to make such a simple pizza.  These ingredients were sub-par.  After two small pieces, I decided I was wasting my calories and just gave up on it.\n",
            "\n",
            "So I sat outside, not eating, and sat.  And sat.  Where the hell was the waitress?  I glanced inside a few times, hoping to catch her eye, but she must have been occupied elsewhere.  \n",
            "\n",
            "The owner comes out.  \"How'd you like your pizza?\"  Instead of immediately responding, I asked how it had come out so quickly.  In short, he told me another table had ordered it, decided they didn't want it, and it sat in the kitchen for two minutes, who in turn decided to send it out to me since I didn't order anything else.  \n",
            "\n",
            "Me: \"Well, it didn't really taste fresh\".\n",
            "Him: \"No, no, our pizzas are the best.  Ask our customers.  You're the first person since we've opened to ever not like our pizzas\".  \n",
            "\n",
            "He got very defensive about the pizza, but I hadn't really launched a harsh criticism on the pizza, just said I didn't really enjoy it.  So I sat some more, with an empty drink, and realized they wanted me gone.  The owner wouldn't make eye contact with me.  The server never came back out asking if I wanted something else.  And they still hadn't refilled my drink.\n",
            "\n",
            "So I sat on a patio, alone, and decided to have a smoke.  The waitress comes out...\n",
            "\n",
            "Her: \"Sir, there's a no smoking sign over there, I was told to tell you to not to smoke here.\"  \n",
            "Me: \"Is this the last f*** you in this experience?\"\n",
            "Her: \"Yes, I think so\".\n",
            "\n",
            "She walks away.  I walk inside, pay the bill, and leave.  No apologies, no discounts on the bill, nothing.  $18 for weak iced tea and shitty pizza.\n",
            "\n",
            "This is arrogance in its worst form.  I can forgive bad food, but I cannot forgive misplaced arrogance and the blatant dismissal of a customer, whether you agree with them or not.  \n",
            "\n",
            "Perhaps the sign on the door should also say, \"Wanted: New owner\".  \n",
            "\n",
            "I cannot, for the life of me, recommend this restaurant to anyone.\n",
            "\n",
            "---\n",
            "UPDATE:\n",
            "Since Yelp's 5000 character limit will not let me post the full response by the owner (Amy B.), here is a link to the comments:\n",
            "http://blogs.phoenixnewtimes.com/bella/2010/08/ouch_todays_hard_lesson_on_yel.php\n"
          ],
          "name": "stdout"
        }
      ]
    },
    {
      "cell_type": "markdown",
      "metadata": {
        "id": "YwGuFe_SCzBD"
      },
      "source": [
        "# Lexical Analysis of Reviews"
      ]
    },
    {
      "cell_type": "code",
      "metadata": {
        "id": "STFrhSCiw8Wp",
        "outputId": "2da844bf-fb1b-43bc-ce51-d64fca4fb16d",
        "colab": {
          "base_uri": "https://localhost:8080/",
          "height": 225
        }
      },
      "source": [
        "df_sample = df_reviews.sample(frac=0.001)\n",
        "df_sample.reset_index(drop=True, inplace=True)\n",
        "df_sample = df_sample.loc[:, ['review_id', 'text']]\n",
        "display(df_sample.head())\n",
        "print(df_sample.shape)"
      ],
      "execution_count": 24,
      "outputs": [
        {
          "output_type": "display_data",
          "data": {
            "text/html": [
              "<div>\n",
              "<style scoped>\n",
              "    .dataframe tbody tr th:only-of-type {\n",
              "        vertical-align: middle;\n",
              "    }\n",
              "\n",
              "    .dataframe tbody tr th {\n",
              "        vertical-align: top;\n",
              "    }\n",
              "\n",
              "    .dataframe thead th {\n",
              "        text-align: right;\n",
              "    }\n",
              "</style>\n",
              "<table border=\"1\" class=\"dataframe\">\n",
              "  <thead>\n",
              "    <tr style=\"text-align: right;\">\n",
              "      <th></th>\n",
              "      <th>review_id</th>\n",
              "      <th>text</th>\n",
              "    </tr>\n",
              "  </thead>\n",
              "  <tbody>\n",
              "    <tr>\n",
              "      <th>0</th>\n",
              "      <td>t77Jis_u4WP-88JrduUydQ</td>\n",
              "      <td>these are the best chicken wings I've had.  No...</td>\n",
              "    </tr>\n",
              "    <tr>\n",
              "      <th>1</th>\n",
              "      <td>VyDN6eyaL4vTWLL0Hud89g</td>\n",
              "      <td>Tucked away in a lesser-visited area for food,...</td>\n",
              "    </tr>\n",
              "    <tr>\n",
              "      <th>2</th>\n",
              "      <td>Br65dKnhYlCesa8kJcdIew</td>\n",
              "      <td>Awesome pool hall!\\n\\nThe manfriend and I made...</td>\n",
              "    </tr>\n",
              "    <tr>\n",
              "      <th>3</th>\n",
              "      <td>7VdWJy1Pfd5ifnLKoWqoYQ</td>\n",
              "      <td>I like this store, it hit just the right note ...</td>\n",
              "    </tr>\n",
              "    <tr>\n",
              "      <th>4</th>\n",
              "      <td>kvaR-XtPcWvxWeZkFmer6w</td>\n",
              "      <td>The best part about this hotel: Lazy River Poo...</td>\n",
              "    </tr>\n",
              "  </tbody>\n",
              "</table>\n",
              "</div>"
            ],
            "text/plain": [
              "                review_id                                               text\n",
              "0  t77Jis_u4WP-88JrduUydQ  these are the best chicken wings I've had.  No...\n",
              "1  VyDN6eyaL4vTWLL0Hud89g  Tucked away in a lesser-visited area for food,...\n",
              "2  Br65dKnhYlCesa8kJcdIew  Awesome pool hall!\\n\\nThe manfriend and I made...\n",
              "3  7VdWJy1Pfd5ifnLKoWqoYQ  I like this store, it hit just the right note ...\n",
              "4  kvaR-XtPcWvxWeZkFmer6w  The best part about this hotel: Lazy River Poo..."
            ]
          },
          "metadata": {
            "tags": []
          }
        },
        {
          "output_type": "stream",
          "text": [
            "(8021, 2)\n"
          ],
          "name": "stdout"
        }
      ]
    },
    {
      "cell_type": "code",
      "metadata": {
        "id": "F6x-qS_anSTz",
        "outputId": "89f5a185-2e4c-4b4c-9b96-25967da53037",
        "colab": {
          "base_uri": "https://localhost:8080/"
        }
      },
      "source": [
        "import nltk\n",
        "nltk.download('punkt')"
      ],
      "execution_count": 25,
      "outputs": [
        {
          "output_type": "stream",
          "text": [
            "[nltk_data] Downloading package punkt to /root/nltk_data...\n",
            "[nltk_data]   Package punkt is already up-to-date!\n"
          ],
          "name": "stdout"
        },
        {
          "output_type": "execute_result",
          "data": {
            "text/plain": [
              "True"
            ]
          },
          "metadata": {
            "tags": []
          },
          "execution_count": 25
        }
      ]
    },
    {
      "cell_type": "code",
      "metadata": {
        "id": "RLQhijRhubAY"
      },
      "source": [
        "df_sample['#_of_sentence'] = df_sample.text.apply(lambda x : len(nltk.sent_tokenize(x)))\n",
        "df_sample['#_of_words'] = df_sample.text.apply(lambda x : len(nltk.word_tokenize(x.lower())))\n",
        "df_sample['#_of_vocabulary'] = df_sample.text.apply(lambda x : len(set(nltk.word_tokenize(x.lower()))))\n",
        "df_sample['lexical_diversity'] = df_sample['#_of_words'] / df_sample['#_of_vocabulary']\n",
        "df_sample['#_of_average_words'] = df_sample['#_of_words'] / df_sample['#_of_sentence']"
      ],
      "execution_count": 26,
      "outputs": []
    },
    {
      "cell_type": "code",
      "metadata": {
        "id": "rdea6-2szFC2",
        "outputId": "52723547-eeb1-477b-f83b-cbe255d65aeb",
        "colab": {
          "base_uri": "https://localhost:8080/"
        }
      },
      "source": [
        "# most common 15 words\n",
        "Counter(nltk.word_tokenize(' '.join(df_sample.text.values))).most_common(15)"
      ],
      "execution_count": 28,
      "outputs": [
        {
          "output_type": "execute_result",
          "data": {
            "text/plain": [
              "[('.', 52900),\n",
              " ('the', 35860),\n",
              " ('and', 29828),\n",
              " (',', 28956),\n",
              " ('I', 26041),\n",
              " ('a', 21777),\n",
              " ('to', 21567),\n",
              " ('was', 16366),\n",
              " ('of', 12272),\n",
              " ('!', 11836),\n",
              " ('is', 10947),\n",
              " ('it', 10350),\n",
              " ('for', 10204),\n",
              " ('in', 9387),\n",
              " ('The', 7563)]"
            ]
          },
          "metadata": {
            "tags": []
          },
          "execution_count": 28
        }
      ]
    },
    {
      "cell_type": "code",
      "metadata": {
        "id": "7pPv5lkPu7Rl",
        "outputId": "c00badfa-a79f-466f-e3c3-77f63ecbd2c6",
        "colab": {
          "base_uri": "https://localhost:8080/",
          "height": 206
        }
      },
      "source": [
        "df_sample.head()"
      ],
      "execution_count": 27,
      "outputs": [
        {
          "output_type": "execute_result",
          "data": {
            "text/html": [
              "<div>\n",
              "<style scoped>\n",
              "    .dataframe tbody tr th:only-of-type {\n",
              "        vertical-align: middle;\n",
              "    }\n",
              "\n",
              "    .dataframe tbody tr th {\n",
              "        vertical-align: top;\n",
              "    }\n",
              "\n",
              "    .dataframe thead th {\n",
              "        text-align: right;\n",
              "    }\n",
              "</style>\n",
              "<table border=\"1\" class=\"dataframe\">\n",
              "  <thead>\n",
              "    <tr style=\"text-align: right;\">\n",
              "      <th></th>\n",
              "      <th>review_id</th>\n",
              "      <th>text</th>\n",
              "      <th>#_of_sentence</th>\n",
              "      <th>#_of_words</th>\n",
              "      <th>#_of_vocabulary</th>\n",
              "      <th>lexical_diversity</th>\n",
              "    </tr>\n",
              "  </thead>\n",
              "  <tbody>\n",
              "    <tr>\n",
              "      <th>0</th>\n",
              "      <td>t77Jis_u4WP-88JrduUydQ</td>\n",
              "      <td>these are the best chicken wings I've had.  No...</td>\n",
              "      <td>12</td>\n",
              "      <td>145</td>\n",
              "      <td>83</td>\n",
              "      <td>1.746988</td>\n",
              "    </tr>\n",
              "    <tr>\n",
              "      <th>1</th>\n",
              "      <td>VyDN6eyaL4vTWLL0Hud89g</td>\n",
              "      <td>Tucked away in a lesser-visited area for food,...</td>\n",
              "      <td>24</td>\n",
              "      <td>424</td>\n",
              "      <td>200</td>\n",
              "      <td>2.120000</td>\n",
              "    </tr>\n",
              "    <tr>\n",
              "      <th>2</th>\n",
              "      <td>Br65dKnhYlCesa8kJcdIew</td>\n",
              "      <td>Awesome pool hall!\\n\\nThe manfriend and I made...</td>\n",
              "      <td>16</td>\n",
              "      <td>304</td>\n",
              "      <td>161</td>\n",
              "      <td>1.888199</td>\n",
              "    </tr>\n",
              "    <tr>\n",
              "      <th>3</th>\n",
              "      <td>7VdWJy1Pfd5ifnLKoWqoYQ</td>\n",
              "      <td>I like this store, it hit just the right note ...</td>\n",
              "      <td>4</td>\n",
              "      <td>90</td>\n",
              "      <td>65</td>\n",
              "      <td>1.384615</td>\n",
              "    </tr>\n",
              "    <tr>\n",
              "      <th>4</th>\n",
              "      <td>kvaR-XtPcWvxWeZkFmer6w</td>\n",
              "      <td>The best part about this hotel: Lazy River Poo...</td>\n",
              "      <td>11</td>\n",
              "      <td>196</td>\n",
              "      <td>120</td>\n",
              "      <td>1.633333</td>\n",
              "    </tr>\n",
              "  </tbody>\n",
              "</table>\n",
              "</div>"
            ],
            "text/plain": [
              "                review_id  ... lexical_diversity\n",
              "0  t77Jis_u4WP-88JrduUydQ  ...          1.746988\n",
              "1  VyDN6eyaL4vTWLL0Hud89g  ...          2.120000\n",
              "2  Br65dKnhYlCesa8kJcdIew  ...          1.888199\n",
              "3  7VdWJy1Pfd5ifnLKoWqoYQ  ...          1.384615\n",
              "4  kvaR-XtPcWvxWeZkFmer6w  ...          1.633333\n",
              "\n",
              "[5 rows x 6 columns]"
            ]
          },
          "metadata": {
            "tags": []
          },
          "execution_count": 27
        }
      ]
    },
    {
      "cell_type": "code",
      "metadata": {
        "id": "ZOLQOowhzbF4"
      },
      "source": [
        "# remove stop words\n",
        "from nltk.corpus import stopwords\n",
        "stop_words = stopwords.words('english')\n",
        "Counter(nltk.)"
      ],
      "execution_count": null,
      "outputs": []
    }
  ]
}