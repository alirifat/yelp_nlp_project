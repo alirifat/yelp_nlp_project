{
 "cells": [
  {
   "cell_type": "markdown",
   "metadata": {},
   "source": [
    "# YELP Data Processing"
   ]
  },
  {
   "cell_type": "markdown",
   "metadata": {},
   "source": [
    "* Converts `json` files into `csv` files by running `yelp_json_to_csv.py`\n",
    "* Generate dummy variables when necessary\n",
    "* Process each csv file and rename variables if necessary"
   ]
  },
  {
   "cell_type": "markdown",
   "metadata": {},
   "source": [
    "[Yelp](https://www.yelp.com/dataset) dataset consists of six `json` files `business.json`, `review.json`, `user.json`, `checkin.json`, `tip.json` and `photo.json`. \n",
    "\n",
    "* `business.json` contains information about the businesses such as __name__ and __location__ of a business, it's __attributes__, and business __hours__ etc.\n",
    "\n",
    "\n",
    "* `review.json` has information about each posted review such as __user id__, __star__ rating, the __review__ itself, number of __useful__ votes etc.\n",
    "\n",
    "\n",
    "* `user.json` provides information about each YELP user such as first __name__, total number of __reviews__, list of __friends__, and average star __rating__ etc.\n",
    "\n",
    "\n",
    "* `checkin.json` has information about check-in for each business such as __business id__ and __date__.\n",
    "\n",
    "\n",
    "* `tip.json` _the shorter version of reviews and conveys quick suggestions_; provides information such as the __tip__ itself, the number of __compliments__ and __date__ etc.\n",
    "\n",
    "\n",
    "* `photo.json` contains information about each photo uploaded to YELP such as __photo id__ and photo __label__ etc.\n",
    "\n",
    "The main interest of this research is to identify the characteristics that makes a review useful and to use those characteristics to decide if a freshly posted review will be a useful one. For this reason, we will mostly interested in the following data: __businesses__, __reviews__, __users__ and __tips__.\n",
    "\n",
    "The detailed information and full list of features for each data file can be reached from the YELP [documentation](https://www.yelp.com/dataset)."
   ]
  },
  {
   "cell_type": "markdown",
   "metadata": {
    "ExecuteTime": {
     "end_time": "2020-12-04T04:04:42.826080Z",
     "start_time": "2020-12-04T04:04:42.819099Z"
    }
   },
   "source": [
    "# Table of Contents\n",
    "\n",
    "1. [Yelp Business Data](#Yelp-Business-Data)\n",
    "\n",
    "    1.1. [Data Processing](#Data-Processing)\n",
    "    \n",
    "2. [Yelp Review Data](#Yelp-Review-Data)\n",
    "3. [Yelp User Data](#Yelp-User-Data)"
   ]
  },
  {
   "cell_type": "code",
   "execution_count": 1,
   "metadata": {
    "ExecuteTime": {
     "end_time": "2020-12-12T00:29:24.147134Z",
     "start_time": "2020-12-12T00:29:23.862138Z"
    }
   },
   "outputs": [
    {
     "data": {
      "text/html": [
       "<style>.container { width:90% !important; }</style>"
      ],
      "text/plain": [
       "<IPython.core.display.HTML object>"
      ]
     },
     "metadata": {},
     "output_type": "display_data"
    }
   ],
   "source": [
    "# wider screen\n",
    "from IPython.core.display import display, HTML\n",
    "display(HTML('<style>.container { width:90% !important; }</style>'))\n",
    "from collections import Counter\n",
    "import json\n",
    "import pandas as pd\n",
    "import numpy as np"
   ]
  },
  {
   "cell_type": "markdown",
   "metadata": {
    "ExecuteTime": {
     "end_time": "2020-12-04T04:04:13.185883Z",
     "start_time": "2020-12-04T04:04:13.180866Z"
    }
   },
   "source": [
    "# Yelp Business Data"
   ]
  },
  {
   "cell_type": "markdown",
   "metadata": {},
   "source": [
    "The features in `business.json` file\n",
    "\n",
    "* `business_id`: (`str`) unique id of the business\n",
    "\n",
    "* `name`: (`str)` the business' name\n",
    "\n",
    "* `address`: (`str`) the full address of the business\n",
    "\n",
    "* `city`: (`str`) the city where the business is located\n",
    "\n",
    "* `state`: (`str`) the state where the business is located\n",
    "\n",
    "* `postal code`: (`str`) the postal code of the business\n",
    "\n",
    "* `latitude`: (`float`) latitude\n",
    "\n",
    "* `longitude`: (`float`) longitude\n",
    "\n",
    "* `stars`: (`float`) average star rating, rounded to half-stars\n",
    "\n",
    "* `review_count`: (`str`) total number of reviews given to the business\n",
    "\n",
    "* `is_open`: (`int`) (binary) indicates whether the business is still open\n",
    "\n",
    "* `attributes`: (`json`) attributes of the business\n",
    "\n",
    "* `categories`: (`list`) description of the business\n",
    "\n",
    "* `hours`: (`json`) the working hours of the business"
   ]
  },
  {
   "cell_type": "code",
   "execution_count": 2,
   "metadata": {
    "ExecuteTime": {
     "end_time": "2020-12-12T00:29:26.979891Z",
     "start_time": "2020-12-12T00:29:24.148103Z"
    }
   },
   "outputs": [
    {
     "data": {
      "text/html": [
       "<div>\n",
       "<style scoped>\n",
       "    .dataframe tbody tr th:only-of-type {\n",
       "        vertical-align: middle;\n",
       "    }\n",
       "\n",
       "    .dataframe tbody tr th {\n",
       "        vertical-align: top;\n",
       "    }\n",
       "\n",
       "    .dataframe thead th {\n",
       "        text-align: right;\n",
       "    }\n",
       "</style>\n",
       "<table border=\"1\" class=\"dataframe\">\n",
       "  <thead>\n",
       "    <tr style=\"text-align: right;\">\n",
       "      <th></th>\n",
       "      <th>business_id</th>\n",
       "      <th>name</th>\n",
       "      <th>address</th>\n",
       "      <th>city</th>\n",
       "      <th>state</th>\n",
       "      <th>postal_code</th>\n",
       "      <th>latitude</th>\n",
       "      <th>longitude</th>\n",
       "      <th>stars</th>\n",
       "      <th>review_count</th>\n",
       "      <th>is_open</th>\n",
       "      <th>attributes</th>\n",
       "      <th>categories</th>\n",
       "      <th>hours</th>\n",
       "    </tr>\n",
       "  </thead>\n",
       "  <tbody>\n",
       "    <tr>\n",
       "      <th>0</th>\n",
       "      <td>f9NumwFMBDn751xgFiRbNA</td>\n",
       "      <td>The Range At Lake Norman</td>\n",
       "      <td>10913 Bailey Rd</td>\n",
       "      <td>Cornelius</td>\n",
       "      <td>NC</td>\n",
       "      <td>28031</td>\n",
       "      <td>35.462724</td>\n",
       "      <td>-80.852612</td>\n",
       "      <td>3.5</td>\n",
       "      <td>36</td>\n",
       "      <td>1</td>\n",
       "      <td>{'BusinessAcceptsCreditCards': 'True', 'BikePa...</td>\n",
       "      <td>Active Life, Gun/Rifle Ranges, Guns &amp; Ammo, Sh...</td>\n",
       "      <td>{'Monday': '10:0-18:0', 'Tuesday': '11:0-20:0'...</td>\n",
       "    </tr>\n",
       "    <tr>\n",
       "      <th>1</th>\n",
       "      <td>Yzvjg0SayhoZgCljUJRF9Q</td>\n",
       "      <td>Carlos Santo, NMD</td>\n",
       "      <td>8880 E Via Linda, Ste 107</td>\n",
       "      <td>Scottsdale</td>\n",
       "      <td>AZ</td>\n",
       "      <td>85258</td>\n",
       "      <td>33.569404</td>\n",
       "      <td>-111.890264</td>\n",
       "      <td>5.0</td>\n",
       "      <td>4</td>\n",
       "      <td>1</td>\n",
       "      <td>{'GoodForKids': 'True', 'ByAppointmentOnly': '...</td>\n",
       "      <td>Health &amp; Medical, Fitness &amp; Instruction, Yoga,...</td>\n",
       "      <td>None</td>\n",
       "    </tr>\n",
       "    <tr>\n",
       "      <th>2</th>\n",
       "      <td>XNoUzKckATkOD1hP6vghZg</td>\n",
       "      <td>Felinus</td>\n",
       "      <td>3554 Rue Notre-Dame O</td>\n",
       "      <td>Montreal</td>\n",
       "      <td>QC</td>\n",
       "      <td>H4C 1P4</td>\n",
       "      <td>45.479984</td>\n",
       "      <td>-73.580070</td>\n",
       "      <td>5.0</td>\n",
       "      <td>5</td>\n",
       "      <td>1</td>\n",
       "      <td>None</td>\n",
       "      <td>Pets, Pet Services, Pet Groomers</td>\n",
       "      <td>None</td>\n",
       "    </tr>\n",
       "    <tr>\n",
       "      <th>3</th>\n",
       "      <td>6OAZjbxqM5ol29BuHsil3w</td>\n",
       "      <td>Nevada House of Hose</td>\n",
       "      <td>1015 Sharp Cir</td>\n",
       "      <td>North Las Vegas</td>\n",
       "      <td>NV</td>\n",
       "      <td>89030</td>\n",
       "      <td>36.219728</td>\n",
       "      <td>-115.127725</td>\n",
       "      <td>2.5</td>\n",
       "      <td>3</td>\n",
       "      <td>0</td>\n",
       "      <td>{'BusinessAcceptsCreditCards': 'True', 'ByAppo...</td>\n",
       "      <td>Hardware Stores, Home Services, Building Suppl...</td>\n",
       "      <td>{'Monday': '7:0-16:0', 'Tuesday': '7:0-16:0', ...</td>\n",
       "    </tr>\n",
       "    <tr>\n",
       "      <th>4</th>\n",
       "      <td>51M2Kk903DFYI6gnB5I6SQ</td>\n",
       "      <td>USE MY GUY SERVICES LLC</td>\n",
       "      <td>4827 E Downing Cir</td>\n",
       "      <td>Mesa</td>\n",
       "      <td>AZ</td>\n",
       "      <td>85205</td>\n",
       "      <td>33.428065</td>\n",
       "      <td>-111.726648</td>\n",
       "      <td>4.5</td>\n",
       "      <td>26</td>\n",
       "      <td>1</td>\n",
       "      <td>{'BusinessAcceptsCreditCards': 'True', 'ByAppo...</td>\n",
       "      <td>Home Services, Plumbing, Electricians, Handyma...</td>\n",
       "      <td>{'Monday': '0:0-0:0', 'Tuesday': '9:0-16:0', '...</td>\n",
       "    </tr>\n",
       "  </tbody>\n",
       "</table>\n",
       "</div>"
      ],
      "text/plain": [
       "              business_id                      name  \\\n",
       "0  f9NumwFMBDn751xgFiRbNA  The Range At Lake Norman   \n",
       "1  Yzvjg0SayhoZgCljUJRF9Q         Carlos Santo, NMD   \n",
       "2  XNoUzKckATkOD1hP6vghZg                   Felinus   \n",
       "3  6OAZjbxqM5ol29BuHsil3w      Nevada House of Hose   \n",
       "4  51M2Kk903DFYI6gnB5I6SQ   USE MY GUY SERVICES LLC   \n",
       "\n",
       "                     address             city state postal_code   latitude  \\\n",
       "0            10913 Bailey Rd        Cornelius    NC       28031  35.462724   \n",
       "1  8880 E Via Linda, Ste 107       Scottsdale    AZ       85258  33.569404   \n",
       "2      3554 Rue Notre-Dame O         Montreal    QC     H4C 1P4  45.479984   \n",
       "3             1015 Sharp Cir  North Las Vegas    NV       89030  36.219728   \n",
       "4         4827 E Downing Cir             Mesa    AZ       85205  33.428065   \n",
       "\n",
       "    longitude  stars  review_count  is_open  \\\n",
       "0  -80.852612    3.5            36        1   \n",
       "1 -111.890264    5.0             4        1   \n",
       "2  -73.580070    5.0             5        1   \n",
       "3 -115.127725    2.5             3        0   \n",
       "4 -111.726648    4.5            26        1   \n",
       "\n",
       "                                          attributes  \\\n",
       "0  {'BusinessAcceptsCreditCards': 'True', 'BikePa...   \n",
       "1  {'GoodForKids': 'True', 'ByAppointmentOnly': '...   \n",
       "2                                               None   \n",
       "3  {'BusinessAcceptsCreditCards': 'True', 'ByAppo...   \n",
       "4  {'BusinessAcceptsCreditCards': 'True', 'ByAppo...   \n",
       "\n",
       "                                          categories  \\\n",
       "0  Active Life, Gun/Rifle Ranges, Guns & Ammo, Sh...   \n",
       "1  Health & Medical, Fitness & Instruction, Yoga,...   \n",
       "2                   Pets, Pet Services, Pet Groomers   \n",
       "3  Hardware Stores, Home Services, Building Suppl...   \n",
       "4  Home Services, Plumbing, Electricians, Handyma...   \n",
       "\n",
       "                                               hours  \n",
       "0  {'Monday': '10:0-18:0', 'Tuesday': '11:0-20:0'...  \n",
       "1                                               None  \n",
       "2                                               None  \n",
       "3  {'Monday': '7:0-16:0', 'Tuesday': '7:0-16:0', ...  \n",
       "4  {'Monday': '0:0-0:0', 'Tuesday': '9:0-16:0', '...  "
      ]
     },
     "execution_count": 2,
     "metadata": {},
     "output_type": "execute_result"
    }
   ],
   "source": [
    "df = pd.read_json('yelp_data/yelp_academic_dataset_business.json', lines=True)\n",
    "df.head()"
   ]
  },
  {
   "cell_type": "markdown",
   "metadata": {},
   "source": [
    "## Data Processing"
   ]
  },
  {
   "cell_type": "code",
   "execution_count": 3,
   "metadata": {
    "ExecuteTime": {
     "end_time": "2020-12-12T00:29:26.985746Z",
     "start_time": "2020-12-12T00:29:26.980866Z"
    }
   },
   "outputs": [],
   "source": [
    "def get_list(x):\n",
    "        \"\"\"Returns a list of categories if applicable else returns a string.\"\"\"\n",
    "        try:\n",
    "            return x.split(', ')\n",
    "        except:\n",
    "            return 'NA'\n",
    "        \n",
    "def clean_json(text):\n",
    "    \"\"\"Cleans the problems with the Attributes JSON objects\"\"\"\n",
    "    if not isinstance(text, str):\n",
    "        text = str(text)\n",
    "    text = text.replace('True', '\"True\"')\n",
    "    text = text.replace('False', '\"False\"')\n",
    "    text = text.replace(\"'\", '\"')\n",
    "    text = text.replace('None', '\"False\"')\n",
    "    text = text.replace('\"DriveThr', '\"DriveThr\"')\n",
    "    text = text.replace('\"\"', '\"')\n",
    "    text = text.replace('u\"', '')\n",
    "    text = text.replace('\"{', '{').replace('}\"', '}')\n",
    "    return text\n",
    "\n",
    "def make_json(text):\n",
    "    \"\"\"Transform a string object into a JSON object\"\"\"\n",
    "    return json.loads(text)"
   ]
  },
  {
   "cell_type": "code",
   "execution_count": 4,
   "metadata": {
    "ExecuteTime": {
     "end_time": "2020-12-12T00:29:28.977753Z",
     "start_time": "2020-12-12T00:29:26.986722Z"
    }
   },
   "outputs": [],
   "source": [
    "# convert categories info from string to list\n",
    "df.categories = df.categories.apply(get_list)\n",
    "\n",
    "# https://www.yelp.com/developers/documentation/v3/all_category_list\n",
    "# identify categories\n",
    "d_categories = {\n",
    "    'active': 'Active Life',\n",
    "    'arts': 'Arts & Entertainment',\n",
    "    'auto': 'Automotive',\n",
    "    'beautysvc': 'Beauty & Spas',\n",
    "    'education': 'Education',\n",
    "    'eventservices': 'Event Planning & Services',\n",
    "    'financialservices': 'Financial Services',\n",
    "    'food': 'Food',\n",
    "    'health': 'Health & Medical',\n",
    "    'homeservices': 'Home Services',\n",
    "    'hotelstravel': 'Hotels & Travel',\n",
    "    'localflavor': 'Local Flavor',\n",
    "    'localservices': 'Local Services',\n",
    "    'massmedia': 'Mass Media',\n",
    "    'nightlife': 'Nightlife',\n",
    "    'pets': 'Pets',\n",
    "    'professional': 'Professional Services',\n",
    "    'publicservicesgovt': 'Public Services & Government',\n",
    "    'realestate': 'Real Estate',\n",
    "    'religiousorgs': 'Religious Organizations',\n",
    "    'restaurants': 'Restaurants',\n",
    "    'shopping': 'Shopping'\n",
    "}\n",
    "\n",
    "# convert categories into dummy variables\n",
    "for category in d_categories:\n",
    "    df[category] = df.categories.apply(\n",
    "    lambda x: 1 if d_categories[category] in x else 0)"
   ]
  },
  {
   "cell_type": "code",
   "execution_count": 5,
   "metadata": {
    "ExecuteTime": {
     "end_time": "2020-12-12T00:29:41.073059Z",
     "start_time": "2020-12-12T00:29:28.978653Z"
    },
    "scrolled": true
   },
   "outputs": [],
   "source": [
    "# convert attributes into dummy variables\n",
    "# Extract business attributes\n",
    "df.attributes = df.attributes.apply(clean_json)\n",
    "df.attributes = df.attributes.apply(make_json)\n",
    "df['has_attributes'] = df.attributes.apply(\n",
    "                                lambda x: 1 if isinstance(x, dict) else 0)\n",
    "mask = df.has_attributes == 1\n",
    "df_attributes = pd.json_normalize(df.loc[mask, 'attributes'].values)\n",
    "df_attributes['business_id'] = df[mask].business_id.values\n",
    "df = df.merge(df_attributes, on='business_id', how='left')"
   ]
  },
  {
   "cell_type": "code",
   "execution_count": 6,
   "metadata": {
    "ExecuteTime": {
     "end_time": "2020-12-12T00:29:41.211651Z",
     "start_time": "2020-12-12T00:29:41.075039Z"
    }
   },
   "outputs": [],
   "source": [
    "# Identify businesses in the US\n",
    "states = [\n",
    "'AL', 'AK', 'AZ', 'AR', 'CA', 'CO', 'CT', 'DE', 'FL', 'GA', 'HI', 'ID',\n",
    "'IL', 'IN', 'IA', 'KS', 'KY', 'LA', 'ME', 'MD', 'MA', 'MI', 'MN', 'MS',\n",
    "'MO', 'MT', 'NE', 'NV', 'NH', 'NJ', 'NM', 'NY', 'NC', 'ND', 'OH', 'OK',\n",
    "'OR', 'PA', 'RI', 'SC', 'SD', 'TN', 'TX', 'UT', 'VT', 'VA', 'WA', 'WV',\n",
    "'WI', 'WY']\n",
    "# generate a dummy variable which indicates if a business located in the US\n",
    "df['in_US'] = df.state.apply(lambda x: 1 if x in states else 0)"
   ]
  },
  {
   "cell_type": "code",
   "execution_count": 7,
   "metadata": {
    "ExecuteTime": {
     "end_time": "2020-12-12T00:29:41.216531Z",
     "start_time": "2020-12-12T00:29:41.212627Z"
    },
    "scrolled": false
   },
   "outputs": [
    {
     "data": {
      "text/plain": [
       "'business_id, name, address, city, state, postal_code, latitude, longitude, stars, review_count, is_open, attributes, categories, hours, active, arts, auto, beautysvc, education, eventservices, financialservices, food, health, homeservices, hotelstravel, localflavor, localservices, massmedia, nightlife, pets, professional, publicservicesgovt, realestate, religiousorgs, restaurants, shopping, has_attributes, BusinessAcceptsCreditCards, BikeParking, GoodForKids, ByAppointmentOnly, RestaurantsPriceRange2, BusinessParking.garage, BusinessParking.street, BusinessParking.validated, BusinessParking.lot, BusinessParking.valet, DogsAllowed, WiFi, RestaurantsAttire, RestaurantsTakeOut, NoiseLevel, RestaurantsReservations, RestaurantsGoodForGroups, BusinessParking, HasTV, Alcohol, RestaurantsDelivery, OutdoorSeating, Caters, WheelchairAccessible, AcceptsInsurance, RestaurantsTableService, HappyHour, Ambience.touristy, Ambience.hipster, Ambience.romantic, Ambience.intimate, Ambience.trendy, Ambience.upscale, Ambience.classy, Ambience.casual, GoodForMeal.dessert, GoodForMeal.latenight, GoodForMeal.lunch, GoodForMeal.dinner, GoodForMeal.brunch, GoodForMeal.breakfast, Ambience.divey, BusinessAcceptsBitcoin, BYOB, Corkage, GoodForDancing, CoatCheck, Smoking, BestNights.monday, BestNights.tuesday, BestNights.friday, BestNights.wednesday, BestNights.thursday, BestNights.sunday, BestNights.saturday, Music.dj, Music.background_music, Music.no_music, Music.jukebox, Music.live, Music.video, Music.karaoke, DietaryRestrictions.dairy-free, DietaryRestrictions.gluten-free, DietaryRestrictions.vegan, DietaryRestrictions.kosher, DietaryRestrictions.halal, DietaryRestrictions.soy-free, DietaryRestrictions.vegetarian, DriveThr, HairSpecializesIn.straightperms, HairSpecializesIn.coloring, HairSpecializesIn.extensions, HairSpecializesIn.africanamerican, HairSpecializesIn.curly, HairSpecializesIn.kids, HairSpecializesIn.perms, HairSpecializesIn.asian, BYOBCorkage, Ambience, GoodForMeal, AgesAllowed, RestaurantsCounterService, HairSpecializesIn, Music, Open24Hours, DietaryRestrictions, BestNights, in_US'"
      ]
     },
     "execution_count": 7,
     "metadata": {},
     "output_type": "execute_result"
    }
   ],
   "source": [
    "# complete list of columns after data processing\n",
    "', '.join(list(df.columns))"
   ]
  },
  {
   "cell_type": "code",
   "execution_count": 8,
   "metadata": {
    "ExecuteTime": {
     "end_time": "2020-12-12T00:29:46.504106Z",
     "start_time": "2020-12-12T00:29:41.216531Z"
    }
   },
   "outputs": [],
   "source": [
    "# Rename features\n",
    "df.rename(columns={'name': 'business_name',\n",
    "                   'stars': 'business_stars',\n",
    "                   'review_count': 'business_review_count'},\n",
    "          inplace=True)\n",
    "df.to_csv('yelp_data/yelp_academic_dataset_business.csv', index=False)"
   ]
  },
  {
   "cell_type": "markdown",
   "metadata": {},
   "source": [
    "# Yelp Review Data"
   ]
  },
  {
   "cell_type": "markdown",
   "metadata": {},
   "source": [
    "The features in `reviews.json` file\n",
    "\n",
    "* `review_id`: (`str`) unique id of the review\n",
    "\n",
    "* `user_id`: (`str`) unique id of the user\n",
    "\n",
    "* `business_id`: (`str`) unique id of the business\n",
    "\n",
    "* `stars`: (`int`) star rating\n",
    "\n",
    "* `date`: (`str`) date formatted `YYYY-MM-DD`\n",
    "\n",
    "* `text`: (`str`) the review itself\n",
    "\n",
    "* `useful`: (`int`) number of useful votes received\n",
    "\n",
    "* `funny`: (`int`) number of funny votes received\n",
    "\n",
    "* `cool`: (`int`) number of cool votes received"
   ]
  },
  {
   "cell_type": "code",
   "execution_count": 9,
   "metadata": {
    "ExecuteTime": {
     "end_time": "2020-12-12T00:33:38.054905Z",
     "start_time": "2020-12-12T00:29:46.505081Z"
    }
   },
   "outputs": [],
   "source": [
    "df = []\n",
    "with open('yelp_data/yelp_academic_dataset_review.json', encoding='utf-8') as fin:\n",
    "    for jsonline in fin:\n",
    "        df.append(json.loads(jsonline))\n",
    "df = pd.json_normalize(df)\n",
    "# generate dummy features\n",
    "df['is_useful'] = np.where(df.useful != 0, 1, 0)\n",
    "df['is_funny'] = np.where(df.funny != 0, 1, 0)\n",
    "df['is_cool'] = np.where(df.cool != 0, 1, 0)\n",
    "# Rename features\n",
    "df.rename(columns={'stars': 'review_stars',\n",
    "                   'useful': 'review_useful',\n",
    "                   'funny': 'review_funny',\n",
    "                   'cool': 'review_cool',\n",
    "                   'text': 'review',\n",
    "                   'date': 'review_date'},\n",
    "          inplace=True)\n",
    "df.to_csv('yelp_data/yelp_academic_dataset_review.csv', index=False)"
   ]
  },
  {
   "cell_type": "markdown",
   "metadata": {},
   "source": [
    "# Yelp User Data"
   ]
  },
  {
   "cell_type": "markdown",
   "metadata": {},
   "source": [
    "The features in `user.json` file\n",
    "\n",
    "* `user_id`: (`str`) unique id of the user\n",
    "\n",
    "* `name`: (`str`) user's first name\n",
    "\n",
    "* `review_count`: (`int`) total number of reviews of the user\n",
    "\n",
    "* `yelping_since`: (`str`) when the user joined Yelp, formatted `YYYY-MM-DD`\n",
    "\n",
    "* `friends`: (`list`) list of user's friends as `user_id`s\n",
    "\n",
    "* `useful`: (`int`) number of `useful` votes sent by the user\n",
    "\n",
    "* `funny`: (`int`) number of `funny` votes sent by the user\n",
    "\n",
    "* `cool`: (`int`) number of `cool` votes sent by the user\n",
    "\n",
    "* `fans`: (`int`) number of fans the user has\n",
    "\n",
    "* `elite`: (`list`) list of the years the user was elite\n",
    "\n",
    "* `average_stars`: (`float`) average star rating of all reviews of the user\n",
    "\n",
    "* `compliment_hot`: (`int`) number of hot compliments recieved by the user\n",
    "\n",
    "* `compliment_more`: (`int`) number of more compliments received by the user\n",
    "\n",
    "* `compliment_profile`: (`int`) number of profile compliments received by the user\n",
    "\n",
    "* `compliment_cute`: (`int`) number of cute compliments received by the user\n",
    "\n",
    "* `compliment_list`: (`int`) number of list compliments received by the user\n",
    "\n",
    "* `compliment_note`: (`int`) number of note compliments received by the user\n",
    "\n",
    "* `compliment_plain`: (`int`) number of plain compliments received by the user\n",
    "\n",
    "* `compliment_cool`: (`int`) number of cool compliments received by the user\n",
    "\n",
    "* `compliment_funny`: (`int`) number of funny compliments received by the user\n",
    "\n",
    "* `compliment_writer`: (`int`) number of writer compliments received by the user\n",
    "\n",
    "* `compliment_photos`: (`int`) number of photo compliments received by the user"
   ]
  },
  {
   "cell_type": "code",
   "execution_count": 10,
   "metadata": {
    "ExecuteTime": {
     "end_time": "2020-12-12T00:35:34.730782Z",
     "start_time": "2020-12-12T00:33:38.055878Z"
    }
   },
   "outputs": [],
   "source": [
    "df = []\n",
    "with open('yelp_data/yelp_academic_dataset_user.json', encoding='utf-8') as fin:\n",
    "    for jsonline in fin:\n",
    "        df.append(json.loads(jsonline))\n",
    "df = pd.json_normalize(df)\n",
    "# Rename features\n",
    "df.rename(columns={'name': 'user_name',\n",
    "                   'review_count': 'user_review_count',\n",
    "                   'useful': 'user_useful',\n",
    "                   'funny': 'user_funny',\n",
    "                   'cool': 'user_cool',\n",
    "                   'average_stars': 'user_average_stars'},\n",
    "          inplace=True)\n",
    "df.to_csv('yelp_data/yelp_academic_dataset_user.csv', index=False)"
   ]
  }
 ],
 "metadata": {
  "hide_input": false,
  "kernelspec": {
   "display_name": "Python 3",
   "language": "python",
   "name": "python3"
  },
  "language_info": {
   "codemirror_mode": {
    "name": "ipython",
    "version": 3
   },
   "file_extension": ".py",
   "mimetype": "text/x-python",
   "name": "python",
   "nbconvert_exporter": "python",
   "pygments_lexer": "ipython3",
   "version": "3.8.3"
  },
  "toc": {
   "base_numbering": 1,
   "nav_menu": {},
   "number_sections": true,
   "sideBar": true,
   "skip_h1_title": false,
   "title_cell": "Table of Contents",
   "title_sidebar": "Contents",
   "toc_cell": false,
   "toc_position": {},
   "toc_section_display": true,
   "toc_window_display": false
  },
  "varInspector": {
   "cols": {
    "lenName": 16,
    "lenType": 16,
    "lenVar": 40
   },
   "kernels_config": {
    "python": {
     "delete_cmd_postfix": "",
     "delete_cmd_prefix": "del ",
     "library": "var_list.py",
     "varRefreshCmd": "print(var_dic_list())"
    },
    "r": {
     "delete_cmd_postfix": ") ",
     "delete_cmd_prefix": "rm(",
     "library": "var_list.r",
     "varRefreshCmd": "cat(var_dic_list()) "
    }
   },
   "types_to_exclude": [
    "module",
    "function",
    "builtin_function_or_method",
    "instance",
    "_Feature"
   ],
   "window_display": false
  }
 },
 "nbformat": 4,
 "nbformat_minor": 4
}
