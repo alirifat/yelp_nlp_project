{
 "cells": [
  {
   "cell_type": "markdown",
   "metadata": {},
   "source": [
    "# Data Cleaning and Feature Engineering"
   ]
  },
  {
   "cell_type": "markdown",
   "metadata": {},
   "source": [
    "__Update the information related to the restaurants business!!!__\n",
    "\n",
    "\n",
    "__Give a Summary of What have been done in the EDA Process!!!__\n",
    "\n",
    "\n",
    "\n",
    "* Focus on businesses in the shopping industry which still operate and located in the United States - reduced the number of businesses from 210k to 20k.\n",
    "* Accordingly, select only the reviews belong to a shopping business - reduced the number of reviews from 8.2m to 485k\n",
    "* Sample size for the users reduced from ~2m to 277k"
   ]
  },
  {
   "cell_type": "markdown",
   "metadata": {},
   "source": [
    "# Table of Contents\n",
    "\n",
    "1. [Import Libraries & Data](#Import-Libraries-&-Data)\n",
    "\n",
    "    1.1. [Data](#Data)\n",
    " \n",
    "\n",
    "2. [Basic Feature Engineering](#Basic-Feature-Engineering)\n",
    "\n",
    "\n",
    "3. [Exploratory Data Analysis](#Exploratory-Data-Analysis)\n",
    "\n",
    "    3.1. [The Number of Sentences](#The-Number-of-Sentences)\n",
    "    \n",
    "    3.2. [The Number of Words](#The-Number-of-Words)\n",
    "    \n",
    "    3.3. [The Number of Unique Words](#The-Number-of-Unique-Words)\n",
    "    \n",
    "    3.4. [The Number of Punctuations](#The-Number-of-Punctuations)\n",
    "    \n",
    "    3.6. [The Number of Exclamation Marks](#The-Number-of-Exclamation-Marks)\n",
    "    \n",
    "    3.7. [The Number of Digits](#The-Number-of-Digits)\n",
    "    \n",
    "    3.8. [The Number of Dollar Signs](#The-Number-of-Dollar-Signs)\n",
    "    \n",
    "    3.9. [The Number of Uppercase Words](#The-Number-of-Uppercase-Words)\n",
    "    \n",
    "    3.10. [The Number of Titlecase Words](#The-Number-of-Titlecase-Words)\n",
    "    \n",
    "    3.11. [The Number of Letters](#The-Number-of-Lettters)\n",
    "    \n",
    "    3.12. [The Average Word Length](#The-Average-Word-Length)\n",
    "    \n",
    "    3.13. [Correlation Among The Features](#Correlation-Among-The-Features)\n",
    "    \n",
    "    \n",
    " 4. [Data Cleaning & Text Mining](#Data-Cleaning-&-Text-Mining)\n",
    " \n",
    "    4.1. [Language Detection](#Language-Detection)\n",
    "    \n",
    "    4.2. [Businesses with Most Reviews](#Businesses-with-Most-Reviews)\n",
    "    \n",
    "    4.3. [Explore the Corpus](#Explore-the-Corpus)\n",
    "    \n",
    "    4.4. [Text Mining](#Text-Mining)\n",
    "    \n",
    "    4.5. [Text Cleaning](#Text-Cleaning)"
   ]
  },
  {
   "cell_type": "markdown",
   "metadata": {},
   "source": [
    "# Import Libraries & Data"
   ]
  },
  {
   "cell_type": "code",
   "execution_count": 1,
   "metadata": {
    "ExecuteTime": {
     "end_time": "2020-12-21T04:37:57.802873Z",
     "start_time": "2020-12-21T04:37:57.787363Z"
    }
   },
   "outputs": [],
   "source": [
    "# import sys\n",
    "# !{sys.executable} -m pip install textblob\n",
    "# !{sys.executable} -m pip install googletrans\n",
    "# !{sys.executable} -m pip install langdetect\n",
    "# !{sys.executable} -m pip install contractions\n",
    "# !{sys.executable} -m pip install spacy\n",
    "# !{sys.executable} -m spacy download en\n",
    "# !{sys.executable} -m pip install emoji\n",
    "# !{sys.executable} -m pip install emot"
   ]
  },
  {
   "cell_type": "code",
   "execution_count": 2,
   "metadata": {
    "ExecuteTime": {
     "end_time": "2020-12-21T04:38:00.057491Z",
     "start_time": "2020-12-21T04:37:57.803841Z"
    }
   },
   "outputs": [
    {
     "data": {
      "text/html": [
       "<style>.container { width:90% !important; }</style>"
      ],
      "text/plain": [
       "<IPython.core.display.HTML object>"
      ]
     },
     "metadata": {},
     "output_type": "display_data"
    }
   ],
   "source": [
    "import pandas as pd\n",
    "import numpy as np\n",
    "import matplotlib.pyplot as plt\n",
    "import seaborn as sns\n",
    "import re\n",
    "import contractions\n",
    "import spacy\n",
    "import scipy.stats\n",
    "\n",
    "import nltk\n",
    "# nltk.download('stopwords', quiet=True)\n",
    "# nltk.download('punkt', quiet=True)\n",
    "# nltk.download('crubadan')\n",
    "from nltk.tokenize import sent_tokenize, word_tokenize\n",
    "from nltk.stem import SnowballStemmer\n",
    "from string import whitespace, punctuation, digits\n",
    "from emot.emo_unicode import UNICODE_EMO, EMOTICONS\n",
    "from langdetect import detect\n",
    "\n",
    "from collections import Counter\n",
    "from IPython.core.display import display, HTML\n",
    "\n",
    "stemmer = SnowballStemmer('english')\n",
    "nlp = spacy.load('en', disable=['parser', 'ner'])\n",
    "display(HTML('<style>.container { width:90% !important; }</style>'))"
   ]
  },
  {
   "cell_type": "code",
   "execution_count": 3,
   "metadata": {
    "ExecuteTime": {
     "end_time": "2020-12-21T04:38:00.073220Z",
     "start_time": "2020-12-21T04:38:00.057491Z"
    }
   },
   "outputs": [],
   "source": [
    "# import stopwords as dict\n",
    "# dict lookup much faster than list look up because of hashing\n",
    "with open('smart_stopwords.txt', 'r') as fin:\n",
    "    stop_words = {word.strip() : None for word in fin.readlines()}"
   ]
  },
  {
   "cell_type": "code",
   "execution_count": 4,
   "metadata": {
    "ExecuteTime": {
     "end_time": "2020-12-21T04:38:00.088376Z",
     "start_time": "2020-12-21T04:38:00.075215Z"
    }
   },
   "outputs": [],
   "source": [
    "# # https://github.com/dwyl/english-words\n",
    "# with open('english_words.txt', 'r') as fin:\n",
    "#     english_words = {word.strip(): None for word in fin.readlines()}"
   ]
  },
  {
   "cell_type": "markdown",
   "metadata": {},
   "source": [
    "## Data"
   ]
  },
  {
   "cell_type": "code",
   "execution_count": 5,
   "metadata": {
    "ExecuteTime": {
     "end_time": "2020-12-21T04:38:15.917538Z",
     "start_time": "2020-12-21T04:38:00.089372Z"
    },
    "scrolled": false
   },
   "outputs": [
    {
     "data": {
      "text/html": [
       "<div>\n",
       "<style scoped>\n",
       "    .dataframe tbody tr th:only-of-type {\n",
       "        vertical-align: middle;\n",
       "    }\n",
       "\n",
       "    .dataframe tbody tr th {\n",
       "        vertical-align: top;\n",
       "    }\n",
       "\n",
       "    .dataframe thead th {\n",
       "        text-align: right;\n",
       "    }\n",
       "</style>\n",
       "<table border=\"1\" class=\"dataframe\">\n",
       "  <thead>\n",
       "    <tr style=\"text-align: right;\">\n",
       "      <th></th>\n",
       "      <th>review_id</th>\n",
       "      <th>user_id</th>\n",
       "      <th>business_id</th>\n",
       "      <th>review_stars</th>\n",
       "      <th>review_useful</th>\n",
       "      <th>review_funny</th>\n",
       "      <th>review_cool</th>\n",
       "      <th>review</th>\n",
       "      <th>review_date</th>\n",
       "    </tr>\n",
       "  </thead>\n",
       "  <tbody>\n",
       "    <tr>\n",
       "      <th>0</th>\n",
       "      <td>2TtLt9skrBwBM6QGEhFYCg</td>\n",
       "      <td>eSQ3z93DlzkpXK_H6MFEMw</td>\n",
       "      <td>pQeaRpvuhoEqudo3uymHIQ</td>\n",
       "      <td>5.0</td>\n",
       "      <td>0</td>\n",
       "      <td>0</td>\n",
       "      <td>0</td>\n",
       "      <td>I love the empanadas from the Empanadas House!...</td>\n",
       "      <td>2013-04-11 18:36:15</td>\n",
       "    </tr>\n",
       "    <tr>\n",
       "      <th>1</th>\n",
       "      <td>G16jgK2n4QgEfAr4YIs0iA</td>\n",
       "      <td>5So3uZiWDmow4eG8Va0WhQ</td>\n",
       "      <td>pQeaRpvuhoEqudo3uymHIQ</td>\n",
       "      <td>5.0</td>\n",
       "      <td>0</td>\n",
       "      <td>0</td>\n",
       "      <td>0</td>\n",
       "      <td>I ordered feta cheese and spinach empanadas an...</td>\n",
       "      <td>2017-09-21 17:45:53</td>\n",
       "    </tr>\n",
       "    <tr>\n",
       "      <th>2</th>\n",
       "      <td>EHZ9uJhGt3H3XVuR_G_ysA</td>\n",
       "      <td>Oh1CPqH5zBZfDEC_2ueTow</td>\n",
       "      <td>pQeaRpvuhoEqudo3uymHIQ</td>\n",
       "      <td>2.0</td>\n",
       "      <td>0</td>\n",
       "      <td>0</td>\n",
       "      <td>0</td>\n",
       "      <td>I went to the place on Green St today. I went ...</td>\n",
       "      <td>2014-10-07 01:07:00</td>\n",
       "    </tr>\n",
       "    <tr>\n",
       "      <th>3</th>\n",
       "      <td>sO9ujibiSiQeiHYNpuER8w</td>\n",
       "      <td>vtqj_61x-cpLjrj1dBQTjQ</td>\n",
       "      <td>pQeaRpvuhoEqudo3uymHIQ</td>\n",
       "      <td>5.0</td>\n",
       "      <td>1</td>\n",
       "      <td>0</td>\n",
       "      <td>0</td>\n",
       "      <td>These empanadas are excellent- we are Argentin...</td>\n",
       "      <td>2013-07-10 18:26:33</td>\n",
       "    </tr>\n",
       "    <tr>\n",
       "      <th>4</th>\n",
       "      <td>-xl-rka_yUUFVdLJsfPi4A</td>\n",
       "      <td>aVWzh3hpLVUSVWSds75Sig</td>\n",
       "      <td>pQeaRpvuhoEqudo3uymHIQ</td>\n",
       "      <td>5.0</td>\n",
       "      <td>0</td>\n",
       "      <td>0</td>\n",
       "      <td>0</td>\n",
       "      <td>These empanadas are HUGE and in my opinion bet...</td>\n",
       "      <td>2019-05-07 03:12:10</td>\n",
       "    </tr>\n",
       "  </tbody>\n",
       "</table>\n",
       "</div>"
      ],
      "text/plain": [
       "                review_id                 user_id             business_id  \\\n",
       "0  2TtLt9skrBwBM6QGEhFYCg  eSQ3z93DlzkpXK_H6MFEMw  pQeaRpvuhoEqudo3uymHIQ   \n",
       "1  G16jgK2n4QgEfAr4YIs0iA  5So3uZiWDmow4eG8Va0WhQ  pQeaRpvuhoEqudo3uymHIQ   \n",
       "2  EHZ9uJhGt3H3XVuR_G_ysA  Oh1CPqH5zBZfDEC_2ueTow  pQeaRpvuhoEqudo3uymHIQ   \n",
       "3  sO9ujibiSiQeiHYNpuER8w  vtqj_61x-cpLjrj1dBQTjQ  pQeaRpvuhoEqudo3uymHIQ   \n",
       "4  -xl-rka_yUUFVdLJsfPi4A  aVWzh3hpLVUSVWSds75Sig  pQeaRpvuhoEqudo3uymHIQ   \n",
       "\n",
       "   review_stars  review_useful  review_funny  review_cool  \\\n",
       "0           5.0              0             0            0   \n",
       "1           5.0              0             0            0   \n",
       "2           2.0              0             0            0   \n",
       "3           5.0              1             0            0   \n",
       "4           5.0              0             0            0   \n",
       "\n",
       "                                              review          review_date  \n",
       "0  I love the empanadas from the Empanadas House!...  2013-04-11 18:36:15  \n",
       "1  I ordered feta cheese and spinach empanadas an...  2017-09-21 17:45:53  \n",
       "2  I went to the place on Green St today. I went ...  2014-10-07 01:07:00  \n",
       "3  These empanadas are excellent- we are Argentin...  2013-07-10 18:26:33  \n",
       "4  These empanadas are HUGE and in my opinion bet...  2019-05-07 03:12:10  "
      ]
     },
     "execution_count": 5,
     "metadata": {},
     "output_type": "execute_result"
    }
   ],
   "source": [
    "df = pd.read_csv('yelp_review_data.csv')\n",
    "df.head()"
   ]
  },
  {
   "cell_type": "code",
   "execution_count": 6,
   "metadata": {
    "ExecuteTime": {
     "end_time": "2020-12-21T04:38:18.797446Z",
     "start_time": "2020-12-21T04:38:15.917538Z"
    }
   },
   "outputs": [
    {
     "name": "stdout",
     "output_type": "stream",
     "text": [
      "\n",
      "        Numbers about the restaurants reviews:\n",
      "            \n",
      "            * 3,487,937 reviews\n",
      "            * 1,116,634 users\n",
      "            * 25,827 businesses.\n",
      "                \n",
      "        However, 9,073 reviews are duplicated and will be dropped from the data.\n",
      "      \n"
     ]
    }
   ],
   "source": [
    "# check if there is duplicated reviews\n",
    "print(\"\"\"\n",
    "        Numbers about the restaurants reviews:\n",
    "            \n",
    "            * {:,} reviews\n",
    "            * {:,} users\n",
    "            * {:,} businesses.\n",
    "                \n",
    "        However, {:,} reviews are duplicated and will be dropped from the data.\n",
    "      \"\"\"\n",
    "      .format(df.shape[0],\n",
    "              df.user_id.unique().shape[0],\n",
    "              df.business_id.unique().shape[0],\n",
    "              df[df.review.duplicated()].shape[0]))"
   ]
  },
  {
   "cell_type": "code",
   "execution_count": 7,
   "metadata": {
    "ExecuteTime": {
     "end_time": "2020-12-21T04:38:20.967856Z",
     "start_time": "2020-12-21T04:38:18.797959Z"
    },
    "scrolled": true
   },
   "outputs": [],
   "source": [
    "# drop duplicated reviews\n",
    "df.drop_duplicates(subset='review', keep='first', inplace=True)"
   ]
  },
  {
   "cell_type": "code",
   "execution_count": 8,
   "metadata": {
    "ExecuteTime": {
     "end_time": "2020-12-21T04:38:21.597840Z",
     "start_time": "2020-12-21T04:38:20.969106Z"
    },
    "scrolled": true
   },
   "outputs": [
    {
     "name": "stdout",
     "output_type": "stream",
     "text": [
      "<class 'pandas.core.frame.DataFrame'>\n",
      "Int64Index: 3478864 entries, 0 to 3487936\n",
      "Data columns (total 9 columns):\n",
      " #   Column         Non-Null Count    Dtype  \n",
      "---  ------         --------------    -----  \n",
      " 0   review_id      3478864 non-null  object \n",
      " 1   user_id        3478864 non-null  object \n",
      " 2   business_id    3478864 non-null  object \n",
      " 3   review_stars   3478864 non-null  float64\n",
      " 4   review_useful  3478864 non-null  int64  \n",
      " 5   review_funny   3478864 non-null  int64  \n",
      " 6   review_cool    3478864 non-null  int64  \n",
      " 7   review         3478863 non-null  object \n",
      " 8   review_date    3478864 non-null  object \n",
      "dtypes: float64(1), int64(3), object(5)\n",
      "memory usage: 265.4+ MB\n"
     ]
    }
   ],
   "source": [
    "df.info(verbose=True, null_counts=True)"
   ]
  },
  {
   "cell_type": "code",
   "execution_count": 9,
   "metadata": {
    "ExecuteTime": {
     "end_time": "2020-12-21T04:38:22.247836Z",
     "start_time": "2020-12-21T04:38:21.598923Z"
    }
   },
   "outputs": [],
   "source": [
    "# There is one null value in the reviews\n",
    "df = df.loc[df.review.notnull()]"
   ]
  },
  {
   "cell_type": "markdown",
   "metadata": {},
   "source": [
    "# Basic Feature Engineering"
   ]
  },
  {
   "cell_type": "markdown",
   "metadata": {},
   "source": [
    "* In this stage, we will focus on the basic text features.\n",
    "* We will compute the following features for each document in the corpus.\n",
    "\n",
    "\n",
    "    1. Number of Sentences\n",
    "    2. Number of Words\n",
    "    3. Number of Unique Words\n",
    "    4. Number of Punctuations\n",
    "    5. Number of Exclamation Marks\n",
    "    6. Number of Digits\n",
    "    7. Number of Dollar Sign\n",
    "    8. Number of Stop Words\n",
    "    9. Number of Uppercase Words\n",
    "    10. Number of Titlecase Words\n",
    "    11. Number of Letters\n",
    "    12. Average Word Length"
   ]
  },
  {
   "cell_type": "code",
   "execution_count": 10,
   "metadata": {
    "ExecuteTime": {
     "end_time": "2020-12-21T05:12:29.262213Z",
     "start_time": "2020-12-21T04:38:22.247836Z"
    }
   },
   "outputs": [],
   "source": [
    "# tokenize reviews\n",
    "df['word_tokens'] = df.review.apply(nltk.word_tokenize)"
   ]
  },
  {
   "cell_type": "code",
   "execution_count": 11,
   "metadata": {
    "ExecuteTime": {
     "end_time": "2020-12-21T05:32:10.202152Z",
     "start_time": "2020-12-21T05:12:29.263189Z"
    }
   },
   "outputs": [],
   "source": [
    "# Feature engineering\n",
    "df['length_sent'] = df.review.apply(lambda x: len(nltk.sent_tokenize(x)))\n",
    "df['length_word'] = df.word_tokens.apply(lambda x: len(x))\n",
    "df['set_word'] = df.word_tokens.apply(\n",
    "    lambda x: len(set([w.lower() for w in x])))\n",
    "df['length_punct'] = df.review.apply(\n",
    "    lambda x: len([p for p in x if p in punctuation]))\n",
    "df['length_exclamation'] = df.review.apply(\n",
    "    lambda x: len([p for p in x if p == '!']))\n",
    "df['length_digits'] = df.review.apply(\n",
    "    lambda x: len([d for d in x if d in digits]))\n",
    "df['length_dollar'] = df.review.apply(\n",
    "    lambda x: len([char for char in x if char == '$']))\n",
    "df['length_stopwords'] = df.word_tokens.apply(\n",
    "    lambda x: len([w for w in x if w.lower() in stop_words]))\n",
    "df['length_upper'] = df.word_tokens.apply(\n",
    "    lambda x: len([w for w in x if w.isupper()]))\n",
    "df['length_title'] = df.word_tokens.apply(\n",
    "    lambda x: len([w for w in x if w.istitle()]))\n",
    "df['length_char'] = df.review.apply(lambda x: len(\n",
    "    [char for char in x if char not in punctuation + whitespace + digits]))\n",
    "df['average_length_words'] = df.word_tokens.apply(\n",
    "    lambda x: np.mean([len(w) for w in x]))"
   ]
  },
  {
   "cell_type": "markdown",
   "metadata": {},
   "source": [
    "# Exploratory Data Analysis"
   ]
  },
  {
   "cell_type": "code",
   "execution_count": 12,
   "metadata": {
    "ExecuteTime": {
     "end_time": "2020-12-21T05:32:13.824353Z",
     "start_time": "2020-12-21T05:32:10.203123Z"
    },
    "scrolled": false
   },
   "outputs": [
    {
     "data": {
      "image/png": "[encoded data removed]",
      "text/plain": [
       "<Figure size 1296x1440 with 12 Axes>"
      ]
     },
     "metadata": {
      "needs_background": "light"
     },
     "output_type": "display_data"
    }
   ],
   "source": [
    "features = ['length_sent', 'length_word', 'set_word', 'length_punct',\n",
    "            'length_exclamation', 'length_digits', 'length_dollar',\n",
    "            'length_stopwords', 'length_upper', 'length_title', 'length_char',\n",
    "            'average_length_words']\n",
    "titles = ['Number of Sentences', 'Number of Words', 'Number of Unique Words',\n",
    "          'Number of Punctuations', 'Number of Exclamation Marks',\n",
    "          'Number of Digits', 'Number of Dollar Sign', 'Number of Stop Words',\n",
    "          'Number of Uppercase Words', 'Number of Titlecase Words',\n",
    "          'Number of Letters', 'Average Word Length']\n",
    "d = dict(list(zip(features, titles)))\n",
    "fig, axes = plt.subplots(4, 3)  # generates figure and axis objects\n",
    "fig.set_size_inches([18, 20])  # adjust the figure size in inches\n",
    "axes = axes.flatten()\n",
    "for feature, ax in zip(list(d.keys()), axes):\n",
    "    ax.hist(df[feature].values, edgecolor='k')\n",
    "    ax.set_yscale('log')\n",
    "    ax.set_title(d[feature], size=18)\n",
    "plt.tight_layout()\n",
    "plt.show()"
   ]
  },
  {
   "cell_type": "markdown",
   "metadata": {},
   "source": [
    "* The histograms are log-scaled in order to see extreme values.\n",
    "* __Average Word Length__ and __Number of Punctuations__ have suspicious values.\n",
    "* Moreover, there are extreme values in each feature. We will check them in the next section."
   ]
  },
  {
   "cell_type": "markdown",
   "metadata": {},
   "source": [
    "## The Number of Sentences"
   ]
  },
  {
   "cell_type": "code",
   "execution_count": 13,
   "metadata": {
    "ExecuteTime": {
     "end_time": "2020-12-21T05:32:14.860090Z",
     "start_time": "2020-12-21T05:32:13.825346Z"
    }
   },
   "outputs": [
    {
     "name": "stdout",
     "output_type": "stream",
     "text": [
      "Ugh.  I have so much to say about this place.  Hot wings. Hot wings.  Hot wings. Hot wings.  Hot wings. Hot wings.  Hot wings. Hot wings.  Hot wings. Hot wings.  Hot wings. Hot wings.  Hot wings. Hot wings.  Hot wings.  Hot wings. Hot wings.  Hot wings. Hot wings.  Hot wings. Hot wings.  Hot wings. Hot wings.  Hot wings.  Hot wings. Hot wings.  Hot wings. Hot wings.  Hot wings. Hot wings.  Hot wings. Hot wings.  Hot wings. Hot wings.  Hot wings. Hot wings.  Hot wings. Hot wings.  Hot wings.  Hot wings. Hot wings.  Hot wings. Hot wings.  Hot wings. Hot wings.  Hot wings. Hot wings.  Hot wings.  Hot wings. Hot wings.  Hot wings. Hot wings.  Hot wings. Hot wings.  Hot wings. Hot wings.  Hot wings. Hot wings.  Hot wings. Hot wings.  Hot wings. Hot wings.  Hot wings.  Hot wings. Hot wings.  Hot wings. Hot wings.  Hot wings. Hot wings.  Hot wings. Hot wings.  Hot wings.  Hot wings. Hot wings.  Hot wings. Hot wings.  Hot wings. Hot wings.  Hot wings. Hot wings.  Hot wings. Hot wings.  Hot wings. Hot wings.  Hot wings. Hot wings.  Hot wings.  Hot wings. Hot wings.  Hot wings. Hot wings.  Hot wings. Hot wings.  Hot wings. Hot wings.  Hot wings.  Hot wings. Hot wings.  Hot wings. Hot wings.  Hot wings. Hot wings.  Hot wings. Hot wings.  Hot wings. Hot wings.  Hot wings. Hot wings.  Hot wings. Hot wings.  Hot wings.  Hot wings. Hot wings.  Hot wings. Hot wings.  Hot wings. Hot wings.  Hot wings. Hot wings.  Hot wings.  Hot wings. Hot wings.  Hot wings. Hot wings.  Hot wings. Hot wings.  Hot wings. Hot wings.  Hot wings. Hot wings.  Hot wings. Hot wings.  Hot wings. Hot wings.  Hot wings.  Hot wings. Hot wings.  Hot wings. Hot wings.  Hot wings. Hot wings.  Hot wings. Hot wings.  Hot wings.  Hot wings. Hot wings.  Hot wings. Hot wings.  Hot wings. Hot wings.  Hot wings. Hot wings.  Hot wings. Hot wings.  Hot wings.  Hot wings. Hot wings.  Hot wings. Hot wings.  Hot wings. Hot wings.  Hot wings. Hot wings.  Hot wings. Hot wings.  Hot wings. Hot wings.  Hot wings. Hot wings.  Hot wings.  Hot wings. Hot wings.  Hot wings. Hot wings.  Hot wings. Hot wings.  Hot wings. Hot wings.  Hot wings.  Hot wings. Hot wings.  Hot wings. Hot wings.  Hot wings. Hot wings.  Hot wings. Hot wings.  Hot wings. Hot wings.  Hot wings. Hot wings.  Hot wings. Hot wings.  Hot wings.  Hot wings. Hot wings.  Hot wings. Hot wings.  Hot wings. Hot wings.  Hot wings. Hot wings.  Hot wings.  Hot wings. Hot wings.  Hot wings. Hot wings.  Hot wings. Hot wings.  Hot wings. Hot wings.  Hot wings. Hot wings.  Hot wings.  Hot wings. Hot wings.  Hot wings. Hot wings.  Hot wings. Hot wings.  Hot wings. Hot wings.  Hot wings. Hot wings.  Hot wings. Hot wings.  Hot wings. Hot wings.  Hot wings.  Hot wings. Hot wings.  Hot wings. Hot wings.  Hot wings. Hot wings.  Hot wings. Hot wings.  Hot wings.  Hot wings. Hot wings.  Hot wings. Hot wings.  Hot wings. Hot wings.  Hot wings. Hot wings.  Hot wings. Hot wings.  Hot wings. Hot wings.  Hot wings. Hot wings.  Hot wings.  Hot wings. Hot wings.  Hot wings. Hot wings.  Hot wings. Hot wings.  Hot wings. Hot wings.  Hot wings.  Hot wings. Hot wings.  Hot wings. Hot wings.  Hot wings. Hot wings.  Hot wings. Hot wings.  \n",
      "\n",
      "\n",
      "They have other stuff that's really good.  But the hot wings are amaaaaaaazing.\n",
      "\n",
      "(I like this place)\n"
     ]
    }
   ],
   "source": [
    "# each dot counted as a separate sentence\n",
    "print(df[df.length_sent == df.length_sent.max()].review.values[0])"
   ]
  },
  {
   "cell_type": "markdown",
   "metadata": {},
   "source": [
    "## The Number of Words"
   ]
  },
  {
   "cell_type": "code",
   "execution_count": 14,
   "metadata": {
    "ExecuteTime": {
     "end_time": "2020-12-21T05:32:14.872856Z",
     "start_time": "2020-12-21T05:32:14.861067Z"
    },
    "scrolled": false
   },
   "outputs": [
    {
     "name": "stdout",
     "output_type": "stream",
     "text": [
      "(aka. SKETCHY TEMPE with BONNIE G, Part Three of Three)\n",
      "\n",
      "SET-UP: Bonnie G and Mr K walk up to the Palo Verde Lounge, a tiny run-down box nestled in the armpit of Broadway, gleaming in the diviest of glories. The outside light may as well have been flickering (but it wasn't). \n",
      "\n",
      "BONNIE G:  \"So, Mr K, what do you think? Isn't it all you ever dreamed about? You know it is.\" \n",
      "\n",
      "ACTION: Mr K stands there for a second and takes in the aura. It is what he always dreamed about. \n",
      "\n",
      "MR: \"Hell yeah. Let's do it.\" \n",
      "\n",
      "ACTION: Bonnie G smiles. They walk in.\n",
      "\n",
      "SCENE: Small place. Like a shoebox. A very divey shoebox which may have seen better days. Or perhaps each of its days has always been this way. Pool table to the left. Bar to the right. Graffiti this way and that. Some palpable decrepitation. Behind the bar, a microwave. Stale scent of lingering smoke of many years still permeates. Faint scent of other odors, too. Some hipsters milling about, doing whatever it is hipsters do. Others of a more miscreant yet harmless variety. Bartender with long hair and glasses hanging out behind the counter. Mr K stands there at the door.\n",
      "\n",
      "MR K: \"Niiiice.\"\n",
      "\n",
      "ACTION: Bonnie G and Mr K walk to the bar and sit down.\n",
      "\n",
      "MR K: \"Corn nuts. Yo, Bonnie, they've got Corn Nuts!\"\n",
      "\n",
      "BONNIE G: \"Get it!\"\n",
      "\n",
      "MR K: \"No wait. They've got Beef Jerky.\"\n",
      "\n",
      "BONNIE G: \"Get it!\"\n",
      "\n",
      "MR K: \"No wait. Slim Jims!\"\n",
      "\n",
      "BONNIE G: \"Get it!\"\n",
      "\n",
      "MR K: \"But yo, hold on, Ramen noodles. That's dope.\"\n",
      "\n",
      "BONNIE G: \"Get it!\"\n",
      "\n",
      "MR K: \"I'm hungry now.\"\n",
      "\n",
      "BONNIE G: \"Get it!\"\n",
      "\n",
      "BARTENDER WITH LONG HAIR AND GLASSES: \"So, what can I get you guys?\"\n",
      "\n",
      "MR K: \"Two g & ts, thanks.\"\n",
      "\n",
      "OVERHEAD SOUNDSYSTEM: \"Wheel in the sky keeps on tuuuuuuurniiiiin...I don't know where I'll be tomorrooow....\"\n",
      "\n",
      "MR K: \"GAH. I hate this song. I really hate this song.  No, I REALLY fucking hate this song.\"\n",
      "\n",
      "BONNIE G: \"Um, I can tell. Your body's contorting.\"\n",
      "\n",
      "ACTION: Mr K decides to ignore Journey and continue conversing.\n",
      "\n",
      "For the next long time, Mr K & BONNIE G: \".....yada yada yada, Lactose Intolerant War Stories, yada yada yada x10.....\"\n",
      "\n",
      "ACTION: Bonnie G and Mr K step away from the bar for a couple minutes as Mr K checks the rest of the place out. Upon their return to the bar:\n",
      "\n",
      "MR K: \"Uh, where'd our drinks go? They took away our drinks. Just like that. Gone. Doh.\"\n",
      "\n",
      "BARTENDER WITH LONG HAIR AND GLASSES: \"Um, uh, sorry, dude. I thought you guys left. I can make you some new drinks, though.\"\n",
      "\n",
      "ACTION: Bonnie G and Mr K don't really debate about more drinks. It's late. Mr K lives far away. And he's, well, old. They make motion to leave, except:\n",
      "\n",
      "MR K: \"What the hell is this?\"\n",
      "\n",
      "BONNIE G: \"It's a grip machine. It tests your gripping power. I kick all the guy's asses. Well, the weak guys who do nothing but read, anyway.\"\n",
      "\n",
      "MR K: \"Ok, let's try it out.\"\n",
      "\n",
      "BONNIE G: \"Go ahead.\"\n",
      "\n",
      "ACTION: MR K squeezes the grip gun as hard as he can. The machine indicates MR K has a grip of a 20 year old. He tries to figure out if that means he's strong or weak. He's convinced himself that it means he's strong, although he probably knows it means otherwise. Bonnie G gets up next. Bonnie G squeezes. But there's apparently an issue. Grip Machine reads that Bonnie G has the grip strength of something like a 10 year old. Bonnie G then uses both hands. No dice. The machine's not budging.\n",
      "\n",
      "BONNIE G: \"Hey, wait! It's stuck! It's not working!\"\n",
      "\n",
      "MR K: \"Dude, Bonnie. I just did it and it worked. You're weak.\"\n",
      "\n",
      "BONNIE G: \"No, wait! You try! It's stuck!\"\n",
      "\n",
      "ACTION: MR K tries to squeeze the grip machine, but it doesn't squeeze any further. \n",
      "\n",
      "MR K: \"OK, it's stuck. Or maybe that's really the most you could do.\"\n",
      "\n",
      "BONNIE G: \"I'm way stronger than this. Whatever. Let's go.\"\n",
      "\n",
      "ACTION: Bonnie G and Mr K walk outside to the parking lot. Mr K takes in his experience. \n",
      "\n",
      "BONNIE G: \"Well, Mr K? What ya think of Sketchy Tempe?\"\n",
      "\n",
      "MR K: \"Man, what a night. This kicked ass\"\n",
      "\n",
      "BONNIE G: \"There's some more sinister and scary places I could have taken you to, but you really didn't need to go there.\"\n",
      "\n",
      "MR K: \"That's cool. I mean, this rocked. Check it...from Fresh & Easy, to Plaid, to Gold Bar, to experiencing Monkey Pants, then exploring Time Out Lounge, and then forgetting to buy Corn Nuts & cringing to bad Journey songs at Palo Verde Lounge. All within the span of 6 hours. This was a Sunday for the ages. And this here dark underbelly of Tempe? Not bad. Not bad at all. Although some parts were better than others. But now we gotta hit Sketchy Phoenix. Dive bars abound. Abound, I tell you.\"\n",
      "\n",
      "BONNIE G: \"You're on.\"\n",
      "\n",
      "MR K: \"Awesome.\"\n",
      "\n",
      "BONNIE G: \"Bye Mr K!\"\n",
      "\n",
      "MR K: \"Later Bonnie G. Thanks again.\"\n",
      "\n",
      "ACTION: MR K walks to his car. He finds himself whistling to \"Wheel In The Sky Keeps On Turnin'.\"\n",
      "\n",
      "MR K: \"GAH!\"\n",
      "\n",
      "(end of Part Three)\n"
     ]
    }
   ],
   "source": [
    "# check if anything wrong with the review\n",
    "print(df[df.length_word == df.length_word.max()].review.values[0])"
   ]
  },
  {
   "cell_type": "markdown",
   "metadata": {},
   "source": [
    "## The Number of Unique Words"
   ]
  },
  {
   "cell_type": "code",
   "execution_count": 15,
   "metadata": {
    "ExecuteTime": {
     "end_time": "2020-12-21T05:32:14.884097Z",
     "start_time": "2020-12-21T05:32:14.873365Z"
    },
    "scrolled": false
   },
   "outputs": [
    {
     "name": "stdout",
     "output_type": "stream",
     "text": [
      "When a restaurant's most interesting offering is a burger, and it's not a a place that specializes in them, a reviewer is tempted to lop off at least one or two stars or avoid them completely, but in this case, doing either would be a grave error. Ten Penny's eponymous burger is worth paying to park in a garage for. \n",
      "\n",
      "Fortunately for us one lazy, culinarily-challenged weeknight after work, Kay and I happened to be within reasonable walking distance from her employer's complimentary lot. I'd remembered that Ten Penny was a new competitor in the Downtown Pittsburgh dining scene and convinced my significant other to make the trek, but that's not important. Let's discuss the burger. \n",
      "\n",
      "I didn't want to order one (I go to burgers too often), but the other entrees just weren't quite piquing my interest. Besides, working in a physical job gives a guy a craving for the glorified steaks, and this was not only glorified, it was rarefied, literally and figuratively. \n",
      "\n",
      "Let's muse about the doneness, something TP's crack cooks NAILED. If you want an ideally pink and juicy slab of sizzling chopped meat, this is where you need to be, and the Ten P Burger needs to be in front of you. The cuts of meat, whatever they may have been (I'm guessing sirloin and chuck at least), that comprised this burger were treated with utmost reverence. \n",
      "\n",
      "And the fixin's are fierce. A sunny fried egg straddles the patty obscenely like a blond stripper on a muscled athlete. Watercress, a surprise component, adds freshness and crunchy texture. Bacon, an almost unwritten essential topping, brings the fat and the brine. Tomato plays its obligatory role well while a red onion jam upstages all else with its smoky, caramelized, aromatic essence. Wilted cheddar nips the palate playfully as an medley of pickled vegetables snaps the entire thing in the ass. Seldom ever satisfied with a burger sans mayonnaise, I requested to have bacon rosemary aioli, something that came with our appetizer, the Truffled French Fries, slathered onto the top half of that toasted, spongy bun to make it unrepentantly unctuous, and while I use that word sparingly, this burger spared nothing. Nouveau rich, it was Ric Flair strutting into a Las Vegas nightclub treating all patrons to drinks. Imagine excess personified on a plate. \n",
      "\n",
      "Since we'd ordered the fries to share, I instead chose the Mixed Greens salad as my side dish with a tangy balsamic vinaigrette. Lettuce, pickled radish, cucumber, pumpkin seeds, Kalamata olives, carrots, and tomatoes proved to be orchestral, the crispy pepitas providing the percussion as my taste receptors were cleansed between bites both leafy and beefy\n",
      "\n",
      "The brittle yet fluffy and therefore deftly prepared fries themselves almost reached the decadent heights of the burger with their truffle oil, shaved parmesan, and roasted garlic plucking wild, ambrosial, exotic, nutty, sweet strings betwixt the teeth and on the tongue, the aforementioned aioli furthering this affair down the primrose path to ruin. A drunken banker would be very pleased with this at midnight and incensed that a pleb like myself would be enjoying it alongside him.  \n",
      "\n",
      "From elsewhere on the rest of TP's relatively stodgy carte, I managed to steal a bite of Kay's Seared Duck Breast which comes with Jasmine rice, gingered carrot puree, baby bok choy, and a saba glaze, the bird itself calling to mind an extremely supple, honey-baked ham if I'm to be believed. \n",
      "\n",
      "Dessert for the lady was the somewhat mild-mannered Chocolate Pretzel Torte. One taste reminded me of a softened, gently sugary biscotti, the hazelnut mousse that topped it providing a modicum of confectionery heft. While tempting enough, I was looking for a more risque item and found it in the Peanut Butter Cookie. \n",
      "\n",
      "Other restaurants have similar desserts, Burgatory being one of them (the defunct Gullifty's Killer Kookie For Two is your father...), but TP's blend of white, milk, and bittersweet chips gives it a distinct flavor, especially when baked and served in a cast iron pan to ensure buttery crumbly edges. Salty and saccharine smacked into each other on a platter of golden dough, the fine housemade vanilla ice cream foiling the heat and a somewhat limp hot fudge almost acting as a wallflower.\n",
      "\n",
      "Ten Penny's interiors resemble a warehouse converted into a cozy, upscale loft. We felt as if we were house-sitting for a young, single advertising executive as we noshed on bar food that had no right to be as regal as it was. Leather seats like those found in a psychiatrist's office can be found in the booths. Shelves with bottles of oils and jars of pasta stand against whitewashed brick walls. A stark, metallic, beaconing \"P\" glows above the front door. You'll feign prestige for 90 minutes. \n",
      "\n",
      "Upon paying our tab, we headed out and spoke to the tall, strapping host who probably doubles as a bouncer. \"You look like you earned it,\" he told me as he laughed. \"Indeed I did,\" I replied. It had been a rough one after all.\n"
     ]
    }
   ],
   "source": [
    "t = df[df.set_word == df.set_word.max()].review.values\n",
    "print(t[0])"
   ]
  },
  {
   "cell_type": "markdown",
   "metadata": {
    "ExecuteTime": {
     "end_time": "2020-12-09T17:33:09.454250Z",
     "start_time": "2020-12-09T17:33:09.438879Z"
    }
   },
   "source": [
    "## The Number of Punctuations"
   ]
  },
  {
   "cell_type": "code",
   "execution_count": 16,
   "metadata": {
    "ExecuteTime": {
     "end_time": "2020-12-21T05:32:14.895809Z",
     "start_time": "2020-12-21T05:32:14.885075Z"
    },
    "scrolled": false
   },
   "outputs": [
    {
     "name": "stdout",
     "output_type": "stream",
     "text": [
      "If.....you......want.....to.....get.....a......good......meal.....in......a........reasonable.......amount.........of......time.......then.......you.......should.......probably........look.......elsewhere.......this........restaurant........needs.......some........serious.....help.....there........are......dishes.......everywhere......servers......do.......not.......pick......up......plates.....from......tables.......it.......takes......forever.....to......get.......food.......and.......when......you......do......it.......is......usually.......luke.......warm.....I........imagine.......if.......you.....just......want......to......drink......beers.......it......would......be......fine.......but.......be.......prepared......to......wait............................forever....................to......................get.................................your........................food.....................because......................there..............................................is................no...............................................................................sense...............................of......................................................urgency.................................here.\n"
     ]
    }
   ],
   "source": [
    "t = df[df.length_punct == df.length_punct.max()].review.values\n",
    "print(t[0])"
   ]
  },
  {
   "cell_type": "markdown",
   "metadata": {},
   "source": [
    "## The Number of Exclamation Marks"
   ]
  },
  {
   "cell_type": "code",
   "execution_count": 17,
   "metadata": {
    "ExecuteTime": {
     "end_time": "2020-12-21T05:32:14.907521Z",
     "start_time": "2020-12-21T05:32:14.896785Z"
    }
   },
   "outputs": [
    {
     "name": "stdout",
     "output_type": "stream",
     "text": [
      "This is the freaking worst restaurant delivery ever!!!!!!!!!!!\n",
      "I just called 9 times and they hung up every single time.  Literally picked up the phone and hung up.  WHO IS THE OWNER?!?!? Whoever the owner is needs to NEVER BE IN CHARGE OF ANY BUSINESS EVER!!!! The business practices here are the worst ever! I mean EVER!!!!!!!!!!!!!!!!!!!!!!!!!!!!!!!!!!!!!!!!!!!!!!!!!!!!!!!!!!!!!!!!!!!!!!!!!!!!!!!!!!!!!!!!!!!!!!!!!!!!!!!!!!!!!!!!!!!!!!!!!!!!!!!!!!!!!!!!!!!!!!!!!!!!!!!!!!!!!!!!!!!!!!!!\n",
      "!!!!!!!!!!!!!!!!!!!!!!!!!!!!!!!!!!!!!!!!!!!!!!!!!!!!!!!!!!!!!!!!!!!!!!!!!!!!!!!!!!!!!!!!!!!!!!!!!!!!!!!!!!!!!!!!!!!!!!!!!!!!!!!!!!!!!!!!!!!!!!!!!!!!!!!!!!!!!!!!!!!!!!! !!!!!!!!!!!!!!!!!!!!!!!!!!!!!!!!!!!!!!!!!!!!!!!!!!!!!!!!!!!!!!!!!!!!!!!!!!!!!!!!!!!!!!!!!!!!!!!!!!!!!!!!!!!!!!!!!!!!!!!!!!!!!!!!!!!!!!!!!!!!!!!!!!!!!!!!!!!!!!!!!!!!!!! !!!!!!!!!!!!!!!!!!!!!!!!!!!!!!!!!!!!!!!!!!!!!!!!!!!!!!!!!!!!!!!!!!!!!!!!!!!!!!!!!!!!!!!!!!!!!!!!!!!!!!!!!!!!!!!!!!!!!!!!!!!!!!!!!!!!!!!!!!!!!!!!!!!!!!!!!!!!!!!!!!!!!!! !!!!!!!!!!!!!!!!!!!!!!!!!!!!!!!!!!!!!!!!!!!!!!!!!!!!!!!!!!!!!!!!!!!!!!!!!!!!!!!!!!!!!!!!!!!!!!!!!!!!!!!!!!!!!!!!!!!!!!!!!!!!!!!!!!!!!!!!!!!!!!!!!!!!!!!!!!!!!!!!!!!!!!!\n"
     ]
    }
   ],
   "source": [
    "print(df[df.length_exclamation == df.length_exclamation.max()].review.values[0])"
   ]
  },
  {
   "cell_type": "markdown",
   "metadata": {},
   "source": [
    "## The Number of Digits"
   ]
  },
  {
   "cell_type": "code",
   "execution_count": 18,
   "metadata": {
    "ExecuteTime": {
     "end_time": "2020-12-21T05:32:14.918257Z",
     "start_time": "2020-12-21T05:32:14.908496Z"
    },
    "scrolled": false
   },
   "outputs": [
    {
     "name": "stdout",
     "output_type": "stream",
     "text": [
      "I give it a star rating of 3.141592653589793238462643383279502884197169399375105820974944592307816406286 208998628034825342117067982148086513282306647093844609550582231725359408128481 117450284102701938521105559644622948954930381964428810975665933446128475648233 786783165271201909145648566923460348610454326648213393607260249141273724587006 606315588174881520920962829254091715364367892590360011330530548820466521384146 951941511609433057270365759591953092186117381932611793105118548074462379962749 567351885752724891227938183011949129833673362440656643086021394946395224737190 702179860943702770539217176293176752384674818467669405132000568127145263560827 139239410001620769363684677641301781965937997155746854194633489374843912974239 143365936041003523437770658886778113949861647874714079326385873862473288964564 359877466763847946650407411182565837887845485814896296127399841344272608606187 2455452360643153710112746809778704464094\n",
      "\n",
      "Oh, shit.  Wrong 'pi'\n"
     ]
    }
   ],
   "source": [
    "print(df[df.length_digits == df.length_digits.max()].review.values[0])"
   ]
  },
  {
   "cell_type": "markdown",
   "metadata": {},
   "source": [
    "## The Number of Dollar Signs"
   ]
  },
  {
   "cell_type": "code",
   "execution_count": 19,
   "metadata": {
    "ExecuteTime": {
     "end_time": "2020-12-21T05:32:14.928017Z",
     "start_time": "2020-12-21T05:32:14.919233Z"
    }
   },
   "outputs": [
    {
     "name": "stdout",
     "output_type": "stream",
     "text": [
      "____________________________________________\n",
      "                                         $ $ $\n",
      "                                         $ $ $\n",
      "                                         $ $ $\n",
      "                                 $$$ $ $ $$ $$\n",
      "                                    $$$ $$$ $\n",
      "                                         $ $$\n",
      "                                           $\n",
      "              _______________       $slots$_____________\n",
      "     __$$$$_______$$$___$ufc$________\n",
      "     _$21$$$_____$$$___$$$$$$$_______\n",
      "     $$$_$fun$___$$$__$$$$____$_______\n",
      "     $____$$$$_$$$$_$$$______________\n",
      "     _______$$$$$alcohol___$$$$$_______\n",
      "     ____$beach$$$$$$_$$$$_$spa$_____\n",
      "     ___$$rum$$$$jungle$_____$$$____\n",
      "     __$$$__$$$$$$(*)(*)$$_______$____\n",
      "     _$$___$$poker$$sin$$$$_________\n",
      "     $$___$$$$_$$$$_$$$__$$$$$________\n",
      "     $___$$$$___^^__$$$$___ $$$_______\n",
      "     ____sex_____^^^___y$$____$$______\n",
      "     ____$$______ ^^^^___$$$____$______\n",
      "     ____$$_______^^^^____$$___________\n",
      "     ____$________^s^____$$__________\n",
      "     _____________^h^____$___________\n",
      "     _____________^o^________________\n",
      "     _____________^w^_________________\n",
      "     _____________^s^_________________\n",
      "     _____________^^^_________________\n",
      "     ____________^^^_________________\n",
      "     ___________^^^^__________________\n",
      "     _________^^^^^_______________\n",
      "\n",
      "Welcome to The Mandalay Bay Resort and Casino\n",
      "_________________________________________\n"
     ]
    }
   ],
   "source": [
    "print(df[df.length_dollar == df.length_dollar.max()].review.values[0])"
   ]
  },
  {
   "cell_type": "markdown",
   "metadata": {},
   "source": [
    "## The Number of Stop Words"
   ]
  },
  {
   "cell_type": "code",
   "execution_count": 20,
   "metadata": {
    "ExecuteTime": {
     "end_time": "2020-12-21T05:32:14.938783Z",
     "start_time": "2020-12-21T05:32:14.929021Z"
    },
    "scrolled": false
   },
   "outputs": [
    {
     "name": "stdout",
     "output_type": "stream",
     "text": [
      "If i could i would give this place a negative star rating!!!!\n",
      "Found this place on booking.com decided to give it try from the pictures everything looks great. But pictures can be deceiving! I would upload mine but I cant since my Phone was stole from my room!!!\n",
      "\n",
      "Heres the Story on how my phone got stole from my room.\n",
      "We check in Friday evening around 4:30ish pm. Everything was great! We had to pull around to the back of the hotel because it was closest to our room... When we did there was a car pulled over with a man pissing in plain site... that was strike 1. We go settled in and later that night when we got back to our room around 11 or so i went to try on the tv in the room and it did not work so I call the front desk and they sent over the Security Guard!? with was weird... He wasn't able to get the tv to work.. strike... about an 1/2 hour after he left there was a weird long beep like an alarm that had went off for about 1 minute... didn't know where the noises was coming from i thought i had pressed a button for the ac or something in our room went off.  We DID NOT receive a call from anyone letting us know what was going on. but we did find out the next day that someone in the hotel was smoking so much in their room that it set off the fire alarm!! how did we not get notified that it was a fire alarm in the first place!! super unprofessional!!!! Strike 3 on day one still... So Saturday we didnt stay much in the room. House keeping came by in the morning and gave me extra towels which was nice the lady was very friendly. So we got back to our room around 1am went to sleep and woke up around 6:30am from a knock at the door we opened the door to find the security guard standing there with my purse in his hand asking if it was my Purse which it was he said he found it down the hall and said he came to ask us because our door was wide open!!! like literally WTF! i looking in there and of course the only items that were missing where my phone and wallet!! bummer right. The security guard did nothing to console me or even offer to call the cops for us or offer us to take a report NOTHING was done!!  He just leaves us in our room... so i go to the front desk because i want to know what happened! i ask the guy at the counter if the they had any cameras he said not in the hallways to the rooms only on the out side but they are not functional! i was literally standing there like trying to wrap my brain around what i was being told. so the security guard is standing there as well they both seem very unbothered by my situation they did not care about what the severity of the matter was really was!! all they said was well you probably left your door open!! like how and why would we do that for! i ask to speak to the manager or someone else who was in charge and all the guys said look if you want you could call the police and report it to them! they gave no FUCKS about me.. look i wasnt upset that my phone wallet with all my cash was stolen i was upset because well i slept in my closed door hotel room that someone just came in!! it could of been much worse i could of died been raped a million worse things could of happened to me!! So as im standing there trying to figure out what i want to do to these two morons im talking too and really trying to comprehend the whole situation i notice a bag on the floor right next to the security guard he seemed to have been trying to hide the whole time i was talking to him. and i tell thats my bag ( it only had food in it) how do you have it? dumb founded again!!! he said oh this is i found it on another floor... like what the fuck hello and still they were unfazed about any of this it all seemed very normal and not such a big of deal!!! so i leave the front desk still in shock and very confused!! (side note: my family were all staying here all together we had 5 rooms in total) so i go to my dads room to tell him the story and he said someone was going around knocking on the doors in the middle of the night. he said he went our to check and seen no one.. fast forward to me checking out i go to back one more time to talk to the guy in the front desk and ask so theres isn't a manager or anyone else i can talk to? he said that the manager would be out to talk to me. i hear him on the phone with her saying there is a lady here that wants to talk to u she \"supposedly\" got robed from her room.So she comes out and was like here is a incident report you could fill out. as we sat there i was telling her my story and how unprofessional everyone has been. she tells me that she checked the cameras and seen nothing and that she also check to see if the security guard had anything is his log and he had nothing not once was it mentioned to her! she said she'd let their insurance know and that id get re burst by their insurance for the items that where stolen! as i was finishing the report a lady walks in with my wallet she said she had found in the walkway in no where near my room w/no money\n"
     ]
    }
   ],
   "source": [
    "print(df[df.length_stopwords == df.length_stopwords.max()].review.values[0])"
   ]
  },
  {
   "cell_type": "markdown",
   "metadata": {},
   "source": [
    "## The Number of Uppercase Words"
   ]
  },
  {
   "cell_type": "code",
   "execution_count": 21,
   "metadata": {
    "ExecuteTime": {
     "end_time": "2020-12-21T05:32:14.950464Z",
     "start_time": "2020-12-21T05:32:14.939758Z"
    },
    "scrolled": false
   },
   "outputs": [
    {
     "name": "stdout",
     "output_type": "stream",
     "text": [
      "I live here in Providence, and was actually online to see if anyone knew when the new Cafe was opening, as my husband is a brekfast person , and was SHOCKED to see some of the people writing awful reviews about Jims Pizza. I am not a YELPER like many of you are, as I have a busy schedule, being that my husband and I own ourselves 3 local business' in town, but I was so saddened to see what people were writing about this great place, I had to give my two cents.\n",
      "\n",
      "To start, my family, especially my teenager and her friends have ordered Jims Pizza many times, and it is fantastic!  Always tastes fresh, crust is amazing, and it gets to our door of hungry teenagers fast.  Maybe the people complaining about Jims Pizza, are just use to eating junk food and the \"fast food craze\" and just got used to eating the cheap tasting pizza from places like Dominos and Pizza Hut, and their taste buds just cant realize what good pizza tastes like anymore, as Jims Pizza is great.  I always got great, friendly service as well.   I met the owner once, about 6 months ago, had a conversation with him, and he is a very nice man who works hard for his business.\n",
      "\n",
      "Secondly, most of you probably never owned a business and while your review may just be a random sentence on the internet to you, but to a business owner its the ability to provide for his family and his loved ones. To us business owners, we put  our heart and sole into our business', its our dream.  Please don't give me the excuse \"the public has the right to know about   the service\" or \"maybe if we publicly give our input, they will change their recipe\"  While many of you may not know this, your asking a man to risk his business, cost him money so that MAYBE it will appeal to your taste buds.  As I said my husband and I own 3 local business', well, there use to be a 4th one, it  was a very popular local place in town, that many of you would be familiar with, but for reasons I am listing, I am choosing not to list it, nor give my \"real name\" as well, as after reading and knowing how some of you, including members of Providence decided to write awful things about Jims Pizza, I don't need you writing any of our business bad reviews, just to be spiteful. Anyways, it wasn't till we owned that fourth one, that we realized how many bad, spiteful, and jealous people there are in Las Vegas.  I thought the world was a better place than this.  We helped out people by the day, gave them our sweat and blood, and got crap from those same people we helped, it got so bad that when a building disaster occurred, we took it as a blessing to get out of it, and closed it, which hurt us deeply, but was time to focus on our other business, and move on. We couldn't be more happier, as I don't have to deal with the general public at that level as I did then, and while we miss some of our wonderful regulars that we created awesome memories with, there was just too many awful ones and many freeloaders.  Just please remember that there are many aspects to a business that many of you who work a 9-5 job don't understand, and won't. While it may seem easy to ask a business to change to your liking, even just a simple request, are not that easy and expensive to any business owner. Also for you that complained about the $2.50 delivery charge, YOU HAVE NO IDEA WHAT JIMS PIZZA OVERHEAD IS, AND IF THAT HELPS HIM KEEP HIS DOORS OPEN, THEN HE NEEDS TO DO THAT.  YOU YELPERS SEEM TO ASK ALOT FROM THESE PEOPLE.  ON TOP OF EVERYTHING ELSE, I GUARENTEE THAT SOME OF THESE POSTS ARE WRITTEN FROM JIMS PIZZA COMPETITORS FRIENDS, FAMILY MEMBERS,REGULARS, AS IVE PERSONALLY HAD THAT HAPPEN TO ME.  COMPETITORS CAN BE CRUEL, SO FOR YOU THAT HAVEN'T TRIED JIMS PIZZA, PLEASE IGNORE THESE POSTS AS HALF OF THEM ARE PROBABLY WRITTEN FROM HIS COMPETITORS. AND TO YOU PEOPLE THAT ARE WRITING FALSE REVIEWS, ITS ONE THING TO SUPPORT YOUR FAVORITE PLACES, ITS ANOTHER THING TO BULLY HIS COMPETITOR AS YOUR DOING HERE. \n",
      "\n",
      "NEXT  FOR YOU THAT LIVE IN PROVIDENCE WRITING THESE REVIEWS I AM SHOCKED.  ALL OF US SHOULD BE GIVING THE LOCAL BUSINESS' IN PROVIDENCE OUR LOCAL SUPPORT AND GET BEHIND THEM! THERE ARE MANY PEOPLE WHO DON'T LIKE LAS VEGAS BECAUSE WE HAVE NO CULTURE OR SENSE OF COMMUNITY, AND THEY ARE RIGHT!  WHAT IS WRONG WITH YOU PEOPLE? IF YOU DIDN'T LIKE THEIR PIZZA, MAYBE WRITE OR EMAIL THEM A LETTER, THERE IS NO REASON TO PUBLICALY HUMILATE A BUSINESS, AND IF THAT DOESN'T WORK, MOVE ON AND EAT SOMEWHERE ELSE.  AFTER ALL, BEING A YELPER, IS NOT GOING TO GET YOU ANYWHERE, AS I NOTICED, THERE ARE THOUSANDS OF YOU, SO IF YOUR WANTING TO BE A FOOD CRITIC, GET A WEBSITE TO STAND OUT, OR A BLOG, AS YOUR NOT GOING TO STAND OUT HERE.  BEHIND THIS BUSINESS IS A PERSON, A FAMILY, SO PLEASE KEEP THAT IN MIND WHEN YOU POST.  REGARDLESS, MY FAMILY WILL CONTINUE TO EAT THEIR DELICOUS PIZZA, AND STAND BEHIND A LOCAL BUSINESS THAT IS HERE IN PROVIDENCE.  THANK YOU JIMS PIZZA FOR YOUR GOOD FOOD AND KIND SERVICE.  KEEP UP THE GOOD WORK\n"
     ]
    }
   ],
   "source": [
    "print(df[df.length_upper == df.length_upper.max()].review.values[0])"
   ]
  },
  {
   "cell_type": "markdown",
   "metadata": {},
   "source": [
    "## The Number of Titlecase Words"
   ]
  },
  {
   "cell_type": "code",
   "execution_count": 22,
   "metadata": {
    "ExecuteTime": {
     "end_time": "2020-12-21T05:32:14.962176Z",
     "start_time": "2020-12-21T05:32:14.951470Z"
    },
    "scrolled": false
   },
   "outputs": [
    {
     "name": "stdout",
     "output_type": "stream",
     "text": [
      "We Have Been Regulars at Several Outbacks Usually By Where We Live. For Years Went ATO Scottsdale Location Because it Was Near The Harkins There. Never Had a Problem. Then We Moved & We Were Near PV Mall & There is A Outback There. Never Had A Problem There. Now for this Location..We Moved to Tempe 2 Years Ago. (Downsized To Save for Retirement ) Regardless We Tried The Tempe Location on Southern & We Have Had A  Few Little Issues Nothing Huge Steak Over Cooked Once Another Time Under Cooked They're Good About Making it Right. This last Visit However We Were Hugely Disappointed. Went For Steak Lobster Special Menu Pricing Not The Same As National Ad. Sorry But That Just Stinks. Outback Needs 2 Honor The Price Or Print A Disclaimer On Menu. **We Are A Franchise So Therefore We Charge You More**. I Think That's Sad. We Ordered As We've had Decent Meals On This Special In Vegas on Strip Was Excellent. ( For Years ) Must Be A Company Store As Meals Were Consistent!! My husband Ordered The Filet Because The Order Had More Sides The Picture On Menu looked Like The Filets I have Had At Other Restaurants (. *& Served I Worked For Del Frisco Prime Morton's Steakhouse & Brenner's Prime in Houston One Of First Prime Steakhouses In Nation) The Steak He was Served Was A Hockey Puck. Looked Just Like There House Sirlion. So We Asked ...& Waitress While Nice Just Said That's Our Filet I Had Decided To Order The Feast With Crab Cakes & Lobster. They Were Burnt On One Side & Dry on Inside. And The Lobster Was a Two Bite Mystery As in Where Did They Find A Lobster This Small ?? \n",
      "I have had Lobster At The Keg, Red Lobster, Mortons, Ruth Chris Harrah's Buffet & Never Saw Such Small Lobster. You Would have Thought We Were at Golden Corral!! I Asked 4 Manager Before Eating As I Was Disgusted At This Point ( & My Husband was Served Before I Was...& Yes I Mean They Brought His Entree Meal Before Mine...by 5-10...Mins   The Time Was Not On Our Side As It Was Sunday Night & Husband Has Early Work Time. So I Did Eat The Meal Although I Would Have Ordered The Ribeye Over The Crappy Seafood Meal With Baby Lobster. They Did Bring Another Lobster Slightly Bigger (But Didn't Offer One To My Husband Who's Was As Small) Let's Not Exceed Expectations For Crying Out Loud. My Husband Said As Disjointed As The Meal Service Was We Just Spent $70 On A Mediocre Meal We Should Have Gone To Boston Market  & Got Decent Meal at Much More Reasonable Price. If You Screw Up Someone's Meal & It's Been Brought To Your Attention That Should Be A Flag Respecting Guests Comments. I Wasn't Trying To Get A Free Comp or I Would Have Started Talking Much Louder. Kissing But Seriously..I just Wanted Something Close 2 What I Thought We Ordered. Guess We Need To Check New Location  As While This One Is Close it's Not Worth The Aggravation. By The Way MANAGER & Management- You should Always So More Than Just A Little if Customer Has Taken Time To Address Your Short Comings- Many People Just Mumble To Each Other & Don't Ever Come Back. As A Manager I Always Did What Was Right Plus Offered Either A Free Dessert Or If They Didn't Want Dessert Offer Taking Off / Example $10 Number One Meals Were Severed Separately By 5-10 Minutes. Lobsters Are Supposed To Be A Treat Not A Baby Bite. Don't Offer The Special Without  Disclosing The Pricing. We Are Not Planning on Going Back 2 This Location My Husband Has A Short Fuse But Won't Address It I don't Mind Speaking Out Because a Squeaky Wheel Don't Get Oil Without Attention! Next Time We Will Plan A Trip To The Keg Or Another Restaurant SOMETHING Wrong Here. The Party Of 6 With Kids Next To Us Waited Forever As Well. I Know it's Hard To Get Good Help But Don't Overlook Your Customers. Can't Imagine What It Would Be Like on A Busy Night!! By The Way We Still Gave 20% To Server    Because it Wasn't Her Fault It's Obviously The Kitchen Staff. Not Being Mean But After 20 Years In F&B Can't Help But Notice.\n"
     ]
    }
   ],
   "source": [
    "print(df[df.length_title == df.length_title.max()].review.values[0])"
   ]
  },
  {
   "cell_type": "markdown",
   "metadata": {},
   "source": [
    "## The Number of Letters"
   ]
  },
  {
   "cell_type": "code",
   "execution_count": 23,
   "metadata": {
    "ExecuteTime": {
     "end_time": "2020-12-21T05:32:14.973918Z",
     "start_time": "2020-12-21T05:32:14.962176Z"
    },
    "scrolled": false
   },
   "outputs": [
    {
     "name": "stdout",
     "output_type": "stream",
     "text": [
      "Shortly after opening in January of 2015 it was obvious to anyone with any dining experience that Bardot Brasserie had a ton of potential, the space itself a gorgeous renovation from the eye-catching bar right down to the Brasserie-detailed plates and Chef Josh Smith, showing lots of skill across a menu of French Classics featuring good technique and just enough whimsy to keep things interesting\n",
      "\n",
      "Immediately supplanting Bouchon as the best mid-priced French Restaurant in town and later taking home a James Beard Foundation semi-finalist nod for Best New Restaurant, an award later won by New York's Le Coucou which features neither equivalent French Cuisine nor quality of design, it was nevertheless that the Michael Mina space on Aria's 2nd floor continued to evolve, even launching sister Margeaux Brasserie in Chicago earlier this year\n",
      "\n",
      "Now approaching year number three and still doing good business, the menu having born several signatures but continuing to evolve with each new season in directions often classic and frequently exciting, it was with two friends that a reservation was made for Friday night to take a look at Chef Smith's new Autumn offerings, an unexpected closure of JG Steakhouse seeing Bardot pick up several covers but both the kitchen and service firing on all cylinders to turn out a meal that far exceeded already high expectations\n",
      "\n",
      "Checking in at just past Six o'clock, the restaurant soon starting to fill and completely packed within an hour, it was at a spacious four-top just past the threshold of the Bar that the party was sat and beginning with a glass of particularly fruity Champagne it was not long before dinner got started, 2 styles of Bread including Bardot's best-in-Las Vegas Baguette joined by a disc of imported Beurre d'echire soon to be followed by seventeen menu items spread across four courses and nearly 3 hours\n",
      "\n",
      "Always featuring top-quality service, this visit no exception and the young Female server actually outperforming all those in the past in terms of both her knowledge of the menu and an ability to balance professionalism with personality, it was after a brief greeting from Chef Smith that three plates were presented including a vibrant Salad of ripe Pears and Plums with smooth Blue Cheese Mousse and candied Nuts alongside the always wonderful Foie Gras Parfait, one of the menu's newest additions seeing the Paris Brest migrated from Dessert to Appetizer and presented with silky house-cured Salmon, Caviar and Mascarpone infused with Chives\n",
      "\n",
      "Already impressed, the fact that the meal would feature thirteen all-new items speaking volumes in a city where Restaurants like Picasso and several others have barely changed a garnish in years, it was once again showing a great understanding of Choux that course two offered plump Parisian Gnocchi served alongside flowers of Tete de Moine and Chanterelles beneath shaved Black Truffles, a second serving of Duck Liver every bit as worthwhile as the 1st in a savory preparation atop tender Lentils while the pot of Lobster Bisque raises the bar for everyone else in town thanks to the linger of Brandy that plays well off of both the Tarragon and buttery lattice\n",
      "\n",
      "At this point already well-sated, the heft of French Cuisine and a need to sop up all Sauces with good Bread not to be taken lightly, it was after brief respite that the meal marched on to entrees, 2 limited-availability specials featuring Beef joined by Bardot's famous upright Macaroni and Cheese and 5 plump Scallops amidst earthy and briny bites, the Prime Rib simply better than the average thanks to better quality Meat and gentle treatment to render it fork-tender while the Wellington was not only gorgeous but thoroughly delicious and exceptional in terms of the Crust which Josh protects from becoming soggy by placing a layer of Prosciutto between it and the Duxelle\n",
      "\n",
      "Very happy with the L'Aubrac-referencing Croquettes before sopping up the rest of the Foie Gras Sauce as well as more melted Marrow with pieces of toasted Bread it was with the arrival of a Double Espresso and a large Glass of Ice that the meal transitioned to Sweets, a Cheese plate featuring several raw varieties plus a particularly sharp Mimolette saved towards the end while dishes more temperature sensitive were focused on first, the Apple Tarte Tatin as good as ever while the soft-centered Pavlova was light, refreshing and unparalleled locally, a similar statement safe to be applied to the Spiced Pear Clafoutis that was served piping hot beneath Armagnac Ice Cream\n",
      "\n",
      "Rounding out the night with the Espresso Crème Brulee, even those not particularly fond of Coffee complimenting both the soft Custard and pillowy Beignets, it was alongside the check that three Toasted Marshmallows were presented on the ends of dried Fennel Fronds, a light bit of Licorice up front slow to dissipate and even more evidence of Bardot's continued evolution into not just one of Las Vegas' best Restaurants but a truly world-class Brasserie\n"
     ]
    }
   ],
   "source": [
    "print(df[df.length_char == df.length_char.max()].review.values[0])"
   ]
  },
  {
   "cell_type": "markdown",
   "metadata": {},
   "source": [
    "## The Average Word Length"
   ]
  },
  {
   "cell_type": "code",
   "execution_count": 24,
   "metadata": {
    "ExecuteTime": {
     "end_time": "2020-12-21T05:32:14.986577Z",
     "start_time": "2020-12-21T05:32:14.974900Z"
    },
    "scrolled": false
   },
   "outputs": [
    {
     "data": {
      "text/html": [
       "<div>\n",
       "<style scoped>\n",
       "    .dataframe tbody tr th:only-of-type {\n",
       "        vertical-align: middle;\n",
       "    }\n",
       "\n",
       "    .dataframe tbody tr th {\n",
       "        vertical-align: top;\n",
       "    }\n",
       "\n",
       "    .dataframe thead th {\n",
       "        text-align: right;\n",
       "    }\n",
       "</style>\n",
       "<table border=\"1\" class=\"dataframe\">\n",
       "  <thead>\n",
       "    <tr style=\"text-align: right;\">\n",
       "      <th></th>\n",
       "      <th>review</th>\n",
       "      <th>average_length_words</th>\n",
       "    </tr>\n",
       "  </thead>\n",
       "  <tbody>\n",
       "    <tr>\n",
       "      <th>11146</th>\n",
       "      <td>フェニックス(地元の発音では、フィーニックス)のスカイハーバー国際空港の４番ターミナルにあり...</td>\n",
       "      <td>25.625</td>\n",
       "    </tr>\n",
       "    <tr>\n",
       "      <th>19091</th>\n",
       "      <td>ここもレストランではなく、先にカウンターで注文するファストフード店です。\\nフォーなどが食べ...</td>\n",
       "      <td>48.800</td>\n",
       "    </tr>\n",
       "    <tr>\n",
       "      <th>20006</th>\n",
       "      <td>南部的なフライドチキンが楽しめる全国チェーン。チキンのからあげ等が大好きな日本人にとって、思...</td>\n",
       "      <td>124.000</td>\n",
       "    </tr>\n",
       "    <tr>\n",
       "      <th>26676</th>\n",
       "      <td>店員さんがフレンドリー！\\n味も美味しくディナーと次の日のランチも来てしまいました\\nディナ...</td>\n",
       "      <td>21.000</td>\n",
       "    </tr>\n",
       "    <tr>\n",
       "      <th>32981</th>\n",
       "      <td>好吃好吃好吃好吃好吃好吃好吃好吃好吃今天和我男朋友一起来吃面，好吃好吃好吃好吃我写了那么长了...</td>\n",
       "      <td>92.000</td>\n",
       "    </tr>\n",
       "  </tbody>\n",
       "</table>\n",
       "</div>"
      ],
      "text/plain": [
       "                                                  review  average_length_words\n",
       "11146  フェニックス(地元の発音では、フィーニックス)のスカイハーバー国際空港の４番ターミナルにあり...                25.625\n",
       "19091  ここもレストランではなく、先にカウンターで注文するファストフード店です。\\nフォーなどが食べ...                48.800\n",
       "20006  南部的なフライドチキンが楽しめる全国チェーン。チキンのからあげ等が大好きな日本人にとって、思...               124.000\n",
       "26676  店員さんがフレンドリー！\\n味も美味しくディナーと次の日のランチも来てしまいました\\nディナ...                21.000\n",
       "32981  好吃好吃好吃好吃好吃好吃好吃好吃好吃今天和我男朋友一起来吃面，好吃好吃好吃好吃我写了那么长了...                92.000"
      ]
     },
     "execution_count": 24,
     "metadata": {},
     "output_type": "execute_result"
    }
   ],
   "source": [
    "df[df.average_length_words > 20].loc[:, ['review', 'average_length_words']].head()"
   ]
  },
  {
   "cell_type": "markdown",
   "metadata": {},
   "source": [
    "* Reviews with higher average length word is tend to belong to another language\n",
    "* Let's detect the language of each review and keep only English"
   ]
  },
  {
   "cell_type": "markdown",
   "metadata": {},
   "source": [
    "## Correlation Among The Features"
   ]
  },
  {
   "cell_type": "code",
   "execution_count": 25,
   "metadata": {
    "ExecuteTime": {
     "end_time": "2020-12-21T05:32:16.617085Z",
     "start_time": "2020-12-21T05:32:14.987553Z"
    },
    "scrolled": false
   },
   "outputs": [
    {
     "data": {
      "image/png": "[encoded data removed]",
      "text/plain": [
       "<Figure size 864x576 with 2 Axes>"
      ]
     },
     "metadata": {
      "needs_background": "light"
     },
     "output_type": "display_data"
    }
   ],
   "source": [
    "corr = df.loc[:, [\n",
    "    'length_sent', 'length_word', 'set_word', 'length_punct',\n",
    "    'length_exclamation', 'length_digits', 'length_dollar',\n",
    "    'length_stopwords', 'length_upper', 'length_title', 'length_char',\n",
    "    'average_length_words']].corr()\n",
    "mask = np.zeros_like(corr)\n",
    "mask[np.triu_indices_from(mask)] = True  # shows only the left lower triangle\n",
    "\n",
    "fig, ax = plt.subplots()  # generates ax and figure object\n",
    "fig.set_size_inches([12, 8])  # set the figure sizes in inches\n",
    "# plots the heatmap\n",
    "sns.heatmap(corr,\n",
    "            mask=mask,\n",
    "            vmin=0,\n",
    "            vmax=1,\n",
    "            linewidth=0.2,\n",
    "            square=True,\n",
    "            cmap='Blues',\n",
    "            annot=True,\n",
    "            fmt='.1f',\n",
    "            ax=ax)\n",
    "ax.set_yticklabels(titles, rotation=0, fontsize=\"10\", va=\"center\")\n",
    "ax.set_xticklabels(titles)\n",
    "# set title for the figure\n",
    "ax.set_title('Correlation Among Basic Text Features', size=20, pad=20)\n",
    "# shows the plot\n",
    "plt.show()"
   ]
  },
  {
   "cell_type": "markdown",
   "metadata": {},
   "source": [
    "## The Features and The Target Variable"
   ]
  },
  {
   "cell_type": "code",
   "execution_count": 26,
   "metadata": {
    "ExecuteTime": {
     "end_time": "2020-12-21T05:32:58.056509Z",
     "start_time": "2020-12-21T05:32:16.619041Z"
    }
   },
   "outputs": [
    {
     "data": {
      "image/png": "[encoded data removed]",
      "text/plain": [
       "<Figure size 1440x1080 with 12 Axes>"
      ]
     },
     "metadata": {
      "needs_background": "light"
     },
     "output_type": "display_data"
    }
   ],
   "source": [
    "# scatter plot of each feature with helpful votes\n",
    "fig, axes = plt.subplots(4, 3, figsize=(20, 15))\n",
    "axes = axes.flatten()\n",
    "for ax, feature, title in zip(axes, features, titles):\n",
    "    ax.scatter(df[feature].values, df.review_useful.values)\n",
    "    ax.set_title(title)\n",
    "plt.tight_layout()\n",
    "plt.show()"
   ]
  },
  {
   "cell_type": "code",
   "execution_count": 27,
   "metadata": {
    "ExecuteTime": {
     "end_time": "2020-12-21T05:32:58.063341Z",
     "start_time": "2020-12-21T05:32:58.057496Z"
    }
   },
   "outputs": [
    {
     "name": "stdout",
     "output_type": "stream",
     "text": [
      "\n",
      "        The outlier point for the most helpful votes (target variable) is 758. \n",
      "        Outliers may hinder the true relationship between features and helpful votes.\n",
      "        Generate a new data without outliers (eyeballing) in order to observe any\n",
      "        difference in the relationship between features and the target variable.\n",
      "      \n"
     ]
    }
   ],
   "source": [
    "print(\"\"\"\n",
    "        The outlier point for the most helpful votes (target variable) is {:,}. \n",
    "        Outliers may hinder the true relationship between features and helpful votes.\n",
    "        Generate a new data without outliers (eyeballing) in order to observe any\n",
    "        difference in the relationship between features and the target variable.\n",
    "      \"\"\"\n",
    "      .format(df.review_useful.max()))"
   ]
  },
  {
   "cell_type": "code",
   "execution_count": 28,
   "metadata": {
    "ExecuteTime": {
     "end_time": "2020-12-21T05:33:03.273179Z",
     "start_time": "2020-12-21T05:32:58.064288Z"
    }
   },
   "outputs": [],
   "source": [
    "# Generate a temproary data file without outliers\n",
    "# Outliers detected eyeballindf_noOutliersOutliersot a solid way\n",
    "# Reason is to try to see the true relationship between featuers and helpful votes\n",
    "df_noOutliers = df.loc[df.review_useful < 700, :]\n",
    "df_noOutliers = df_noOutliers.loc[df_noOutliers.length_sent < 120, :]\n",
    "df_noOutliers = df_noOutliers.loc[df_noOutliers.length_punct < 500, :]\n",
    "df_noOutliers = df_noOutliers.loc[df_noOutliers.length_upper < 175, :]\n",
    "df_noOutliers = df_noOutliers.loc[df_noOutliers.length_title < 300, :]\n",
    "df_noOutliers = df_noOutliers.loc[df_noOutliers.average_length_words < 10, :]\n",
    "df_noOutliers = df_noOutliers.loc[df_noOutliers.length_dollar < 30, :]\n",
    "df_noOutliers = df_noOutliers.loc[df_noOutliers.length_exclamation < 200, :]\n",
    "df_noOutliers = df_noOutliers.loc[df_noOutliers.length_digits < 190, :]"
   ]
  },
  {
   "cell_type": "code",
   "execution_count": 29,
   "metadata": {
    "ExecuteTime": {
     "end_time": "2020-12-21T05:33:44.393404Z",
     "start_time": "2020-12-21T05:33:03.273179Z"
    },
    "scrolled": false
   },
   "outputs": [
    {
     "data": {
      "image/png": "[encoded data removed]",
      "text/plain": [
       "<Figure size 1440x1080 with 12 Axes>"
      ]
     },
     "metadata": {
      "needs_background": "light"
     },
     "output_type": "display_data"
    }
   ],
   "source": [
    "fig, axes = plt.subplots(4, 3, figsize=(20, 15))\n",
    "axes = axes.flatten()\n",
    "for ax, feature, title in zip(axes, features, titles):\n",
    "    ax.scatter(df_noOutliers[feature].values,\n",
    "               df_noOutliers.review_useful.values)\n",
    "    ax.set_title(title)\n",
    "plt.tight_layout()\n",
    "plt.show()"
   ]
  },
  {
   "cell_type": "code",
   "execution_count": 30,
   "metadata": {
    "ExecuteTime": {
     "end_time": "2020-12-21T05:33:45.943495Z",
     "start_time": "2020-12-21T05:33:44.394340Z"
    },
    "scrolled": false
   },
   "outputs": [
    {
     "data": {
      "text/html": [
       "<div>\n",
       "<style scoped>\n",
       "    .dataframe tbody tr th:only-of-type {\n",
       "        vertical-align: middle;\n",
       "    }\n",
       "\n",
       "    .dataframe tbody tr th {\n",
       "        vertical-align: top;\n",
       "    }\n",
       "\n",
       "    .dataframe thead th {\n",
       "        text-align: right;\n",
       "    }\n",
       "</style>\n",
       "<table border=\"1\" class=\"dataframe\">\n",
       "  <thead>\n",
       "    <tr style=\"text-align: right;\">\n",
       "      <th></th>\n",
       "      <th>Helpful Votes - Outliers</th>\n",
       "      <th>Helpful Votes - NoOutliers</th>\n",
       "    </tr>\n",
       "  </thead>\n",
       "  <tbody>\n",
       "    <tr>\n",
       "      <th>Number of Sentences</th>\n",
       "      <td>NaN</td>\n",
       "      <td>0.266259</td>\n",
       "    </tr>\n",
       "    <tr>\n",
       "      <th>Number of Words</th>\n",
       "      <td>0.279573</td>\n",
       "      <td>0.281358</td>\n",
       "    </tr>\n",
       "    <tr>\n",
       "      <th>Number of Unique Words</th>\n",
       "      <td>0.285823</td>\n",
       "      <td>0.287694</td>\n",
       "    </tr>\n",
       "    <tr>\n",
       "      <th>Number of Punctuations</th>\n",
       "      <td>0.278014</td>\n",
       "      <td>0.280379</td>\n",
       "    </tr>\n",
       "    <tr>\n",
       "      <th>Number of Exclamation Marks</th>\n",
       "      <td>0.064670</td>\n",
       "      <td>0.066640</td>\n",
       "    </tr>\n",
       "    <tr>\n",
       "      <th>Number of Digits</th>\n",
       "      <td>0.162068</td>\n",
       "      <td>0.164860</td>\n",
       "    </tr>\n",
       "    <tr>\n",
       "      <th>Number of Dollar Sign</th>\n",
       "      <td>0.118524</td>\n",
       "      <td>0.123075</td>\n",
       "    </tr>\n",
       "    <tr>\n",
       "      <th>Number of Stop Words</th>\n",
       "      <td>0.260187</td>\n",
       "      <td>0.261895</td>\n",
       "    </tr>\n",
       "    <tr>\n",
       "      <th>Number of Uppercase Words</th>\n",
       "      <td>0.205789</td>\n",
       "      <td>0.207940</td>\n",
       "    </tr>\n",
       "    <tr>\n",
       "      <th>Number of Titlecase Words</th>\n",
       "      <td>0.292244</td>\n",
       "      <td>0.294231</td>\n",
       "    </tr>\n",
       "    <tr>\n",
       "      <th>Number of Letters</th>\n",
       "      <td>0.280934</td>\n",
       "      <td>0.282718</td>\n",
       "    </tr>\n",
       "    <tr>\n",
       "      <th>Average Word Length</th>\n",
       "      <td>-0.006520</td>\n",
       "      <td>-0.018440</td>\n",
       "    </tr>\n",
       "  </tbody>\n",
       "</table>\n",
       "</div>"
      ],
      "text/plain": [
       "                             Helpful Votes - Outliers  \\\n",
       "Number of Sentences                               NaN   \n",
       "Number of Words                              0.279573   \n",
       "Number of Unique Words                       0.285823   \n",
       "Number of Punctuations                       0.278014   \n",
       "Number of Exclamation Marks                  0.064670   \n",
       "Number of Digits                             0.162068   \n",
       "Number of Dollar Sign                        0.118524   \n",
       "Number of Stop Words                         0.260187   \n",
       "Number of Uppercase Words                    0.205789   \n",
       "Number of Titlecase Words                    0.292244   \n",
       "Number of Letters                            0.280934   \n",
       "Average Word Length                         -0.006520   \n",
       "\n",
       "                             Helpful Votes - NoOutliers  \n",
       "Number of Sentences                            0.266259  \n",
       "Number of Words                                0.281358  \n",
       "Number of Unique Words                         0.287694  \n",
       "Number of Punctuations                         0.280379  \n",
       "Number of Exclamation Marks                    0.066640  \n",
       "Number of Digits                               0.164860  \n",
       "Number of Dollar Sign                          0.123075  \n",
       "Number of Stop Words                           0.261895  \n",
       "Number of Uppercase Words                      0.207940  \n",
       "Number of Titlecase Words                      0.294231  \n",
       "Number of Letters                              0.282718  \n",
       "Average Word Length                           -0.018440  "
      ]
     },
     "execution_count": 30,
     "metadata": {},
     "output_type": "execute_result"
    }
   ],
   "source": [
    "pd.DataFrame({'Helpful Votes - Outliers':\n",
    "              [scipy.stats.pearsonr(df[feature].values,\n",
    "                                    df.review_useful.values)[0] \n",
    "                   for feature in features],\n",
    "              'Helpful Votes - NoOutliers':\n",
    "              [scipy.stats.pearsonr(df_noOutliers[feature].values,\n",
    "                                    df_noOutliers.review_useful.values)[0]\n",
    "                   for feature in features]},\n",
    "             index=titles)"
   ]
  },
  {
   "cell_type": "code",
   "execution_count": 31,
   "metadata": {
    "ExecuteTime": {
     "end_time": "2020-12-21T05:33:46.123842Z",
     "start_time": "2020-12-21T05:33:45.949341Z"
    }
   },
   "outputs": [],
   "source": [
    "# del dfNoOutliers in order to free up memory\n",
    "del df_noOutliers"
   ]
  },
  {
   "cell_type": "markdown",
   "metadata": {},
   "source": [
    "# Data Cleaning & Text Mining"
   ]
  },
  {
   "cell_type": "markdown",
   "metadata": {},
   "source": [
    "* As seen from the average word length feature, there are reviews that are not written in English.\n",
    "* We will use a language detection algorithm in order to identify English reviews."
   ]
  },
  {
   "cell_type": "markdown",
   "metadata": {},
   "source": [
    "## Language Detection"
   ]
  },
  {
   "cell_type": "code",
   "execution_count": 32,
   "metadata": {
    "ExecuteTime": {
     "end_time": "2020-12-21T05:33:46.130500Z",
     "start_time": "2020-12-21T05:33:46.124615Z"
    }
   },
   "outputs": [],
   "source": [
    "def get_language(text):\n",
    "    try:\n",
    "        return detect(text)\n",
    "    except:\n",
    "        return 'error'"
   ]
  },
  {
   "cell_type": "code",
   "execution_count": 33,
   "metadata": {
    "ExecuteTime": {
     "end_time": "2020-12-21T08:40:36.710067Z",
     "start_time": "2020-12-21T05:33:46.131476Z"
    }
   },
   "outputs": [],
   "source": [
    "df['language'] = df.review.apply(get_language)\n",
    "df.to_csv('yelp_reviews_with_language.csv', index=False)"
   ]
  },
  {
   "cell_type": "code",
   "execution_count": 34,
   "metadata": {
    "ExecuteTime": {
     "end_time": "2020-12-21T08:40:36.733660Z",
     "start_time": "2020-12-21T08:40:36.718159Z"
    }
   },
   "outputs": [],
   "source": [
    "# language detection algorithm takes a great amount of time \n",
    "# save data as csv in order to save time from language detection\n",
    "# df = pd.read_csv('yelp_reviews_with_language.csv')"
   ]
  },
  {
   "cell_type": "code",
   "execution_count": 35,
   "metadata": {
    "ExecuteTime": {
     "end_time": "2020-12-21T08:40:36.910189Z",
     "start_time": "2020-12-21T08:40:36.734624Z"
    }
   },
   "outputs": [
    {
     "name": "stdout",
     "output_type": "stream",
     "text": [
      "\n",
      "\tLanguage  \tCount     \n",
      "\ten        \t3,473,105 \n",
      "\tes        \t2,533     \n",
      "\tde        \t734       \n",
      "\tfr        \t450       \n",
      "\tja        \t332       \n",
      "\tit        \t256       \n",
      "\tzh-cn     \t223       \n",
      "\tzh-tw     \t135       \n",
      "\tnl        \t133       \n",
      "\tko        \t130       \n",
      "\taf        \t113       \n",
      "\tpt        \t108       \n",
      "\tda        \t103       \n",
      "\tno        \t65        \n",
      "\tso        \t53        \n",
      "\tca        \t51        \n",
      "\tsv        \t46        \n",
      "\tcy        \t37        \n",
      "\tro        \t34        \n",
      "\ttl        \t32        \n",
      "\tet        \t30        \n",
      "\ttr        \t23        \n",
      "\tid        \t23        \n",
      "\thr        \t16        \n",
      "\tpl        \t15        \n",
      "\tvi        \t15        \n",
      "\tfi        \t12        \n",
      "\terror     \t12        \n",
      "\tsl        \t11        \n",
      "\tsk        \t9         \n",
      "\tcs        \t7         \n",
      "\tsw        \t6         \n",
      "\tsq        \t5         \n",
      "\thu        \t4         \n",
      "\tlt        \t2         \n",
      "\n"
     ]
    }
   ],
   "source": [
    "print()\n",
    "print('\\t{:<10}\\t{:<10}'.format('Language', 'Count'))\n",
    "for lang, count in df.language.value_counts().to_dict().items():\n",
    "    print('\\t{:<10}\\t{:<10,}'.format(lang, count))\n",
    "print()"
   ]
  },
  {
   "cell_type": "code",
   "execution_count": 36,
   "metadata": {
    "ExecuteTime": {
     "end_time": "2020-12-21T08:40:38.308377Z",
     "start_time": "2020-12-21T08:40:36.911186Z"
    }
   },
   "outputs": [],
   "source": [
    "# keep only English reviews\n",
    "df = df.loc[df.language == 'en']"
   ]
  },
  {
   "cell_type": "markdown",
   "metadata": {},
   "source": [
    "## Businesses with Most Reviews"
   ]
  },
  {
   "cell_type": "markdown",
   "metadata": {},
   "source": [
    "* After we identified all English reviews, we will focus on a specific part of the data.\n",
    "* In order to keep data more relevant to the restaurants industry, we will focus on the businesses which have more than 1000 reviews.\n",
    "* Since Yelp industry categorization is not mutually exclusive, there are businesses from other industries that are also categorized as restaurants for some reason.\n",
    "* By focusing on business that have more than 1000 reviews, we believe that the sample will consist of more restaurant businesses.\n",
    "* Finally, this kind of approach may result more homogeneous corpus which may improve the model performance."
   ]
  },
  {
   "cell_type": "code",
   "execution_count": 37,
   "metadata": {
    "ExecuteTime": {
     "end_time": "2020-12-21T08:40:38.744508Z",
     "start_time": "2020-12-21T08:40:38.308377Z"
    }
   },
   "outputs": [],
   "source": [
    "# group reviews by business id\n",
    "review_count = df.loc[:, ['business_id', 'review_id']].groupby(\n",
    "    'business_id').count().rename(\n",
    "    columns={'review_id': 'review_count'}).sort_values(\n",
    "    'review_count', ascending=False).reset_index()"
   ]
  },
  {
   "cell_type": "code",
   "execution_count": 38,
   "metadata": {
    "ExecuteTime": {
     "end_time": "2020-12-21T08:40:38.760241Z",
     "start_time": "2020-12-21T08:40:38.744508Z"
    },
    "scrolled": true
   },
   "outputs": [
    {
     "data": {
      "text/html": [
       "<div>\n",
       "<style scoped>\n",
       "    .dataframe tbody tr th:only-of-type {\n",
       "        vertical-align: middle;\n",
       "    }\n",
       "\n",
       "    .dataframe tbody tr th {\n",
       "        vertical-align: top;\n",
       "    }\n",
       "\n",
       "    .dataframe thead th {\n",
       "        text-align: right;\n",
       "    }\n",
       "</style>\n",
       "<table border=\"1\" class=\"dataframe\">\n",
       "  <thead>\n",
       "    <tr style=\"text-align: right;\">\n",
       "      <th></th>\n",
       "      <th>business_id</th>\n",
       "      <th>review_count</th>\n",
       "    </tr>\n",
       "  </thead>\n",
       "  <tbody>\n",
       "    <tr>\n",
       "      <th>0</th>\n",
       "      <td>RESDUcs7fIiihp38-d6_6g</td>\n",
       "      <td>10349</td>\n",
       "    </tr>\n",
       "    <tr>\n",
       "      <th>1</th>\n",
       "      <td>4JNXUYY8wbaaDmk3BPzlWw</td>\n",
       "      <td>9467</td>\n",
       "    </tr>\n",
       "    <tr>\n",
       "      <th>2</th>\n",
       "      <td>K7lWdNUhCbcnEvI0NhGewg</td>\n",
       "      <td>7567</td>\n",
       "    </tr>\n",
       "    <tr>\n",
       "      <th>3</th>\n",
       "      <td>f4x1YBxkLrZg652xt2KR5g</td>\n",
       "      <td>6827</td>\n",
       "    </tr>\n",
       "    <tr>\n",
       "      <th>4</th>\n",
       "      <td>DkYS3arLOhA8si5uUEmHOw</td>\n",
       "      <td>5346</td>\n",
       "    </tr>\n",
       "  </tbody>\n",
       "</table>\n",
       "</div>"
      ],
      "text/plain": [
       "              business_id  review_count\n",
       "0  RESDUcs7fIiihp38-d6_6g         10349\n",
       "1  4JNXUYY8wbaaDmk3BPzlWw          9467\n",
       "2  K7lWdNUhCbcnEvI0NhGewg          7567\n",
       "3  f4x1YBxkLrZg652xt2KR5g          6827\n",
       "4  DkYS3arLOhA8si5uUEmHOw          5346"
      ]
     },
     "metadata": {},
     "output_type": "display_data"
    }
   ],
   "source": [
    "display(review_count.head())"
   ]
  },
  {
   "cell_type": "code",
   "execution_count": 39,
   "metadata": {
    "ExecuteTime": {
     "end_time": "2020-12-21T08:40:39.190297Z",
     "start_time": "2020-12-21T08:40:38.761197Z"
    }
   },
   "outputs": [
    {
     "name": "stdout",
     "output_type": "stream",
     "text": [
      "\n",
      "        There are 25,827 unique businesses with a total of 3,473,105 customer reviews.\n",
      "        Only 411 of businesses have more than 1000 customer reviews.\n",
      "        The average number of review per business is 1782.39 for those that have\n",
      "        more than 1,000 reviews. However, the average number of review per business\n",
      "        is 107.83 for the remaining ones.\n",
      "        Finally, 4,047 businesses have less than 10 customer reviews.\n",
      "        \n",
      "      \n"
     ]
    }
   ],
   "source": [
    "review_threshold = 1000\n",
    "print(\"\"\"\n",
    "        There are {:,} unique businesses with a total of {:,} customer reviews.\n",
    "        Only {:,} of businesses have more than {} customer reviews.\n",
    "        The average number of review per business is {:.2f} for those that have\n",
    "        more than {:,} reviews. However, the average number of review per business\n",
    "        is {:.2f} for the remaining ones.\n",
    "        Finally, {:,} businesses have less than 10 customer reviews.\n",
    "        \n",
    "      \"\"\"\n",
    "      .format(review_count.shape[0],\n",
    "              review_count.review_count.sum(),\n",
    "              review_count[review_count.review_count >=\n",
    "                           review_threshold].shape[0],\n",
    "              review_threshold,\n",
    "              review_count[\n",
    "                  review_count.review_count >= review_threshold].mean()[0],\n",
    "              review_threshold,\n",
    "              review_count[\n",
    "                  review_count.review_count < review_threshold].mean()[0],\n",
    "              review_count[\n",
    "                  review_count.review_count < 10].shape[0]))"
   ]
  },
  {
   "cell_type": "code",
   "execution_count": 40,
   "metadata": {
    "ExecuteTime": {
     "end_time": "2020-12-21T08:40:40.082141Z",
     "start_time": "2020-12-21T08:40:39.192330Z"
    }
   },
   "outputs": [],
   "source": [
    "# identify all businesses which have more than 1000 reviews\n",
    "review_count = review_count.loc[review_count.review_count >= review_threshold]\n",
    "# keep only the business ids\n",
    "review_count.drop('review_count', axis=1, inplace=True)\n",
    "# merge on business id\n",
    "df1 = df.merge(review_count, on='business_id', validate='many_to_one')"
   ]
  },
  {
   "cell_type": "code",
   "execution_count": 41,
   "metadata": {
    "ExecuteTime": {
     "end_time": "2020-12-21T08:40:40.497269Z",
     "start_time": "2020-12-21T08:40:40.084195Z"
    }
   },
   "outputs": [
    {
     "name": "stdout",
     "output_type": "stream",
     "text": [
      "<class 'pandas.core.frame.DataFrame'>\n",
      "Int64Index: 732564 entries, 0 to 732563\n",
      "Data columns (total 23 columns):\n",
      " #   Column                Non-Null Count   Dtype  \n",
      "---  ------                --------------   -----  \n",
      " 0   review_id             732564 non-null  object \n",
      " 1   user_id               732564 non-null  object \n",
      " 2   business_id           732564 non-null  object \n",
      " 3   review_stars          732564 non-null  float64\n",
      " 4   review_useful         732564 non-null  int64  \n",
      " 5   review_funny          732564 non-null  int64  \n",
      " 6   review_cool           732564 non-null  int64  \n",
      " 7   review                732564 non-null  object \n",
      " 8   review_date           732564 non-null  object \n",
      " 9   word_tokens           732564 non-null  object \n",
      " 10  length_sent           732564 non-null  int64  \n",
      " 11  length_word           732564 non-null  int64  \n",
      " 12  set_word              732564 non-null  int64  \n",
      " 13  length_punct          732564 non-null  int64  \n",
      " 14  length_exclamation    732564 non-null  int64  \n",
      " 15  length_digits         732564 non-null  int64  \n",
      " 16  length_dollar         732564 non-null  int64  \n",
      " 17  length_stopwords      732564 non-null  int64  \n",
      " 18  length_upper          732564 non-null  int64  \n",
      " 19  length_title          732564 non-null  int64  \n",
      " 20  length_char           732564 non-null  int64  \n",
      " 21  average_length_words  732564 non-null  float64\n",
      " 22  language              732564 non-null  object \n",
      "dtypes: float64(2), int64(14), object(7)\n",
      "memory usage: 134.1+ MB\n"
     ]
    }
   ],
   "source": [
    "df1.info(verbose=True, null_counts=True)"
   ]
  },
  {
   "cell_type": "markdown",
   "metadata": {},
   "source": [
    "## Explore the Corpus"
   ]
  },
  {
   "cell_type": "code",
   "execution_count": 42,
   "metadata": {
    "ExecuteTime": {
     "end_time": "2020-12-21T08:40:41.090293Z",
     "start_time": "2020-12-21T08:40:40.499327Z"
    },
    "scrolled": false
   },
   "outputs": [
    {
     "data": {
      "image/png": "[encoded data removed]",
      "text/plain": [
       "<Figure size 864x360 with 2 Axes>"
      ]
     },
     "metadata": {
      "needs_background": "light"
     },
     "output_type": "display_data"
    }
   ],
   "source": [
    "# Check some features in order to explore the corpus\n",
    "d = dict(zip(['length_punct', 'average_length_words'],\n",
    "             ['Number of Punctuations', 'Average Word Length']))\n",
    "# compare distributions of features by class in order to find the\n",
    "# features that can identify fraudulent transactions\n",
    "fig, axes = plt.subplots(1, 2)  # generates figure and axis objects\n",
    "fig.set_size_inches([12, 5])  # adjust the figure size in inches\n",
    "axes = axes.flatten()\n",
    "for feature, ax in zip(d.keys(), axes):\n",
    "    # plot the distribution of not helpful\n",
    "    ax.hist(df1[feature].values, edgecolor='k')\n",
    "    ax.set_yscale('log')\n",
    "    ax.set_title(d[feature], size=18)\n",
    "plt.tight_layout()\n",
    "plt.show()"
   ]
  },
  {
   "cell_type": "code",
   "execution_count": 43,
   "metadata": {
    "ExecuteTime": {
     "end_time": "2020-12-21T08:40:41.105600Z",
     "start_time": "2020-12-21T08:40:41.090293Z"
    },
    "scrolled": false
   },
   "outputs": [
    {
     "name": "stdout",
     "output_type": "stream",
     "text": [
      "awesome sushi restaurant and very cheap price\n",
      "have to visit in las vegas！！！xkxdmdkskkakakdmfkslfkfms\n",
      "-+-+-+-+-+-+-+-+-+-+-+-+-+-+-+-+-+-+-+-+-+-+-+-+-+-+-+-+-+-+-+-+-+-+-+-+-+-+-+-+-+-+-+-+-+-+-+-+-+-+-+-+-+-+-+-+-+-+-+-+-+-+-+-+-+-+-+-+-+-+-+-+-+-+-+-+-+-+-+-+\n",
      "\n",
      "first day in las vagas and taste nice sushi～～～great environment，great food～great stuff～～\n",
      "-+-+-+-+-+-+-+-+-+-+-+-+-+-+-+-+-+-+-+-+-+-+-+-+-+-+-+-+-+-+-+-+-+-+-+-+-+-+-+-+-+-+-+-+-+-+-+-+-+-+-+-+-+-+-+-+-+-+-+-+-+-+-+-+-+-+-+-+-+-+-+-+-+-+-+-+-+-+-+-+\n",
      "\n",
      "very nice place for meeting friends。Beautiful services. Wonderful tasting.coming for dinner\n",
      "-+-+-+-+-+-+-+-+-+-+-+-+-+-+-+-+-+-+-+-+-+-+-+-+-+-+-+-+-+-+-+-+-+-+-+-+-+-+-+-+-+-+-+-+-+-+-+-+-+-+-+-+-+-+-+-+-+-+-+-+-+-+-+-+-+-+-+-+-+-+-+-+-+-+-+-+-+-+-+-+\n",
      "\n",
      "Delicious!\n",
      "Speedy\n",
      "Friendly\n",
      "\n",
      "Highly recommend this place \n",
      "\n",
      "Alligator and Lobster rolls were fantastic\n",
      "-+-+-+-+-+-+-+-+-+-+-+-+-+-+-+-+-+-+-+-+-+-+-+-+-+-+-+-+-+-+-+-+-+-+-+-+-+-+-+-+-+-+-+-+-+-+-+-+-+-+-+-+-+-+-+-+-+-+-+-+-+-+-+-+-+-+-+-+-+-+-+-+-+-+-+-+-+-+-+-+\n",
      "\n",
      "5 star restaurant hands down. Best bartender in Phoenix. (Alex) good food and amazing appetizers. ....................................smiling. ........................................\n",
      "Great drinks and very cool atmosphere.\n",
      "-+-+-+-+-+-+-+-+-+-+-+-+-+-+-+-+-+-+-+-+-+-+-+-+-+-+-+-+-+-+-+-+-+-+-+-+-+-+-+-+-+-+-+-+-+-+-+-+-+-+-+-+-+-+-+-+-+-+-+-+-+-+-+-+-+-+-+-+-+-+-+-+-+-+-+-+-+-+-+-+\n",
      "\n",
      "Loved it food delicious services wonderful clean friendly staff, ordered huevos rancheros amazing\n",
      "-+-+-+-+-+-+-+-+-+-+-+-+-+-+-+-+-+-+-+-+-+-+-+-+-+-+-+-+-+-+-+-+-+-+-+-+-+-+-+-+-+-+-+-+-+-+-+-+-+-+-+-+-+-+-+-+-+-+-+-+-+-+-+-+-+-+-+-+-+-+-+-+-+-+-+-+-+-+-+-+\n",
      "\n",
      "Great zucchini fritars and the crispy shrimp was equally delicious \n",
      "Excellent service \n",
      "Clean bathrooms\n",
      "-+-+-+-+-+-+-+-+-+-+-+-+-+-+-+-+-+-+-+-+-+-+-+-+-+-+-+-+-+-+-+-+-+-+-+-+-+-+-+-+-+-+-+-+-+-+-+-+-+-+-+-+-+-+-+-+-+-+-+-+-+-+-+-+-+-+-+-+-+-+-+-+-+-+-+-+-+-+-+-+\n",
      "\n",
      "Great service.food was wonderfull\n",
      "-+-+-+-+-+-+-+-+-+-+-+-+-+-+-+-+-+-+-+-+-+-+-+-+-+-+-+-+-+-+-+-+-+-+-+-+-+-+-+-+-+-+-+-+-+-+-+-+-+-+-+-+-+-+-+-+-+-+-+-+-+-+-+-+-+-+-+-+-+-+-+-+-+-+-+-+-+-+-+-+\n",
      "\n",
      "Another awesome restaurant!\n",
      "Scallops and Brussel sprouts were excellent great combination\n",
      "-+-+-+-+-+-+-+-+-+-+-+-+-+-+-+-+-+-+-+-+-+-+-+-+-+-+-+-+-+-+-+-+-+-+-+-+-+-+-+-+-+-+-+-+-+-+-+-+-+-+-+-+-+-+-+-+-+-+-+-+-+-+-+-+-+-+-+-+-+-+-+-+-+-+-+-+-+-+-+-+\n",
      "\n",
      "Surprisingly filling , great flavors and a great atmosphere to compliment the delicious watemelon-basil margarita\n",
      "-+-+-+-+-+-+-+-+-+-+-+-+-+-+-+-+-+-+-+-+-+-+-+-+-+-+-+-+-+-+-+-+-+-+-+-+-+-+-+-+-+-+-+-+-+-+-+-+-+-+-+-+-+-+-+-+-+-+-+-+-+-+-+-+-+-+-+-+-+-+-+-+-+-+-+-+-+-+-+-+\n",
      "\n",
      "weapon of choice...\n",
      "\n",
      "GRILLED MAHI MAHI\n",
      "Roasted Pineapple-Cascabel Chile Sauce\n",
      "+ Caramelized Pineapple-Green Onion Salsa\n",
      "-+-+-+-+-+-+-+-+-+-+-+-+-+-+-+-+-+-+-+-+-+-+-+-+-+-+-+-+-+-+-+-+-+-+-+-+-+-+-+-+-+-+-+-+-+-+-+-+-+-+-+-+-+-+-+-+-+-+-+-+-+-+-+-+-+-+-+-+-+-+-+-+-+-+-+-+-+-+-+-+\n",
      "\n",
      "Great music.killer drinks.wonderful atmosphere.cant get no better.excellent experience.\n",
      "-+-+-+-+-+-+-+-+-+-+-+-+-+-+-+-+-+-+-+-+-+-+-+-+-+-+-+-+-+-+-+-+-+-+-+-+-+-+-+-+-+-+-+-+-+-+-+-+-+-+-+-+-+-+-+-+-+-+-+-+-+-+-+-+-+-+-+-+-+-+-+-+-+-+-+-+-+-+-+-+\n",
      "\n",
      "We are 2 adults and 3children, so we ordered Gangman set and some dishes. It was all tasty and big portions. We got a macaron ice cream after submitting the yelp check in. This restaurant is located a little far from the Strip so we went by a car. If you want Asian taste, it would be good choice in Vegas. \n",
      "\n",
      "家族5人でGangnam set2人前と追加でプルコギビビンバ、スチームドエッグ、チャプチェ、コーンなどを頼みました。うちの子供たちは小食なので食べきれないほどでした。お味は美味しかったです。ストリップから離れているので車が必要かと思います。2時頃行ったので空いていました。アジア料理を食べたくなったらいいチョイスだと思います。yelpのチェックインするとかわいいマカロンアイスが貰えました。\n",
      "-+-+-+-+-+-+-+-+-+-+-+-+-+-+-+-+-+-+-+-+-+-+-+-+-+-+-+-+-+-+-+-+-+-+-+-+-+-+-+-+-+-+-+-+-+-+-+-+-+-+-+-+-+-+-+-+-+-+-+-+-+-+-+-+-+-+-+-+-+-+-+-+-+-+-+-+-+-+-+-+\n",
      "\n",
      "All delicious kinds of yum. I'm still dreaming about the super white albacore 3 weeks later.  I love that its bar style seating so the atmosphere feels cozy, intimate, and authentic! The Japanese sushi chefs are always smiling and boisterous. Too bad you need a car to get here from the strip! My friends and i fantasize about this place every time we hit up Vegas.\n",
      "\n",
      "Super white albacore on the left!\n",
      "http://www.yelp.com/biz_photos/E62l6LwZJ7lKaExcUbrtYw?select=Y4uXNgVD0UndvpI1Xzv3Og\n",
      "\n",
      "Delicious rolls!\n",
      "http://www.yelp.com/biz_photos/E62l6LwZJ7lKaExcUbrtYw?select=glJWE1iFzYLcVM4mtmbp4g\n",
      "\n",
      "Just OK-  Agedashi tofu\n",
      "http://www.yelp.com/biz_photos/E62l6LwZJ7lKaExcUbrtYw?select=WyP5EznpAoO3qy5Mr8Buew\n",
      "\n",
      "Love Yellowtail and Salmon! Nice thick pieces with little rice\n",
      "http://www.yelp.com/biz_photos/E62l6LwZJ7lKaExcUbrtYw?select=JlhTtx8P5sjZuzdQ9f7gDQ\n",
      "-+-+-+-+-+-+-+-+-+-+-+-+-+-+-+-+-+-+-+-+-+-+-+-+-+-+-+-+-+-+-+-+-+-+-+-+-+-+-+-+-+-+-+-+-+-+-+-+-+-+-+-+-+-+-+-+-+-+-+-+-+-+-+-+-+-+-+-+-+-+-+-+-+-+-+-+-+-+-+-+\n",
      "\n",
      "So far it's been delicious! I definitely recommend the Fried Chicken, Shishito Peppers, and the Cu-Ban-Mi! For more pictures visit http://www.lifeismyoyster.com/cafe-saturdays-on-sunday-publicus/\n",
      "-+-+-+-+-+-+-+-+-+-+-+-+-+-+-+-+-+-+-+-+-+-+-+-+-+-+-+-+-+-+-+-+-+-+-+-+-+-+-+-+-+-+-+-+-+-+-+-+-+-+-+-+-+-+-+-+-+-+-+-+-+-+-+-+-+-+-+-+-+-+-+-+-+-+-+-+-+-+-+-+\n",
      "\n",
      "Excellent Topos place great presentation exceptional flavors reasonable price definitely recommend Will be back.\n",
      "-+-+-+-+-+-+-+-+-+-+-+-+-+-+-+-+-+-+-+-+-+-+-+-+-+-+-+-+-+-+-+-+-+-+-+-+-+-+-+-+-+-+-+-+-+-+-+-+-+-+-+-+-+-+-+-+-+-+-+-+-+-+-+-+-+-+-+-+-+-+-+-+-+-+-+-+-+-+-+-+\n",
      "\n",
      "Close friend/family member recommended that we hit it up...and omg...great food and even better service \n",
      "..................................\n",
      "-+-+-+-+-+-+-+-+-+-+-+-+-+-+-+-+-+-+-+-+-+-+-+-+-+-+-+-+-+-+-+-+-+-+-+-+-+-+-+-+-+-+-+-+-+-+-+-+-+-+-+-+-+-+-+-+-+-+-+-+-+-+-+-+-+-+-+-+-+-+-+-+-+-+-+-+-+-+-+-+\n",
      "\n",
      "Never disappointed Great food service and pricing  accommodated My group of 40ppl for THANKSGIVING WEEKEND THANKYOU peggy\n",
      "-+-+-+-+-+-+-+-+-+-+-+-+-+-+-+-+-+-+-+-+-+-+-+-+-+-+-+-+-+-+-+-+-+-+-+-+-+-+-+-+-+-+-+-+-+-+-+-+-+-+-+-+-+-+-+-+-+-+-+-+-+-+-+-+-+-+-+-+-+-+-+-+-+-+-+-+-+-+-+-+\n",
      "\n",
      "Monta Ramen, you have yet to be dethroned as my number 1 ramen joint. If only you did not have 1-2 hours waiting time, you and I can get married.  \n",
      "\n",
      "Check out my Monta Ramen (Hakata) vs Ramen Sora (Sapporo) review here: http://www.yelp.com/user_details?userid=b_9bJ2YjHbbvAob56f6U7A\n",
      "\n",
      "Want to see some food porn?\n",
      "http://www.yelp.com/biz_photos/monta-ramen-las-vegas-2?select=z3vvY8VjBgwYjTi_uNYjtg#LpKw1AurwdwET8QrRRONgw\n",
      "http://www.yelp.com/biz_photos/monta-ramen-las-vegas-2?select=z3vvY8VjBgwYjTi_uNYjtg#m4yXnNO5Vc6iK6pNgUKqOA\n",
      "-+-+-+-+-+-+-+-+-+-+-+-+-+-+-+-+-+-+-+-+-+-+-+-+-+-+-+-+-+-+-+-+-+-+-+-+-+-+-+-+-+-+-+-+-+-+-+-+-+-+-+-+-+-+-+-+-+-+-+-+-+-+-+-+-+-+-+-+-+-+-+-+-+-+-+-+-+-+-+-+\n",
      "\n",
      "C/money holler... the Rachelle.crowd luvs the serivce.and.the food nom nom nom......seriously best food.should.be.illegal\n",
      "-+-+-+-+-+-+-+-+-+-+-+-+-+-+-+-+-+-+-+-+-+-+-+-+-+-+-+-+-+-+-+-+-+-+-+-+-+-+-+-+-+-+-+-+-+-+-+-+-+-+-+-+-+-+-+-+-+-+-+-+-+-+-+-+-+-+-+-+-+-+-+-+-+-+-+-+-+-+-+-+\n",
      "\n",
      "Ffp was c for fcfffffcffff it is the first ff fffffcfcftfftttct tftf tf t I ftg first for ffp frtrfct‍‍‍‍‍‍‍‍‍ tf trfftttftfcttfftcfctcffffffffcffftf‍‍‍‍‍‍‍‍ the cttcvf‍\n",
      "-+-+-+-+-+-+-+-+-+-+-+-+-+-+-+-+-+-+-+-+-+-+-+-+-+-+-+-+-+-+-+-+-+-+-+-+-+-+-+-+-+-+-+-+-+-+-+-+-+-+-+-+-+-+-+-+-+-+-+-+-+-+-+-+-+-+-+-+-+-+-+-+-+-+-+-+-+-+-+-+\n",
      "\n",
      "They were shutdown due to too many health inspection demerits :(\n",
      "\n",
      "http://www.jrn.com/ktnv/news/dirty-dining/Dirty-Dining-Happys-Pizza-265623751.html?lc=Smart\n",
      "-+-+-+-+-+-+-+-+-+-+-+-+-+-+-+-+-+-+-+-+-+-+-+-+-+-+-+-+-+-+-+-+-+-+-+-+-+-+-+-+-+-+-+-+-+-+-+-+-+-+-+-+-+-+-+-+-+-+-+-+-+-+-+-+-+-+-+-+-+-+-+-+-+-+-+-+-+-+-+-+\n",
      "\n",
      "it was my 2nd night in las vegas and i have already had 2 great meals...dim sum for lunch and restaurant charlie (palazzo) the night before...i was crossing my fingers and hoped that my good luck continued...and it did...from the decor, to the service, and especially the food...excellent...\n",
      "\n",
      "upstairs wine tasting room\n",
      "http://www.yelp.com/biz_photos/YuiM5VKscO8rS1EX7f19_g?select=VwYZgUptInNaHaJ-Ceryow\n",
      "\n",
      "candle holder designed by stanlee gatti\n",
      "http://www.yelp.com/biz_photos/YuiM5VKscO8rS1EX7f19_g?select=gLdCnZ5OjDwJ0hdlgPCYDQ\n",
      "\n",
      "random shot of the ladie's restroom sitting area\n",
      "http://www.yelp.com/biz_photos/YuiM5VKscO8rS1EX7f19_g?select=NAngl1yw7rPwfbHxM5V9sA\n",
      "\n",
      "champagne coctail\n",
      "http://www.yelp.com/biz_photos/YuiM5VKscO8rS1EX7f19_g?select=Fk1AfWdbpVKPl38xD7uvig\n",
      "\n",
      "rosemary focaccia\n",
      "http://www.yelp.com/biz_photos/YuiM5VKscO8rS1EX7f19_g?select=G4GL0jyBuHcI0FZ5sD_hSQ\n",
      "\n",
      "amuse bouche: lobster tempura, warm potato salad with crème fraîche\n",
      "http://www.yelp.com/biz_photos/YuiM5VKscO8rS1EX7f19_g?select=VBNxfNxX-TbNzP2K5jDXBA\n",
      "\n",
      "truffled onion soup: braised duck crêpe, red onion purée, black truffle:  a creamy onion soup...one of my favs of the night...beware:  it is effin' HOT\n",
      "http://www.yelp.com/biz_photos/YuiM5VKscO8rS1EX7f19_g?select=IAiX93Y7-vaJ6YNM6yhD1Q\n",
      "\n",
      "ahi tartare: shaved fennel, finger ponzu, fennel seed tuile:  light, refreshing, and crisp...yummissimo\n",
      "http://www.yelp.com/biz_photos/YuiM5VKscO8rS1EX7f19_g?select=vlg7FfuY-StoXPLWk_yGxA\n",
      "\n",
      "braised veal and yukon gold potato ravioli: sunchokes, english peas and pea shoots:  very good, but not enough veal\n",
      "http://www.yelp.com/biz_photos/YuiM5VKscO8rS1EX7f19_g?select=CAwJKErHRqfKCu7jVJuc3A\n",
      "\n",
      "prime filet mignon: baby spinach, wild mushrooms, baby carrots, red wine reduction:  cooked perfectly to medium rare\n",
      "http://www.yelp.com/biz_photos/YuiM5VKscO8rS1EX7f19_g?select=4lHMUG0Ing2fmKR08MlibA\n",
      "\n",
      "stout braised beef short ribs: root vegetable puree, whole grain mustard, cornichons:  nada especial...\n",
      "http://www.yelp.com/biz_photos/YuiM5VKscO8rS1EX7f19_g?select=UqNb1qoYMHV65_3E_kbMpQ\n",
      "\n",
      "citrus glazed monkfish filet:  clams, mussels, chorizo, young broccoli florets:   again, not that special\n",
      "http://www.yelp.com/biz_photos/YuiM5VKscO8rS1EX7f19_g?select=S7EZHbmL2Ih_cBoIeByF1A\n",
      "\n",
      "chocolate soufflé expresso ice cream\n",
      "http://www.yelp.com/biz_photos/YuiM5VKscO8rS1EX7f19_g?select=RzS9ZCcJbFHdvvuPH3wXmA\n",
      "\n",
      "bailey's ice cream, dark molten chocolate cake with roasted bananas, and peanut butter shake\n",
      "http://www.yelp.com/biz_photos/YuiM5VKscO8rS1EX7f19_g?select=Au5WV9JVjtAEq49udMkixw\n",
      "\n",
      "petit fours:\n",
      "house made marshmallow,cocoa dusted almonds, canelé de bordeaux, nougat, pomegranate pâtes de fruits\n",
      "http://www.yelp.com/biz_photos/YuiM5VKscO8rS1EX7f19_g?select=XzMol4FCBhzpjYBDSGFPAQ\n",
      "\n",
      "i only gave 4 stars bc i wasn't too impressed with our main course...the braised short ribs and the monkfish...the desserts were very good, but a little too rich...loved the petit fours...especially the pomegranate pâtes de fruits...mmm\n",
      "\n",
      "definite las vegas top 10!\n",
      "-+-+-+-+-+-+-+-+-+-+-+-+-+-+-+-+-+-+-+-+-+-+-+-+-+-+-+-+-+-+-+-+-+-+-+-+-+-+-+-+-+-+-+-+-+-+-+-+-+-+-+-+-+-+-+-+-+-+-+-+-+-+-+-+-+-+-+-+-+-+-+-+-+-+-+-+-+-+-+-+\n",
      "\n",
      "disgustingly rude staff who yells and instigates aggressive confrontation with customers\n",
      "-+-+-+-+-+-+-+-+-+-+-+-+-+-+-+-+-+-+-+-+-+-+-+-+-+-+-+-+-+-+-+-+-+-+-+-+-+-+-+-+-+-+-+-+-+-+-+-+-+-+-+-+-+-+-+-+-+-+-+-+-+-+-+-+-+-+-+-+-+-+-+-+-+-+-+-+-+-+-+-+\n",
      "\n",
      "Amazing pancakes best eggs Benedict incredible grits. Delicious fresh squeezed orange juice\n",
      "-+-+-+-+-+-+-+-+-+-+-+-+-+-+-+-+-+-+-+-+-+-+-+-+-+-+-+-+-+-+-+-+-+-+-+-+-+-+-+-+-+-+-+-+-+-+-+-+-+-+-+-+-+-+-+-+-+-+-+-+-+-+-+-+-+-+-+-+-+-+-+-+-+-+-+-+-+-+-+-+\n",
      "\n",
      "Smart management and exceptional food and service oriented toward providing quality food expertly prepared. Peerless in Scottsdale.\n",
      "-+-+-+-+-+-+-+-+-+-+-+-+-+-+-+-+-+-+-+-+-+-+-+-+-+-+-+-+-+-+-+-+-+-+-+-+-+-+-+-+-+-+-+-+-+-+-+-+-+-+-+-+-+-+-+-+-+-+-+-+-+-+-+-+-+-+-+-+-+-+-+-+-+-+-+-+-+-+-+-+\n",
      "\n",
      "What an incredible experience! An exquisitely delicious new flavor to brunch far beyond a traditional toast and eggs breakfast accompanied by extravagantly delectable beverages in an upbeat fun and gastronomically flirtatious environment.  Phenomenal food service and experience.\n",
      "-+-+-+-+-+-+-+-+-+-+-+-+-+-+-+-+-+-+-+-+-+-+-+-+-+-+-+-+-+-+-+-+-+-+-+-+-+-+-+-+-+-+-+-+-+-+-+-+-+-+-+-+-+-+-+-+-+-+-+-+-+-+-+-+-+-+-+-+-+-+-+-+-+-+-+-+-+-+-+-+\n",
      "\n",
      "Outstanding place.  Fun interactive entertainment and phenomenal food!  Service impeccable.\n",
      "-+-+-+-+-+-+-+-+-+-+-+-+-+-+-+-+-+-+-+-+-+-+-+-+-+-+-+-+-+-+-+-+-+-+-+-+-+-+-+-+-+-+-+-+-+-+-+-+-+-+-+-+-+-+-+-+-+-+-+-+-+-+-+-+-+-+-+-+-+-+-+-+-+-+-+-+-+-+-+-+\n",
      "\n",
      "Great food and great price! 看得到Bellagio水舞表演，配上超好吃的brunch！Amazing experience！\n",
      "-+-+-+-+-+-+-+-+-+-+-+-+-+-+-+-+-+-+-+-+-+-+-+-+-+-+-+-+-+-+-+-+-+-+-+-+-+-+-+-+-+-+-+-+-+-+-+-+-+-+-+-+-+-+-+-+-+-+-+-+-+-+-+-+-+-+-+-+-+-+-+-+-+-+-+-+-+-+-+-+\n",
      "\n",
      "If you like Indian food, you MUST try this place out.  BEST Indian lunch buffet you'd every get for $9.99!!!  \n",
      "\n",
      "http://www.yelp.com/biz_photos/UV2Jt8slktGu14gLZeNCjA?select=C-4_Sty9KaYPEFTIugumEg\n",
      "http://www.yelp.com/biz_photos/UV2Jt8slktGu14gLZeNCjA?select=MqHNz380wuIl0CRBnIwbPA\n",
      "http://www.yelp.com/biz_photos/UV2Jt8slktGu14gLZeNCjA?select=rW4XgF2v6TlLAlLlP-w_5w\n",
      "http://www.yelp.com/biz_photos/UV2Jt8slktGu14gLZeNCjA?select=Rh-nqM059aha5VQk8KOBOQ\n",
      "http://www.yelp.com/biz_photos/UV2Jt8slktGu14gLZeNCjA?select=pB8-Xqx6-Dmxl0D00fBqkg\n",
      "http://www.yelp.com/biz_photos/UV2Jt8slktGu14gLZeNCjA?select=p64zLEyMMnAA8cJU7M96iw\n",
      "http://www.yelp.com/biz_photos/UV2Jt8slktGu14gLZeNCjA?select=Bk8D407zNs5eDgSDWi-h2g\n",
      "www.yelp.com/biz_photos/UV2Jt8slktGu14gLZeNCjA?select=xcmxpP3nOszlom9jQwHs7A\n",
      "http://www.yelp.com/biz_photos/UV2Jt8slktGu14gLZeNCjA?select=cIU2s6vHL7LHByxfwjvcEw\n",
      "\n",
      "The variety is unbelievable, including several chicken and lamb dishes but also many vegetarian ones.  I've never seen an Indian buffet with that big of a spread!  There is also a salad bar.  \n",
      "\n",
      "Everything was delicious!  The Garlic Naan was out of this world!  The chicken curry and fried chicken (strip) were very yummy and the chicken tandoori was the best I've ever had!  They even have desserts!\n",
      "\n",
      "Love, love this place!  You will, too!\n",
      "-+-+-+-+-+-+-+-+-+-+-+-+-+-+-+-+-+-+-+-+-+-+-+-+-+-+-+-+-+-+-+-+-+-+-+-+-+-+-+-+-+-+-+-+-+-+-+-+-+-+-+-+-+-+-+-+-+-+-+-+-+-+-+-+-+-+-+-+-+-+-+-+-+-+-+-+-+-+-+-+\n",
      "\n",
      "Definitely one the must try locations for specialty coffee and satisfying American/Colombian food\n",
      "-+-+-+-+-+-+-+-+-+-+-+-+-+-+-+-+-+-+-+-+-+-+-+-+-+-+-+-+-+-+-+-+-+-+-+-+-+-+-+-+-+-+-+-+-+-+-+-+-+-+-+-+-+-+-+-+-+-+-+-+-+-+-+-+-+-+-+-+-+-+-+-+-+-+-+-+-+-+-+-+\n",
      "\n",
      "Very good food staff very friendly and accommodating.authentic indian food.highly recommended\n",
      "-+-+-+-+-+-+-+-+-+-+-+-+-+-+-+-+-+-+-+-+-+-+-+-+-+-+-+-+-+-+-+-+-+-+-+-+-+-+-+-+-+-+-+-+-+-+-+-+-+-+-+-+-+-+-+-+-+-+-+-+-+-+-+-+-+-+-+-+-+-+-+-+-+-+-+-+-+-+-+-+\n",
      "\n",
      "Pastor burrito is excellent also chilaquiles highly recommended.\n",
      "Sincerely \n",
      "A Mexican\n",
      "-+-+-+-+-+-+-+-+-+-+-+-+-+-+-+-+-+-+-+-+-+-+-+-+-+-+-+-+-+-+-+-+-+-+-+-+-+-+-+-+-+-+-+-+-+-+-+-+-+-+-+-+-+-+-+-+-+-+-+-+-+-+-+-+-+-+-+-+-+-+-+-+-+-+-+-+-+-+-+-+\n",
      "\n",
      "Steve burritoooo....mmmmmm.......\n",
      "-+-+-+-+-+-+-+-+-+-+-+-+-+-+-+-+-+-+-+-+-+-+-+-+-+-+-+-+-+-+-+-+-+-+-+-+-+-+-+-+-+-+-+-+-+-+-+-+-+-+-+-+-+-+-+-+-+-+-+-+-+-+-+-+-+-+-+-+-+-+-+-+-+-+-+-+-+-+-+-+\n",
      "\n",
      "Unbelievable food with excellent service!! Will come back tomorrow for breakfast before leaving Vegas. \n",
      "没想到在拉斯维加斯吃到的最好的一顿饭是这里的墨西哥餐。真的好吃！！\n",
      "-+-+-+-+-+-+-+-+-+-+-+-+-+-+-+-+-+-+-+-+-+-+-+-+-+-+-+-+-+-+-+-+-+-+-+-+-+-+-+-+-+-+-+-+-+-+-+-+-+-+-+-+-+-+-+-+-+-+-+-+-+-+-+-+-+-+-+-+-+-+-+-+-+-+-+-+-+-+-+-+\n",
      "\n",
      "Return visit delicious food courteous staff.great atmosphere away from crowded strip area\n",
      "-+-+-+-+-+-+-+-+-+-+-+-+-+-+-+-+-+-+-+-+-+-+-+-+-+-+-+-+-+-+-+-+-+-+-+-+-+-+-+-+-+-+-+-+-+-+-+-+-+-+-+-+-+-+-+-+-+-+-+-+-+-+-+-+-+-+-+-+-+-+-+-+-+-+-+-+-+-+-+-+\n",
      "\n",
      "This review is long overdue.  I Love this place!  Their food is delicious and their customer service is outstanding.  I was so happy with my experience here I wrote to the AZ Republic and they published an article about it.  See article here:  http://www.azcentral.com/story/money/business/consumer/call-12-for-action/2014/08/03/casanova-star-service/13556049/\n",
      "-+-+-+-+-+-+-+-+-+-+-+-+-+-+-+-+-+-+-+-+-+-+-+-+-+-+-+-+-+-+-+-+-+-+-+-+-+-+-+-+-+-+-+-+-+-+-+-+-+-+-+-+-+-+-+-+-+-+-+-+-+-+-+-+-+-+-+-+-+-+-+-+-+-+-+-+-+-+-+-+\n",
      "\n",
      "Salty af................................... Cheese Fry's came out cold................,........\n",
      "-+-+-+-+-+-+-+-+-+-+-+-+-+-+-+-+-+-+-+-+-+-+-+-+-+-+-+-+-+-+-+-+-+-+-+-+-+-+-+-+-+-+-+-+-+-+-+-+-+-+-+-+-+-+-+-+-+-+-+-+-+-+-+-+-+-+-+-+-+-+-+-+-+-+-+-+-+-+-+-+\n",
      "\n",
      "The corner suite with balcony overlooking the Bellagio fountains is unbelievably gorgeous and luxurious\n",
      "-+-+-+-+-+-+-+-+-+-+-+-+-+-+-+-+-+-+-+-+-+-+-+-+-+-+-+-+-+-+-+-+-+-+-+-+-+-+-+-+-+-+-+-+-+-+-+-+-+-+-+-+-+-+-+-+-+-+-+-+-+-+-+-+-+-+-+-+-+-+-+-+-+-+-+-+-+-+-+-+\n",
      "\n",
      "Superstore auto Christmas party \n",
      "Great job Red Rock \n",
      "Great food atmosphere entertainment \n",
      "Excellent service from staff\n",
      "-+-+-+-+-+-+-+-+-+-+-+-+-+-+-+-+-+-+-+-+-+-+-+-+-+-+-+-+-+-+-+-+-+-+-+-+-+-+-+-+-+-+-+-+-+-+-+-+-+-+-+-+-+-+-+-+-+-+-+-+-+-+-+-+-+-+-+-+-+-+-+-+-+-+-+-+-+-+-+-+\n",
      "\n",
      "Excellent buffet great variety and flavor is good!!!\n",
      "I would recommend this buffet when in Vegas!http://www.briggs-riley.com/category/productDetail.aspx?id=Baseline-Smartlink™-Strap-For-Discontinued-Styles_W720&sec=accessories\n",
      "-+-+-+-+-+-+-+-+-+-+-+-+-+-+-+-+-+-+-+-+-+-+-+-+-+-+-+-+-+-+-+-+-+-+-+-+-+-+-+-+-+-+-+-+-+-+-+-+-+-+-+-+-+-+-+-+-+-+-+-+-+-+-+-+-+-+-+-+-+-+-+-+-+-+-+-+-+-+-+-+\n",
      "\n",
      "mmmmmmmmmmmmmmmmmmmmmmmmmmmmmmmmmmmmmmmmmmmmmmmmmmmmmmmmmmmmmmmmmmmmmmmmmmmmmmmmmmmmmmmmmmmmmmmmmmmmmmmmmmmmmmmmmmmmmmmmmmmmmmmmmmmmmmmmmmmmmmmmmmmmmmmmmmmmmmm.\n",
      "\n",
      "bottomless brunch mimosas. all the food is really good. the quesadilla with the egg on top is to die for imo. if you don't see what you want, ask and they will make it for you. by no means an inexpensive buffet. gets sort of crowded so try to get there early.\n",
      "\n",
      "yyyuuuuuuuuuuuuuuuuuuuuuuuuuuuuuuuuuuuuuuuuuuuummmmmmmmmmmmmmmmmmmmmmmmmmmmmmmmmmmmmmmmmmmmmmmmmmmmmmmmmmmmmmmmmmmmmmmmmmmmmmmmmmmmmmmmmmmmmmmmm.\n",
      "\n",
      "also, make sure you try the mango habanero gelato. spicy ice cream. so friggin good.\n",
      "-+-+-+-+-+-+-+-+-+-+-+-+-+-+-+-+-+-+-+-+-+-+-+-+-+-+-+-+-+-+-+-+-+-+-+-+-+-+-+-+-+-+-+-+-+-+-+-+-+-+-+-+-+-+-+-+-+-+-+-+-+-+-+-+-+-+-+-+-+-+-+-+-+-+-+-+-+-+-+-+\n",
      "\n",
      "饥饿营销..明明里面很多空位还告诉我们要排队1个半小时到2个小时，大厅很暗淡，黑灯瞎火的，食物一般吧，就蟹比较新鲜好吃。性价比不太高，有点失望。they told us to wait 1.5h while we just waited for 20min.when we walked in there were lots of empty table available.\n",
      "-+-+-+-+-+-+-+-+-+-+-+-+-+-+-+-+-+-+-+-+-+-+-+-+-+-+-+-+-+-+-+-+-+-+-+-+-+-+-+-+-+-+-+-+-+-+-+-+-+-+-+-+-+-+-+-+-+-+-+-+-+-+-+-+-+-+-+-+-+-+-+-+-+-+-+-+-+-+-+-+\n",
      "\n",
      "I enjoyed this restaurant so much that I wrote a whole blog post about it. :) https://ayymaggs.wordpress.com/2015/09/21/aint-no-dinner-like-a-fancy-dinner/\n",
      "-+-+-+-+-+-+-+-+-+-+-+-+-+-+-+-+-+-+-+-+-+-+-+-+-+-+-+-+-+-+-+-+-+-+-+-+-+-+-+-+-+-+-+-+-+-+-+-+-+-+-+-+-+-+-+-+-+-+-+-+-+-+-+-+-+-+-+-+-+-+-+-+-+-+-+-+-+-+-+-+\n",
      "\n",
      "service is excellent, no wait, and very clean.\n",
      "\n",
      "the food portions are humongous, flavorful, and delicious. \n",
      "\n",
      "i highly recommend their corned beef hash (http://www.yelp.com/biz_photos/hash-house-a-go-go-las-vegas-5?select=bv0lllrJ6cJygQ3KfFOfzQ#bv0lllrJ6cJygQ3KfFOfzQ) and their chicken & waffles (http://www.yelp.com/biz_photos/hash-house-a-go-go-las-vegas-5?select=N8j9RNoVa0hwYSJqsHoGjw#N8j9RNoVa0hwYSJqsHoGjw)\n",
      "-+-+-+-+-+-+-+-+-+-+-+-+-+-+-+-+-+-+-+-+-+-+-+-+-+-+-+-+-+-+-+-+-+-+-+-+-+-+-+-+-+-+-+-+-+-+-+-+-+-+-+-+-+-+-+-+-+-+-+-+-+-+-+-+-+-+-+-+-+-+-+-+-+-+-+-+-+-+-+-+\n",
      "\n",
      "Great food beautiful surroundings nice staff\n",
      "-+-+-+-+-+-+-+-+-+-+-+-+-+-+-+-+-+-+-+-+-+-+-+-+-+-+-+-+-+-+-+-+-+-+-+-+-+-+-+-+-+-+-+-+-+-+-+-+-+-+-+-+-+-+-+-+-+-+-+-+-+-+-+-+-+-+-+-+-+-+-+-+-+-+-+-+-+-+-+-+\n",
      "\n",
      "Excellent sushi \n",
      "Very quick and professional shushi guys \n",
      "Will come again \n",
      "Very recommended A++++++++++++++++\n",
      "-+-+-+-+-+-+-+-+-+-+-+-+-+-+-+-+-+-+-+-+-+-+-+-+-+-+-+-+-+-+-+-+-+-+-+-+-+-+-+-+-+-+-+-+-+-+-+-+-+-+-+-+-+-+-+-+-+-+-+-+-+-+-+-+-+-+-+-+-+-+-+-+-+-+-+-+-+-+-+-+\n",
      "\n",
      "Perfection at its finest  from start to finish, will be back next time for sure, ghhbbbbbbbbbbfffcvvvvvbbbhhuufffftghuuhhhubhffftyyhuivvgyyhggvvb bg hhhbb hbvhhhhgyyujjbgyyhbhgyhb\n",
      "-+-+-+-+-+-+-+-+-+-+-+-+-+-+-+-+-+-+-+-+-+-+-+-+-+-+-+-+-+-+-+-+-+-+-+-+-+-+-+-+-+-+-+-+-+-+-+-+-+-+-+-+-+-+-+-+-+-+-+-+-+-+-+-+-+-+-+-+-+-+-+-+-+-+-+-+-+-+-+-+\n",
      "\n",
      "Perfect experience \n",
      "Beautiful environment \n",
      "Enjoyed every visit. \n",
      "Excellent traditional food\n",
      "-+-+-+-+-+-+-+-+-+-+-+-+-+-+-+-+-+-+-+-+-+-+-+-+-+-+-+-+-+-+-+-+-+-+-+-+-+-+-+-+-+-+-+-+-+-+-+-+-+-+-+-+-+-+-+-+-+-+-+-+-+-+-+-+-+-+-+-+-+-+-+-+-+-+-+-+-+-+-+-+\n",
      "\n",
      "High quality authentic food.... Beautiful restaurant.... Friendly knowledgeable staff....\n",
      "-+-+-+-+-+-+-+-+-+-+-+-+-+-+-+-+-+-+-+-+-+-+-+-+-+-+-+-+-+-+-+-+-+-+-+-+-+-+-+-+-+-+-+-+-+-+-+-+-+-+-+-+-+-+-+-+-+-+-+-+-+-+-+-+-+-+-+-+-+-+-+-+-+-+-+-+-+-+-+-+\n",
      "\n",
      "Spicy pork/kimchi soup\n",
      "\n",
      "BBQ Ribs\n",
      "\n",
      "Spicy mozzarella chicken\n",
      "\n",
      "Kimchi pancakes\n",
      "-+-+-+-+-+-+-+-+-+-+-+-+-+-+-+-+-+-+-+-+-+-+-+-+-+-+-+-+-+-+-+-+-+-+-+-+-+-+-+-+-+-+-+-+-+-+-+-+-+-+-+-+-+-+-+-+-+-+-+-+-+-+-+-+-+-+-+-+-+-+-+-+-+-+-+-+-+-+-+-+\n",
      "\n",
      "yummmmm eggs\n",
      "yummmmm banana bread delicousness\n",
      "yummmmm brunch\n",
      "yummmmm everything\n",
      "-+-+-+-+-+-+-+-+-+-+-+-+-+-+-+-+-+-+-+-+-+-+-+-+-+-+-+-+-+-+-+-+-+-+-+-+-+-+-+-+-+-+-+-+-+-+-+-+-+-+-+-+-+-+-+-+-+-+-+-+-+-+-+-+-+-+-+-+-+-+-+-+-+-+-+-+-+-+-+-+\n",
      "\n",
      "The next Nobuo Fukuda event will be at Restaurant Noca on 8/27. Warning -- link to PDF.\n",
      "\n",
      "http://www.restaurantnoca.com/Menu/Specials/NOCA_Nobuo_August_Menu.pdf\n",
      "-+-+-+-+-+-+-+-+-+-+-+-+-+-+-+-+-+-+-+-+-+-+-+-+-+-+-+-+-+-+-+-+-+-+-+-+-+-+-+-+-+-+-+-+-+-+-+-+-+-+-+-+-+-+-+-+-+-+-+-+-+-+-+-+-+-+-+-+-+-+-+-+-+-+-+-+-+-+-+-+\n",
      "\n",
      "味道不错的说。。值得推荐。。比stripe上那些强太多，价格公道\n",
      "\n",
      "其实这附近真的算是Hidden Gem，有很多reasonable priced restaurant。虽然味道不能跟LA or SF比，但是确实能找到很多惊喜\n",
      "\n",
      "惊喜1. 这里有软壳蟹.. 虽然油了一点，但是别的地方很难找到\n",
      "惊喜2. Thai Tea在Happy Hour有Special，Half Price\n",
      "惊喜3. 五花肉真的不错\n",
      "\n",
      "当然，作为一家Thai Restaurant缺点也很明显\n",
      "总体过油.. 偏American化，但是在rating inflated的Vegas还是值得一去的。\n",
      "\n",
      "Vegas不吃Buffet党的选择之一\n",
      "-+-+-+-+-+-+-+-+-+-+-+-+-+-+-+-+-+-+-+-+-+-+-+-+-+-+-+-+-+-+-+-+-+-+-+-+-+-+-+-+-+-+-+-+-+-+-+-+-+-+-+-+-+-+-+-+-+-+-+-+-+-+-+-+-+-+-+-+-+-+-+-+-+-+-+-+-+-+-+-+\n",
      "\n",
      "I loved it..... first time I tried their food just following yelp.\n",
      "It's worth it. Deliciousssssssssssssssssssssssssssssssssssssssssssssssss\n",
      "-+-+-+-+-+-+-+-+-+-+-+-+-+-+-+-+-+-+-+-+-+-+-+-+-+-+-+-+-+-+-+-+-+-+-+-+-+-+-+-+-+-+-+-+-+-+-+-+-+-+-+-+-+-+-+-+-+-+-+-+-+-+-+-+-+-+-+-+-+-+-+-+-+-+-+-+-+-+-+-+\n",
      "\n",
      "Nice food good price good service。不枉費我們等了半小時，就是東西量好大啊，吃不完。服務員動作都很快，感覺好像茶餐廳，但是態度好很多！！推薦喔～～\n",
      "-+-+-+-+-+-+-+-+-+-+-+-+-+-+-+-+-+-+-+-+-+-+-+-+-+-+-+-+-+-+-+-+-+-+-+-+-+-+-+-+-+-+-+-+-+-+-+-+-+-+-+-+-+-+-+-+-+-+-+-+-+-+-+-+-+-+-+-+-+-+-+-+-+-+-+-+-+-+-+-+\n",
      "\n",
      "This shit garbage asf....food was trash don't waste your money smdh .............................................................................\n",
      "-+-+-+-+-+-+-+-+-+-+-+-+-+-+-+-+-+-+-+-+-+-+-+-+-+-+-+-+-+-+-+-+-+-+-+-+-+-+-+-+-+-+-+-+-+-+-+-+-+-+-+-+-+-+-+-+-+-+-+-+-+-+-+-+-+-+-+-+-+-+-+-+-+-+-+-+-+-+-+-+\n",
      "\n",
      "アメリカに来て１０年、週に２、３回はラーメンを食べますがこんだけ味のしないラーメンを食べたのは初めてです、値段もその他の店より２倍ほど高いので次は絶対に来ません\n",
      "\n",
      "\n",
      "Ramen is worst taste in america\n",
      "I eat ramen 2.3 times week in America but\n",
      "This is expensive and taste like dog shit\n",
      "Topramen or maruchan is 3times better\n",
      "-+-+-+-+-+-+-+-+-+-+-+-+-+-+-+-+-+-+-+-+-+-+-+-+-+-+-+-+-+-+-+-+-+-+-+-+-+-+-+-+-+-+-+-+-+-+-+-+-+-+-+-+-+-+-+-+-+-+-+-+-+-+-+-+-+-+-+-+-+-+-+-+-+-+-+-+-+-+-+-+\n",
      "\n",
      "Received at least 38 demerits after inspection by the Southern Nevada Health District.  see the following article for details --http://vegas.eater.com/archives/2014/07/03/japanese-favorite-ichiza-shut-down-by-snhd.php\n",
      "-+-+-+-+-+-+-+-+-+-+-+-+-+-+-+-+-+-+-+-+-+-+-+-+-+-+-+-+-+-+-+-+-+-+-+-+-+-+-+-+-+-+-+-+-+-+-+-+-+-+-+-+-+-+-+-+-+-+-+-+-+-+-+-+-+-+-+-+-+-+-+-+-+-+-+-+-+-+-+-+\n",
      "\n",
      "Cheesy-melty-roasted-cauliflower-with-fresh-bread-crumbs-on-top.\n",
      "To-die-for.\n",
      "-+-+-+-+-+-+-+-+-+-+-+-+-+-+-+-+-+-+-+-+-+-+-+-+-+-+-+-+-+-+-+-+-+-+-+-+-+-+-+-+-+-+-+-+-+-+-+-+-+-+-+-+-+-+-+-+-+-+-+-+-+-+-+-+-+-+-+-+-+-+-+-+-+-+-+-+-+-+-+-+\n",
      "\n",
      "Fuck u pho kim long and your security . ..  .       ...........................  ........................... ......\n",
      "-+-+-+-+-+-+-+-+-+-+-+-+-+-+-+-+-+-+-+-+-+-+-+-+-+-+-+-+-+-+-+-+-+-+-+-+-+-+-+-+-+-+-+-+-+-+-+-+-+-+-+-+-+-+-+-+-+-+-+-+-+-+-+-+-+-+-+-+-+-+-+-+-+-+-+-+-+-+-+-+\n",
      "\n",
      "Food was wonderful very reasonably priced staff was phenomenal especially magaley she was personable knowledgeable and outstanding  in guest services\n",
      "-+-+-+-+-+-+-+-+-+-+-+-+-+-+-+-+-+-+-+-+-+-+-+-+-+-+-+-+-+-+-+-+-+-+-+-+-+-+-+-+-+-+-+-+-+-+-+-+-+-+-+-+-+-+-+-+-+-+-+-+-+-+-+-+-+-+-+-+-+-+-+-+-+-+-+-+-+-+-+-+\n",
      "\n",
      "First time.Service A1.Ralph best bartender.Food is great.Friendly,warm atmosphere.Blue collar,but not rednick.Seafood x llent.Le being on the coast\n",
      "-+-+-+-+-+-+-+-+-+-+-+-+-+-+-+-+-+-+-+-+-+-+-+-+-+-+-+-+-+-+-+-+-+-+-+-+-+-+-+-+-+-+-+-+-+-+-+-+-+-+-+-+-+-+-+-+-+-+-+-+-+-+-+-+-+-+-+-+-+-+-+-+-+-+-+-+-+-+-+-+\n",
      "\n",
      "Crab benedict and steak sandwich. Like both of them!\n",
      "\n",
      "Yelp上全Vegas最火的7k+评论的Mon Ami Gabi，室外排队室内不排队，餐前法棍超赞，crab Benedict和steak sandwich都很好吃。\n",
      "-+-+-+-+-+-+-+-+-+-+-+-+-+-+-+-+-+-+-+-+-+-+-+-+-+-+-+-+-+-+-+-+-+-+-+-+-+-+-+-+-+-+-+-+-+-+-+-+-+-+-+-+-+-+-+-+-+-+-+-+-+-+-+-+-+-+-+-+-+-+-+-+-+-+-+-+-+-+-+-+\n",
      "\n",
      "Practically unbeatable strip location with outdoor seating view of the beautiful founta\n",
      "-+-+-+-+-+-+-+-+-+-+-+-+-+-+-+-+-+-+-+-+-+-+-+-+-+-+-+-+-+-+-+-+-+-+-+-+-+-+-+-+-+-+-+-+-+-+-+-+-+-+-+-+-+-+-+-+-+-+-+-+-+-+-+-+-+-+-+-+-+-+-+-+-+-+-+-+-+-+-+-+\n",
      "\n",
      "Rich, heart warming bone marrow appetizer #yum #sorryarteries #willjogmoremilesnextweek\n",
      "-+-+-+-+-+-+-+-+-+-+-+-+-+-+-+-+-+-+-+-+-+-+-+-+-+-+-+-+-+-+-+-+-+-+-+-+-+-+-+-+-+-+-+-+-+-+-+-+-+-+-+-+-+-+-+-+-+-+-+-+-+-+-+-+-+-+-+-+-+-+-+-+-+-+-+-+-+-+-+-+\n",
      "\n",
      "Great brunch location with suprisingly excellent service.\n",
      "-+-+-+-+-+-+-+-+-+-+-+-+-+-+-+-+-+-+-+-+-+-+-+-+-+-+-+-+-+-+-+-+-+-+-+-+-+-+-+-+-+-+-+-+-+-+-+-+-+-+-+-+-+-+-+-+-+-+-+-+-+-+-+-+-+-+-+-+-+-+-+-+-+-+-+-+-+-+-+-+\n",
      "\n",
      "Regularly visit, morning and night! Check out this Post!\n",
      "\n",
      "http://stephangcalizona.wordpress.com/2013/01/06/lux/\n",
      "-+-+-+-+-+-+-+-+-+-+-+-+-+-+-+-+-+-+-+-+-+-+-+-+-+-+-+-+-+-+-+-+-+-+-+-+-+-+-+-+-+-+-+-+-+-+-+-+-+-+-+-+-+-+-+-+-+-+-+-+-+-+-+-+-+-+-+-+-+-+-+-+-+-+-+-+-+-+-+-+\n",
      "\n",
      "Exceptional espresso based drinks from in-house roasting\n",
      "\n",
      "Great baked goods\n",
      "-+-+-+-+-+-+-+-+-+-+-+-+-+-+-+-+-+-+-+-+-+-+-+-+-+-+-+-+-+-+-+-+-+-+-+-+-+-+-+-+-+-+-+-+-+-+-+-+-+-+-+-+-+-+-+-+-+-+-+-+-+-+-+-+-+-+-+-+-+-+-+-+-+-+-+-+-+-+-+-+\n",
      "\n",
      "Pros\n",
      "Excellent food \n",
      "Excellent environment \n",
      "Solid service \n",
      "\n",
      "Cons\n",
      "Small portions \n",
      "Inaccurate wait time for seating\n",
      "-+-+-+-+-+-+-+-+-+-+-+-+-+-+-+-+-+-+-+-+-+-+-+-+-+-+-+-+-+-+-+-+-+-+-+-+-+-+-+-+-+-+-+-+-+-+-+-+-+-+-+-+-+-+-+-+-+-+-+-+-+-+-+-+-+-+-+-+-+-+-+-+-+-+-+-+-+-+-+-+\n",
      "\n",
      "Shut this pit down.  Disgusting.  \n",
      "\n",
      "http://www.azfamily.com/story/38810502/dirty-dining-aug-3-vaseline-stored-with-utensils-dirt-in-ice-machine-among-violations\n",
      "-+-+-+-+-+-+-+-+-+-+-+-+-+-+-+-+-+-+-+-+-+-+-+-+-+-+-+-+-+-+-+-+-+-+-+-+-+-+-+-+-+-+-+-+-+-+-+-+-+-+-+-+-+-+-+-+-+-+-+-+-+-+-+-+-+-+-+-+-+-+-+-+-+-+-+-+-+-+-+-+\n",
      "\n",
      "If.....you......want.....to.....get.....a......good......meal.....in......a........reasonable.......amount.........of......time.......then.......you.......should.......probably........look.......elsewhere.......this........restaurant........needs.......some........serious.....help.....there........are......dishes.......everywhere......servers......do.......not.......pick......up......plates.....from......tables.......it.......takes......forever.....to......get.......food.......and.......when......you......do......it.......is......usually.......luke.......warm.....I........imagine.......if.......you.....just......want......to......drink......beers.......it......would......be......fine.......but.......be.......prepared......to......wait............................forever....................to......................get.................................your........................food.....................because......................there..............................................is................no...............................................................................sense...............................of......................................................urgency.................................here.\n",
      "-+-+-+-+-+-+-+-+-+-+-+-+-+-+-+-+-+-+-+-+-+-+-+-+-+-+-+-+-+-+-+-+-+-+-+-+-+-+-+-+-+-+-+-+-+-+-+-+-+-+-+-+-+-+-+-+-+-+-+-+-+-+-+-+-+-+-+-+-+-+-+-+-+-+-+-+-+-+-+-+\n",
      "\n",
      "Excellent service\n",
      "\n",
      "Good breakfast buffet\n",
      "\n",
      "Very similar to cheesecake factory\n",
      "-+-+-+-+-+-+-+-+-+-+-+-+-+-+-+-+-+-+-+-+-+-+-+-+-+-+-+-+-+-+-+-+-+-+-+-+-+-+-+-+-+-+-+-+-+-+-+-+-+-+-+-+-+-+-+-+-+-+-+-+-+-+-+-+-+-+-+-+-+-+-+-+-+-+-+-+-+-+-+-+\n",
      "\n",
      "-great atmosphere\n",
      "-friendly, fast service\n",
      "-delicious salsa bar\n",
      "-+-+-+-+-+-+-+-+-+-+-+-+-+-+-+-+-+-+-+-+-+-+-+-+-+-+-+-+-+-+-+-+-+-+-+-+-+-+-+-+-+-+-+-+-+-+-+-+-+-+-+-+-+-+-+-+-+-+-+-+-+-+-+-+-+-+-+-+-+-+-+-+-+-+-+-+-+-+-+-+\n",
      "\n",
      "Contemporary Hipster place, I was nicely surprised of the look of this place located in a neighborhood not that far from the downtown Casinos. The interior was decorated modestly, with items that really make you feel like you're in a Chef's man cave. Really dug the Chopping block tables that we ate on.\n",
      "\n",
      "We ordered so items to share among the 4 of us, \n",
      "Wild Mushroom Flatbread, http://www.yelp.com/biz_photos/carson-kitchen-las-vegas?select=6s6KtuKhm2VZ5i1nVCBibQ#H-UiCPoeuxPRI7kn3enPiQ\n",
      "Tempura Green beans, \n",
      "Strawberry Salad, http://www.yelp.com/biz_photos/carson-kitchen-las-vegas?select=6s6KtuKhm2VZ5i1nVCBibQ#slqKM9_MIbnLLE3VSYujoQ\n",
      "Short Rib Stroganoff, http://www.yelp.com/biz_photos/carson-kitchen-las-vegas?select=6s6KtuKhm2VZ5i1nVCBibQ#ccXYYTr6ttluRq4HtUhSyw\n",
      "Butter Burger, http://www.yelp.com/biz_photos/carson-kitchen-las-vegas?select=6s6KtuKhm2VZ5i1nVCBibQ#lkjyJ7CExGK_3qpZJM7bLg\n",
      "\n",
      "Everything was delicious, especially the addicting Tempura Green Beans and the Butter Burger. You know that I just had to drink a Voodoo stout to complement the wonderful dishes, I highly recommend sharing dishes and tasting as much as possible. \n",
      "\n",
      "Love their menu and atmosphere,nice kick back feeling.The service was friendly,really good to see a staff that enjoys their job.\n",
      "-+-+-+-+-+-+-+-+-+-+-+-+-+-+-+-+-+-+-+-+-+-+-+-+-+-+-+-+-+-+-+-+-+-+-+-+-+-+-+-+-+-+-+-+-+-+-+-+-+-+-+-+-+-+-+-+-+-+-+-+-+-+-+-+-+-+-+-+-+-+-+-+-+-+-+-+-+-+-+-+\n",
      "\n",
      "For a full review of Gordon Ramsey Steak click on the link below:\n",
      "https://befoodstar.wordpress.com/2014/08/14/gordon-ramsey-steak/\n",
      "-+-+-+-+-+-+-+-+-+-+-+-+-+-+-+-+-+-+-+-+-+-+-+-+-+-+-+-+-+-+-+-+-+-+-+-+-+-+-+-+-+-+-+-+-+-+-+-+-+-+-+-+-+-+-+-+-+-+-+-+-+-+-+-+-+-+-+-+-+-+-+-+-+-+-+-+-+-+-+-+\n",
      "\n",
      "A++++ \n",
      "Great atmosphere \n",
      "amazing service\n",
      "Nice presentation \n",
      "incredible food \n",
      "Will be back\n",
      "-+-+-+-+-+-+-+-+-+-+-+-+-+-+-+-+-+-+-+-+-+-+-+-+-+-+-+-+-+-+-+-+-+-+-+-+-+-+-+-+-+-+-+-+-+-+-+-+-+-+-+-+-+-+-+-+-+-+-+-+-+-+-+-+-+-+-+-+-+-+-+-+-+-+-+-+-+-+-+-+\n",
      "\n",
      "Exceptional restaurant amazing steaks great ambience excellent service will definitely be back thank you\n",
      "-+-+-+-+-+-+-+-+-+-+-+-+-+-+-+-+-+-+-+-+-+-+-+-+-+-+-+-+-+-+-+-+-+-+-+-+-+-+-+-+-+-+-+-+-+-+-+-+-+-+-+-+-+-+-+-+-+-+-+-+-+-+-+-+-+-+-+-+-+-+-+-+-+-+-+-+-+-+-+-+\n",
      "\n",
      "Excellent food,many varieties and quick serving highly recommended especially for families\n",
      "-+-+-+-+-+-+-+-+-+-+-+-+-+-+-+-+-+-+-+-+-+-+-+-+-+-+-+-+-+-+-+-+-+-+-+-+-+-+-+-+-+-+-+-+-+-+-+-+-+-+-+-+-+-+-+-+-+-+-+-+-+-+-+-+-+-+-+-+-+-+-+-+-+-+-+-+-+-+-+-+\n",
      "\n",
      "Friendly staff. Delicious authentic southern food. Comfortable and conveniently located.\n",
      "-+-+-+-+-+-+-+-+-+-+-+-+-+-+-+-+-+-+-+-+-+-+-+-+-+-+-+-+-+-+-+-+-+-+-+-+-+-+-+-+-+-+-+-+-+-+-+-+-+-+-+-+-+-+-+-+-+-+-+-+-+-+-+-+-+-+-+-+-+-+-+-+-+-+-+-+-+-+-+-+\n",
      "\n",
      "Holiday pricing during\n",
      "November 24 - 27\n",
      "December 23 - January 2\n",
      "\n",
      "Children: 5-12 years old\n",
      "\n",
      "https://www.mandalaybay.com/en/restaurants/bayside-buffet.html\n",
      "-+-+-+-+-+-+-+-+-+-+-+-+-+-+-+-+-+-+-+-+-+-+-+-+-+-+-+-+-+-+-+-+-+-+-+-+-+-+-+-+-+-+-+-+-+-+-+-+-+-+-+-+-+-+-+-+-+-+-+-+-+-+-+-+-+-+-+-+-+-+-+-+-+-+-+-+-+-+-+-+\n",
      "\n",
      "Limited vegetarian options\n",
      "amazing grapefruit/avocado thing\n",
      "cheese + bread = AMAZING\n",
      "superb wine\n",
      "port\n",
      "green chartreuse souffle = KILLER\n",
      "-+-+-+-+-+-+-+-+-+-+-+-+-+-+-+-+-+-+-+-+-+-+-+-+-+-+-+-+-+-+-+-+-+-+-+-+-+-+-+-+-+-+-+-+-+-+-+-+-+-+-+-+-+-+-+-+-+-+-+-+-+-+-+-+-+-+-+-+-+-+-+-+-+-+-+-+-+-+-+-+\n",
      "\n",
      "Try everything\n",
      "-+-+-+-+-+-+-+-+-+-+-+-+-+-+-+-+-+-+-+-+-+-+-+-+-+-+-+-+-+-+-+-+-+-+-+-+-+-+-+-+-+-+-+-+-+-+-+-+-+-+-+-+-+-+-+-+-+-+-+-+-+-+-+-+-+-+-+-+-+-+-+-+-+-+-+-+-+-+-+-+\n",
      "\n",
      "As featured on Diners, Driveins and Dives.\n",
      "http://www.foodnetwork.com/videos/the-st-francis-pig-dip-0206517.html\n",
      "-+-+-+-+-+-+-+-+-+-+-+-+-+-+-+-+-+-+-+-+-+-+-+-+-+-+-+-+-+-+-+-+-+-+-+-+-+-+-+-+-+-+-+-+-+-+-+-+-+-+-+-+-+-+-+-+-+-+-+-+-+-+-+-+-+-+-+-+-+-+-+-+-+-+-+-+-+-+-+-+\n",
      "\n",
      "TAO was probably my most frequented club in Vegas.  Been here numerous times and ate at the establishments a few as well. http://www.yelp.com/user_local_photos?userid=kSsJiWF-mByH0LLCbS6DbA&select=R8U0Hksrf_1-aIHXlS0Zvw\n",
      "\n",
      "Dining wise, it is very good for a clubbing venue. The miso seabass is my favorite: http://www.yelp.com/user_local_photos?userid=kSsJiWF-mByH0LLCbS6DbA&select=t6fCF9DhqcMLQc-CZS53zw My group of dining company got the Peking Duck: http://www.yelp.com/user_local_photos?userid=kSsJiWF-mByH0LLCbS6DbA&select=af2WhElSy-j8bHbE1SzzxQ the Salmon: http://www.yelp.com/user_local_photos?userid=kSsJiWF-mByH0LLCbS6DbA&select=tQrSase9Fdy17uVf517y_Q a few sushi rolls, spicy tuna on crispy rice and lobster and shrimp dumpling as appetizer. The dumpling was soooo delish, must try.\n",
      "\n",
      "Once you're done with dinner, then they stamp you for complimentary entry for girls and discounted entry for guys. You go out and bypass the nasty line out the door for re-entry.  Bottle service is another way to get you in relatively hassle free http://www.yelp.com/user_local_photos?userid=kSsJiWF-mByH0LLCbS6DbA&select=4GcA6q_Kwjmyx9CyLlx0dg on and the hot almost nekked eye-candies dancing behind your table http://www.yelp.com/user_local_photos?userid=kSsJiWF-mByH0LLCbS6DbA&select=6GXQJWcOJVRSLo2MPNB9tg is a big bonus.\n",
      "\n",
      "Most recently I was there last weekend for Heidi Klum's Halloween party and it was a packed mad house http://www.yelp.com/user_local_photos?userid=kSsJiWF-mByH0LLCbS6DbA&select=y0jD82km6x8KEZG9el7OKg considering Ms. Klum was in the house incognito http://www.yelp.com/user_local_photos?userid=kSsJiWF-mByH0LLCbS6DbA&select=yDa-H8s5tmlSp62gL4KYaQ \n",
      "\n",
      "Tao only has one level, but has a separate dance rooms for the different music palates.  The Tao beach opens during the popular season when the club gets packed.\n",
      "-+-+-+-+-+-+-+-+-+-+-+-+-+-+-+-+-+-+-+-+-+-+-+-+-+-+-+-+-+-+-+-+-+-+-+-+-+-+-+-+-+-+-+-+-+-+-+-+-+-+-+-+-+-+-+-+-+-+-+-+-+-+-+-+-+-+-+-+-+-+-+-+-+-+-+-+-+-+-+-+\n",
      "\n",
      "I just read in the Wall Street Journal that Aria has reduced their Buffet budget by $200,000.  This explains the drastic difference of the food quality from the opening week to months later.\n",
      "\n",
      "http://online.wsj.com/article/SB10001424052702304879604575582253270407576.html?mod=WSJ_business_LeftSecondHighlights\n",
      "-+-+-+-+-+-+-+-+-+-+-+-+-+-+-+-+-+-+-+-+-+-+-+-+-+-+-+-+-+-+-+-+-+-+-+-+-+-+-+-+-+-+-+-+-+-+-+-+-+-+-+-+-+-+-+-+-+-+-+-+-+-+-+-+-+-+-+-+-+-+-+-+-+-+-+-+-+-+-+-+\n",
      "\n",
      "Firts time delicious tacos friendly people waitress best services margaritas the best\n",
      "-+-+-+-+-+-+-+-+-+-+-+-+-+-+-+-+-+-+-+-+-+-+-+-+-+-+-+-+-+-+-+-+-+-+-+-+-+-+-+-+-+-+-+-+-+-+-+-+-+-+-+-+-+-+-+-+-+-+-+-+-+-+-+-+-+-+-+-+-+-+-+-+-+-+-+-+-+-+-+-+\n",
      "\n",
      "Super accommodating to food allergies/intolerances. Amazing food.\n",
      "-+-+-+-+-+-+-+-+-+-+-+-+-+-+-+-+-+-+-+-+-+-+-+-+-+-+-+-+-+-+-+-+-+-+-+-+-+-+-+-+-+-+-+-+-+-+-+-+-+-+-+-+-+-+-+-+-+-+-+-+-+-+-+-+-+-+-+-+-+-+-+-+-+-+-+-+-+-+-+-+\n",
      "\n",
      "Drinks are kind of high for Las Vegas but the service here is great...........................................\n",
      "-+-+-+-+-+-+-+-+-+-+-+-+-+-+-+-+-+-+-+-+-+-+-+-+-+-+-+-+-+-+-+-+-+-+-+-+-+-+-+-+-+-+-+-+-+-+-+-+-+-+-+-+-+-+-+-+-+-+-+-+-+-+-+-+-+-+-+-+-+-+-+-+-+-+-+-+-+-+-+-+\n",
      "\n",
      "Unbelievable, authentic Tijuana-style Mexican food.\n",
      "-+-+-+-+-+-+-+-+-+-+-+-+-+-+-+-+-+-+-+-+-+-+-+-+-+-+-+-+-+-+-+-+-+-+-+-+-+-+-+-+-+-+-+-+-+-+-+-+-+-+-+-+-+-+-+-+-+-+-+-+-+-+-+-+-+-+-+-+-+-+-+-+-+-+-+-+-+-+-+-+\n",
      "\n",
      "This place actually just moved and is worth the trip: http://www.yelp.com/biz/settebello-pizzeria-napoletana-henderson-3\n",
      "-+-+-+-+-+-+-+-+-+-+-+-+-+-+-+-+-+-+-+-+-+-+-+-+-+-+-+-+-+-+-+-+-+-+-+-+-+-+-+-+-+-+-+-+-+-+-+-+-+-+-+-+-+-+-+-+-+-+-+-+-+-+-+-+-+-+-+-+-+-+-+-+-+-+-+-+-+-+-+-+\n",
      "\n",
      "Interesting menu and drinks. Lively with inside/outside dining. Wait staff friendly and accommodating.We go regularly..........\n",
      "-+-+-+-+-+-+-+-+-+-+-+-+-+-+-+-+-+-+-+-+-+-+-+-+-+-+-+-+-+-+-+-+-+-+-+-+-+-+-+-+-+-+-+-+-+-+-+-+-+-+-+-+-+-+-+-+-+-+-+-+-+-+-+-+-+-+-+-+-+-+-+-+-+-+-+-+-+-+-+-+\n",
      "\n",
      "Awesome Tacos  like  Duck/Lamb/Lobster in a  downtown resturant built from an old church\n",
      "#goodfoodgoodvibes\n",
      "-+-+-+-+-+-+-+-+-+-+-+-+-+-+-+-+-+-+-+-+-+-+-+-+-+-+-+-+-+-+-+-+-+-+-+-+-+-+-+-+-+-+-+-+-+-+-+-+-+-+-+-+-+-+-+-+-+-+-+-+-+-+-+-+-+-+-+-+-+-+-+-+-+-+-+-+-+-+-+-+\n",
      "\n",
      "Overrated \n",
      "Overpriced \n",
      "Long waits \n",
      "Very small location \n",
      "Jam-packed\n",
      "Elbow to elbow tables\n",
      "-+-+-+-+-+-+-+-+-+-+-+-+-+-+-+-+-+-+-+-+-+-+-+-+-+-+-+-+-+-+-+-+-+-+-+-+-+-+-+-+-+-+-+-+-+-+-+-+-+-+-+-+-+-+-+-+-+-+-+-+-+-+-+-+-+-+-+-+-+-+-+-+-+-+-+-+-+-+-+-+\n",
      "\n",
      "If you want filth disease stay here I have a rash scabies from staying there worse rudest uncaring people ever overcharge your card http://www.bedbugregistry.com/hotel/NV/Las-Vegas/Palazzo-Resort-Hotel-%2526amp;-Casino#\n",
      "-+-+-+-+-+-+-+-+-+-+-+-+-+-+-+-+-+-+-+-+-+-+-+-+-+-+-+-+-+-+-+-+-+-+-+-+-+-+-+-+-+-+-+-+-+-+-+-+-+-+-+-+-+-+-+-+-+-+-+-+-+-+-+-+-+-+-+-+-+-+-+-+-+-+-+-+-+-+-+-+\n",
      "\n",
      "http://www.bedbugregistry.com/hotel/NV/Las-Vegas/Palazzo-Resort-Hotel-%2526amp;-http://www.bedbugregistry.com/hotel/NV/Las-Vegas/Palazzo-Resort-Hotel-%2526amp;-http://www.bedbugregistry.com/hotel/NV/Las-Vegas/Palazzo-Resort-Hotel-%2526amp;-Casino#\n",
      "Nasty hotel is infested don't chance it\n",
      "Bartender and servers r rude!!!!!\n",
      "-+-+-+-+-+-+-+-+-+-+-+-+-+-+-+-+-+-+-+-+-+-+-+-+-+-+-+-+-+-+-+-+-+-+-+-+-+-+-+-+-+-+-+-+-+-+-+-+-+-+-+-+-+-+-+-+-+-+-+-+-+-+-+-+-+-+-+-+-+-+-+-+-+-+-+-+-+-+-+-+\n",
      "\n",
      "SOOOOOOOOOOOOOOOOO GOOOOOOOOOOOOOOOOOOOOOOOOOOOOOOOOOOOOOOD :D\n",
      "\n",
      "tip: go early and bring gloves lol\n",
      "-+-+-+-+-+-+-+-+-+-+-+-+-+-+-+-+-+-+-+-+-+-+-+-+-+-+-+-+-+-+-+-+-+-+-+-+-+-+-+-+-+-+-+-+-+-+-+-+-+-+-+-+-+-+-+-+-+-+-+-+-+-+-+-+-+-+-+-+-+-+-+-+-+-+-+-+-+-+-+-+\n",
      "\n",
      "Great Sea-food with an Outstanding Service Help.........\n",
      "-+-+-+-+-+-+-+-+-+-+-+-+-+-+-+-+-+-+-+-+-+-+-+-+-+-+-+-+-+-+-+-+-+-+-+-+-+-+-+-+-+-+-+-+-+-+-+-+-+-+-+-+-+-+-+-+-+-+-+-+-+-+-+-+-+-+-+-+-+-+-+-+-+-+-+-+-+-+-+-+\n",
      "\n",
      "A high class hotel for a no class dude like me, brilliant!  Some shit's gonna happen at the Venitian for sure. Romance, bromance I'm here to partaaay baby.\n",
      "\n",
      "Whats not to like about the Venetian?   \n",
      "\n",
      "This is a pretty nice place to stay, large room, comfy king sized bed, great view.\n",
      "http://www.yelp.com/user_local_photos?select=yaywR9H7TN7JqScOd9At3A&userid=EMMzx-gGDKsU4enmbae6dw\n",
      "http://www.yelp.com/user_local_photos?select=i_SDI_K3dXeeJJXUYpEbSw&userid=EMMzx-gGDKsU4enmbae6dw\n",
      "http://www.yelp.com/user_local_photos?select=6Ey9K83HdWY52cuKhwVmAQ&userid=EMMzx-gGDKsU4enmbae6dw\n",
      "http://www.yelp.com/biz_photos/the-venetian-las-vegas-3?select=QeSM4LwVrjXo2fjxTJ8xLA#QeSM4LwVrjXo2fjxTJ8xLA\n",
      "\n",
      "Great Art\n",
      "http://www.yelp.com/user_local_photos?select=LaeVhFt-ZgPDqIgFFi7psA&userid=EMMzx-gGDKsU4enmbae6dw\n",
      "http://www.yelp.com/user_local_photos?select=gkapUUsZcBa_cA7S6xHYng&userid=EMMzx-gGDKsU4enmbae6dw\n",
      "http://www.yelp.com/user_local_photos?select=kYsz2dVvhQcGqazhFyqIYQ&userid=EMMzx-gGDKsU4enmbae6dw\n",
      "http://www.yelp.com/biz_photos/the-venetian-las-vegas-3?select=wyv2Dxrn-YsmCxg9LRa-2Q#wyv2Dxrn-YsmCxg9LRa-2Q\n",
      "\n",
      "DaVinci Exhibit\n",
      "http://www.yelp.com/biz_photos/the-venetian-las-vegas-3?select=-LF4Djs7NPuei6D1B0vgPQ#-LF4Djs7NPuei6D1B0vgPQ\n",
      "\n",
      "Cool Shops\n",
      "http://www.yelp.com/biz_photos/the-venetian-las-vegas-3?select=DU07DEVVg6MtuAKb0rkx9w#DU07DEVVg6MtuAKb0rkx9w\n",
      "http://www.yelp.com/user_local_photos?select=5POArqbDyMhWdHkYHypEuw&userid=EMMzx-gGDKsU4enmbae6dw\n",
      "\n",
      "Great Food\n",
      "http://www.yelp.com/user_local_photos?select=lilGGLerloMXwscZ4D2TCg&userid=EMMzx-gGDKsU4enmbae6dw\n",
      "http://www.yelp.com/user_local_photos?select=iK0praadEO0s1HXWN_P5iA&userid=EMMzx-gGDKsU4enmbae6dw\n",
      "http://www.yelp.com/user_local_photos?select=_ncmx4f7Cpjk-12I0buXgQ&userid=EMMzx-gGDKsU4enmbae6dw\n",
      "\n",
      "And Candy too\n",
      "http://www.yelp.com/biz_photos/new-york-pretzel-at-the-venetian-las-vegas?select=Q95ZDTULScY4Fzwzxa0Lhg#Q95ZDTULScY4Fzwzxa0Lhg\n",
      "http://www.yelp.com/biz_photos/the-venetian-las-vegas-3?select=xINvFCQSpmZGffFpU0tEiQ#\n",
      "\n",
      "The Venetian is almost 5 ***** Star in my book but ...................The only thing wrong .... NO ICE or vending machines on the 11th  floor! WTF -1* Star\n",
      "I spent a several days here on a recent business trip. Company dime, hell yea!\n",
      "4 days no police, no ATF officers, no DEA, no FBI, not even a single meter maid, this place is boring. I'm going back downtown where shit happens and it don''t cost $10 bucks for a pack of smokes and nobody looks at ya funny for ordering a bottle  of Bud or for wearing a trucker hat and having a rebel flag tattoed on your neck. I miss Fremont street.\n",
      "-+-+-+-+-+-+-+-+-+-+-+-+-+-+-+-+-+-+-+-+-+-+-+-+-+-+-+-+-+-+-+-+-+-+-+-+-+-+-+-+-+-+-+-+-+-+-+-+-+-+-+-+-+-+-+-+-+-+-+-+-+-+-+-+-+-+-+-+-+-+-+-+-+-+-+-+-+-+-+-+\n",
      "\n",
      "Cbsyhx szi https://m.yelp.com/biz_redir?link_source=yelp_app&s=229b7c9c8e24f10841925bcc248aa169943ac7b4949bdd513772bb31c5b0cbfetv&src_bizid=OtGSQQzV7uF8XPAsNIh7Bw&url=http%3A%2F%2Fwww.sanctuaryoncamelback.com&website_link_rfnetype=website\n",
      "Tk\n",
      "-+-+-+-+-+-+-+-+-+-+-+-+-+-+-+-+-+-+-+-+-+-+-+-+-+-+-+-+-+-+-+-+-+-+-+-+-+-+-+-+-+-+-+-+-+-+-+-+-+-+-+-+-+-+-+-+-+-+-+-+-+-+-+-+-+-+-+-+-+-+-+-+-+-+-+-+-+-+-+-+\n",
      "\n",
      "excellent restaurant\n",
      "good was good\n",
      "service above average\n",
      "Highly recommend\n",
      "-+-+-+-+-+-+-+-+-+-+-+-+-+-+-+-+-+-+-+-+-+-+-+-+-+-+-+-+-+-+-+-+-+-+-+-+-+-+-+-+-+-+-+-+-+-+-+-+-+-+-+-+-+-+-+-+-+-+-+-+-+-+-+-+-+-+-+-+-+-+-+-+-+-+-+-+-+-+-+-+\n",
      "\n",
      "Excellent service, appetizers amazing, rissotto and ribeye wonderful\n",
      "-+-+-+-+-+-+-+-+-+-+-+-+-+-+-+-+-+-+-+-+-+-+-+-+-+-+-+-+-+-+-+-+-+-+-+-+-+-+-+-+-+-+-+-+-+-+-+-+-+-+-+-+-+-+-+-+-+-+-+-+-+-+-+-+-+-+-+-+-+-+-+-+-+-+-+-+-+-+-+-+\n",
      "\n",
      "DELISH meatballs and bruschetta! Amazingly friendly service, wonderful birthday lunch\n",
      "-+-+-+-+-+-+-+-+-+-+-+-+-+-+-+-+-+-+-+-+-+-+-+-+-+-+-+-+-+-+-+-+-+-+-+-+-+-+-+-+-+-+-+-+-+-+-+-+-+-+-+-+-+-+-+-+-+-+-+-+-+-+-+-+-+-+-+-+-+-+-+-+-+-+-+-+-+-+-+-+\n",
      "\n",
      "WonderfulAbsolutely wonderful food and atmosphere friendly environment beautiful people delicious food\n",
      "-+-+-+-+-+-+-+-+-+-+-+-+-+-+-+-+-+-+-+-+-+-+-+-+-+-+-+-+-+-+-+-+-+-+-+-+-+-+-+-+-+-+-+-+-+-+-+-+-+-+-+-+-+-+-+-+-+-+-+-+-+-+-+-+-+-+-+-+-+-+-+-+-+-+-+-+-+-+-+-+\n",
      "\n",
      "Phenomenal food at this slightly-expensive brunch spot.\n",
      "-+-+-+-+-+-+-+-+-+-+-+-+-+-+-+-+-+-+-+-+-+-+-+-+-+-+-+-+-+-+-+-+-+-+-+-+-+-+-+-+-+-+-+-+-+-+-+-+-+-+-+-+-+-+-+-+-+-+-+-+-+-+-+-+-+-+-+-+-+-+-+-+-+-+-+-+-+-+-+-+\n",
      "\n",
      "Amazing atmosphere, knowledgeable and friendly staff, deliciously executed and beautifully plated dishes. Definitely recommend\n",
      "-+-+-+-+-+-+-+-+-+-+-+-+-+-+-+-+-+-+-+-+-+-+-+-+-+-+-+-+-+-+-+-+-+-+-+-+-+-+-+-+-+-+-+-+-+-+-+-+-+-+-+-+-+-+-+-+-+-+-+-+-+-+-+-+-+-+-+-+-+-+-+-+-+-+-+-+-+-+-+-+\n",
      "\n",
      "这是janice wong之后第二次吃dessert bar，总体惊艳度不高，不值得排一个小时（虽然平时估计不需要排这么久。总体不够精致每个main dessert大概值7刀，15刀实在是overprice了\n",
      "\n",
      "jack in the cup：三个里面最好吃的，是符合想象的souffle外面硬里面软还蛮airy的，味道也结合得不错，最下面有一层香蕉还蛮惊喜的\n",
      "\n",
      "moutain fuji：中规中矩的栗子蛋糕，creme不会太甜这点还不错\n",
      "\n",
      "mars：适合拍ins，把brandy点燃淋在甜品上面然后会塌下去，但酒味没有把握好有点太苦了\n",
      "-+-+-+-+-+-+-+-+-+-+-+-+-+-+-+-+-+-+-+-+-+-+-+-+-+-+-+-+-+-+-+-+-+-+-+-+-+-+-+-+-+-+-+-+-+-+-+-+-+-+-+-+-+-+-+-+-+-+-+-+-+-+-+-+-+-+-+-+-+-+-+-+-+-+-+-+-+-+-+-+\n",
      "\n",
      "http://m.reviewjournal.com/news/las-vegas/las-vegas-sushi-restaurant-owner-gets-house-arrest-tax-evasion\n",
      "\n",
      "The owner got arrested for not paying tax! I will not eat there no matter how good it is.\n",
      "-+-+-+-+-+-+-+-+-+-+-+-+-+-+-+-+-+-+-+-+-+-+-+-+-+-+-+-+-+-+-+-+-+-+-+-+-+-+-+-+-+-+-+-+-+-+-+-+-+-+-+-+-+-+-+-+-+-+-+-+-+-+-+-+-+-+-+-+-+-+-+-+-+-+-+-+-+-+-+-+\n",
      "\n",
      "Thhhhhhhhhhhhhhhe beeeeeeesssssattttt iiinnnn ttttooiwwwwnnnn!!!  Flamingo and Maryland parkway wet dream and no name\n",
      "-+-+-+-+-+-+-+-+-+-+-+-+-+-+-+-+-+-+-+-+-+-+-+-+-+-+-+-+-+-+-+-+-+-+-+-+-+-+-+-+-+-+-+-+-+-+-+-+-+-+-+-+-+-+-+-+-+-+-+-+-+-+-+-+-+-+-+-+-+-+-+-+-+-+-+-+-+-+-+-+\n",
      "\n",
      "Raku is exquisite and delicious. Japanese food presented passionately without compromise.\n",
      "-+-+-+-+-+-+-+-+-+-+-+-+-+-+-+-+-+-+-+-+-+-+-+-+-+-+-+-+-+-+-+-+-+-+-+-+-+-+-+-+-+-+-+-+-+-+-+-+-+-+-+-+-+-+-+-+-+-+-+-+-+-+-+-+-+-+-+-+-+-+-+-+-+-+-+-+-+-+-+-+\n",
      "\n",
      "Terrific semi-casual restaurant serving delicious, nutritious food and good drinks. Highly recommended.\n",
      "-+-+-+-+-+-+-+-+-+-+-+-+-+-+-+-+-+-+-+-+-+-+-+-+-+-+-+-+-+-+-+-+-+-+-+-+-+-+-+-+-+-+-+-+-+-+-+-+-+-+-+-+-+-+-+-+-+-+-+-+-+-+-+-+-+-+-+-+-+-+-+-+-+-+-+-+-+-+-+-+\n",
      "\n",
      "Brisket is awesome great atmosphere super friendly staff\n",
      "-+-+-+-+-+-+-+-+-+-+-+-+-+-+-+-+-+-+-+-+-+-+-+-+-+-+-+-+-+-+-+-+-+-+-+-+-+-+-+-+-+-+-+-+-+-+-+-+-+-+-+-+-+-+-+-+-+-+-+-+-+-+-+-+-+-+-+-+-+-+-+-+-+-+-+-+-+-+-+-+\n",
      "\n",
      "GREAT brisket\n",
      "Excellent ribs\n",
      "super ambience\n",
      "good service\n",
      "-+-+-+-+-+-+-+-+-+-+-+-+-+-+-+-+-+-+-+-+-+-+-+-+-+-+-+-+-+-+-+-+-+-+-+-+-+-+-+-+-+-+-+-+-+-+-+-+-+-+-+-+-+-+-+-+-+-+-+-+-+-+-+-+-+-+-+-+-+-+-+-+-+-+-+-+-+-+-+-+\n",
      "\n",
      "Truly amazing unique one-of-a-kind extraordinary no gamble everything is delicious wish there was more locations spread towards New Mexico\n",
      "-+-+-+-+-+-+-+-+-+-+-+-+-+-+-+-+-+-+-+-+-+-+-+-+-+-+-+-+-+-+-+-+-+-+-+-+-+-+-+-+-+-+-+-+-+-+-+-+-+-+-+-+-+-+-+-+-+-+-+-+-+-+-+-+-+-+-+-+-+-+-+-+-+-+-+-+-+-+-+-+\n",
      "\n"
     ]
    }
   ],
   "source": [
    "# All reviews which have average word length greater than 6 characters\n",
    "# In English, the average word length stays between 5 and 6.\n",
    "for review in df1[df1.average_length_words > 6].review.values:\n",
    "    print(review)\n",
    "    print('-+' * 80, end='\\n\\n')"
   ]
  },
  {
   "cell_type": "markdown",
   "metadata": {},
   "source": [
    "* As seen above, `http` and `https` links change the average length of word feature, dramatically.\n",
    "* Also, there are a lot of words with repeated character in great numbers.\n",
    "* Manual check after language detection may be required.\n",
    "* URLs and consecutive punctuations inflated __Average Length of Words__ and __Number of Punctuation__"
   ]
  },
  {
   "cell_type": "markdown",
   "metadata": {},
   "source": [
    "## Text Mining"
   ]
  },
  {
   "cell_type": "markdown",
   "metadata": {},
   "source": [
    "* In this section, we will extract additional features from the text.\n",
    "\n",
    "    1. The number of Photos in each review\n",
    "    2. The number of URLs in each review\n",
    "    3. The number of Time-related information in each review\n",
    "    4. The number of Emoticons in each review\n",
    "     "
   ]
  },
  {
   "cell_type": "code",
   "execution_count": 44,
   "metadata": {
    "ExecuteTime": {
     "end_time": "2020-12-21T08:40:41.120603Z",
     "start_time": "2020-12-21T08:40:41.106597Z"
    }
   },
   "outputs": [],
   "source": [
    "def find_photos(text):\n",
    "    biz_photo = re.compile(r'https?:\\/\\/www\\.yelp\\.com\\/biz_photos\\/\\S+')\n",
    "    user_photo = re.compile(r'https?:\\/\\/www.yelp.com\\/user_local_photos\\?\\S+')\n",
    "    text = biz_photo.sub(r' PHOTOEMBEDDED ', text)\n",
    "    return user_photo.sub(r' PHOTOEMBEDDED ', text)"
   ]
  },
  {
   "cell_type": "code",
   "execution_count": 45,
   "metadata": {
    "ExecuteTime": {
     "end_time": "2020-12-21T08:40:41.142548Z",
     "start_time": "2020-12-21T08:40:41.121600Z"
    }
   },
   "outputs": [],
   "source": [
    "def find_URLs(text):\n",
    "    url = re.compile(r'https?:\\/\\/\\S+|www\\.\\S+')\n",
    "    return url.sub(r' URLEMBEDDED ', text)"
   ]
  },
  {
   "cell_type": "code",
   "execution_count": 46,
   "metadata": {
    "ExecuteTime": {
     "end_time": "2020-12-21T08:40:41.158105Z",
     "start_time": "2020-12-21T08:40:41.142548Z"
    }
   },
   "outputs": [],
   "source": [
    "def find_price(text):\n",
    "    price1 = re.compile(r'[$€£¥]\\d+|[$€£¥]\\ +\\d+\\.?\\d+')\n",
    "    price2 = re.compile(r'\\d+? ?dollars?|\\d+\\.?\\d+ ?dollars?')\n",
    "    text = price1.sub(r' PRICEEMBEDDED ', text)\n",
    "    return price2.sub(r' PRICEEMBEDDED ', text)"
   ]
  },
  {
   "cell_type": "code",
   "execution_count": 47,
   "metadata": {
    "ExecuteTime": {
     "end_time": "2020-12-21T08:40:41.173597Z",
     "start_time": "2020-12-21T08:40:41.159064Z"
    }
   },
   "outputs": [],
   "source": [
    "def find_time(text):\n",
    "    time1 = re.compile(\n",
    "        r'\\d+? +?(mnt|minute|min|hour|hr|seconds|a.?m.?|p.?m.?)[a-z]?')\n",
    "    time2 = re.compile(r'\\b\\d{1,2}:\\d{1,2}\\b')\n",
    "    text = time1.sub(r' TIMEEMBEDDED ', text)\n",
    "    return time2.sub(r' TIMEEMBEDDED ', text)"
   ]
  },
  {
   "cell_type": "code",
   "execution_count": 48,
   "metadata": {
    "ExecuteTime": {
     "end_time": "2020-12-21T08:40:41.190225Z",
     "start_time": "2020-12-21T08:40:41.174550Z"
    }
   },
   "outputs": [],
   "source": [
    "def find_emoticons(text):\n",
    "    for emot in EMOTICONS:\n",
    "        text = re.sub(u'('+emot+')', r'  EMOTICONFOUND  ', text)\n",
    "    return text"
   ]
  },
  {
   "cell_type": "code",
   "execution_count": 49,
   "metadata": {
    "ExecuteTime": {
     "end_time": "2020-12-21T08:40:42.988504Z",
     "start_time": "2020-12-21T08:40:41.190225Z"
    }
   },
   "outputs": [],
   "source": [
    "# find photos\n",
    "df1['review_clean'] = df1.review.apply(find_photos)\n",
    "df1['number_of_photos'] = df1.review_clean.apply(\n",
    "    lambda x: x.count('PHOTOEMBEDDED'))"
   ]
  },
  {
   "cell_type": "code",
   "execution_count": 50,
   "metadata": {
    "ExecuteTime": {
     "end_time": "2020-12-21T08:40:45.928588Z",
     "start_time": "2020-12-21T08:40:42.988504Z"
    }
   },
   "outputs": [],
   "source": [
    "# find URLs\n",
    "df1.review_clean = df1.review_clean.apply(find_URLs)\n",
    "df1['number_of_urls'] = df1.review_clean.apply(\n",
    "    lambda x: x.count('URLEMBEDDED'))"
   ]
  },
  {
   "cell_type": "code",
   "execution_count": 51,
   "metadata": {
    "ExecuteTime": {
     "end_time": "2020-12-21T08:41:01.680673Z",
     "start_time": "2020-12-21T08:40:45.928588Z"
    }
   },
   "outputs": [],
   "source": [
    "# find price\n",
    "df1.review_clean = df1.review_clean.apply(find_price)\n",
    "df1['number_of_price'] = df1.review_clean.apply(\n",
    "    lambda x: x.count('PRICEEMBEDDED'))"
   ]
  },
  {
   "cell_type": "code",
   "execution_count": 52,
   "metadata": {
    "ExecuteTime": {
     "end_time": "2020-12-21T08:41:15.467921Z",
     "start_time": "2020-12-21T08:41:01.680673Z"
    }
   },
   "outputs": [],
   "source": [
    "# find time\n",
    "df1.review_clean = df1.review_clean.apply(find_time)\n",
    "df1['number_of_time'] = df1.review_clean.apply(\n",
    "    lambda x: x.count('TIMEEMBEDDED'))"
   ]
  },
  {
   "cell_type": "code",
   "execution_count": 53,
   "metadata": {
    "ExecuteTime": {
     "end_time": "2020-12-21T08:43:22.398989Z",
     "start_time": "2020-12-21T08:41:15.467921Z"
    }
   },
   "outputs": [],
   "source": [
    "# It is important to extract the number of emoticons after extracting the number\n",
    "# of time-related information. Because, some time-related information can be\n",
    "# confused with emoticons such as '09:30 a.m.' can be counted as an emoticon since\n",
    "# ':3' is in the time-related information.\n",
    "# find emoticons\n",
    "df1['number_of_emots'] = df1.review_clean.apply(\n",
    "    find_emoticons).apply(lambda x: x.count('EMOTICONFOUND'))"
   ]
  },
  {
   "cell_type": "code",
   "execution_count": 54,
   "metadata": {
    "ExecuteTime": {
     "end_time": "2020-12-21T08:43:22.521278Z",
     "start_time": "2020-12-21T08:43:22.401118Z"
    },
    "scrolled": false
   },
   "outputs": [
    {
     "name": "stdout",
     "output_type": "stream",
     "text": [
      "\n",
      "        The correlation between the number of items and  helpful votes:\n",
      "        \n",
      "            Feature   \t Pearson R\tSignificance\n",
      "            PHOTO     \t     0.07\t     0.00\n",
      "            URL       \t     0.05\t     0.00\n",
      "            PRICE     \t     0.13\t     0.00\n",
      "            TIME      \t     0.07\t     0.00\n",
      "            EMOTICON  \t     0.16\t     0.00\n",
      "      \n"
     ]
    }
   ],
   "source": [
    "print(\"\"\"\n",
    "        The correlation between the number of items and  helpful votes:\n",
    "        \n",
    "            {:<10}\\t{:>10}\\t{:>10}\n",
    "            {:<10}\\t{:>9.2f}\\t{:>9.2f}\n",
    "            {:<10}\\t{:>9.2f}\\t{:>9.2f}\n",
    "            {:<10}\\t{:>9.2f}\\t{:>9.2f}\n",
    "            {:<10}\\t{:>9.2f}\\t{:>9.2f}\n",
    "            {:<10}\\t{:>9.2f}\\t{:>9.2f}\n",
    "      \"\"\".format(\n",
    "    'Feature', 'Pearson R', 'Significance',\n",
    "    'PHOTO',\n",
    "    scipy.stats.pearsonr(df1.number_of_photos, df1.review_useful.values)[0],\n",
    "    scipy.stats.pearsonr(df1.number_of_photos, df1.review_useful.values)[1],\n",
    "    'URL',\n",
    "    scipy.stats.pearsonr(df1.number_of_urls, df1.review_useful.values)[0],\n",
    "    scipy.stats.pearsonr(df1.number_of_urls, df1.review_useful.values)[1],\n",
    "    'PRICE',\n",
    "    scipy.stats.pearsonr(df1.number_of_price, df1.review_useful.values)[0],\n",
    "    scipy.stats.pearsonr(df1.number_of_price, df1.review_useful.values)[1],\n",
    "    'TIME',\n",
    "    scipy.stats.pearsonr(df1.number_of_time, df1.review_useful.values)[0],\n",
    "    scipy.stats.pearsonr(df1.number_of_time, df1.review_useful.values)[1],\n",
    "    'EMOTICON',\n",
    "    scipy.stats.pearsonr(df1.number_of_emots, df1.review_useful.values)[0],\n",
    "    scipy.stats.pearsonr(df1.number_of_emots, df1.review_useful.values)[1]))"
   ]
  },
  {
   "cell_type": "markdown",
   "metadata": {},
   "source": [
    "## Text Cleaning"
   ]
  },
  {
   "cell_type": "code",
   "execution_count": 55,
   "metadata": {
    "ExecuteTime": {
     "end_time": "2020-12-21T08:43:22.537031Z",
     "start_time": "2020-12-21T08:43:22.522360Z"
    }
   },
   "outputs": [],
   "source": [
    "def remove_chinese_characters(text):\n",
    "    chinese_characters = re.compile(\"[\"\n",
    "                                       u\"\\u2E80-\\u2FD5\"\n",
    "                                       u\"\\u3190-\\u319f\"\n",
    "                                       u\"\\u3400-\\u4DBF\"\n",
    "                                       u\"\\u4E00-\\u9FCC\"\n",
    "                                       u\"\\uF900-\\uFAAD\"\n",
    "                                    \"]+\", flags=re.UNICODE)\n",
    "    return chinese_characters.sub(r' ', text)   "
   ]
  },
  {
   "cell_type": "code",
   "execution_count": 56,
   "metadata": {
    "ExecuteTime": {
     "end_time": "2020-12-21T08:43:22.552180Z",
     "start_time": "2020-12-21T08:43:22.538014Z"
    }
   },
   "outputs": [],
   "source": [
    "def remove_japanese_characters(text):\n",
    "    japanese_characters = re.compile(\"[\"\n",
    "                                        u\"\\u3000-\\u303f\"\n",
    "                                        u\"\\u3040-\\u309f\"\n",
    "                                        u\"\\u30a0-\\u30ff\"\n",
    "                                        u\"\\uff00-\\uffef\"\n",
    "                                        u\"\\u4e00-\\u9faf\"\n",
    "                                     \"]+\", flags=re.UNICODE)\n",
    "    return japanese_characters.sub(r' ', text)"
   ]
  },
  {
   "cell_type": "code",
   "execution_count": 57,
   "metadata": {
    "ExecuteTime": {
     "end_time": "2020-12-21T08:43:22.572562Z",
     "start_time": "2020-12-21T08:43:22.552180Z"
    }
   },
   "outputs": [],
   "source": [
    "def clean_whitespace(text):\n",
    "    white_space = re.compile(r'\\s+')\n",
    "    return white_space.sub(r' ', text)"
   ]
  },
  {
   "cell_type": "code",
   "execution_count": 58,
   "metadata": {
    "ExecuteTime": {
     "end_time": "2020-12-21T08:43:22.587829Z",
     "start_time": "2020-12-21T08:43:22.576864Z"
    }
   },
   "outputs": [],
   "source": [
    "def reduce_duplicated_chars(text):\n",
    "    duplicated_chars = re.compile(r'(\\w)\\1{2,}')\n",
    "    return duplicated_chars.sub(r'\\1', text)"
   ]
  },
  {
   "cell_type": "code",
   "execution_count": 59,
   "metadata": {
    "ExecuteTime": {
     "end_time": "2020-12-21T08:43:22.618640Z",
     "start_time": "2020-12-21T08:43:22.588816Z"
    }
   },
   "outputs": [],
   "source": [
    "def replace_spaced_letters(text):\n",
    "    spaced_words = re.compile(r'\\b([A-Z]\\s+?){3,}[A-Z]?\\b')\n",
    "    iterator = spaced_words.finditer(text)\n",
    "    for match in iterator:\n",
    "        start, stop = match.span()\n",
    "        word = text[start:stop]\n",
    "        word = word.replace(' ', '')\n",
    "        text = re.sub(spaced_words, word, text)\n",
    "    return text"
   ]
  },
  {
   "cell_type": "code",
   "execution_count": 60,
   "metadata": {
    "ExecuteTime": {
     "end_time": "2020-12-21T08:43:22.634230Z",
     "start_time": "2020-12-21T08:43:22.618640Z"
    }
   },
   "outputs": [],
   "source": [
    "def remove_emojis(text):\n",
    "    for emot in UNICODE_EMO:\n",
    "        text = text.replace(emot, r' ')\n",
    "    return text"
   ]
  },
  {
   "cell_type": "code",
   "execution_count": 61,
   "metadata": {
    "ExecuteTime": {
     "end_time": "2020-12-21T08:43:22.649814Z",
     "start_time": "2020-12-21T08:43:22.637303Z"
    }
   },
   "outputs": [],
   "source": [
    "def clean_review(text):\n",
    "    text = text.replace('EMOTICONFOUND', ' ')\n",
    "    text = text.replace('PHOTOEMBEDDED', ' ')\n",
    "    text = text.replace('URLEMBEDDED', ' ')\n",
    "    text = text.replace('PRICEEMBEDDED', ' ')\n",
    "    text = text.replace('TIMEEMBEDDED', ' ')\n",
    "    return text"
   ]
  },
  {
   "cell_type": "code",
   "execution_count": 62,
   "metadata": {
    "ExecuteTime": {
     "end_time": "2020-12-21T08:43:22.672499Z",
     "start_time": "2020-12-21T08:43:22.649814Z"
    }
   },
   "outputs": [],
   "source": [
    "def remove_punctuations(text):\n",
    "    punct = re.compile(r'[^\\w\\s]')\n",
    "    return punct.sub(r' ', text)"
   ]
  },
  {
   "cell_type": "code",
   "execution_count": 63,
   "metadata": {
    "ExecuteTime": {
     "end_time": "2020-12-21T08:43:33.589748Z",
     "start_time": "2020-12-21T08:43:22.672499Z"
    }
   },
   "outputs": [],
   "source": [
    "# remove chinese and japanese characters\n",
    "df1.review_clean = df1.review_clean.apply(remove_chinese_characters)\n",
    "df1.review_clean = df1.review_clean.apply(remove_japanese_characters)"
   ]
  },
  {
   "cell_type": "code",
   "execution_count": 64,
   "metadata": {
    "ExecuteTime": {
     "end_time": "2020-12-21T08:43:51.258740Z",
     "start_time": "2020-12-21T08:43:33.589748Z"
    }
   },
   "outputs": [],
   "source": [
    "# reduce multiple whitespaces into one\n",
    "df1.review_clean = df1.review_clean.apply(clean_whitespace)"
   ]
  },
  {
   "cell_type": "code",
   "execution_count": 65,
   "metadata": {
    "ExecuteTime": {
     "end_time": "2020-12-21T08:44:06.321422Z",
     "start_time": "2020-12-21T08:43:51.260851Z"
    }
   },
   "outputs": [],
   "source": [
    "# reduce repeated characters such as soooooooooooo -> so\n",
    "df1.review_clean = df1.review_clean.apply(reduce_duplicated_chars)"
   ]
  },
  {
   "cell_type": "code",
   "execution_count": 66,
   "metadata": {
    "ExecuteTime": {
     "end_time": "2020-12-21T08:44:16.337527Z",
     "start_time": "2020-12-21T08:44:06.321422Z"
    }
   },
   "outputs": [],
   "source": [
    "# find spaced letters such as A M A Z I N G -> AMAZING\n",
    "df1.review_clean = df1.review_clean.apply(replace_spaced_letters)"
   ]
  },
  {
   "cell_type": "code",
   "execution_count": 67,
   "metadata": {
    "ExecuteTime": {
     "end_time": "2020-12-21T08:44:33.114735Z",
     "start_time": "2020-12-21T08:44:16.339664Z"
    }
   },
   "outputs": [],
   "source": [
    "# fix contractions such as I'm -> I am\n",
    "df1.review_clean = df1.review_clean.apply(contractions.fix)"
   ]
  },
  {
   "cell_type": "code",
   "execution_count": 68,
   "metadata": {
    "ExecuteTime": {
     "end_time": "2020-12-21T08:44:43.515709Z",
     "start_time": "2020-12-21T08:44:33.114735Z"
    }
   },
   "outputs": [],
   "source": [
    "# lowercase reviews\n",
    "df1.review_clean = df1.review_clean.apply(\n",
    "    lambda x: ' '.join([w.lower() for w in x.split()]))"
   ]
  },
  {
   "cell_type": "code",
   "execution_count": 69,
   "metadata": {
    "ExecuteTime": {
     "end_time": "2020-12-21T08:44:44.554732Z",
     "start_time": "2020-12-21T08:44:43.518730Z"
    }
   },
   "outputs": [],
   "source": [
    "# clean reviews\n",
    "df1.review_clean = df1.review_clean.apply(clean_review)"
   ]
  },
  {
   "cell_type": "code",
   "execution_count": 70,
   "metadata": {
    "ExecuteTime": {
     "end_time": "2020-12-21T08:46:05.851638Z",
     "start_time": "2020-12-21T08:44:44.554732Z"
    }
   },
   "outputs": [],
   "source": [
    "# remove emojis\n",
    "df1.review_clean = df1.review_clean.apply(remove_emojis)"
   ]
  },
  {
   "cell_type": "code",
   "execution_count": 71,
   "metadata": {
    "ExecuteTime": {
     "end_time": "2020-12-21T08:46:06.166017Z",
     "start_time": "2020-12-21T08:46:05.851638Z"
    }
   },
   "outputs": [],
   "source": [
    "# separate hyphen words\n",
    "df1.review_clean = df1.review_clean.apply(lambda x: x.replace('-', ' '))"
   ]
  },
  {
   "cell_type": "code",
   "execution_count": 72,
   "metadata": {
    "ExecuteTime": {
     "end_time": "2020-12-21T08:46:08.245020Z",
     "start_time": "2020-12-21T08:46:06.166105Z"
    }
   },
   "outputs": [],
   "source": [
    "# remove hashtags and mentions\n",
    "df1.review_clean = df1.review_clean.apply(\n",
    "    lambda x: re.sub(r\"(?:\\@|#)\\S+\", \" \", x))"
   ]
  },
  {
   "cell_type": "code",
   "execution_count": 73,
   "metadata": {
    "ExecuteTime": {
     "end_time": "2020-12-21T08:46:14.335898Z",
     "start_time": "2020-12-21T08:46:08.247113Z"
    }
   },
   "outputs": [],
   "source": [
    "# replace punctuations with whitespace\n",
    "df1.review_clean = df1.review_clean.apply(remove_punctuations)"
   ]
  },
  {
   "cell_type": "code",
   "execution_count": 74,
   "metadata": {
    "ExecuteTime": {
     "end_time": "2020-12-21T08:46:35.243698Z",
     "start_time": "2020-12-21T08:46:14.338021Z"
    }
   },
   "outputs": [],
   "source": [
    "# remove digits\n",
    "df1.review_clean = df1.review_clean.apply(\n",
    "    lambda x: ''.join([char for char in x if char not in digits]))"
   ]
  },
  {
   "cell_type": "code",
   "execution_count": 75,
   "metadata": {
    "ExecuteTime": {
     "end_time": "2020-12-21T08:46:45.451666Z",
     "start_time": "2020-12-21T08:46:35.243698Z"
    }
   },
   "outputs": [],
   "source": [
    "# remove stopwords\n",
    "df1.review_clean = df1.review_clean.apply(\n",
    "    lambda x: ' '.join([w for w in x.split() if w not in stop_words]))"
   ]
  },
  {
   "cell_type": "code",
   "execution_count": 76,
   "metadata": {
    "ExecuteTime": {
     "end_time": "2020-12-21T09:12:06.925120Z",
     "start_time": "2020-12-21T08:46:45.451666Z"
    }
   },
   "outputs": [],
   "source": [
    "# lemmatizer\n",
    "df1.review_clean = df1.review_clean.apply(\n",
    "    lambda x: [word.lemma_ for word in nlp(x)])"
   ]
  },
  {
   "cell_type": "code",
   "execution_count": 77,
   "metadata": {
    "ExecuteTime": {
     "end_time": "2020-12-21T09:16:58.322592Z",
     "start_time": "2020-12-21T09:12:06.927233Z"
    }
   },
   "outputs": [],
   "source": [
    "# stemmer\n",
    "df1.review_clean = df1.review_clean.apply(lambda x: ' '.join([stemmer.stem(w) for w in x]))"
   ]
  },
  {
   "cell_type": "code",
   "execution_count": 78,
   "metadata": {
    "ExecuteTime": {
     "end_time": "2020-12-21T09:17:10.269632Z",
     "start_time": "2020-12-21T09:16:58.322592Z"
    }
   },
   "outputs": [],
   "source": [
    "# drop empty rows - reviews that has nothing after processing\n",
    "df1 = df1.loc[df1.review_clean != '']\n",
    "# check how is doing the cleaned reviews\n",
    "temp1 = df1.review_clean.apply(lambda x: len(x.split())).values\n",
    "temp2 = df1.review_clean.apply(\n",
    "    lambda x: np.mean([len(w) for w in x.split()])).values"
   ]
  },
  {
   "cell_type": "code",
   "execution_count": 79,
   "metadata": {
    "ExecuteTime": {
     "end_time": "2020-12-21T09:17:10.819734Z",
     "start_time": "2020-12-21T09:17:10.269632Z"
    }
   },
   "outputs": [
    {
     "data": {
      "image/png": "[encoded data removed]",
      "text/plain": [
       "<Figure size 864x360 with 2 Axes>"
      ]
     },
     "metadata": {
      "needs_background": "light"
     },
     "output_type": "display_data"
    }
   ],
   "source": [
    "# compare distributions of features by class in order to find the\n",
    "# features that can identify fraudulent transactions\n",
    "fig, axes = plt.subplots(1, 2)  # generates figure and axis objects\n",
    "fig.set_size_inches([12, 5])  # adjust the figure size in inches\n",
    "axes = axes.flatten()\n",
    "for feature, ax, title in zip([temp1, temp2], axes,\n",
    "                              ['Number of Words', 'Average Word Length']):\n",
    "    # plot the distribution of not helpful\n",
    "    ax.hist(feature, edgecolor='k')\n",
    "    ax.set_yscale('log')\n",
    "    ax.set_title(title, size=18)\n",
    "plt.tight_layout()\n",
    "plt.show()"
   ]
  },
  {
   "cell_type": "markdown",
   "metadata": {},
   "source": [
    "* The reviews are pretty clean but there are some words but the regular expression let the average word length to inflate."
   ]
  },
  {
   "cell_type": "markdown",
   "metadata": {},
   "source": [
    "# Cumulative Distribution of Words"
   ]
  },
  {
   "cell_type": "code",
   "execution_count": 80,
   "metadata": {
    "ExecuteTime": {
     "end_time": "2020-12-21T09:17:28.386569Z",
     "start_time": "2020-12-21T09:17:10.819734Z"
    },
    "code_folding": []
   },
   "outputs": [],
   "source": [
    "# identify how many times appears a word in the corpus\n",
    "from sklearn.feature_extraction.text import CountVectorizer\n",
    "cv = CountVectorizer()\n",
    "cv_fit = cv.fit_transform(df1.review_clean)\n",
    "vocabulary_comprehensive = dict(zip(\n",
    "    cv.get_feature_names(), list(np.asarray(cv_fit.sum(axis=0))[0])))"
   ]
  },
  {
   "cell_type": "code",
   "execution_count": 81,
   "metadata": {
    "ExecuteTime": {
     "end_time": "2020-12-21T09:17:45.956499Z",
     "start_time": "2020-12-21T09:17:28.386569Z"
    }
   },
   "outputs": [],
   "source": [
    "cv = CountVectorizer(min_df=0.03)\n",
    "cv_fit = cv.fit_transform(df1.review_clean)\n",
    "vocabulary_concise = dict(zip(\n",
    "    cv.get_feature_names(), list(np.asarray(cv_fit.sum(axis=0))[0])))"
   ]
  },
  {
   "cell_type": "code",
   "execution_count": 82,
   "metadata": {
    "ExecuteTime": {
     "end_time": "2020-12-21T09:17:45.972197Z",
     "start_time": "2020-12-21T09:17:45.957721Z"
    }
   },
   "outputs": [
    {
     "name": "stdout",
     "output_type": "stream",
     "text": [
      "\n",
      "        There are 100,857 unique words in the corpus.\n",
      "        100,611 of them, which accounts for 99.76% of all words, appear less than\n",
      "        3% of the reviews.\n",
      "      \n"
     ]
    }
   ],
   "source": [
    "print(\"\"\"\n",
    "        There are {:,} unique words in the corpus.\n",
    "        {:,} of them, which accounts for {:.2f}% of all words, appear less than\n",
    "        3% of the reviews.\n",
    "      \"\"\"\n",
    "      .format(len(vocabulary_comprehensive),\n",
    "              len(vocabulary_comprehensive) - len(vocabulary_concise),\n",
    "              ((len(vocabulary_comprehensive) - len(vocabulary_concise)) /\n",
    "                  len(vocabulary_comprehensive)) * 100))"
   ]
  },
  {
   "cell_type": "code",
   "execution_count": 83,
   "metadata": {
    "ExecuteTime": {
     "end_time": "2020-12-21T09:17:45.997273Z",
     "start_time": "2020-12-21T09:17:45.973190Z"
    }
   },
   "outputs": [
    {
     "name": "stdout",
     "output_type": "stream",
     "text": [
      "Term           \tCount  \n",
      "--------\t--------\n",
      "food           \t535,503\n",
      "good           \t455,635\n",
      "place          \t437,241\n",
      "great          \t383,014\n",
      "time           \t314,294\n",
      "order          \t312,467\n",
      "servic         \t308,846\n",
      "make           \t228,978\n",
      "back           \t218,896\n",
      "vega           \t196,308\n",
      "love           \t195,117\n",
      "wait           \t194,598\n",
      "restaur        \t193,228\n",
      "eat            \t187,489\n",
      "friend         \t182,938\n",
      "amaz           \t152,153\n",
      "delici         \t150,732\n",
      "nice           \t148,207\n",
      "tabl           \t140,939\n",
      "drink          \t138,914\n"
     ]
    }
   ],
   "source": [
    "print('{:<15}\\t{:<7}'.format('Term', 'Count'))\n",
    "print('{0}\\t{0}'.format('--------'))\n",
    "for term, count in sorted([(word, count) for word, count in vocabulary_concise.items()], key=lambda x: x[1], reverse=True)[:20]:\n",
    "    print('{:<15}\\t{:,}'.format(term, count))"
   ]
  },
  {
   "cell_type": "code",
   "execution_count": 84,
   "metadata": {
    "ExecuteTime": {
     "end_time": "2020-12-21T09:17:47.369501Z",
     "start_time": "2020-12-21T09:17:45.997809Z"
    }
   },
   "outputs": [],
   "source": [
    "# add average user useful rating as a feature\n",
    "temp = df1.loc[:, ['user_id', 'review_useful']]\n",
    "temp = temp.groupby('user_id').mean().rename(\n",
    "    columns={'review_useful':'average_useful_vote'})\n",
    "df1 = df1.merge(temp, on='user_id', how='left')"
   ]
  },
  {
   "cell_type": "code",
   "execution_count": 85,
   "metadata": {
    "ExecuteTime": {
     "end_time": "2020-12-21T09:17:55.663182Z",
     "start_time": "2020-12-21T09:17:47.371604Z"
    }
   },
   "outputs": [],
   "source": [
    "# extract age of each review in days\n",
    "from datetime import datetime\n",
    "today = datetime(2020, 12, 15)\n",
    "\n",
    "# extract days, weeks, months, and years info\n",
    "df1.review_date = pd.to_datetime(df1.review_date)\n",
    "df1['review_age_days'] = today - df1.review_date\n",
    "df1.review_age_days = df1.review_age_days.apply(lambda x: x.days)"
   ]
  },
  {
   "cell_type": "code",
   "execution_count": 86,
   "metadata": {
    "ExecuteTime": {
     "end_time": "2020-12-21T09:17:55.968973Z",
     "start_time": "2020-12-21T09:17:55.665333Z"
    }
   },
   "outputs": [
    {
     "data": {
      "text/html": [
       "<div>\n",
       "<style scoped>\n",
       "    .dataframe tbody tr th:only-of-type {\n",
       "        vertical-align: middle;\n",
       "    }\n",
       "\n",
       "    .dataframe tbody tr th {\n",
       "        vertical-align: top;\n",
       "    }\n",
       "\n",
       "    .dataframe thead th {\n",
       "        text-align: right;\n",
       "    }\n",
       "</style>\n",
       "<table border=\"1\" class=\"dataframe\">\n",
       "  <thead>\n",
       "    <tr style=\"text-align: right;\">\n",
       "      <th></th>\n",
       "      <th>review</th>\n",
       "      <th>review_clean</th>\n",
       "      <th>review_stars</th>\n",
       "      <th>set_word</th>\n",
       "      <th>number_of_photos</th>\n",
       "      <th>number_of_price</th>\n",
       "      <th>number_of_time</th>\n",
       "      <th>number_of_emots</th>\n",
       "      <th>average_useful_vote</th>\n",
       "      <th>review_age_days</th>\n",
       "      <th>review_useful</th>\n",
       "    </tr>\n",
       "  </thead>\n",
       "  <tbody>\n",
       "    <tr>\n",
       "      <th>0</th>\n",
       "      <td>\"River, we see that you haven't Yelped in a wh...</td>\n",
       "      <td>river yelp place vegetarian friend tail make f...</td>\n",
       "      <td>5.0</td>\n",
       "      <td>159</td>\n",
       "      <td>0</td>\n",
       "      <td>0</td>\n",
       "      <td>0</td>\n",
       "      <td>0</td>\n",
       "      <td>2.375</td>\n",
       "      <td>2157</td>\n",
       "      <td>6</td>\n",
       "    </tr>\n",
       "    <tr>\n",
       "      <th>1</th>\n",
       "      <td>Gave this restaurant 3 stars mostly because of...</td>\n",
       "      <td>give restaur star servic order spring roll ave...</td>\n",
       "      <td>3.0</td>\n",
       "      <td>133</td>\n",
       "      <td>0</td>\n",
       "      <td>0</td>\n",
       "      <td>1</td>\n",
       "      <td>5</td>\n",
       "      <td>0.000</td>\n",
       "      <td>2331</td>\n",
       "      <td>0</td>\n",
       "    </tr>\n",
       "    <tr>\n",
       "      <th>2</th>\n",
       "      <td>Oh boy! I love veggie restaurants! Especially ...</td>\n",
       "      <td>boy love veggi restaur asian influenc general ...</td>\n",
       "      <td>4.0</td>\n",
       "      <td>103</td>\n",
       "      <td>0</td>\n",
       "      <td>0</td>\n",
       "      <td>0</td>\n",
       "      <td>2</td>\n",
       "      <td>0.000</td>\n",
       "      <td>1245</td>\n",
       "      <td>0</td>\n",
       "    </tr>\n",
       "    <tr>\n",
       "      <th>3</th>\n",
       "      <td>This was my first vegan meal! I went with the ...</td>\n",
       "      <td>vegan meal familiar orang chicken legit miss c...</td>\n",
       "      <td>5.0</td>\n",
       "      <td>33</td>\n",
       "      <td>0</td>\n",
       "      <td>0</td>\n",
       "      <td>0</td>\n",
       "      <td>0</td>\n",
       "      <td>0.000</td>\n",
       "      <td>1417</td>\n",
       "      <td>0</td>\n",
       "    </tr>\n",
       "    <tr>\n",
       "      <th>4</th>\n",
       "      <td>Visited the Veggie House today.   The atmosphe...</td>\n",
       "      <td>visit veggi hous today atmospher pleasant food...</td>\n",
       "      <td>5.0</td>\n",
       "      <td>72</td>\n",
       "      <td>0</td>\n",
       "      <td>0</td>\n",
       "      <td>0</td>\n",
       "      <td>1</td>\n",
       "      <td>0.000</td>\n",
       "      <td>1853</td>\n",
       "      <td>0</td>\n",
       "    </tr>\n",
       "  </tbody>\n",
       "</table>\n",
       "</div>"
      ],
      "text/plain": [
       "                                              review  \\\n",
       "0  \"River, we see that you haven't Yelped in a wh...   \n",
       "1  Gave this restaurant 3 stars mostly because of...   \n",
       "2  Oh boy! I love veggie restaurants! Especially ...   \n",
       "3  This was my first vegan meal! I went with the ...   \n",
       "4  Visited the Veggie House today.   The atmosphe...   \n",
       "\n",
       "                                        review_clean  review_stars  set_word  \\\n",
       "0  river yelp place vegetarian friend tail make f...           5.0       159   \n",
       "1  give restaur star servic order spring roll ave...           3.0       133   \n",
       "2  boy love veggi restaur asian influenc general ...           4.0       103   \n",
       "3  vegan meal familiar orang chicken legit miss c...           5.0        33   \n",
       "4  visit veggi hous today atmospher pleasant food...           5.0        72   \n",
       "\n",
       "   number_of_photos  number_of_price  number_of_time  number_of_emots  \\\n",
       "0                 0                0               0                0   \n",
       "1                 0                0               1                5   \n",
       "2                 0                0               0                2   \n",
       "3                 0                0               0                0   \n",
       "4                 0                0               0                1   \n",
       "\n",
       "   average_useful_vote  review_age_days  review_useful  \n",
       "0                2.375             2157              6  \n",
       "1                0.000             2331              0  \n",
       "2                0.000             1245              0  \n",
       "3                0.000             1417              0  \n",
       "4                0.000             1853              0  "
      ]
     },
     "execution_count": 86,
     "metadata": {},
     "output_type": "execute_result"
    }
   ],
   "source": [
    "df1 = df1.loc[:, ['review', 'review_clean', 'review_stars', 'set_word', 'number_of_photos',\n",
    "                'number_of_price', 'number_of_time', 'number_of_emots',\n",
    "                'average_useful_vote', 'review_age_days', 'review_useful']]\n",
    "df1.head()"
   ]
  },
  {
   "cell_type": "code",
   "execution_count": 87,
   "metadata": {
    "ExecuteTime": {
     "end_time": "2020-12-21T09:17:56.100644Z",
     "start_time": "2020-12-21T09:17:55.969964Z"
    },
    "scrolled": false
   },
   "outputs": [
    {
     "data": {
      "text/html": [
       "<div>\n",
       "<style scoped>\n",
       "    .dataframe tbody tr th:only-of-type {\n",
       "        vertical-align: middle;\n",
       "    }\n",
       "\n",
       "    .dataframe tbody tr th {\n",
       "        vertical-align: top;\n",
       "    }\n",
       "\n",
       "    .dataframe thead th {\n",
       "        text-align: right;\n",
       "    }\n",
       "</style>\n",
       "<table border=\"1\" class=\"dataframe\">\n",
       "  <thead>\n",
       "    <tr style=\"text-align: right;\">\n",
       "      <th></th>\n",
       "      <th>review_stars</th>\n",
       "      <th>set_word</th>\n",
       "      <th>number_of_photos</th>\n",
       "      <th>number_of_price</th>\n",
       "      <th>number_of_time</th>\n",
       "      <th>number_of_emots</th>\n",
       "      <th>average_useful_vote</th>\n",
       "      <th>review_age_days</th>\n",
       "      <th>review_useful</th>\n",
       "    </tr>\n",
       "  </thead>\n",
       "  <tbody>\n",
       "    <tr>\n",
       "      <th>count</th>\n",
       "      <td>732562.000000</td>\n",
       "      <td>732562.000000</td>\n",
       "      <td>732562.000000</td>\n",
       "      <td>732562.000000</td>\n",
       "      <td>732562.000000</td>\n",
       "      <td>732562.000000</td>\n",
       "      <td>732562.000000</td>\n",
       "      <td>732562.000000</td>\n",
       "      <td>732562.000000</td>\n",
       "    </tr>\n",
       "    <tr>\n",
       "      <th>mean</th>\n",
       "      <td>3.969877</td>\n",
       "      <td>78.156477</td>\n",
       "      <td>0.002595</td>\n",
       "      <td>0.217154</td>\n",
       "      <td>0.170730</td>\n",
       "      <td>0.494489</td>\n",
       "      <td>1.086698</td>\n",
       "      <td>1793.220615</td>\n",
       "      <td>1.086698</td>\n",
       "    </tr>\n",
       "    <tr>\n",
       "      <th>std</th>\n",
       "      <td>1.276400</td>\n",
       "      <td>56.223327</td>\n",
       "      <td>0.121116</td>\n",
       "      <td>0.720332</td>\n",
       "      <td>0.581196</td>\n",
       "      <td>1.184570</td>\n",
       "      <td>2.956909</td>\n",
       "      <td>1001.712885</td>\n",
       "      <td>3.532019</td>\n",
       "    </tr>\n",
       "    <tr>\n",
       "      <th>min</th>\n",
       "      <td>1.000000</td>\n",
       "      <td>2.000000</td>\n",
       "      <td>0.000000</td>\n",
       "      <td>0.000000</td>\n",
       "      <td>0.000000</td>\n",
       "      <td>0.000000</td>\n",
       "      <td>-0.500000</td>\n",
       "      <td>367.000000</td>\n",
       "      <td>-1.000000</td>\n",
       "    </tr>\n",
       "    <tr>\n",
       "      <th>25%</th>\n",
       "      <td>3.000000</td>\n",
       "      <td>38.000000</td>\n",
       "      <td>0.000000</td>\n",
       "      <td>0.000000</td>\n",
       "      <td>0.000000</td>\n",
       "      <td>0.000000</td>\n",
       "      <td>0.000000</td>\n",
       "      <td>987.000000</td>\n",
       "      <td>0.000000</td>\n",
       "    </tr>\n",
       "    <tr>\n",
       "      <th>50%</th>\n",
       "      <td>4.000000</td>\n",
       "      <td>63.000000</td>\n",
       "      <td>0.000000</td>\n",
       "      <td>0.000000</td>\n",
       "      <td>0.000000</td>\n",
       "      <td>0.000000</td>\n",
       "      <td>0.333333</td>\n",
       "      <td>1621.000000</td>\n",
       "      <td>0.000000</td>\n",
       "    </tr>\n",
       "    <tr>\n",
       "      <th>75%</th>\n",
       "      <td>5.000000</td>\n",
       "      <td>102.000000</td>\n",
       "      <td>0.000000</td>\n",
       "      <td>0.000000</td>\n",
       "      <td>0.000000</td>\n",
       "      <td>1.000000</td>\n",
       "      <td>1.000000</td>\n",
       "      <td>2387.000000</td>\n",
       "      <td>1.000000</td>\n",
       "    </tr>\n",
       "    <tr>\n",
       "      <th>max</th>\n",
       "      <td>5.000000</td>\n",
       "      <td>498.000000</td>\n",
       "      <td>22.000000</td>\n",
       "      <td>25.000000</td>\n",
       "      <td>38.000000</td>\n",
       "      <td>56.000000</td>\n",
       "      <td>758.000000</td>\n",
       "      <td>5803.000000</td>\n",
       "      <td>758.000000</td>\n",
       "    </tr>\n",
       "  </tbody>\n",
       "</table>\n",
       "</div>"
      ],
      "text/plain": [
       "        review_stars       set_word  number_of_photos  number_of_price  \\\n",
       "count  732562.000000  732562.000000     732562.000000    732562.000000   \n",
       "mean        3.969877      78.156477          0.002595         0.217154   \n",
       "std         1.276400      56.223327          0.121116         0.720332   \n",
       "min         1.000000       2.000000          0.000000         0.000000   \n",
       "25%         3.000000      38.000000          0.000000         0.000000   \n",
       "50%         4.000000      63.000000          0.000000         0.000000   \n",
       "75%         5.000000     102.000000          0.000000         0.000000   \n",
       "max         5.000000     498.000000         22.000000        25.000000   \n",
       "\n",
       "       number_of_time  number_of_emots  average_useful_vote  review_age_days  \\\n",
       "count   732562.000000    732562.000000        732562.000000    732562.000000   \n",
       "mean         0.170730         0.494489             1.086698      1793.220615   \n",
       "std          0.581196         1.184570             2.956909      1001.712885   \n",
       "min          0.000000         0.000000            -0.500000       367.000000   \n",
       "25%          0.000000         0.000000             0.000000       987.000000   \n",
       "50%          0.000000         0.000000             0.333333      1621.000000   \n",
       "75%          0.000000         1.000000             1.000000      2387.000000   \n",
       "max         38.000000        56.000000           758.000000      5803.000000   \n",
       "\n",
       "       review_useful  \n",
       "count  732562.000000  \n",
       "mean        1.086698  \n",
       "std         3.532019  \n",
       "min        -1.000000  \n",
       "25%         0.000000  \n",
       "50%         0.000000  \n",
       "75%         1.000000  \n",
       "max       758.000000  "
      ]
     },
     "execution_count": 87,
     "metadata": {},
     "output_type": "execute_result"
    }
   ],
   "source": [
    "df1.describe()"
   ]
  },
  {
   "cell_type": "code",
   "execution_count": 88,
   "metadata": {
    "ExecuteTime": {
     "end_time": "2020-12-21T09:17:56.120721Z",
     "start_time": "2020-12-21T09:17:56.100644Z"
    }
   },
   "outputs": [
    {
     "data": {
      "text/html": [
       "<div>\n",
       "<style scoped>\n",
       "    .dataframe tbody tr th:only-of-type {\n",
       "        vertical-align: middle;\n",
       "    }\n",
       "\n",
       "    .dataframe tbody tr th {\n",
       "        vertical-align: top;\n",
       "    }\n",
       "\n",
       "    .dataframe thead th {\n",
       "        text-align: right;\n",
       "    }\n",
       "</style>\n",
       "<table border=\"1\" class=\"dataframe\">\n",
       "  <thead>\n",
       "    <tr style=\"text-align: right;\">\n",
       "      <th></th>\n",
       "      <th>review</th>\n",
       "      <th>review_clean</th>\n",
       "      <th>review_stars</th>\n",
       "      <th>set_word</th>\n",
       "      <th>number_of_photos</th>\n",
       "      <th>number_of_price</th>\n",
       "      <th>number_of_time</th>\n",
       "      <th>number_of_emots</th>\n",
       "      <th>average_useful_vote</th>\n",
       "      <th>review_age_days</th>\n",
       "      <th>review_useful</th>\n",
       "    </tr>\n",
       "  </thead>\n",
       "  <tbody>\n",
       "    <tr>\n",
       "      <th>633445</th>\n",
       "      <td>Cornish Pasty saved our Mothers Day! After hav...</td>\n",
       "      <td>cornish pasti save mother day leav restaur mak...</td>\n",
       "      <td>5.0</td>\n",
       "      <td>79</td>\n",
       "      <td>0</td>\n",
       "      <td>0</td>\n",
       "      <td>1</td>\n",
       "      <td>2</td>\n",
       "      <td>-0.5</td>\n",
       "      <td>1309</td>\n",
       "      <td>-1</td>\n",
       "    </tr>\n",
       "  </tbody>\n",
       "</table>\n",
       "</div>"
      ],
      "text/plain": [
       "                                                   review  \\\n",
       "633445  Cornish Pasty saved our Mothers Day! After hav...   \n",
       "\n",
       "                                             review_clean  review_stars  \\\n",
       "633445  cornish pasti save mother day leav restaur mak...           5.0   \n",
       "\n",
       "        set_word  number_of_photos  number_of_price  number_of_time  \\\n",
       "633445        79                 0                0               1   \n",
       "\n",
       "        number_of_emots  average_useful_vote  review_age_days  review_useful  \n",
       "633445                2                 -0.5             1309             -1  "
      ]
     },
     "execution_count": 88,
     "metadata": {},
     "output_type": "execute_result"
    }
   ],
   "source": [
    "# there is a negative value in review useful. Let's check\n",
    "df1.loc[df1.review_useful < 0]"
   ]
  },
  {
   "cell_type": "code",
   "execution_count": 89,
   "metadata": {
    "ExecuteTime": {
     "end_time": "2020-12-21T09:17:56.136472Z",
     "start_time": "2020-12-21T09:17:56.120721Z"
    }
   },
   "outputs": [],
   "source": [
    "# The negative sign also affects the average useful vote\n",
    "# Turn them into positive\n",
    "df1.review_useful = np.where(df1.review_useful < 0, 1, df1.review_useful)\n",
    "df1.average_useful_vote = np.where(df1.average_useful_vote < 0, 0.5, df1.average_useful_vote)"
   ]
  },
  {
   "cell_type": "code",
   "execution_count": 90,
   "metadata": {
    "ExecuteTime": {
     "end_time": "2020-12-21T09:17:56.264342Z",
     "start_time": "2020-12-21T09:17:56.137466Z"
    }
   },
   "outputs": [
    {
     "data": {
      "text/html": [
       "<div>\n",
       "<style scoped>\n",
       "    .dataframe tbody tr th:only-of-type {\n",
       "        vertical-align: middle;\n",
       "    }\n",
       "\n",
       "    .dataframe tbody tr th {\n",
       "        vertical-align: top;\n",
       "    }\n",
       "\n",
       "    .dataframe thead th {\n",
       "        text-align: right;\n",
       "    }\n",
       "</style>\n",
       "<table border=\"1\" class=\"dataframe\">\n",
       "  <thead>\n",
       "    <tr style=\"text-align: right;\">\n",
       "      <th></th>\n",
       "      <th>review_stars</th>\n",
       "      <th>set_word</th>\n",
       "      <th>number_of_photos</th>\n",
       "      <th>number_of_price</th>\n",
       "      <th>number_of_time</th>\n",
       "      <th>number_of_emots</th>\n",
       "      <th>average_useful_vote</th>\n",
       "      <th>review_age_days</th>\n",
       "      <th>review_useful</th>\n",
       "    </tr>\n",
       "  </thead>\n",
       "  <tbody>\n",
       "    <tr>\n",
       "      <th>count</th>\n",
       "      <td>732562.000000</td>\n",
       "      <td>732562.000000</td>\n",
       "      <td>732562.000000</td>\n",
       "      <td>732562.000000</td>\n",
       "      <td>732562.000000</td>\n",
       "      <td>732562.000000</td>\n",
       "      <td>732562.000000</td>\n",
       "      <td>732562.000000</td>\n",
       "      <td>732562.000000</td>\n",
       "    </tr>\n",
       "    <tr>\n",
       "      <th>mean</th>\n",
       "      <td>3.969877</td>\n",
       "      <td>78.156477</td>\n",
       "      <td>0.002595</td>\n",
       "      <td>0.217154</td>\n",
       "      <td>0.170730</td>\n",
       "      <td>0.494489</td>\n",
       "      <td>1.086701</td>\n",
       "      <td>1793.220615</td>\n",
       "      <td>1.086701</td>\n",
       "    </tr>\n",
       "    <tr>\n",
       "      <th>std</th>\n",
       "      <td>1.276400</td>\n",
       "      <td>56.223327</td>\n",
       "      <td>0.121116</td>\n",
       "      <td>0.720332</td>\n",
       "      <td>0.581196</td>\n",
       "      <td>1.184570</td>\n",
       "      <td>2.956908</td>\n",
       "      <td>1001.712885</td>\n",
       "      <td>3.532018</td>\n",
       "    </tr>\n",
       "    <tr>\n",
       "      <th>min</th>\n",
       "      <td>1.000000</td>\n",
       "      <td>2.000000</td>\n",
       "      <td>0.000000</td>\n",
       "      <td>0.000000</td>\n",
       "      <td>0.000000</td>\n",
       "      <td>0.000000</td>\n",
       "      <td>0.000000</td>\n",
       "      <td>367.000000</td>\n",
       "      <td>0.000000</td>\n",
       "    </tr>\n",
       "    <tr>\n",
       "      <th>25%</th>\n",
       "      <td>3.000000</td>\n",
       "      <td>38.000000</td>\n",
       "      <td>0.000000</td>\n",
       "      <td>0.000000</td>\n",
       "      <td>0.000000</td>\n",
       "      <td>0.000000</td>\n",
       "      <td>0.000000</td>\n",
       "      <td>987.000000</td>\n",
       "      <td>0.000000</td>\n",
       "    </tr>\n",
       "    <tr>\n",
       "      <th>50%</th>\n",
       "      <td>4.000000</td>\n",
       "      <td>63.000000</td>\n",
       "      <td>0.000000</td>\n",
       "      <td>0.000000</td>\n",
       "      <td>0.000000</td>\n",
       "      <td>0.000000</td>\n",
       "      <td>0.333333</td>\n",
       "      <td>1621.000000</td>\n",
       "      <td>0.000000</td>\n",
       "    </tr>\n",
       "    <tr>\n",
       "      <th>75%</th>\n",
       "      <td>5.000000</td>\n",
       "      <td>102.000000</td>\n",
       "      <td>0.000000</td>\n",
       "      <td>0.000000</td>\n",
       "      <td>0.000000</td>\n",
       "      <td>1.000000</td>\n",
       "      <td>1.000000</td>\n",
       "      <td>2387.000000</td>\n",
       "      <td>1.000000</td>\n",
       "    </tr>\n",
       "    <tr>\n",
       "      <th>max</th>\n",
       "      <td>5.000000</td>\n",
       "      <td>498.000000</td>\n",
       "      <td>22.000000</td>\n",
       "      <td>25.000000</td>\n",
       "      <td>38.000000</td>\n",
       "      <td>56.000000</td>\n",
       "      <td>758.000000</td>\n",
       "      <td>5803.000000</td>\n",
       "      <td>758.000000</td>\n",
       "    </tr>\n",
       "  </tbody>\n",
       "</table>\n",
       "</div>"
      ],
      "text/plain": [
       "        review_stars       set_word  number_of_photos  number_of_price  \\\n",
       "count  732562.000000  732562.000000     732562.000000    732562.000000   \n",
       "mean        3.969877      78.156477          0.002595         0.217154   \n",
       "std         1.276400      56.223327          0.121116         0.720332   \n",
       "min         1.000000       2.000000          0.000000         0.000000   \n",
       "25%         3.000000      38.000000          0.000000         0.000000   \n",
       "50%         4.000000      63.000000          0.000000         0.000000   \n",
       "75%         5.000000     102.000000          0.000000         0.000000   \n",
       "max         5.000000     498.000000         22.000000        25.000000   \n",
       "\n",
       "       number_of_time  number_of_emots  average_useful_vote  review_age_days  \\\n",
       "count   732562.000000    732562.000000        732562.000000    732562.000000   \n",
       "mean         0.170730         0.494489             1.086701      1793.220615   \n",
       "std          0.581196         1.184570             2.956908      1001.712885   \n",
       "min          0.000000         0.000000             0.000000       367.000000   \n",
       "25%          0.000000         0.000000             0.000000       987.000000   \n",
       "50%          0.000000         0.000000             0.333333      1621.000000   \n",
       "75%          0.000000         1.000000             1.000000      2387.000000   \n",
       "max         38.000000        56.000000           758.000000      5803.000000   \n",
       "\n",
       "       review_useful  \n",
       "count  732562.000000  \n",
       "mean        1.086701  \n",
       "std         3.532018  \n",
       "min         0.000000  \n",
       "25%         0.000000  \n",
       "50%         0.000000  \n",
       "75%         1.000000  \n",
       "max       758.000000  "
      ]
     },
     "execution_count": 90,
     "metadata": {},
     "output_type": "execute_result"
    }
   ],
   "source": [
    "df1.describe()"
   ]
  },
  {
   "cell_type": "code",
   "execution_count": 91,
   "metadata": {
    "ExecuteTime": {
     "end_time": "2020-12-21T09:18:06.574784Z",
     "start_time": "2020-12-21T09:17:56.264342Z"
    }
   },
   "outputs": [],
   "source": [
    "df1.to_csv('yelp_review_processed.csv', index=False)"
   ]
  }
 ],
 "metadata": {
  "gist": {
   "data": {
    "description": "Desktop/My Projects/capstone_project_2/yelp_data_cleaning_feature_engineering-Copy1.ipynb",
    "public": false
   },
   "id": ""
  },
  "hide_input": false,
  "kernelspec": {
   "display_name": "Python 3",
   "language": "python",
   "name": "python3"
  },
  "language_info": {
   "codemirror_mode": {
    "name": "ipython",
    "version": 3
   },
   "file_extension": ".py",
   "mimetype": "text/x-python",
   "name": "python",
   "nbconvert_exporter": "python",
   "pygments_lexer": "ipython3",
   "version": "3.8.3"
  },
  "toc": {
   "base_numbering": 1,
   "nav_menu": {},
   "number_sections": true,
   "sideBar": false,
   "skip_h1_title": false,
   "title_cell": "Table of Contents",
   "title_sidebar": "Contents",
   "toc_cell": false,
   "toc_position": {
    "height": "433.05px",
    "left": "1617.97px",
    "top": "148.967px",
    "width": "261.033px"
   },
   "toc_section_display": true,
   "toc_window_display": true
  },
  "varInspector": {
   "cols": {
    "lenName": 16,
    "lenType": 16,
    "lenVar": 40
   },
   "kernels_config": {
    "python": {
     "delete_cmd_postfix": "",
     "delete_cmd_prefix": "del ",
     "library": "var_list.py",
     "varRefreshCmd": "print(var_dic_list())"
    },
    "r": {
     "delete_cmd_postfix": ") ",
     "delete_cmd_prefix": "rm(",
     "library": "var_list.r",
     "varRefreshCmd": "cat(var_dic_list()) "
    }
   },
   "types_to_exclude": [
    "module",
    "function",
    "builtin_function_or_method",
    "instance",
    "_Feature"
   ],
   "window_display": false
  }
 },
 "nbformat": 4,
 "nbformat_minor": 4
}
